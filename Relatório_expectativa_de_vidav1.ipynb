{
 "cells": [
  {
   "cell_type": "markdown",
   "id": "60ff6822",
   "metadata": {},
   "source": [
    "# EXPECTATIVA DE VIDA(OMS)\n",
    "*Uma breve análise estatística sobre fatores que influenciam a expectativa de vida*\n",
    "\n",
    "## Nome dos integrantes\n",
    "**Bergson Gabriel da Silva Oliveira Melo, Lucas de Medeiros Linhares Gomes, Davi Cavalcanti de Mello.**\n",
    "\n",
    "# INTRODUÇÃO\n",
    "\n",
    "## Sobre o dataset \n",
    "O repositório de dados do Global Health Observatory (GHO) sob a Organização Mundial da Saúde (OMS) acompanha o estado da saúde, bem como muitos outros fatores relacionados para 193 países. Os conjuntos de dados são disponibilizados ao público para fins de contribuições através de análise de dados. Coletado do mesmo site de repositório de dados da OMS e seus dados econômicos correspondentes foram coletados do site das Nações Unidas. Entre todas as categorias de fatores relacionados à saúde, foram escolhidos apenas os fatores críticos que são mais representativos. Observou-se que nos últimos 15 anos houve um grande desenvolvimento no setor de saúde, resultando na melhoria das taxas de mortalidade humana, especialmente nas nações em desenvolvimento, em comparação com os últimos 30 anos. Portanto, neste dataset é considerado dados do ano 2000-2015. Os arquivos de dados individuais foram mesclados em um único conjunto de dados. O arquivo mesclado final (conjunto de dados final) consiste em 22 colunas e 2.938 linhas, o que significa 20 variáveis de previsão. Todas as variáveis de previsão foram então divididas em várias categorias amplas: fatores relacionados à imunização, fatores de mortalidade, fatores econômicos e fatores sociais.\n",
    "## Objetivos da análise\n",
    "Dado o diverso escopo de possibilidades de possíveis correlações entre as variáveis de previsão, decidimos nos concentrar em 5 perguntas chaves no qual julgamos interessantes para determinar os fatores que mais contribuem para integridade da saúde de um país.\n",
    "\n",
    "- *Qual a relação existente entre o consumo de álcool e a expectativa de vida?*\n",
    "- *Qual a relação existente entre o nível de IDH e o consumo de álcool?*\n",
    "- *Países com maior escolaridade possuem maior expectativa de vida?*\n",
    "- *Existe relação entre mortalidade infantil e um baixo índice de massa corporal?*\n",
    "- *Existe uma relação entre o PIB per Capita e os gastos governamentais com saúde?*\n",
    "\n",
    "\n",
    "\n",
    "\n",
    "\n"
   ]
  },
  {
   "cell_type": "code",
   "execution_count": 70,
   "id": "f1a60984",
   "metadata": {},
   "outputs": [],
   "source": [
    "#Importando variáveis de diferentes notebooks do projeto para apresentar os tópicos de forma concisa\n",
    "import seaborn as sns\n",
    "from sklearn.cluster import KMeans\n",
    "%store -r centralidade_das_variaveis\n",
    "%store -r dispersao_das_variaveis\n",
    "%store -r df_dados_numericos\n",
    "%store -r df_dados_numericos\n",
    "%store -r dispersao_alcohol_Life_exp\n",
    "%store -r a1alcool_exp"
   ]
  },
  {
   "cell_type": "markdown",
   "id": "cd49fecd",
   "metadata": {},
   "source": [
    "# EXPLORAÇÃO INICIAL DOS DADOS\n",
    "comentário\n",
    "## 1.Centralidade das variáveis\n",
    "comentário"
   ]
  },
  {
   "cell_type": "code",
   "execution_count": 71,
   "id": "8b2805b8",
   "metadata": {},
   "outputs": [
    {
     "name": "stdout",
     "output_type": "stream",
     "text": [
      "{'Life expectancy ': {'Média': 69.22493169398912, 'Mediana': 72.1, 'Moda': 73.0}, 'infant deaths': {'Média': 30.303948264125257, 'Mediana': 3.0, 'Moda': 0}, 'Alcohol': {'Média': 4.6028607871720375, 'Mediana': 3.755, 'Moda': 0.01}, 'percentage expenditure': {'Média': 738.2512954533823, 'Mediana': 64.912906045, 'Moda': 0.0}, 'Hepatitis B': {'Média': 80.94046121593291, 'Mediana': 92.0, 'Moda': 99.0}, ' BMI ': {'Média': 38.32124655647373, 'Mediana': 43.5, 'Moda': 58.5}, 'under-five deaths ': {'Média': 42.0357385976855, 'Mediana': 4.0, 'Moda': 0}, 'Polio': {'Média': 82.55018842069202, 'Mediana': 93.0, 'Moda': 99.0}, 'Total expenditure': {'Média': 5.9381895280235915, 'Mediana': 5.755, 'Moda': 4.6}, 'Diphtheria ': {'Média': 82.32408359027065, 'Mediana': 93.0, 'Moda': 99.0}, ' HIV/AIDS': {'Média': 1.7421034717494939, 'Mediana': 0.1, 'Moda': 0.1}, ' thinness  1-19 years': {'Média': 4.8397038567493205, 'Mediana': 3.3, 'Moda': 1.0}, ' thinness 5-9 years': {'Média': 4.870316804407711, 'Mediana': 3.3, 'Moda': 0.9}, 'Income composition of resources': {'Média': 0.6275510645976166, 'Mediana': 0.677, 'Moda': 0.0}, 'Schooling': {'Média': 11.992792792792786, 'Mediana': 12.3, 'Moda': 12.9}, 'GDP': {'Média': 7483.158469138481, 'Mediana': 1766.947595}}\n"
     ]
    }
   ],
   "source": [
    "print(centralidade_das_variaveis)"
   ]
  },
  {
   "cell_type": "markdown",
   "id": "f8e2e65e",
   "metadata": {},
   "source": [
    "## 2.Dispersão das variáveis\n",
    "comentário"
   ]
  },
  {
   "cell_type": "code",
   "execution_count": 72,
   "id": "c53a2603",
   "metadata": {},
   "outputs": [
    {
     "name": "stdout",
     "output_type": "stream",
     "text": [
      "{'Life expectancy ': {'Variância': 90.67307376582568, 'Desvio Padrão': 9.522241005447492}, 'infant deaths': {'Variância': 13901.926335670341, 'Desvio Padrão': 117.90643042544517}, 'Alcohol': {'Variância': 16.416063645342746, 'Desvio Padrão': 4.051674178082777}, 'percentage expenditure': {'Variância': 3950460.4161855783, 'Desvio Padrão': 1987.5765183221447}, 'GDP': {'Variância': 203555950.81344026, 'Desvio Padrão': 14267.303557906107}, 'Hepatitis B': {'Variância': 628.2421574392729, 'Desvio Padrão': 25.06475927351533}, ' BMI ': {'Variância': 401.6249308152427, 'Desvio Padrão': 20.040582097714694}, 'under-five deaths ': {'Variância': 25734.011997089085, 'Desvio Padrão': 160.4182408490041}, 'Polio': {'Variância': 548.6853022940603, 'Desvio Padrão': 23.424032579683207}, 'Total expenditure': {'Variância': 6.239299708916882, 'Desvio Padrão': 2.497859025028611}, 'Diphtheria ': {'Variância': 562.2992178566609, 'Desvio Padrão': 23.712849214226893}, ' HIV/AIDS': {'Variância': 25.77511974150574, 'Desvio Padrão': 5.0769203008818}, ' thinness  1-19 years': {'Variância': 19.531395366844496, 'Desvio Padrão': 4.419433828766361}, ' thinness 5-9 years': {'Variância': 20.323016979524773, 'Desvio Padrão': 4.508105697465929}, 'Income composition of resources': {'Variância': 0.04446425749706239, 'Desvio Padrão': 0.2108654962222658}, 'Schooling': {'Variância': 11.278275984092264, 'Desvio Padrão': 3.3583144558084883}}\n"
     ]
    }
   ],
   "source": [
    "print(dispersao_das_variaveis)"
   ]
  },
  {
   "cell_type": "markdown",
   "id": "1975c95e",
   "metadata": {},
   "source": [
    "## 3.Listamentos dos fatores cruciais \n",
    "\n"
   ]
  },
  {
   "cell_type": "code",
   "execution_count": 73,
   "id": "503d85b9",
   "metadata": {},
   "outputs": [
    {
     "data": {
      "text/html": [
       "<div>\n",
       "<style scoped>\n",
       "    .dataframe tbody tr th:only-of-type {\n",
       "        vertical-align: middle;\n",
       "    }\n",
       "\n",
       "    .dataframe tbody tr th {\n",
       "        vertical-align: top;\n",
       "    }\n",
       "\n",
       "    .dataframe thead th {\n",
       "        text-align: right;\n",
       "    }\n",
       "</style>\n",
       "<table border=\"1\" class=\"dataframe\">\n",
       "  <thead>\n",
       "    <tr style=\"text-align: right;\">\n",
       "      <th></th>\n",
       "      <th>Life expectancy</th>\n",
       "      <th>infant deaths</th>\n",
       "      <th>Alcohol</th>\n",
       "      <th>percentage expenditure</th>\n",
       "      <th>GDP</th>\n",
       "      <th>Hepatitis B</th>\n",
       "      <th>BMI</th>\n",
       "      <th>under-five deaths</th>\n",
       "      <th>Polio</th>\n",
       "      <th>Total expenditure</th>\n",
       "      <th>Diphtheria</th>\n",
       "      <th>HIV/AIDS</th>\n",
       "      <th>thinness  1-19 years</th>\n",
       "      <th>thinness 5-9 years</th>\n",
       "      <th>Income composition of resources</th>\n",
       "      <th>Schooling</th>\n",
       "    </tr>\n",
       "  </thead>\n",
       "  <tbody>\n",
       "    <tr>\n",
       "      <th>0</th>\n",
       "      <td>65.0</td>\n",
       "      <td>62</td>\n",
       "      <td>0.01</td>\n",
       "      <td>71.279624</td>\n",
       "      <td>584.259210</td>\n",
       "      <td>65.0</td>\n",
       "      <td>19.1</td>\n",
       "      <td>83</td>\n",
       "      <td>6.0</td>\n",
       "      <td>8.16</td>\n",
       "      <td>65.0</td>\n",
       "      <td>0.1</td>\n",
       "      <td>17.2</td>\n",
       "      <td>17.3</td>\n",
       "      <td>0.479</td>\n",
       "      <td>10.1</td>\n",
       "    </tr>\n",
       "    <tr>\n",
       "      <th>1</th>\n",
       "      <td>59.9</td>\n",
       "      <td>64</td>\n",
       "      <td>0.01</td>\n",
       "      <td>73.523582</td>\n",
       "      <td>612.696514</td>\n",
       "      <td>62.0</td>\n",
       "      <td>18.6</td>\n",
       "      <td>86</td>\n",
       "      <td>58.0</td>\n",
       "      <td>8.18</td>\n",
       "      <td>62.0</td>\n",
       "      <td>0.1</td>\n",
       "      <td>17.5</td>\n",
       "      <td>17.5</td>\n",
       "      <td>0.476</td>\n",
       "      <td>10.0</td>\n",
       "    </tr>\n",
       "    <tr>\n",
       "      <th>2</th>\n",
       "      <td>59.9</td>\n",
       "      <td>66</td>\n",
       "      <td>0.01</td>\n",
       "      <td>73.219243</td>\n",
       "      <td>631.744976</td>\n",
       "      <td>64.0</td>\n",
       "      <td>18.1</td>\n",
       "      <td>89</td>\n",
       "      <td>62.0</td>\n",
       "      <td>8.13</td>\n",
       "      <td>64.0</td>\n",
       "      <td>0.1</td>\n",
       "      <td>17.7</td>\n",
       "      <td>17.7</td>\n",
       "      <td>0.470</td>\n",
       "      <td>9.9</td>\n",
       "    </tr>\n",
       "    <tr>\n",
       "      <th>3</th>\n",
       "      <td>59.5</td>\n",
       "      <td>69</td>\n",
       "      <td>0.01</td>\n",
       "      <td>78.184215</td>\n",
       "      <td>669.959000</td>\n",
       "      <td>67.0</td>\n",
       "      <td>17.6</td>\n",
       "      <td>93</td>\n",
       "      <td>67.0</td>\n",
       "      <td>8.52</td>\n",
       "      <td>67.0</td>\n",
       "      <td>0.1</td>\n",
       "      <td>17.9</td>\n",
       "      <td>18.0</td>\n",
       "      <td>0.463</td>\n",
       "      <td>9.8</td>\n",
       "    </tr>\n",
       "    <tr>\n",
       "      <th>4</th>\n",
       "      <td>59.2</td>\n",
       "      <td>71</td>\n",
       "      <td>0.01</td>\n",
       "      <td>7.097109</td>\n",
       "      <td>63.537231</td>\n",
       "      <td>68.0</td>\n",
       "      <td>17.2</td>\n",
       "      <td>97</td>\n",
       "      <td>68.0</td>\n",
       "      <td>7.87</td>\n",
       "      <td>68.0</td>\n",
       "      <td>0.1</td>\n",
       "      <td>18.2</td>\n",
       "      <td>18.2</td>\n",
       "      <td>0.454</td>\n",
       "      <td>9.5</td>\n",
       "    </tr>\n",
       "    <tr>\n",
       "      <th>...</th>\n",
       "      <td>...</td>\n",
       "      <td>...</td>\n",
       "      <td>...</td>\n",
       "      <td>...</td>\n",
       "      <td>...</td>\n",
       "      <td>...</td>\n",
       "      <td>...</td>\n",
       "      <td>...</td>\n",
       "      <td>...</td>\n",
       "      <td>...</td>\n",
       "      <td>...</td>\n",
       "      <td>...</td>\n",
       "      <td>...</td>\n",
       "      <td>...</td>\n",
       "      <td>...</td>\n",
       "      <td>...</td>\n",
       "    </tr>\n",
       "    <tr>\n",
       "      <th>2933</th>\n",
       "      <td>44.3</td>\n",
       "      <td>27</td>\n",
       "      <td>4.36</td>\n",
       "      <td>0.000000</td>\n",
       "      <td>454.366654</td>\n",
       "      <td>68.0</td>\n",
       "      <td>27.1</td>\n",
       "      <td>42</td>\n",
       "      <td>67.0</td>\n",
       "      <td>7.13</td>\n",
       "      <td>65.0</td>\n",
       "      <td>33.6</td>\n",
       "      <td>9.4</td>\n",
       "      <td>9.4</td>\n",
       "      <td>0.407</td>\n",
       "      <td>9.2</td>\n",
       "    </tr>\n",
       "    <tr>\n",
       "      <th>2934</th>\n",
       "      <td>44.5</td>\n",
       "      <td>26</td>\n",
       "      <td>4.06</td>\n",
       "      <td>0.000000</td>\n",
       "      <td>453.351155</td>\n",
       "      <td>7.0</td>\n",
       "      <td>26.7</td>\n",
       "      <td>41</td>\n",
       "      <td>7.0</td>\n",
       "      <td>6.52</td>\n",
       "      <td>68.0</td>\n",
       "      <td>36.7</td>\n",
       "      <td>9.8</td>\n",
       "      <td>9.9</td>\n",
       "      <td>0.418</td>\n",
       "      <td>9.5</td>\n",
       "    </tr>\n",
       "    <tr>\n",
       "      <th>2935</th>\n",
       "      <td>44.8</td>\n",
       "      <td>25</td>\n",
       "      <td>4.43</td>\n",
       "      <td>0.000000</td>\n",
       "      <td>57.348340</td>\n",
       "      <td>73.0</td>\n",
       "      <td>26.3</td>\n",
       "      <td>40</td>\n",
       "      <td>73.0</td>\n",
       "      <td>6.53</td>\n",
       "      <td>71.0</td>\n",
       "      <td>39.8</td>\n",
       "      <td>1.2</td>\n",
       "      <td>1.3</td>\n",
       "      <td>0.427</td>\n",
       "      <td>10.0</td>\n",
       "    </tr>\n",
       "    <tr>\n",
       "      <th>2936</th>\n",
       "      <td>45.3</td>\n",
       "      <td>25</td>\n",
       "      <td>1.72</td>\n",
       "      <td>0.000000</td>\n",
       "      <td>548.587312</td>\n",
       "      <td>76.0</td>\n",
       "      <td>25.9</td>\n",
       "      <td>39</td>\n",
       "      <td>76.0</td>\n",
       "      <td>6.16</td>\n",
       "      <td>75.0</td>\n",
       "      <td>42.1</td>\n",
       "      <td>1.6</td>\n",
       "      <td>1.7</td>\n",
       "      <td>0.427</td>\n",
       "      <td>9.8</td>\n",
       "    </tr>\n",
       "    <tr>\n",
       "      <th>2937</th>\n",
       "      <td>46.0</td>\n",
       "      <td>24</td>\n",
       "      <td>1.68</td>\n",
       "      <td>0.000000</td>\n",
       "      <td>547.358878</td>\n",
       "      <td>79.0</td>\n",
       "      <td>25.5</td>\n",
       "      <td>39</td>\n",
       "      <td>78.0</td>\n",
       "      <td>7.10</td>\n",
       "      <td>78.0</td>\n",
       "      <td>43.5</td>\n",
       "      <td>11.0</td>\n",
       "      <td>11.2</td>\n",
       "      <td>0.434</td>\n",
       "      <td>9.8</td>\n",
       "    </tr>\n",
       "  </tbody>\n",
       "</table>\n",
       "<p>2355 rows × 16 columns</p>\n",
       "</div>"
      ],
      "text/plain": [
       "      Life expectancy   infant deaths  Alcohol  percentage expenditure  \\\n",
       "0                 65.0             62     0.01               71.279624   \n",
       "1                 59.9             64     0.01               73.523582   \n",
       "2                 59.9             66     0.01               73.219243   \n",
       "3                 59.5             69     0.01               78.184215   \n",
       "4                 59.2             71     0.01                7.097109   \n",
       "...                ...            ...      ...                     ...   \n",
       "2933              44.3             27     4.36                0.000000   \n",
       "2934              44.5             26     4.06                0.000000   \n",
       "2935              44.8             25     4.43                0.000000   \n",
       "2936              45.3             25     1.72                0.000000   \n",
       "2937              46.0             24     1.68                0.000000   \n",
       "\n",
       "             GDP  Hepatitis B   BMI   under-five deaths   Polio  \\\n",
       "0     584.259210         65.0   19.1                  83    6.0   \n",
       "1     612.696514         62.0   18.6                  86   58.0   \n",
       "2     631.744976         64.0   18.1                  89   62.0   \n",
       "3     669.959000         67.0   17.6                  93   67.0   \n",
       "4      63.537231         68.0   17.2                  97   68.0   \n",
       "...          ...          ...    ...                 ...    ...   \n",
       "2933  454.366654         68.0   27.1                  42   67.0   \n",
       "2934  453.351155          7.0   26.7                  41    7.0   \n",
       "2935   57.348340         73.0   26.3                  40   73.0   \n",
       "2936  548.587312         76.0   25.9                  39   76.0   \n",
       "2937  547.358878         79.0   25.5                  39   78.0   \n",
       "\n",
       "      Total expenditure  Diphtheria    HIV/AIDS   thinness  1-19 years  \\\n",
       "0                  8.16         65.0        0.1                   17.2   \n",
       "1                  8.18         62.0        0.1                   17.5   \n",
       "2                  8.13         64.0        0.1                   17.7   \n",
       "3                  8.52         67.0        0.1                   17.9   \n",
       "4                  7.87         68.0        0.1                   18.2   \n",
       "...                 ...          ...        ...                    ...   \n",
       "2933               7.13         65.0       33.6                    9.4   \n",
       "2934               6.52         68.0       36.7                    9.8   \n",
       "2935               6.53         71.0       39.8                    1.2   \n",
       "2936               6.16         75.0       42.1                    1.6   \n",
       "2937               7.10         78.0       43.5                   11.0   \n",
       "\n",
       "       thinness 5-9 years  Income composition of resources  Schooling  \n",
       "0                    17.3                            0.479       10.1  \n",
       "1                    17.5                            0.476       10.0  \n",
       "2                    17.7                            0.470        9.9  \n",
       "3                    18.0                            0.463        9.8  \n",
       "4                    18.2                            0.454        9.5  \n",
       "...                   ...                              ...        ...  \n",
       "2933                  9.4                            0.407        9.2  \n",
       "2934                  9.9                            0.418        9.5  \n",
       "2935                  1.3                            0.427       10.0  \n",
       "2936                  1.7                            0.427        9.8  \n",
       "2937                 11.2                            0.434        9.8  \n",
       "\n",
       "[2355 rows x 16 columns]"
      ]
     },
     "execution_count": 73,
     "metadata": {},
     "output_type": "execute_result"
    }
   ],
   "source": [
    "df_dados_numericos"
   ]
  },
  {
   "cell_type": "markdown",
   "id": "01db13b9",
   "metadata": {},
   "source": [
    "## 4.Blox plot de cada uma das variáveis apresentadas\n",
    "**Para deixar o relatório o mais conciso possível deixamos apenas um exemplo**"
   ]
  },
  {
   "cell_type": "code",
   "execution_count": 74,
   "id": "ff6c5478",
   "metadata": {},
   "outputs": [
    {
     "data": {
      "text/plain": [
       "<AxesSubplot:xlabel='Alcohol', ylabel='Life expectancy '>"
      ]
     },
     "execution_count": 74,
     "metadata": {},
     "output_type": "execute_result"
    }
   ],
   "source": [
    "df_dados_numericos.boxplot(column = [\"Life expectancy \"])"
   ]
  },
  {
   "cell_type": "markdown",
   "id": "f10c93fa",
   "metadata": {},
   "source": [
    "# RESPONDENDO AS PERGUNTAS \n",
    "**Nessa seção visualizaremos os dados pertinentes de cada pergunta de forma intuitiva como também o resultados que obtivemos utilizando agrupamento com o método K-means**"
   ]
  },
  {
   "cell_type": "markdown",
   "id": "3cb35673",
   "metadata": {},
   "source": [
    "# 1. Qual a relação existente entre o consumo de álcool e a expectativa de vida?"
   ]
  },
  {
   "cell_type": "markdown",
   "id": "01baa839",
   "metadata": {},
   "source": [
    "## -*Vizualizando dados essenciais*\n",
    "Problemas em exibir os gráficos\n"
   ]
  },
  {
   "cell_type": "code",
   "execution_count": 75,
   "id": "3565d811",
   "metadata": {},
   "outputs": [
    {
     "data": {
      "text/plain": [
       "<AxesSubplot:xlabel='Alcohol', ylabel='Life expectancy '>"
      ]
     },
     "execution_count": 75,
     "metadata": {},
     "output_type": "execute_result"
    }
   ],
   "source": [
    "dispersao_alcohol_Life_exp"
   ]
  },
  {
   "cell_type": "markdown",
   "id": "d7c37f04",
   "metadata": {},
   "source": [
    "## -*Agrupamento entre álcool e expectativa de vida*\n",
    "Poblemas em exibir os K-means"
   ]
  },
  {
   "cell_type": "code",
   "execution_count": 76,
   "id": "516c200b",
   "metadata": {},
   "outputs": [],
   "source": [
    "a1alcool_exp"
   ]
  },
  {
   "cell_type": "markdown",
   "id": "2a5182f3",
   "metadata": {},
   "source": [
    "## -*Conclusões*\n",
    "comentário"
   ]
  },
  {
   "cell_type": "markdown",
   "id": "3545459b",
   "metadata": {},
   "source": [
    "# 2.Qual a relação existente entre o nível de IDH e o consumo de álcool?"
   ]
  },
  {
   "cell_type": "markdown",
   "id": "e1ca9ad4",
   "metadata": {},
   "source": [
    "## -*Vizualizando dados essenciais*\n"
   ]
  },
  {
   "cell_type": "code",
   "execution_count": null,
   "id": "45368e35",
   "metadata": {},
   "outputs": [],
   "source": []
  },
  {
   "cell_type": "markdown",
   "id": "72d6ad49",
   "metadata": {},
   "source": [
    "## -*Agrupamento entre nível de IDH e o consumo de álcool*\n"
   ]
  },
  {
   "cell_type": "code",
   "execution_count": null,
   "id": "bb0452d8",
   "metadata": {},
   "outputs": [],
   "source": []
  },
  {
   "cell_type": "markdown",
   "id": "fef25992",
   "metadata": {},
   "source": [
    "## -*Conclusões"
   ]
  },
  {
   "cell_type": "markdown",
   "id": "adb5b2ea",
   "metadata": {},
   "source": [
    "# 3.Países com maior escolaridade possuem maior expectativa de vida?"
   ]
  },
  {
   "cell_type": "markdown",
   "id": "11991a97",
   "metadata": {},
   "source": [
    "## -*Vizualizando dados essenciais*"
   ]
  },
  {
   "cell_type": "code",
   "execution_count": null,
   "id": "9b601163",
   "metadata": {},
   "outputs": [],
   "source": []
  },
  {
   "cell_type": "markdown",
   "id": "c080c426",
   "metadata": {},
   "source": [
    "## -*Agrupamento entre escolaridade e expectativa de vida*"
   ]
  },
  {
   "cell_type": "code",
   "execution_count": null,
   "id": "16f51174",
   "metadata": {},
   "outputs": [],
   "source": []
  },
  {
   "cell_type": "markdown",
   "id": "49ef381a",
   "metadata": {},
   "source": [
    "## -*Conclusões*"
   ]
  },
  {
   "cell_type": "markdown",
   "id": "bdfc388b",
   "metadata": {},
   "source": [
    "# 4.Existe relação entre mortalidade infantil e um baixo índice de massa corporal?"
   ]
  },
  {
   "cell_type": "markdown",
   "id": "bb332635",
   "metadata": {},
   "source": [
    "## -*Vizualizando dados essenciais*"
   ]
  },
  {
   "cell_type": "code",
   "execution_count": null,
   "id": "1a9177d3",
   "metadata": {},
   "outputs": [],
   "source": []
  },
  {
   "cell_type": "markdown",
   "id": "7854fe42",
   "metadata": {},
   "source": [
    "## -*Agrupamento entre mortalidade infantil e índice de massa corpora*"
   ]
  },
  {
   "cell_type": "code",
   "execution_count": null,
   "id": "5b85e3a9",
   "metadata": {},
   "outputs": [],
   "source": []
  },
  {
   "cell_type": "markdown",
   "id": "39d258dd",
   "metadata": {},
   "source": [
    "## -*Conclusões*"
   ]
  },
  {
   "cell_type": "markdown",
   "id": "9cbefef7",
   "metadata": {},
   "source": [
    "# 5.Existe uma relação entre o PIB per Capita e os gastos governamentais com saúde?"
   ]
  },
  {
   "cell_type": "markdown",
   "id": "78fcf37d",
   "metadata": {},
   "source": [
    "## -*Vizualizando dados essenciais*"
   ]
  },
  {
   "cell_type": "code",
   "execution_count": null,
   "id": "db247603",
   "metadata": {},
   "outputs": [],
   "source": []
  },
  {
   "cell_type": "markdown",
   "id": "2be3023d",
   "metadata": {},
   "source": [
    "## -*Agrupamento entre PIB per Capita e  gastos governamentais com saúde*"
   ]
  },
  {
   "cell_type": "code",
   "execution_count": null,
   "id": "7e7a73fe",
   "metadata": {},
   "outputs": [],
   "source": []
  },
  {
   "cell_type": "markdown",
   "id": "81a9896d",
   "metadata": {},
   "source": [
    "## -*Conclusões*"
   ]
  },
  {
   "cell_type": "markdown",
   "id": "7b414e72",
   "metadata": {},
   "source": [
    "# CONCLUSÕES FINAIS\n",
    "comentário\n",
    "\n",
    "## -*limitações, trabalhos futuros e melhorias que podem ser feitas.*\n",
    "cometário"
   ]
  },
  {
   "cell_type": "code",
   "execution_count": null,
   "id": "11ef2f82",
   "metadata": {},
   "outputs": [],
   "source": []
  }
 ],
 "metadata": {
  "kernelspec": {
   "display_name": "Python 3 (ipykernel)",
   "language": "python",
   "name": "python3"
  },
  "language_info": {
   "codemirror_mode": {
    "name": "ipython",
    "version": 3
   },
   "file_extension": ".py",
   "mimetype": "text/x-python",
   "name": "python",
   "nbconvert_exporter": "python",
   "pygments_lexer": "ipython3",
   "version": "3.9.13"
  }
 },
 "nbformat": 4,
 "nbformat_minor": 5
}
