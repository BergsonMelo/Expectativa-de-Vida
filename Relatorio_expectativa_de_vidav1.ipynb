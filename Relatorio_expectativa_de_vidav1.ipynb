{
 "cells": [
  {
   "cell_type": "markdown",
   "id": "60ff6822",
   "metadata": {},
   "source": [
    "# EXPECTATIVA DE VIDA(OMS)\n",
    "*Uma breve análise estatística sobre fatores que influenciam a expectativa de vida*\n",
    "\n",
    "## Nome dos integrantes\n",
    "**Bergson Gabriel da Silva Oliveira Melo, Lucas de Medeiros Linhares Gomes, Davi Cavalcanti de Mello.**\n",
    "\n",
    "# INTRODUÇÃO\n",
    "\n",
    "## Sobre o dataset \n",
    "O repositório de dados do Global Health Observatory (GHO) sob a Organização Mundial da Saúde (OMS) acompanha o estado da saúde, bem como muitos outros fatores relacionados para 193 países. Os conjuntos de dados são disponibilizados ao público para fins de contribuições através de análise de dados. Coletado do mesmo site de repositório de dados da OMS e seus dados econômicos correspondentes foram coletados do site das Nações Unidas. Entre todas as categorias de fatores relacionados à saúde, foram escolhidos apenas os fatores críticos que são mais representativos. Observou-se que nos últimos 15 anos houve um grande desenvolvimento no setor de saúde, resultando na melhoria das taxas de mortalidade humana, especialmente nas nações em desenvolvimento, em comparação com os últimos 30 anos. Portanto, neste dataset é considerado dados do ano 2000-2015. Os arquivos de dados individuais foram mesclados em um único conjunto de dados. O arquivo mesclado final (conjunto de dados final) consiste em 22 colunas e 2.938 linhas, o que significa 20 variáveis de previsão. Todas as variáveis de previsão foram então divididas em várias categorias amplas: fatores relacionados à imunização, fatores de mortalidade, fatores econômicos e fatores sociais.\n",
    "## Objetivos da análise\n",
    "Dado o diverso escopo de possibilidades de possíveis correlações entre as variáveis de previsão, decidimos nos concentrar em 5 perguntas chaves no qual julgamos interessantes para determinar os fatores que mais contribuem para integridade da saúde de um país.\n",
    "\n",
    "- *Qual a relação existente entre o consumo de álcool e a expectativa de vida?*\n",
    "- *Qual a relação existente entre o nível de IDH e o consumo de álcool?*\n",
    "- *Países com maior escolaridade possuem maior expectativa de vida?*\n",
    "- *Existe relação entre mortalidade infantil e um baixo índice de massa corporal?*\n",
    "- *Existe uma relação entre o PIB per Capita e os gastos governamentais com saúde?*\n",
    "\n",
    "\n",
    "\n",
    "\n",
    "\n"
   ]
  },
  {
   "cell_type": "code",
   "execution_count": 1,
   "id": "f1a60984",
   "metadata": {},
   "outputs": [
    {
     "name": "stdout",
     "output_type": "stream",
     "text": [
      "no stored variable or alias centralidade_das_variaveis\n",
      "no stored variable or alias dispersao_das_variaveis\n",
      "no stored variable or alias df_dados_numericos\n",
      "no stored variable or alias df_dados_numericos\n",
      "no stored variable or alias dispersao_alcohol_Life_exp\n",
      "no stored variable or alias a1alcool_exp\n"
     ]
    }
   ],
   "source": [
    "#Importando variáveis de diferentes notebooks do projeto para apresentar os tópicos de forma concisa\n",
    "import seaborn as sns\n",
    "from sklearn.cluster import KMeans\n",
    "%store -r centralidade_das_variaveis\n",
    "%store -r dispersao_das_variaveis\n",
    "%store -r df_dados_numericos\n",
    "%store -r df_dados_numericos\n",
    "%store -r dispersao_alcohol_Life_exp\n",
    "%store -r a1alcool_exp"
   ]
  },
  {
   "cell_type": "markdown",
   "id": "cd49fecd",
   "metadata": {},
   "source": [
    "# EXPLORAÇÃO INICIAL DOS DADOS\n",
    "comentário\n",
    "## 1.Centralidade das variáveis\n",
    "comentário"
   ]
  },
  {
   "cell_type": "code",
   "execution_count": 2,
   "id": "8b2805b8",
   "metadata": {},
   "outputs": [
    {
     "ename": "NameError",
     "evalue": "name 'centralidade_das_variaveis' is not defined",
     "output_type": "error",
     "traceback": [
      "\u001b[1;31m---------------------------------------------------------------------------\u001b[0m",
      "\u001b[1;31mNameError\u001b[0m                                 Traceback (most recent call last)",
      "\u001b[1;32m~\\AppData\\Local\\Temp/ipykernel_17916/625622944.py\u001b[0m in \u001b[0;36m<module>\u001b[1;34m\u001b[0m\n\u001b[1;32m----> 1\u001b[1;33m \u001b[0mprint\u001b[0m\u001b[1;33m(\u001b[0m\u001b[0mcentralidade_das_variaveis\u001b[0m\u001b[1;33m)\u001b[0m\u001b[1;33m\u001b[0m\u001b[1;33m\u001b[0m\u001b[0m\n\u001b[0m",
      "\u001b[1;31mNameError\u001b[0m: name 'centralidade_das_variaveis' is not defined"
     ]
    }
   ],
   "source": [
    "print(centralidade_das_variaveis)"
   ]
  },
  {
   "cell_type": "markdown",
   "id": "f8e2e65e",
   "metadata": {},
   "source": [
    "## 2.Dispersão das variáveis\n",
    "comentário"
   ]
  },
  {
   "cell_type": "code",
   "execution_count": null,
   "id": "c53a2603",
   "metadata": {},
   "outputs": [],
   "source": [
    "print(dispersao_das_variaveis)"
   ]
  },
  {
   "cell_type": "markdown",
   "id": "1975c95e",
   "metadata": {},
   "source": [
    "## 3.Listamentos dos fatores cruciais \n",
    "\n"
   ]
  },
  {
   "cell_type": "code",
   "execution_count": null,
   "id": "503d85b9",
   "metadata": {},
   "outputs": [],
   "source": [
    "df_dados_numericos"
   ]
  },
  {
   "cell_type": "markdown",
   "id": "01db13b9",
   "metadata": {},
   "source": [
    "## 4.Blox plot de cada uma das variáveis apresentadas\n",
    "**Para deixar o relatório o mais conciso possível deixamos apenas um exemplo**"
   ]
  },
  {
   "cell_type": "code",
   "execution_count": null,
   "id": "ff6c5478",
   "metadata": {},
   "outputs": [],
   "source": [
    "df_dados_numericos.boxplot(column = [\"Life expectancy \"])"
   ]
  },
  {
   "cell_type": "markdown",
   "id": "f10c93fa",
   "metadata": {},
   "source": [
    "# RESPONDENDO AS PERGUNTAS \n",
    "**Nessa seção visualizaremos os dados pertinentes de cada pergunta de forma intuitiva como também o resultados que obtivemos utilizando agrupamento com o método K-means**"
   ]
  },
  {
   "cell_type": "markdown",
   "id": "3cb35673",
   "metadata": {},
   "source": [
    "# 1. Qual a relação existente entre o consumo de álcool e a expectativa de vida?"
   ]
  },
  {
   "cell_type": "markdown",
   "id": "01baa839",
   "metadata": {},
   "source": [
    "## -*Vizualizando dados essenciais*\n",
    "Problemas em exibir os gráficos\n"
   ]
  },
  {
   "cell_type": "code",
   "execution_count": null,
   "id": "3565d811",
   "metadata": {},
   "outputs": [],
   "source": [
    "dispersao_alcohol_Life_exp"
   ]
  },
  {
   "cell_type": "markdown",
   "id": "d7c37f04",
   "metadata": {},
   "source": [
    "## -*Agrupamento entre álcool e expectativa de vida*\n",
    "Poblemas em exibir os K-means"
   ]
  },
  {
   "cell_type": "code",
   "execution_count": null,
   "id": "516c200b",
   "metadata": {},
   "outputs": [],
   "source": [
    "a1alcool_exp"
   ]
  },
  {
   "cell_type": "markdown",
   "id": "2a5182f3",
   "metadata": {},
   "source": [
    "## -*Conclusões*\n",
    "comentário"
   ]
  },
  {
   "cell_type": "markdown",
   "id": "3545459b",
   "metadata": {},
   "source": [
    "# 2.Qual a relação existente entre o nível de IDH e o consumo de álcool?"
   ]
  },
  {
   "cell_type": "markdown",
   "id": "e1ca9ad4",
   "metadata": {},
   "source": [
    "## -*Vizualizando dados essenciais*\n"
   ]
  },
  {
   "cell_type": "code",
   "execution_count": null,
   "id": "45368e35",
   "metadata": {},
   "outputs": [],
   "source": []
  },
  {
   "cell_type": "markdown",
   "id": "72d6ad49",
   "metadata": {},
   "source": [
    "## -*Agrupamento entre nível de IDH e o consumo de álcool*\n"
   ]
  },
  {
   "cell_type": "code",
   "execution_count": null,
   "id": "bb0452d8",
   "metadata": {},
   "outputs": [],
   "source": []
  },
  {
   "cell_type": "markdown",
   "id": "fef25992",
   "metadata": {},
   "source": [
    "## -*Conclusões"
   ]
  },
  {
   "cell_type": "markdown",
   "id": "adb5b2ea",
   "metadata": {},
   "source": [
    "# 3.Países com maior escolaridade possuem maior expectativa de vida?"
   ]
  },
  {
   "cell_type": "markdown",
   "id": "11991a97",
   "metadata": {},
   "source": [
    "## -*Vizualizando dados essenciais*"
   ]
  },
  {
   "cell_type": "code",
   "execution_count": null,
   "id": "9b601163",
   "metadata": {},
   "outputs": [],
   "source": []
  },
  {
   "cell_type": "markdown",
   "id": "c080c426",
   "metadata": {},
   "source": [
    "## -*Agrupamento entre escolaridade e expectativa de vida*"
   ]
  },
  {
   "cell_type": "code",
   "execution_count": null,
   "id": "16f51174",
   "metadata": {},
   "outputs": [],
   "source": []
  },
  {
   "cell_type": "markdown",
   "id": "49ef381a",
   "metadata": {},
   "source": [
    "## -*Conclusões*"
   ]
  },
  {
   "cell_type": "markdown",
   "id": "bdfc388b",
   "metadata": {},
   "source": [
    "# 4.Existe relação entre mortalidade infantil e um baixo índice de massa corporal?"
   ]
  },
  {
   "cell_type": "markdown",
   "id": "bb332635",
   "metadata": {},
   "source": [
    "## -*Vizualizando dados essenciais*"
   ]
  },
  {
   "cell_type": "code",
   "execution_count": null,
   "id": "1a9177d3",
   "metadata": {},
   "outputs": [],
   "source": []
  },
  {
   "cell_type": "markdown",
   "id": "7854fe42",
   "metadata": {},
   "source": [
    "## -*Agrupamento entre mortalidade infantil e índice de massa corpora*"
   ]
  },
  {
   "cell_type": "code",
   "execution_count": null,
   "id": "5b85e3a9",
   "metadata": {},
   "outputs": [],
   "source": []
  },
  {
   "cell_type": "markdown",
   "id": "39d258dd",
   "metadata": {},
   "source": [
    "## -*Conclusões*"
   ]
  },
  {
   "cell_type": "markdown",
   "id": "9cbefef7",
   "metadata": {},
   "source": [
    "# 5.Existe uma relação entre o PIB per Capita e os gastos governamentais com saúde?"
   ]
  },
  {
   "cell_type": "markdown",
   "id": "78fcf37d",
   "metadata": {},
   "source": [
    "## -*Vizualizando dados essenciais*"
   ]
  },
  {
   "cell_type": "code",
   "execution_count": null,
   "id": "db247603",
   "metadata": {},
   "outputs": [],
   "source": []
  },
  {
   "cell_type": "markdown",
   "id": "2be3023d",
   "metadata": {},
   "source": [
    "## -*Agrupamento entre PIB per Capita e  gastos governamentais com saúde*"
   ]
  },
  {
   "cell_type": "code",
   "execution_count": null,
   "id": "7e7a73fe",
   "metadata": {},
   "outputs": [],
   "source": []
  },
  {
   "cell_type": "markdown",
   "id": "81a9896d",
   "metadata": {},
   "source": [
    "## -*Conclusões*"
   ]
  },
  {
   "cell_type": "markdown",
   "id": "7b414e72",
   "metadata": {},
   "source": [
    "# CONCLUSÕES FINAIS\n",
    "comentário\n",
    "\n",
    "## -*limitações, trabalhos futuros e melhorias que podem ser feitas.*\n",
    "cometário"
   ]
  },
  {
   "cell_type": "code",
   "execution_count": null,
   "id": "11ef2f82",
   "metadata": {},
   "outputs": [],
   "source": []
  }
 ],
 "metadata": {
  "kernelspec": {
   "display_name": "Python 3 (ipykernel)",
   "language": "python",
   "name": "python3"
  },
  "language_info": {
   "codemirror_mode": {
    "name": "ipython",
    "version": 3
   },
   "file_extension": ".py",
   "mimetype": "text/x-python",
   "name": "python",
   "nbconvert_exporter": "python",
   "pygments_lexer": "ipython3",
   "version": "3.9.7"
  }
 },
 "nbformat": 4,
 "nbformat_minor": 5
}
