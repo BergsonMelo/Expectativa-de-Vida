{
 "cells": [
  {
   "cell_type": "markdown",
   "id": "60ff6822",
   "metadata": {},
   "source": [
    "# EXPECTATIVA DE VIDA(OMS)\n",
    "*Uma breve análise de correlações entre fatores socioeconômicos.*\n",
    "\n",
    "## Nome dos integrantes\n",
    "**Bergson Gabriel da Silva Oliveira Melo, Lucas de Medeiros Linhares Gomes, Davi Cavalcanti de Mello.**\n",
    "\n",
    "# INTRODUÇÃO\n",
    "\n",
    "## Sobre o dataset \n",
    "O repositório de dados do Global Health Observatory (GHO) sob a Organização Mundial da Saúde (OMS) acompanha o estado da saúde, bem como muitos outros fatores relacionados para 193 países. Os conjuntos de dados são disponibilizados ao público para fins de contribuições através de análise de dados. Coletado do mesmo site de repositório de dados da OMS e seus dados econômicos correspondentes foram coletados do site das Nações Unidas. Entre todas as categorias de fatores relacionados à saúde, foram escolhidos apenas os fatores críticos que são mais representativos. Observou-se que nos últimos 15 anos houve um grande desenvolvimento no setor de saúde, resultando na melhoria das taxas de mortalidade humana, especialmente nas nações em desenvolvimento, em comparação com os últimos 30 anos. Portanto, neste dataset são considerado dados do ano 2000-2015. Os arquivos de dados individuais foram mesclados em um único conjunto de dados. O arquivo mesclado final (conjunto de dados final) consiste em 22 colunas e 2.938 linhas, o que significa 20 variáveis de previsão. Todas as variáveis de previsão foram então divididas em várias categorias amplas: fatores relacionados à imunização, fatores de mortalidade, fatores econômicos e fatores sociais.\n",
    "## Objetivos da análise\n",
    "Dado o diverso escopo de possibilidades de possíveis correlações entre as variáveis de previsão, decidimos nos concentrar em 5 perguntas chaves no qual julgamos interessantes para determinar alguns fatores socioeconômicos.\n",
    "\n",
    "- *Qual a relação existente entre o consumo de álcool e a expectativa de vida?*\n",
    "- *Países com maior escolaridade possuem maior expetativa de vida?*\n",
    "- *Existe uma relação entre o PIB per capita e os gastos governamentais com saúde?*\n",
    "- *Existe relação entre escolaridade e gastos pessoais com saúde?*\n",
    "- *Existe relação entre escolaridade e consumo de álcool?*\n",
    "\n",
    "\n",
    "\n",
    "\n",
    "\n"
   ]
  },
  {
   "cell_type": "markdown",
   "id": "cd49fecd",
   "metadata": {},
   "source": [
    "# EXPLORAÇÃO INICIAL DOS DADOS\n",
    "\n",
    "## 1.Datasets utilizados\n"
   ]
  },
  {
   "cell_type": "code",
   "execution_count": 16,
   "id": "2df39c88",
   "metadata": {},
   "outputs": [],
   "source": [
    "import pandas as pd\n",
    "import numpy as np\n",
    "import seaborn as sns\n",
    "from sklearn.cluster import KMeans"
   ]
  },
  {
   "cell_type": "code",
   "execution_count": 17,
   "id": "6caafc4d",
   "metadata": {},
   "outputs": [],
   "source": [
    "df_dados = pd.read_csv(\"Life Expectancy Data.csv\")"
   ]
  },
  {
   "cell_type": "markdown",
   "id": "431ac319",
   "metadata": {},
   "source": [
    "Nem todas as colunas possuíam dados relevantes na análise desenvolvida, portanto as mais importantes foram selecionadas na cécula abaixo."
   ]
  },
  {
   "cell_type": "code",
   "execution_count": 18,
   "id": "80cd6f45",
   "metadata": {},
   "outputs": [],
   "source": [
    "colunas_selecionadas = [\"Country\", \"Year\", \"Status\", \"Life expectancy \", \"infant deaths\", \"Alcohol\", \"percentage expenditure\", \"GDP\", \"Hepatitis B\",\n",
    "                     \" BMI \", \"under-five deaths \", \"Polio\", \"Total expenditure\", \"Diphtheria \", \" HIV/AIDS\",\n",
    "                     \" thinness  1-19 years\", \" thinness 5-9 years\", \"Income composition of resources\",\n",
    "                     \"Schooling\"]\n",
    "df_dados = df_dados[colunas_selecionadas]"
   ]
  },
  {
   "cell_type": "markdown",
   "id": "30b825f3",
   "metadata": {},
   "source": [
    "Para trabalhar com medidas como centralidade, dispersão e correlação, faz-se necessário que os dados sejam numéricos. O dataframe \"df_dados_numericos\" possui apenas colunas com dados numéricos."
   ]
  },
  {
   "cell_type": "code",
   "execution_count": 19,
   "id": "b4a008a1",
   "metadata": {},
   "outputs": [],
   "source": [
    "df_dados_numericos = df_dados[[\"Life expectancy \", \"infant deaths\", \"Alcohol\", \"percentage expenditure\", \"GDP\", \"Hepatitis B\",\n",
    "                     \" BMI \", \"under-five deaths \", \"Polio\", \"Total expenditure\", \"Diphtheria \", \" HIV/AIDS\",\n",
    "                     \" thinness  1-19 years\", \" thinness 5-9 years\", \"Income composition of resources\",\n",
    "                     \"Schooling\"]]"
   ]
  },
  {
   "cell_type": "markdown",
   "id": "fb4b2090",
   "metadata": {},
   "source": [
    "Como o dataframe possui dados do ano 2000 até o ano 2015, escolhemos um ano para realizar uma análise baseada nele. Isso deixa a visualização e correlação dos dados mais clara e precisa. O ano escolhido foi 2012, por ser o ano com a menor quantidade de dados em falta."
   ]
  },
  {
   "cell_type": "code",
   "execution_count": 20,
   "id": "4b033f9c",
   "metadata": {},
   "outputs": [],
   "source": [
    "df_dados2012 = df_dados[df_dados[\"Year\"] == 2012]"
   ]
  },
  {
   "cell_type": "markdown",
   "id": "5fc1a59e",
   "metadata": {},
   "source": [
    "Para evitar dados incorretos (por eventuais erros de digitação do arquivo csv), utilizamos essas máscaras nas seguintes variáveis: "
   ]
  },
  {
   "cell_type": "code",
   "execution_count": 21,
   "id": "cd953974",
   "metadata": {},
   "outputs": [],
   "source": [
    "df_dados2012 = df_dados2012[df_dados2012[\"Income composition of resources\"] > 0]\n",
    "df_dados2012 = df_dados2012[df_dados2012[\"Schooling\"] > 0]\n",
    "df_dados2012 = df_dados2012[df_dados2012[\"infant deaths\"] < 900]\n",
    "df_dados2012 = df_dados2012[df_dados2012[\"under-five deaths \"] < 900]\n",
    "df_dados2012 = df_dados2012[df_dados2012[\"GDP\"] > 0]"
   ]
  },
  {
   "cell_type": "markdown",
   "id": "1c5d75ca",
   "metadata": {},
   "source": [
    "Para o funcionamento do algoritmo KMeans, não podem haver valores NaN. Para não compremeter outras análises, foram feitos dataframes específicos retirando os valores NaN de algumas colunas."
   ]
  },
  {
   "cell_type": "code",
   "execution_count": 22,
   "id": "89e79026",
   "metadata": {},
   "outputs": [],
   "source": [
    "df_alcool = df_dados2012.dropna(subset=[\"Alcohol\"])\n",
    "df_BMI = df_dados2012.dropna(subset=[\" BMI \"])"
   ]
  },
  {
   "cell_type": "markdown",
   "id": "eac25f30",
   "metadata": {},
   "source": [
    "## 2. Centralidade das variáveis"
   ]
  },
  {
   "cell_type": "code",
   "execution_count": 4,
   "id": "0dcbae32",
   "metadata": {},
   "outputs": [],
   "source": [
    "def central(dfcoluna):\n",
    "    media = dfcoluna.mean()\n",
    "    mediana = dfcoluna.median()\n",
    "    moda = dfcoluna.mode().squeeze() \n",
    "    \n",
    "    return {\"Média\": media, \"Mediana\" : mediana, \"Moda\" : moda}"
   ]
  },
  {
   "cell_type": "code",
   "execution_count": 6,
   "id": "f0f6f6dd",
   "metadata": {},
   "outputs": [],
   "source": [
    "centralidade_das_variaveis = {}\n",
    "\n",
    "for coluna in df_dados_numericos.drop([\"GDP\"], axis = 1):   \n",
    "    dado = df_dados_numericos[coluna]\n",
    "    centralidade_das_variaveis[coluna] = central(dado)\n",
    "    \n",
    "GDP = df_dados_numericos[\"GDP\"]\n",
    "media_gdp = GDP.mean()\n",
    "mediana_gdp = GDP.median()\n",
    "centralidade_das_variaveis[\"GDP\"] = {\"Média\" : media_gdp, \"Mediana\" : mediana_gdp}\n"
   ]
  },
  {
   "cell_type": "code",
   "execution_count": 7,
   "id": "52636c36",
   "metadata": {},
   "outputs": [
    {
     "data": {
      "text/plain": [
       "{'Life expectancy ': {'Média': 69.22493169398912,\n",
       "  'Mediana': 72.1,\n",
       "  'Moda': 73.0},\n",
       " 'infant deaths': {'Média': 30.303948264125257, 'Mediana': 3.0, 'Moda': 0},\n",
       " 'Alcohol': {'Média': 4.6028607871720375, 'Mediana': 3.755, 'Moda': 0.01},\n",
       " 'percentage expenditure': {'Média': 738.2512954533823,\n",
       "  'Mediana': 64.912906045,\n",
       "  'Moda': 0.0},\n",
       " 'Hepatitis B': {'Média': 80.94046121593291, 'Mediana': 92.0, 'Moda': 99.0},\n",
       " ' BMI ': {'Média': 38.32124655647373, 'Mediana': 43.5, 'Moda': 58.5},\n",
       " 'under-five deaths ': {'Média': 42.0357385976855, 'Mediana': 4.0, 'Moda': 0},\n",
       " 'Polio': {'Média': 82.55018842069202, 'Mediana': 93.0, 'Moda': 99.0},\n",
       " 'Total expenditure': {'Média': 5.9381895280235915,\n",
       "  'Mediana': 5.755,\n",
       "  'Moda': 4.6},\n",
       " 'Diphtheria ': {'Média': 82.32408359027065, 'Mediana': 93.0, 'Moda': 99.0},\n",
       " ' HIV/AIDS': {'Média': 1.7421034717494939, 'Mediana': 0.1, 'Moda': 0.1},\n",
       " ' thinness  1-19 years': {'Média': 4.8397038567493205,\n",
       "  'Mediana': 3.3,\n",
       "  'Moda': 1.0},\n",
       " ' thinness 5-9 years': {'Média': 4.870316804407711,\n",
       "  'Mediana': 3.3,\n",
       "  'Moda': 0.9},\n",
       " 'Income composition of resources': {'Média': 0.6275510645976166,\n",
       "  'Mediana': 0.677,\n",
       "  'Moda': 0.0},\n",
       " 'Schooling': {'Média': 11.992792792792786, 'Mediana': 12.3, 'Moda': 12.9},\n",
       " 'GDP': {'Média': 7483.158469138481, 'Mediana': 1766.947595}}"
      ]
     },
     "execution_count": 7,
     "metadata": {},
     "output_type": "execute_result"
    }
   ],
   "source": [
    "centralidade_das_variaveis"
   ]
  },
  {
   "cell_type": "markdown",
   "id": "f8e2e65e",
   "metadata": {},
   "source": [
    "## 3.Dispersão das variáveis\n"
   ]
  },
  {
   "cell_type": "code",
   "execution_count": 8,
   "id": "53c38702",
   "metadata": {},
   "outputs": [],
   "source": [
    "def dispersao(dfcoluna):\n",
    "    variancia = np.var(dfcoluna)\n",
    "    desvio_p = np.std(dfcoluna) \n",
    "    return {\"Variância\": variancia, \"Desvio Padrão\" : desvio_p}"
   ]
  },
  {
   "cell_type": "code",
   "execution_count": 9,
   "id": "57b5ef17",
   "metadata": {},
   "outputs": [],
   "source": [
    "dispersao_das_variaveis = {}\n",
    "\n",
    "for colunas in df_dados_numericos:\n",
    "    dados2 = df_dados_numericos[colunas]\n",
    "    dispersao_das_variaveis[colunas] = dispersao(dados2)"
   ]
  },
  {
   "cell_type": "code",
   "execution_count": 10,
   "id": "b57ac9b0",
   "metadata": {
    "scrolled": false
   },
   "outputs": [
    {
     "data": {
      "text/plain": [
       "{'Life expectancy ': {'Variância': 90.67307376582568,\n",
       "  'Desvio Padrão': 9.522241005447492},\n",
       " 'infant deaths': {'Variância': 13901.926335670341,\n",
       "  'Desvio Padrão': 117.90643042544517},\n",
       " 'Alcohol': {'Variância': 16.416063645342746,\n",
       "  'Desvio Padrão': 4.051674178082777},\n",
       " 'percentage expenditure': {'Variância': 3950460.4161855783,\n",
       "  'Desvio Padrão': 1987.5765183221447},\n",
       " 'GDP': {'Variância': 203555950.81344026, 'Desvio Padrão': 14267.303557906107},\n",
       " 'Hepatitis B': {'Variância': 628.2421574392729,\n",
       "  'Desvio Padrão': 25.06475927351533},\n",
       " ' BMI ': {'Variância': 401.6249308152427,\n",
       "  'Desvio Padrão': 20.040582097714694},\n",
       " 'under-five deaths ': {'Variância': 25734.011997089085,\n",
       "  'Desvio Padrão': 160.4182408490041},\n",
       " 'Polio': {'Variância': 548.6853022940603,\n",
       "  'Desvio Padrão': 23.424032579683207},\n",
       " 'Total expenditure': {'Variância': 6.239299708916882,\n",
       "  'Desvio Padrão': 2.497859025028611},\n",
       " 'Diphtheria ': {'Variância': 562.2992178566609,\n",
       "  'Desvio Padrão': 23.712849214226893},\n",
       " ' HIV/AIDS': {'Variância': 25.77511974150574,\n",
       "  'Desvio Padrão': 5.0769203008818},\n",
       " ' thinness  1-19 years': {'Variância': 19.531395366844496,\n",
       "  'Desvio Padrão': 4.419433828766361},\n",
       " ' thinness 5-9 years': {'Variância': 20.323016979524773,\n",
       "  'Desvio Padrão': 4.508105697465929},\n",
       " 'Income composition of resources': {'Variância': 0.04446425749706239,\n",
       "  'Desvio Padrão': 0.2108654962222658},\n",
       " 'Schooling': {'Variância': 11.278275984092264,\n",
       "  'Desvio Padrão': 3.3583144558084883}}"
      ]
     },
     "execution_count": 10,
     "metadata": {},
     "output_type": "execute_result"
    }
   ],
   "source": [
    "dispersao_das_variaveis"
   ]
  },
  {
   "cell_type": "markdown",
   "id": "d881387c",
   "metadata": {},
   "source": [
    "## 4. Histograma de expectativa de vida"
   ]
  },
  {
   "cell_type": "code",
   "execution_count": 25,
   "id": "c2f4b189",
   "metadata": {},
   "outputs": [
    {
     "data": {
      "text/plain": [
       "<seaborn.axisgrid.FacetGrid at 0x205adad7820>"
      ]
     },
     "execution_count": 25,
     "metadata": {},
     "output_type": "execute_result"
    },
    {
     "data": {
      "image/png": "[encoded data removed]",
      "text/plain": [
       "<Figure size 360x360 with 1 Axes>"
      ]
     },
     "metadata": {
      "needs_background": "light"
     },
     "output_type": "display_data"
    }
   ],
   "source": [
    "sns.displot(df_dados2012, x = \"Life expectancy \", bins = 10)"
   ]
  },
  {
   "cell_type": "markdown",
   "id": "41330677",
   "metadata": {},
   "source": [
    "# FATOR IDH\n",
    "*Os gráficos abaixo foram feitos com o objetivo de explicar a influência do IDH nos demais fatores e como essa influência foi solucionada.*"
   ]
  },
  {
   "cell_type": "code",
   "execution_count": 27,
   "id": "186e7276",
   "metadata": {},
   "outputs": [],
   "source": [
    "def quantidade_k(df:pd.DataFrame, coluna1, coluna2):\n",
    "    dists = []\n",
    "    for i in range(1,10):\n",
    "        kmeans = KMeans(n_clusters = i)\n",
    "        kmeans.fit(df[[coluna1, coluna2]])\n",
    "        dists.append(kmeans.inertia_)\n",
    "    sns.lineplot(x = range(1,10), y = dists)"
   ]
  },
  {
   "cell_type": "markdown",
   "id": "0057a6b8",
   "metadata": {},
   "source": [
    "A função acima (quantidade_k) é responsável por iniciar o algoritmo do KMeans. K varia de 1 até 10, e a função calcula as distâncias para cada valor de k. Ao final, é gerado um gráfico de linha com as distâncias de k no eixo Y e a quantidade de k no eixo X. A partir da análise do gráfico é possível escolher o valor de k mais apropriado para fazer o agrupamento. A função recebe um dataframe e o nome das duas colunas que serão agrupadas."
   ]
  },
  {
   "cell_type": "markdown",
   "id": "9d79fa3e",
   "metadata": {},
   "source": [
    "### Agrupamento entre expectativa de vida e IDH"
   ]
  },
  {
   "cell_type": "code",
   "execution_count": 28,
   "id": "4a60b36b",
   "metadata": {},
   "outputs": [
    {
     "name": "stderr",
     "output_type": "stream",
     "text": [
      "C:\\Users\\bergs\\anaconda3\\lib\\site-packages\\sklearn\\cluster\\_kmeans.py:881: UserWarning: KMeans is known to have a memory leak on Windows with MKL, when there are less chunks than available threads. You can avoid it by setting the environment variable OMP_NUM_THREADS=1.\n",
      "  warnings.warn(\n"
     ]
    },
    {
     "data": {
      "image/png": "[encoded data removed]",
      "text/plain": [
       "<Figure size 432x288 with 1 Axes>"
      ]
     },
     "metadata": {
      "needs_background": "light"
     },
     "output_type": "display_data"
    }
   ],
   "source": [
    "quantidade_k(df_dados2012, \"Life expectancy \", \"Income composition of resources\")"
   ]
  },
  {
   "cell_type": "markdown",
   "id": "92060bab",
   "metadata": {},
   "source": [
    "Acima está o gráfico gerado pela função \"quantidade_k\". A partir dele, escolhemos o valor de k para gerar o gráfico de agrupamento exibido abaixo."
   ]
  },
  {
   "cell_type": "code",
   "execution_count": 29,
   "id": "b888d7d5",
   "metadata": {},
   "outputs": [
    {
     "data": {
      "text/plain": [
       "<AxesSubplot:xlabel='Life expectancy ', ylabel='Income composition of resources'>"
      ]
     },
     "execution_count": 29,
     "metadata": {},
     "output_type": "execute_result"
    },
    {
     "data": {
      "image/png": "[encoded data removed]",
      "text/plain": [
       "<Figure size 432x288 with 1 Axes>"
      ]
     },
     "metadata": {
      "needs_background": "light"
     },
     "output_type": "display_data"
    }
   ],
   "source": [
    "kmeans = KMeans(n_clusters = 4)\n",
    "kmeans.fit(df_dados2012[[\"Life expectancy \", \"Income composition of resources\"]])\n",
    "sns.scatterplot(data = df_dados2012, x = \"Life expectancy \", y = \"Income composition of resources\", hue = kmeans.labels_)"
   ]
  },
  {
   "cell_type": "code",
   "execution_count": 32,
   "id": "7651f473",
   "metadata": {},
   "outputs": [
    {
     "data": {
      "text/html": [
       "<div>\n",
       "<style scoped>\n",
       "    .dataframe tbody tr th:only-of-type {\n",
       "        vertical-align: middle;\n",
       "    }\n",
       "\n",
       "    .dataframe tbody tr th {\n",
       "        vertical-align: top;\n",
       "    }\n",
       "\n",
       "    .dataframe thead th {\n",
       "        text-align: right;\n",
       "    }\n",
       "</style>\n",
       "<table border=\"1\" class=\"dataframe\">\n",
       "  <thead>\n",
       "    <tr style=\"text-align: right;\">\n",
       "      <th></th>\n",
       "      <th>Life expectancy</th>\n",
       "      <th>Income composition of resources</th>\n",
       "    </tr>\n",
       "  </thead>\n",
       "  <tbody>\n",
       "    <tr>\n",
       "      <th>Life expectancy</th>\n",
       "      <td>1.00000</td>\n",
       "      <td>0.90082</td>\n",
       "    </tr>\n",
       "    <tr>\n",
       "      <th>Income composition of resources</th>\n",
       "      <td>0.90082</td>\n",
       "      <td>1.00000</td>\n",
       "    </tr>\n",
       "  </tbody>\n",
       "</table>\n",
       "</div>"
      ],
      "text/plain": [
       "                                 Life expectancy   \\\n",
       "Life expectancy                           1.00000   \n",
       "Income composition of resources           0.90082   \n",
       "\n",
       "                                 Income composition of resources  \n",
       "Life expectancy                                          0.90082  \n",
       "Income composition of resources                          1.00000  "
      ]
     },
     "execution_count": 32,
     "metadata": {},
     "output_type": "execute_result"
    }
   ],
   "source": [
    "df_dados2012[[\"Life expectancy \", \"Income composition of resources\"]].corr()"
   ]
  },
  {
   "cell_type": "markdown",
   "id": "b7efc205",
   "metadata": {},
   "source": [
    "O IDH é o fator que mais influencia na expectativa de vida dentre os dados analisados."
   ]
  },
  {
   "cell_type": "markdown",
   "id": "da9385a6",
   "metadata": {},
   "source": [
    "### Agrupamento entre consumo de álcool e expectativa de vida"
   ]
  },
  {
   "cell_type": "code",
   "execution_count": 33,
   "id": "995ecb58",
   "metadata": {},
   "outputs": [
    {
     "name": "stderr",
     "output_type": "stream",
     "text": [
      "C:\\Users\\bergs\\anaconda3\\lib\\site-packages\\sklearn\\cluster\\_kmeans.py:881: UserWarning: KMeans is known to have a memory leak on Windows with MKL, when there are less chunks than available threads. You can avoid it by setting the environment variable OMP_NUM_THREADS=1.\n",
      "  warnings.warn(\n"
     ]
    },
    {
     "data": {
      "image/png": "[encoded data removed]",
      "text/plain": [
       "<Figure size 432x288 with 1 Axes>"
      ]
     },
     "metadata": {
      "needs_background": "light"
     },
     "output_type": "display_data"
    }
   ],
   "source": [
    "quantidade_k(df_alcool, \"Alcohol\", \"Life expectancy \")"
   ]
  },
  {
   "cell_type": "code",
   "execution_count": 34,
   "id": "f0e9dc71",
   "metadata": {},
   "outputs": [
    {
     "data": {
      "text/plain": [
       "<AxesSubplot:xlabel='Life expectancy ', ylabel='Alcohol'>"
      ]
     },
     "execution_count": 34,
     "metadata": {},
     "output_type": "execute_result"
    },
    {
     "data": {
      "image/png": "[encoded data removed]",
      "text/plain": [
       "<Figure size 432x288 with 1 Axes>"
      ]
     },
     "metadata": {
      "needs_background": "light"
     },
     "output_type": "display_data"
    }
   ],
   "source": [
    "kmeans = KMeans(n_clusters = 5)\n",
    "kmeans.fit(df_alcool[[\"Alcohol\", \"Life expectancy \"]])\n",
    "sns.scatterplot(data = df_alcool, x = \"Life expectancy \", y = \"Alcohol\", hue = kmeans.labels_)"
   ]
  },
  {
   "cell_type": "code",
   "execution_count": 39,
   "id": "0e0dce0a",
   "metadata": {},
   "outputs": [
    {
     "data": {
      "text/html": [
       "<div>\n",
       "<style scoped>\n",
       "    .dataframe tbody tr th:only-of-type {\n",
       "        vertical-align: middle;\n",
       "    }\n",
       "\n",
       "    .dataframe tbody tr th {\n",
       "        vertical-align: top;\n",
       "    }\n",
       "\n",
       "    .dataframe thead th {\n",
       "        text-align: right;\n",
       "    }\n",
       "</style>\n",
       "<table border=\"1\" class=\"dataframe\">\n",
       "  <thead>\n",
       "    <tr style=\"text-align: right;\">\n",
       "      <th></th>\n",
       "      <th>Life expectancy</th>\n",
       "      <th>Alcohol</th>\n",
       "    </tr>\n",
       "  </thead>\n",
       "  <tbody>\n",
       "    <tr>\n",
       "      <th>Life expectancy</th>\n",
       "      <td>1.000000</td>\n",
       "      <td>0.485464</td>\n",
       "    </tr>\n",
       "    <tr>\n",
       "      <th>Alcohol</th>\n",
       "      <td>0.485464</td>\n",
       "      <td>1.000000</td>\n",
       "    </tr>\n",
       "  </tbody>\n",
       "</table>\n",
       "</div>"
      ],
      "text/plain": [
       "                  Life expectancy    Alcohol\n",
       "Life expectancy           1.000000  0.485464\n",
       "Alcohol                   0.485464  1.000000"
      ]
     },
     "execution_count": 39,
     "metadata": {},
     "output_type": "execute_result"
    }
   ],
   "source": [
    "df_alcool[[\"Life expectancy \", \"Alcohol\"]].corr()"
   ]
  },
  {
   "cell_type": "markdown",
   "id": "4948b850",
   "metadata": {},
   "source": [
    "### Agrupamento entre consumo de álcool e IDH"
   ]
  },
  {
   "cell_type": "code",
   "execution_count": 40,
   "id": "e266fe92",
   "metadata": {},
   "outputs": [
    {
     "name": "stderr",
     "output_type": "stream",
     "text": [
      "C:\\Users\\bergs\\anaconda3\\lib\\site-packages\\sklearn\\cluster\\_kmeans.py:881: UserWarning: KMeans is known to have a memory leak on Windows with MKL, when there are less chunks than available threads. You can avoid it by setting the environment variable OMP_NUM_THREADS=1.\n",
      "  warnings.warn(\n"
     ]
    },
    {
     "data": {
      "image/png": "[encoded data removed]",
      "text/plain": [
       "<Figure size 432x288 with 1 Axes>"
      ]
     },
     "metadata": {
      "needs_background": "light"
     },
     "output_type": "display_data"
    }
   ],
   "source": [
    "quantidade_k(df_alcool, \"Alcohol\", \"Income composition of resources\")"
   ]
  },
  {
   "cell_type": "code",
   "execution_count": 41,
   "id": "d028d624",
   "metadata": {},
   "outputs": [
    {
     "data": {
      "text/plain": [
       "<AxesSubplot:xlabel='Income composition of resources', ylabel='Alcohol'>"
      ]
     },
     "execution_count": 41,
     "metadata": {},
     "output_type": "execute_result"
    },
    {
     "data": {
      "image/png": "[encoded data removed]",
      "text/plain": [
       "<Figure size 432x288 with 1 Axes>"
      ]
     },
     "metadata": {
      "needs_background": "light"
     },
     "output_type": "display_data"
    }
   ],
   "source": [
    "kmeans = KMeans(n_clusters = 3)\n",
    "kmeans.fit(df_alcool[[\"Alcohol\", \"Income composition of resources\"]])\n",
    "sns.scatterplot(data = df_alcool, x = \"Income composition of resources\", y = \"Alcohol\", hue = kmeans.labels_)"
   ]
  },
  {
   "cell_type": "code",
   "execution_count": 42,
   "id": "e81108cb",
   "metadata": {},
   "outputs": [
    {
     "data": {
      "text/html": [
       "<div>\n",
       "<style scoped>\n",
       "    .dataframe tbody tr th:only-of-type {\n",
       "        vertical-align: middle;\n",
       "    }\n",
       "\n",
       "    .dataframe tbody tr th {\n",
       "        vertical-align: top;\n",
       "    }\n",
       "\n",
       "    .dataframe thead th {\n",
       "        text-align: right;\n",
       "    }\n",
       "</style>\n",
       "<table border=\"1\" class=\"dataframe\">\n",
       "  <thead>\n",
       "    <tr style=\"text-align: right;\">\n",
       "      <th></th>\n",
       "      <th>Income composition of resources</th>\n",
       "      <th>Alcohol</th>\n",
       "    </tr>\n",
       "  </thead>\n",
       "  <tbody>\n",
       "    <tr>\n",
       "      <th>Income composition of resources</th>\n",
       "      <td>1.000000</td>\n",
       "      <td>0.601073</td>\n",
       "    </tr>\n",
       "    <tr>\n",
       "      <th>Alcohol</th>\n",
       "      <td>0.601073</td>\n",
       "      <td>1.000000</td>\n",
       "    </tr>\n",
       "  </tbody>\n",
       "</table>\n",
       "</div>"
      ],
      "text/plain": [
       "                                 Income composition of resources   Alcohol\n",
       "Income composition of resources                         1.000000  0.601073\n",
       "Alcohol                                                 0.601073  1.000000"
      ]
     },
     "execution_count": 42,
     "metadata": {},
     "output_type": "execute_result"
    }
   ],
   "source": [
    "df_alcool[[\"Income composition of resources\", \"Alcohol\"]].corr()"
   ]
  },
  {
   "cell_type": "markdown",
   "id": "dcda2ad6",
   "metadata": {},
   "source": [
    "### Agrupamento entre escolaridade e expectativa de vida"
   ]
  },
  {
   "cell_type": "code",
   "execution_count": 43,
   "id": "466f65ab",
   "metadata": {},
   "outputs": [
    {
     "name": "stderr",
     "output_type": "stream",
     "text": [
      "C:\\Users\\bergs\\anaconda3\\lib\\site-packages\\sklearn\\cluster\\_kmeans.py:881: UserWarning: KMeans is known to have a memory leak on Windows with MKL, when there are less chunks than available threads. You can avoid it by setting the environment variable OMP_NUM_THREADS=1.\n",
      "  warnings.warn(\n"
     ]
    },
    {
     "data": {
      "image/png": "[encoded data removed]",
      "text/plain": [
       "<Figure size 432x288 with 1 Axes>"
      ]
     },
     "metadata": {
      "needs_background": "light"
     },
     "output_type": "display_data"
    }
   ],
   "source": [
    "quantidade_k(df_dados2012, \"Life expectancy \", \"Schooling\")"
   ]
  },
  {
   "cell_type": "code",
   "execution_count": 44,
   "id": "66c8113d",
   "metadata": {},
   "outputs": [
    {
     "data": {
      "text/plain": [
       "<AxesSubplot:xlabel='Life expectancy ', ylabel='Schooling'>"
      ]
     },
     "execution_count": 44,
     "metadata": {},
     "output_type": "execute_result"
    },
    {
     "data": {
      "image/png": "[encoded data removed]",
      "text/plain": [
       "<Figure size 432x288 with 1 Axes>"
      ]
     },
     "metadata": {
      "needs_background": "light"
     },
     "output_type": "display_data"
    }
   ],
   "source": [
    "kmeans = KMeans(n_clusters = 4)\n",
    "kmeans.fit(df_dados2012[[\"Life expectancy \", \"Schooling\"]])\n",
    "sns.scatterplot(data = df_dados2012, x = \"Life expectancy \", y = \"Schooling\", hue = kmeans.labels_)"
   ]
  },
  {
   "cell_type": "code",
   "execution_count": 45,
   "id": "f7f7c612",
   "metadata": {},
   "outputs": [
    {
     "data": {
      "text/html": [
       "<div>\n",
       "<style scoped>\n",
       "    .dataframe tbody tr th:only-of-type {\n",
       "        vertical-align: middle;\n",
       "    }\n",
       "\n",
       "    .dataframe tbody tr th {\n",
       "        vertical-align: top;\n",
       "    }\n",
       "\n",
       "    .dataframe thead th {\n",
       "        text-align: right;\n",
       "    }\n",
       "</style>\n",
       "<table border=\"1\" class=\"dataframe\">\n",
       "  <thead>\n",
       "    <tr style=\"text-align: right;\">\n",
       "      <th></th>\n",
       "      <th>Life expectancy</th>\n",
       "      <th>Schooling</th>\n",
       "    </tr>\n",
       "  </thead>\n",
       "  <tbody>\n",
       "    <tr>\n",
       "      <th>Life expectancy</th>\n",
       "      <td>1.000000</td>\n",
       "      <td>0.804739</td>\n",
       "    </tr>\n",
       "    <tr>\n",
       "      <th>Schooling</th>\n",
       "      <td>0.804739</td>\n",
       "      <td>1.000000</td>\n",
       "    </tr>\n",
       "  </tbody>\n",
       "</table>\n",
       "</div>"
      ],
      "text/plain": [
       "                  Life expectancy   Schooling\n",
       "Life expectancy           1.000000   0.804739\n",
       "Schooling                 0.804739   1.000000"
      ]
     },
     "execution_count": 45,
     "metadata": {},
     "output_type": "execute_result"
    }
   ],
   "source": [
    "df_dados2012[[\"Life expectancy \", \"Schooling\"]].corr()"
   ]
  },
  {
   "cell_type": "markdown",
   "id": "6f245581",
   "metadata": {},
   "source": [
    "### Agrupamento entre escolaridade e IDH"
   ]
  },
  {
   "cell_type": "code",
   "execution_count": 46,
   "id": "9e726edc",
   "metadata": {},
   "outputs": [
    {
     "name": "stderr",
     "output_type": "stream",
     "text": [
      "C:\\Users\\bergs\\anaconda3\\lib\\site-packages\\sklearn\\cluster\\_kmeans.py:881: UserWarning: KMeans is known to have a memory leak on Windows with MKL, when there are less chunks than available threads. You can avoid it by setting the environment variable OMP_NUM_THREADS=1.\n",
      "  warnings.warn(\n"
     ]
    },
    {
     "data": {
      "image/png": "[encoded data removed]",
      "text/plain": [
       "<Figure size 432x288 with 1 Axes>"
      ]
     },
     "metadata": {
      "needs_background": "light"
     },
     "output_type": "display_data"
    }
   ],
   "source": [
    "quantidade_k(df_dados2012, \"Income composition of resources\", \"Schooling\")"
   ]
  },
  {
   "cell_type": "code",
   "execution_count": 47,
   "id": "bfb9514c",
   "metadata": {},
   "outputs": [
    {
     "data": {
      "text/plain": [
       "<AxesSubplot:xlabel='Income composition of resources', ylabel='Schooling'>"
      ]
     },
     "execution_count": 47,
     "metadata": {},
     "output_type": "execute_result"
    },
    {
     "data": {
      "image/png": "[encoded data removed]",
      "text/plain": [
       "<Figure size 432x288 with 1 Axes>"
      ]
     },
     "metadata": {
      "needs_background": "light"
     },
     "output_type": "display_data"
    }
   ],
   "source": [
    "kmeans = KMeans(n_clusters = 4)\n",
    "kmeans.fit(df_dados2012[[\"Income composition of resources\", \"Schooling\"]])\n",
    "sns.scatterplot(data = df_dados2012, x = \"Income composition of resources\", y = \"Schooling\", hue = kmeans.labels_)"
   ]
  },
  {
   "cell_type": "code",
   "execution_count": 48,
   "id": "241b0855",
   "metadata": {},
   "outputs": [
    {
     "data": {
      "text/html": [
       "<div>\n",
       "<style scoped>\n",
       "    .dataframe tbody tr th:only-of-type {\n",
       "        vertical-align: middle;\n",
       "    }\n",
       "\n",
       "    .dataframe tbody tr th {\n",
       "        vertical-align: top;\n",
       "    }\n",
       "\n",
       "    .dataframe thead th {\n",
       "        text-align: right;\n",
       "    }\n",
       "</style>\n",
       "<table border=\"1\" class=\"dataframe\">\n",
       "  <thead>\n",
       "    <tr style=\"text-align: right;\">\n",
       "      <th></th>\n",
       "      <th>Income composition of resources</th>\n",
       "      <th>Schooling</th>\n",
       "    </tr>\n",
       "  </thead>\n",
       "  <tbody>\n",
       "    <tr>\n",
       "      <th>Income composition of resources</th>\n",
       "      <td>1.000000</td>\n",
       "      <td>0.915567</td>\n",
       "    </tr>\n",
       "    <tr>\n",
       "      <th>Schooling</th>\n",
       "      <td>0.915567</td>\n",
       "      <td>1.000000</td>\n",
       "    </tr>\n",
       "  </tbody>\n",
       "</table>\n",
       "</div>"
      ],
      "text/plain": [
       "                                 Income composition of resources  Schooling\n",
       "Income composition of resources                         1.000000   0.915567\n",
       "Schooling                                               0.915567   1.000000"
      ]
     },
     "execution_count": 48,
     "metadata": {},
     "output_type": "execute_result"
    }
   ],
   "source": [
    "df_dados2012[[\"Income composition of resources\", \"Schooling\"]].corr()"
   ]
  },
  {
   "cell_type": "markdown",
   "id": "9443d3cb",
   "metadata": {},
   "source": [
    "Analisando os países sem uma separação em grupos por IDH, este fator acaba influenciando nas outras variáveis. Observando o gráfico de escolaridade e expectativa de vida, fica evidente a correlação entre essas duas variáveis. Entretanto, isso acontece por causa do IDH; países com um IDH maior possuem um maior nível de escolaridade, e países que possuem maior IDH possuem maior expectativa de vida. Com isso, pode existir correlação entre expectativa de vida e escolaridade, mas pode não haver causalidade."
   ]
  },
  {
   "cell_type": "markdown",
   "id": "eeae11c8",
   "metadata": {},
   "source": [
    "## **Para uma análise sem ter o IDH influenciando na correlação das variáveis, foi feita uma separação dos países por IDH:**\n",
    "#### - Grupo 1: Países com IDH até 0.600;\n",
    "#### - Grupo 2: Países com IDH entre 0.601 e 0.800;\n",
    "#### - Grupo 3: Países com IDH acima de 0.800."
   ]
  },
  {
   "cell_type": "markdown",
   "id": "f10c93fa",
   "metadata": {},
   "source": [
    "## 5.RESPONDENDO AS PERGUNTAS \n",
    "**Nessa seção visualizaremos os dados pertinentes de cada pergunta de forma intuitiva como também o resultados que obtivemos utilizando agrupamento com o método K-means**"
   ]
  },
  {
   "cell_type": "code",
   "execution_count": 55,
   "id": "775f3e16",
   "metadata": {},
   "outputs": [],
   "source": [
    "def name_countries_classificated(df:pd.DataFrame, label:np.ndarray):\n",
    "    df_['classificacao'] = kmeans.labels_\n",
    "    dfs_ = [\n",
    "        df.query(f'classificacao == {unique_label}')['Country']\\\n",
    "            .reset_index(drop=True)\\\n",
    "            .rename(f'{unique_label}', axis=0)\n",
    "        for unique_label in np.unique(label)\n",
    "    ]\n",
    "\n",
    "    return pd.concat(dfs_, axis=1)"
   ]
  },
  {
   "cell_type": "markdown",
   "id": "612449cf",
   "metadata": {},
   "source": [
    "Abaixo está o dataframe que representa os países com IDH até 0.600."
   ]
  },
  {
   "cell_type": "code",
   "execution_count": 62,
   "id": "2d23cad3",
   "metadata": {},
   "outputs": [],
   "source": [
    "df_0_6 = df_dados2012.copy()\n",
    "df_0_6 = df_0_6[df_0_6[\"Income composition of resources\"] <= 0.600]"
   ]
  },
  {
   "cell_type": "markdown",
   "id": "1e4cd6c9",
   "metadata": {},
   "source": [
    "O dataframe \"df_alcool06\" possui os dados de consumo de álcool dos países com IDH até 0.600 sem a presença de valores \"NaN\". Este procedimento foi repetido nos outros dataframes, tendo em vista que o algoritmo KMeans não trabalha com valores \"NaN\"."
   ]
  },
  {
   "cell_type": "code",
   "execution_count": 63,
   "id": "f53370da",
   "metadata": {},
   "outputs": [],
   "source": [
    "df_alcool06 = df_0_6.dropna(subset = [\"Alcohol\"])"
   ]
  },
  {
   "cell_type": "markdown",
   "id": "b3eb0aeb",
   "metadata": {},
   "source": [
    "Abaixo está o dataframe que representa os países com IDH entre 0.601 e 0.800."
   ]
  },
  {
   "cell_type": "code",
   "execution_count": 64,
   "id": "e1a060a0",
   "metadata": {},
   "outputs": [],
   "source": [
    "df_6_8 = df_dados2012.copy()\n",
    "df_6_8 = df_6_8[df_6_8[\"Income composition of resources\"] > 0.600]\n",
    "df_6_8 = df_6_8[df_6_8[\"Income composition of resources\"] <= 0.800]"
   ]
  },
  {
   "cell_type": "code",
   "execution_count": 69,
   "id": "b068267f",
   "metadata": {},
   "outputs": [],
   "source": [
    "df_alcool68 = df_6_8.dropna(subset = [\"Alcohol\"])"
   ]
  },
  {
   "cell_type": "markdown",
   "id": "46d631d2",
   "metadata": {},
   "source": [
    "Abaixo está o dataframe que representa os países com IDH acima de 0.800."
   ]
  },
  {
   "cell_type": "code",
   "execution_count": 75,
   "id": "9bb2bcf5",
   "metadata": {},
   "outputs": [],
   "source": [
    "df_8 = df_dados2012.copy()\n",
    "df_8 = df_8[df_8[\"Income composition of resources\"] > 0.800]"
   ]
  },
  {
   "cell_type": "code",
   "execution_count": 76,
   "id": "a0afd015",
   "metadata": {},
   "outputs": [],
   "source": [
    "df_alcool8 = df_8.dropna(subset = [\"Alcohol\"])"
   ]
  },
  {
   "cell_type": "markdown",
   "id": "01a8481a",
   "metadata": {},
   "source": [
    "- O procedimento padrão para responder todas as perguntas foi o seguinte:\n",
    "1. Utilizar a função \"quantidade_k\" para encontrar o valor ideal de k;\n",
    "2. Agrupar os dados utilizando o algoritmo KMeans e gerar o gráfico de dispersão agrupado (as cores representam os grupos, no parâmetro \"hue\" foi utilizado o 'kmeans.labels_', responsável pelo agrupamento);\n",
    "3. Utilizar a função \"name_countries_classificated\" para gerar um dataframe com os países separados pelos grupos formados;\n",
    "4. Gerar a correlação entre os fatores analisados para chegar as conclusões."
   ]
  },
  {
   "cell_type": "markdown",
   "id": "3cb35673",
   "metadata": {},
   "source": [
    "# 1. Qual a relação existente entre o consumo de álcool e a expectativa de vida?"
   ]
  },
  {
   "cell_type": "markdown",
   "id": "01baa839",
   "metadata": {},
   "source": [
    "## Países com IDH até 0.600\n",
    "\n"
   ]
  },
  {
   "cell_type": "code",
   "execution_count": 65,
   "id": "1ec0c23c",
   "metadata": {},
   "outputs": [
    {
     "name": "stderr",
     "output_type": "stream",
     "text": [
      "C:\\Users\\bergs\\anaconda3\\lib\\site-packages\\sklearn\\cluster\\_kmeans.py:881: UserWarning: KMeans is known to have a memory leak on Windows with MKL, when there are less chunks than available threads. You can avoid it by setting the environment variable OMP_NUM_THREADS=1.\n",
      "  warnings.warn(\n"
     ]
    },
    {
     "data": {
      "image/png": "[encoded data removed]",
      "text/plain": [
       "<Figure size 432x288 with 1 Axes>"
      ]
     },
     "metadata": {
      "needs_background": "light"
     },
     "output_type": "display_data"
    }
   ],
   "source": [
    "quantidade_k(df_alcool06, \"Alcohol\", \"Life expectancy \")"
   ]
  },
  {
   "cell_type": "code",
   "execution_count": 66,
   "id": "0b520cc3",
   "metadata": {},
   "outputs": [
    {
     "data": {
      "text/plain": [
       "<AxesSubplot:xlabel='Life expectancy ', ylabel='Alcohol'>"
      ]
     },
     "execution_count": 66,
     "metadata": {},
     "output_type": "execute_result"
    },
    {
     "data": {
      "image/png": "[encoded data removed]",
      "text/plain": [
       "<Figure size 432x288 with 1 Axes>"
      ]
     },
     "metadata": {
      "needs_background": "light"
     },
     "output_type": "display_data"
    }
   ],
   "source": [
    "kmeans = KMeans(n_clusters = 4)\n",
    "kmeans.fit(df_alcool06[[\"Alcohol\", \"Life expectancy \"]])\n",
    "sns.scatterplot(data = df_alcool06, x = \"Life expectancy \", y = \"Alcohol\", hue = kmeans.labels_)"
   ]
  },
  {
   "cell_type": "code",
   "execution_count": 67,
   "id": "e7af3e72",
   "metadata": {},
   "outputs": [
    {
     "data": {
      "text/html": [
       "<div>\n",
       "<style scoped>\n",
       "    .dataframe tbody tr th:only-of-type {\n",
       "        vertical-align: middle;\n",
       "    }\n",
       "\n",
       "    .dataframe tbody tr th {\n",
       "        vertical-align: top;\n",
       "    }\n",
       "\n",
       "    .dataframe thead th {\n",
       "        text-align: right;\n",
       "    }\n",
       "</style>\n",
       "<table border=\"1\" class=\"dataframe\">\n",
       "  <thead>\n",
       "    <tr style=\"text-align: right;\">\n",
       "      <th></th>\n",
       "      <th>0</th>\n",
       "      <th>1</th>\n",
       "      <th>2</th>\n",
       "      <th>3</th>\n",
       "    </tr>\n",
       "  </thead>\n",
       "  <tbody>\n",
       "    <tr>\n",
       "      <th>0</th>\n",
       "      <td>Afghanistan</td>\n",
       "      <td>Bangladesh</td>\n",
       "      <td>Angola</td>\n",
       "      <td>Cameroon</td>\n",
       "    </tr>\n",
       "    <tr>\n",
       "      <th>1</th>\n",
       "      <td>Benin</td>\n",
       "      <td>Bhutan</td>\n",
       "      <td>Equatorial Guinea</td>\n",
       "      <td>Central African Republic</td>\n",
       "    </tr>\n",
       "    <tr>\n",
       "      <th>2</th>\n",
       "      <td>Burkina Faso</td>\n",
       "      <td>Cambodia</td>\n",
       "      <td>Nigeria</td>\n",
       "      <td>Chad</td>\n",
       "    </tr>\n",
       "    <tr>\n",
       "      <th>3</th>\n",
       "      <td>Burundi</td>\n",
       "      <td>Kiribati</td>\n",
       "      <td>Zimbabwe</td>\n",
       "      <td>Lesotho</td>\n",
       "    </tr>\n",
       "    <tr>\n",
       "      <th>4</th>\n",
       "      <td>Comoros</td>\n",
       "      <td>Liberia</td>\n",
       "      <td>NaN</td>\n",
       "      <td>Malawi</td>\n",
       "    </tr>\n",
       "    <tr>\n",
       "      <th>5</th>\n",
       "      <td>Djibouti</td>\n",
       "      <td>Madagascar</td>\n",
       "      <td>NaN</td>\n",
       "      <td>Mozambique</td>\n",
       "    </tr>\n",
       "    <tr>\n",
       "      <th>6</th>\n",
       "      <td>Ethiopia</td>\n",
       "      <td>Myanmar</td>\n",
       "      <td>NaN</td>\n",
       "      <td>Sierra Leone</td>\n",
       "    </tr>\n",
       "    <tr>\n",
       "      <th>7</th>\n",
       "      <td>Ghana</td>\n",
       "      <td>Nepal</td>\n",
       "      <td>NaN</td>\n",
       "      <td>Swaziland</td>\n",
       "    </tr>\n",
       "    <tr>\n",
       "      <th>8</th>\n",
       "      <td>Guinea</td>\n",
       "      <td>Pakistan</td>\n",
       "      <td>NaN</td>\n",
       "      <td>NaN</td>\n",
       "    </tr>\n",
       "    <tr>\n",
       "      <th>9</th>\n",
       "      <td>Guinea-Bissau</td>\n",
       "      <td>Rwanda</td>\n",
       "      <td>NaN</td>\n",
       "      <td>NaN</td>\n",
       "    </tr>\n",
       "    <tr>\n",
       "      <th>10</th>\n",
       "      <td>Haiti</td>\n",
       "      <td>Sao Tome and Principe</td>\n",
       "      <td>NaN</td>\n",
       "      <td>NaN</td>\n",
       "    </tr>\n",
       "    <tr>\n",
       "      <th>11</th>\n",
       "      <td>Kenya</td>\n",
       "      <td>Senegal</td>\n",
       "      <td>NaN</td>\n",
       "      <td>NaN</td>\n",
       "    </tr>\n",
       "    <tr>\n",
       "      <th>12</th>\n",
       "      <td>Mali</td>\n",
       "      <td>Solomon Islands</td>\n",
       "      <td>NaN</td>\n",
       "      <td>NaN</td>\n",
       "    </tr>\n",
       "    <tr>\n",
       "      <th>13</th>\n",
       "      <td>Mauritania</td>\n",
       "      <td>Vanuatu</td>\n",
       "      <td>NaN</td>\n",
       "      <td>NaN</td>\n",
       "    </tr>\n",
       "    <tr>\n",
       "      <th>14</th>\n",
       "      <td>Niger</td>\n",
       "      <td>NaN</td>\n",
       "      <td>NaN</td>\n",
       "      <td>NaN</td>\n",
       "    </tr>\n",
       "    <tr>\n",
       "      <th>15</th>\n",
       "      <td>Papua New Guinea</td>\n",
       "      <td>NaN</td>\n",
       "      <td>NaN</td>\n",
       "      <td>NaN</td>\n",
       "    </tr>\n",
       "    <tr>\n",
       "      <th>16</th>\n",
       "      <td>Sudan</td>\n",
       "      <td>NaN</td>\n",
       "      <td>NaN</td>\n",
       "      <td>NaN</td>\n",
       "    </tr>\n",
       "    <tr>\n",
       "      <th>17</th>\n",
       "      <td>Togo</td>\n",
       "      <td>NaN</td>\n",
       "      <td>NaN</td>\n",
       "      <td>NaN</td>\n",
       "    </tr>\n",
       "    <tr>\n",
       "      <th>18</th>\n",
       "      <td>Uganda</td>\n",
       "      <td>NaN</td>\n",
       "      <td>NaN</td>\n",
       "      <td>NaN</td>\n",
       "    </tr>\n",
       "    <tr>\n",
       "      <th>19</th>\n",
       "      <td>Zambia</td>\n",
       "      <td>NaN</td>\n",
       "      <td>NaN</td>\n",
       "      <td>NaN</td>\n",
       "    </tr>\n",
       "  </tbody>\n",
       "</table>\n",
       "</div>"
      ],
      "text/plain": [
       "                   0                      1                  2  \\\n",
       "0        Afghanistan             Bangladesh             Angola   \n",
       "1              Benin                 Bhutan  Equatorial Guinea   \n",
       "2       Burkina Faso               Cambodia            Nigeria   \n",
       "3            Burundi               Kiribati           Zimbabwe   \n",
       "4            Comoros                Liberia                NaN   \n",
       "5           Djibouti             Madagascar                NaN   \n",
       "6           Ethiopia                Myanmar                NaN   \n",
       "7              Ghana                  Nepal                NaN   \n",
       "8             Guinea               Pakistan                NaN   \n",
       "9      Guinea-Bissau                 Rwanda                NaN   \n",
       "10             Haiti  Sao Tome and Principe                NaN   \n",
       "11             Kenya                Senegal                NaN   \n",
       "12              Mali        Solomon Islands                NaN   \n",
       "13        Mauritania                Vanuatu                NaN   \n",
       "14             Niger                    NaN                NaN   \n",
       "15  Papua New Guinea                    NaN                NaN   \n",
       "16             Sudan                    NaN                NaN   \n",
       "17              Togo                    NaN                NaN   \n",
       "18            Uganda                    NaN                NaN   \n",
       "19            Zambia                    NaN                NaN   \n",
       "\n",
       "                           3  \n",
       "0                   Cameroon  \n",
       "1   Central African Republic  \n",
       "2                       Chad  \n",
       "3                    Lesotho  \n",
       "4                     Malawi  \n",
       "5                 Mozambique  \n",
       "6               Sierra Leone  \n",
       "7                  Swaziland  \n",
       "8                        NaN  \n",
       "9                        NaN  \n",
       "10                       NaN  \n",
       "11                       NaN  \n",
       "12                       NaN  \n",
       "13                       NaN  \n",
       "14                       NaN  \n",
       "15                       NaN  \n",
       "16                       NaN  \n",
       "17                       NaN  \n",
       "18                       NaN  \n",
       "19                       NaN  "
      ]
     },
     "execution_count": 67,
     "metadata": {},
     "output_type": "execute_result"
    }
   ],
   "source": [
    "df_ = df_alcool06.copy()\n",
    "name_countries_classificated(df_, kmeans.labels_)"
   ]
  },
  {
   "cell_type": "code",
   "execution_count": 68,
   "id": "9968d769",
   "metadata": {},
   "outputs": [
    {
     "data": {
      "text/html": [
       "<div>\n",
       "<style scoped>\n",
       "    .dataframe tbody tr th:only-of-type {\n",
       "        vertical-align: middle;\n",
       "    }\n",
       "\n",
       "    .dataframe tbody tr th {\n",
       "        vertical-align: top;\n",
       "    }\n",
       "\n",
       "    .dataframe thead th {\n",
       "        text-align: right;\n",
       "    }\n",
       "</style>\n",
       "<table border=\"1\" class=\"dataframe\">\n",
       "  <thead>\n",
       "    <tr style=\"text-align: right;\">\n",
       "      <th></th>\n",
       "      <th>Alcohol</th>\n",
       "      <th>Life expectancy</th>\n",
       "    </tr>\n",
       "  </thead>\n",
       "  <tbody>\n",
       "    <tr>\n",
       "      <th>Alcohol</th>\n",
       "      <td>1.0000</td>\n",
       "      <td>-0.2935</td>\n",
       "    </tr>\n",
       "    <tr>\n",
       "      <th>Life expectancy</th>\n",
       "      <td>-0.2935</td>\n",
       "      <td>1.0000</td>\n",
       "    </tr>\n",
       "  </tbody>\n",
       "</table>\n",
       "</div>"
      ],
      "text/plain": [
       "                  Alcohol  Life expectancy \n",
       "Alcohol            1.0000           -0.2935\n",
       "Life expectancy   -0.2935            1.0000"
      ]
     },
     "execution_count": 68,
     "metadata": {},
     "output_type": "execute_result"
    }
   ],
   "source": [
    "df_alcool06[[\"Alcohol\", \"Life expectancy \"]].corr()"
   ]
  },
  {
   "cell_type": "markdown",
   "id": "36d89321",
   "metadata": {},
   "source": [
    "Muitos dos países que compõem esse grupo são muçulmanos e, por motivos religiosos, não consomem álcool. Há uma fraca correlação negativa entre o consumo de álcool e a expectativa de vida."
   ]
  },
  {
   "cell_type": "markdown",
   "id": "55405c81",
   "metadata": {},
   "source": [
    "## Países com IDH entre 0.601 e 0.800"
   ]
  },
  {
   "cell_type": "code",
   "execution_count": 70,
   "id": "58c7ce3b",
   "metadata": {},
   "outputs": [
    {
     "name": "stderr",
     "output_type": "stream",
     "text": [
      "C:\\Users\\bergs\\anaconda3\\lib\\site-packages\\sklearn\\cluster\\_kmeans.py:881: UserWarning: KMeans is known to have a memory leak on Windows with MKL, when there are less chunks than available threads. You can avoid it by setting the environment variable OMP_NUM_THREADS=1.\n",
      "  warnings.warn(\n"
     ]
    },
    {
     "data": {
      "image/png": "[encoded data removed]",
      "text/plain": [
       "<Figure size 432x288 with 1 Axes>"
      ]
     },
     "metadata": {
      "needs_background": "light"
     },
     "output_type": "display_data"
    }
   ],
   "source": [
    "quantidade_k(df_alcool68, \"Alcohol\", \"Life expectancy \")"
   ]
  },
  {
   "cell_type": "code",
   "execution_count": 71,
   "id": "18c76e0a",
   "metadata": {},
   "outputs": [
    {
     "data": {
      "text/plain": [
       "<AxesSubplot:xlabel='Life expectancy ', ylabel='Alcohol'>"
      ]
     },
     "execution_count": 71,
     "metadata": {},
     "output_type": "execute_result"
    },
    {
     "data": {
      "image/png": "[encoded data removed]",
      "text/plain": [
       "<Figure size 432x288 with 1 Axes>"
      ]
     },
     "metadata": {
      "needs_background": "light"
     },
     "output_type": "display_data"
    }
   ],
   "source": [
    "kmeans = KMeans(n_clusters = 4)\n",
    "kmeans.fit(df_alcool68[[\"Alcohol\", \"Life expectancy \"]])\n",
    "sns.scatterplot(data = df_alcool68, x = \"Life expectancy \", y = \"Alcohol\", hue = kmeans.labels_)"
   ]
  },
  {
   "cell_type": "code",
   "execution_count": 73,
   "id": "2e79dfb8",
   "metadata": {},
   "outputs": [
    {
     "data": {
      "text/html": [
       "<div>\n",
       "<style scoped>\n",
       "    .dataframe tbody tr th:only-of-type {\n",
       "        vertical-align: middle;\n",
       "    }\n",
       "\n",
       "    .dataframe tbody tr th {\n",
       "        vertical-align: top;\n",
       "    }\n",
       "\n",
       "    .dataframe thead th {\n",
       "        text-align: right;\n",
       "    }\n",
       "</style>\n",
       "<table border=\"1\" class=\"dataframe\">\n",
       "  <thead>\n",
       "    <tr style=\"text-align: right;\">\n",
       "      <th></th>\n",
       "      <th>0</th>\n",
       "      <th>1</th>\n",
       "      <th>2</th>\n",
       "      <th>3</th>\n",
       "    </tr>\n",
       "  </thead>\n",
       "  <tbody>\n",
       "    <tr>\n",
       "      <th>0</th>\n",
       "      <td>Albania</td>\n",
       "      <td>Botswana</td>\n",
       "      <td>Algeria</td>\n",
       "      <td>Belarus</td>\n",
       "    </tr>\n",
       "    <tr>\n",
       "      <th>1</th>\n",
       "      <td>Antigua and Barbuda</td>\n",
       "      <td>Fiji</td>\n",
       "      <td>Azerbaijan</td>\n",
       "      <td>Belize</td>\n",
       "    </tr>\n",
       "    <tr>\n",
       "      <th>2</th>\n",
       "      <td>Armenia</td>\n",
       "      <td>Indonesia</td>\n",
       "      <td>Cabo Verde</td>\n",
       "      <td>Gabon</td>\n",
       "    </tr>\n",
       "    <tr>\n",
       "      <th>3</th>\n",
       "      <td>Barbados</td>\n",
       "      <td>Mongolia</td>\n",
       "      <td>El Salvador</td>\n",
       "      <td>Guyana</td>\n",
       "    </tr>\n",
       "    <tr>\n",
       "      <th>4</th>\n",
       "      <td>Bosnia and Herzegovina</td>\n",
       "      <td>Namibia</td>\n",
       "      <td>Guatemala</td>\n",
       "      <td>Kazakhstan</td>\n",
       "    </tr>\n",
       "    <tr>\n",
       "      <th>5</th>\n",
       "      <td>Brazil</td>\n",
       "      <td>Tajikistan</td>\n",
       "      <td>Honduras</td>\n",
       "      <td>Philippines</td>\n",
       "    </tr>\n",
       "    <tr>\n",
       "      <th>6</th>\n",
       "      <td>Bulgaria</td>\n",
       "      <td>Timor-Leste</td>\n",
       "      <td>Iraq</td>\n",
       "      <td>Russian Federation</td>\n",
       "    </tr>\n",
       "    <tr>\n",
       "      <th>7</th>\n",
       "      <td>China</td>\n",
       "      <td>Turkmenistan</td>\n",
       "      <td>Jordan</td>\n",
       "      <td>South Africa</td>\n",
       "    </tr>\n",
       "    <tr>\n",
       "      <th>8</th>\n",
       "      <td>Colombia</td>\n",
       "      <td>Uzbekistan</td>\n",
       "      <td>Kuwait</td>\n",
       "      <td>NaN</td>\n",
       "    </tr>\n",
       "    <tr>\n",
       "      <th>9</th>\n",
       "      <td>Costa Rica</td>\n",
       "      <td>NaN</td>\n",
       "      <td>Lebanon</td>\n",
       "      <td>NaN</td>\n",
       "    </tr>\n",
       "    <tr>\n",
       "      <th>10</th>\n",
       "      <td>Cuba</td>\n",
       "      <td>NaN</td>\n",
       "      <td>Malaysia</td>\n",
       "      <td>NaN</td>\n",
       "    </tr>\n",
       "    <tr>\n",
       "      <th>11</th>\n",
       "      <td>Dominican Republic</td>\n",
       "      <td>NaN</td>\n",
       "      <td>Maldives</td>\n",
       "      <td>NaN</td>\n",
       "    </tr>\n",
       "    <tr>\n",
       "      <th>12</th>\n",
       "      <td>Ecuador</td>\n",
       "      <td>NaN</td>\n",
       "      <td>Mauritius</td>\n",
       "      <td>NaN</td>\n",
       "    </tr>\n",
       "    <tr>\n",
       "      <th>13</th>\n",
       "      <td>Georgia</td>\n",
       "      <td>NaN</td>\n",
       "      <td>Montenegro</td>\n",
       "      <td>NaN</td>\n",
       "    </tr>\n",
       "    <tr>\n",
       "      <th>14</th>\n",
       "      <td>Grenada</td>\n",
       "      <td>NaN</td>\n",
       "      <td>Morocco</td>\n",
       "      <td>NaN</td>\n",
       "    </tr>\n",
       "    <tr>\n",
       "      <th>15</th>\n",
       "      <td>Jamaica</td>\n",
       "      <td>NaN</td>\n",
       "      <td>Nicaragua</td>\n",
       "      <td>NaN</td>\n",
       "    </tr>\n",
       "    <tr>\n",
       "      <th>16</th>\n",
       "      <td>Mexico</td>\n",
       "      <td>NaN</td>\n",
       "      <td>Oman</td>\n",
       "      <td>NaN</td>\n",
       "    </tr>\n",
       "    <tr>\n",
       "      <th>17</th>\n",
       "      <td>Panama</td>\n",
       "      <td>NaN</td>\n",
       "      <td>Samoa</td>\n",
       "      <td>NaN</td>\n",
       "    </tr>\n",
       "    <tr>\n",
       "      <th>18</th>\n",
       "      <td>Paraguay</td>\n",
       "      <td>NaN</td>\n",
       "      <td>Seychelles</td>\n",
       "      <td>NaN</td>\n",
       "    </tr>\n",
       "    <tr>\n",
       "      <th>19</th>\n",
       "      <td>Peru</td>\n",
       "      <td>NaN</td>\n",
       "      <td>Sri Lanka</td>\n",
       "      <td>NaN</td>\n",
       "    </tr>\n",
       "    <tr>\n",
       "      <th>20</th>\n",
       "      <td>Romania</td>\n",
       "      <td>NaN</td>\n",
       "      <td>Tonga</td>\n",
       "      <td>NaN</td>\n",
       "    </tr>\n",
       "    <tr>\n",
       "      <th>21</th>\n",
       "      <td>Serbia</td>\n",
       "      <td>NaN</td>\n",
       "      <td>Tunisia</td>\n",
       "      <td>NaN</td>\n",
       "    </tr>\n",
       "    <tr>\n",
       "      <th>22</th>\n",
       "      <td>Suriname</td>\n",
       "      <td>NaN</td>\n",
       "      <td>Turkey</td>\n",
       "      <td>NaN</td>\n",
       "    </tr>\n",
       "    <tr>\n",
       "      <th>23</th>\n",
       "      <td>Thailand</td>\n",
       "      <td>NaN</td>\n",
       "      <td>NaN</td>\n",
       "      <td>NaN</td>\n",
       "    </tr>\n",
       "    <tr>\n",
       "      <th>24</th>\n",
       "      <td>Trinidad and Tobago</td>\n",
       "      <td>NaN</td>\n",
       "      <td>NaN</td>\n",
       "      <td>NaN</td>\n",
       "    </tr>\n",
       "    <tr>\n",
       "      <th>25</th>\n",
       "      <td>Ukraine</td>\n",
       "      <td>NaN</td>\n",
       "      <td>NaN</td>\n",
       "      <td>NaN</td>\n",
       "    </tr>\n",
       "    <tr>\n",
       "      <th>26</th>\n",
       "      <td>Uruguay</td>\n",
       "      <td>NaN</td>\n",
       "      <td>NaN</td>\n",
       "      <td>NaN</td>\n",
       "    </tr>\n",
       "  </tbody>\n",
       "</table>\n",
       "</div>"
      ],
      "text/plain": [
       "                         0             1            2                   3\n",
       "0                  Albania      Botswana      Algeria             Belarus\n",
       "1      Antigua and Barbuda          Fiji   Azerbaijan              Belize\n",
       "2                  Armenia     Indonesia   Cabo Verde               Gabon\n",
       "3                 Barbados      Mongolia  El Salvador              Guyana\n",
       "4   Bosnia and Herzegovina       Namibia    Guatemala          Kazakhstan\n",
       "5                   Brazil    Tajikistan     Honduras         Philippines\n",
       "6                 Bulgaria   Timor-Leste         Iraq  Russian Federation\n",
       "7                    China  Turkmenistan       Jordan        South Africa\n",
       "8                 Colombia    Uzbekistan       Kuwait                 NaN\n",
       "9               Costa Rica           NaN      Lebanon                 NaN\n",
       "10                    Cuba           NaN     Malaysia                 NaN\n",
       "11      Dominican Republic           NaN     Maldives                 NaN\n",
       "12                 Ecuador           NaN    Mauritius                 NaN\n",
       "13                 Georgia           NaN   Montenegro                 NaN\n",
       "14                 Grenada           NaN      Morocco                 NaN\n",
       "15                 Jamaica           NaN    Nicaragua                 NaN\n",
       "16                  Mexico           NaN         Oman                 NaN\n",
       "17                  Panama           NaN        Samoa                 NaN\n",
       "18                Paraguay           NaN   Seychelles                 NaN\n",
       "19                    Peru           NaN    Sri Lanka                 NaN\n",
       "20                 Romania           NaN        Tonga                 NaN\n",
       "21                  Serbia           NaN      Tunisia                 NaN\n",
       "22                Suriname           NaN       Turkey                 NaN\n",
       "23                Thailand           NaN          NaN                 NaN\n",
       "24     Trinidad and Tobago           NaN          NaN                 NaN\n",
       "25                 Ukraine           NaN          NaN                 NaN\n",
       "26                 Uruguay           NaN          NaN                 NaN"
      ]
     },
     "execution_count": 73,
     "metadata": {},
     "output_type": "execute_result"
    }
   ],
   "source": [
    "df_ = df_alcool68.copy()\n",
    "name_countries_classificated(df_, kmeans.labels_)"
   ]
  },
  {
   "cell_type": "code",
   "execution_count": 74,
   "id": "78113096",
   "metadata": {},
   "outputs": [
    {
     "data": {
      "text/html": [
       "<div>\n",
       "<style scoped>\n",
       "    .dataframe tbody tr th:only-of-type {\n",
       "        vertical-align: middle;\n",
       "    }\n",
       "\n",
       "    .dataframe tbody tr th {\n",
       "        vertical-align: top;\n",
       "    }\n",
       "\n",
       "    .dataframe thead th {\n",
       "        text-align: right;\n",
       "    }\n",
       "</style>\n",
       "<table border=\"1\" class=\"dataframe\">\n",
       "  <thead>\n",
       "    <tr style=\"text-align: right;\">\n",
       "      <th></th>\n",
       "      <th>Alcohol</th>\n",
       "      <th>Life expectancy</th>\n",
       "    </tr>\n",
       "  </thead>\n",
       "  <tbody>\n",
       "    <tr>\n",
       "      <th>Alcohol</th>\n",
       "      <td>1.000000</td>\n",
       "      <td>0.044254</td>\n",
       "    </tr>\n",
       "    <tr>\n",
       "      <th>Life expectancy</th>\n",
       "      <td>0.044254</td>\n",
       "      <td>1.000000</td>\n",
       "    </tr>\n",
       "  </tbody>\n",
       "</table>\n",
       "</div>"
      ],
      "text/plain": [
       "                   Alcohol  Life expectancy \n",
       "Alcohol           1.000000          0.044254\n",
       "Life expectancy   0.044254          1.000000"
      ]
     },
     "execution_count": 74,
     "metadata": {},
     "output_type": "execute_result"
    }
   ],
   "source": [
    "df_alcool68[[\"Alcohol\", \"Life expectancy \"]].corr()"
   ]
  },
  {
   "cell_type": "markdown",
   "id": "81ab0717",
   "metadata": {},
   "source": [
    "Existe uma correlação muito fraca entre a expectativa de vida e o consumo de álcool. Mais uma vez, há a presença de países onde não há consumo de álcool por questões religiosas."
   ]
  },
  {
   "cell_type": "markdown",
   "id": "d0c37865",
   "metadata": {},
   "source": [
    "## Países com IDH superior a 0.800"
   ]
  },
  {
   "cell_type": "code",
   "execution_count": 77,
   "id": "565838d1",
   "metadata": {},
   "outputs": [
    {
     "name": "stderr",
     "output_type": "stream",
     "text": [
      "C:\\Users\\bergs\\anaconda3\\lib\\site-packages\\sklearn\\cluster\\_kmeans.py:881: UserWarning: KMeans is known to have a memory leak on Windows with MKL, when there are less chunks than available threads. You can avoid it by setting the environment variable OMP_NUM_THREADS=1.\n",
      "  warnings.warn(\n"
     ]
    },
    {
     "data": {
      "image/png": "[encoded data removed]",
      "text/plain": [
       "<Figure size 432x288 with 1 Axes>"
      ]
     },
     "metadata": {
      "needs_background": "light"
     },
     "output_type": "display_data"
    }
   ],
   "source": [
    "quantidade_k(df_alcool8, \"Alcohol\", \"Life expectancy \")"
   ]
  },
  {
   "cell_type": "code",
   "execution_count": 78,
   "id": "fe034afa",
   "metadata": {},
   "outputs": [
    {
     "data": {
      "text/plain": [
       "<AxesSubplot:xlabel='Life expectancy ', ylabel='Alcohol'>"
      ]
     },
     "execution_count": 78,
     "metadata": {},
     "output_type": "execute_result"
    },
    {
     "data": {
      "image/png": "[encoded data removed]",
      "text/plain": [
       "<Figure size 432x288 with 1 Axes>"
      ]
     },
     "metadata": {
      "needs_background": "light"
     },
     "output_type": "display_data"
    }
   ],
   "source": [
    "kmeans = KMeans(n_clusters = 3)\n",
    "kmeans.fit(df_alcool8[[\"Alcohol\", \"Life expectancy \"]])\n",
    "sns.scatterplot(data = df_alcool8, x = \"Life expectancy \", y = \"Alcohol\", hue = kmeans.labels_)"
   ]
  },
  {
   "cell_type": "code",
   "execution_count": 79,
   "id": "40011203",
   "metadata": {},
   "outputs": [
    {
     "data": {
      "text/html": [
       "<div>\n",
       "<style scoped>\n",
       "    .dataframe tbody tr th:only-of-type {\n",
       "        vertical-align: middle;\n",
       "    }\n",
       "\n",
       "    .dataframe tbody tr th {\n",
       "        vertical-align: top;\n",
       "    }\n",
       "\n",
       "    .dataframe thead th {\n",
       "        text-align: right;\n",
       "    }\n",
       "</style>\n",
       "<table border=\"1\" class=\"dataframe\">\n",
       "  <thead>\n",
       "    <tr style=\"text-align: right;\">\n",
       "      <th></th>\n",
       "      <th>0</th>\n",
       "      <th>1</th>\n",
       "      <th>2</th>\n",
       "    </tr>\n",
       "  </thead>\n",
       "  <tbody>\n",
       "    <tr>\n",
       "      <th>0</th>\n",
       "      <td>Australia</td>\n",
       "      <td>Bahrain</td>\n",
       "      <td>Argentina</td>\n",
       "    </tr>\n",
       "    <tr>\n",
       "      <th>1</th>\n",
       "      <td>Austria</td>\n",
       "      <td>Brunei Darussalam</td>\n",
       "      <td>Croatia</td>\n",
       "    </tr>\n",
       "    <tr>\n",
       "      <th>2</th>\n",
       "      <td>Belgium</td>\n",
       "      <td>Estonia</td>\n",
       "      <td>Hungary</td>\n",
       "    </tr>\n",
       "    <tr>\n",
       "      <th>3</th>\n",
       "      <td>Canada</td>\n",
       "      <td>Israel</td>\n",
       "      <td>Latvia</td>\n",
       "    </tr>\n",
       "    <tr>\n",
       "      <th>4</th>\n",
       "      <td>Chile</td>\n",
       "      <td>Qatar</td>\n",
       "      <td>Lithuania</td>\n",
       "    </tr>\n",
       "    <tr>\n",
       "      <th>5</th>\n",
       "      <td>Cyprus</td>\n",
       "      <td>Saudi Arabia</td>\n",
       "      <td>Poland</td>\n",
       "    </tr>\n",
       "    <tr>\n",
       "      <th>6</th>\n",
       "      <td>Denmark</td>\n",
       "      <td>Singapore</td>\n",
       "      <td>NaN</td>\n",
       "    </tr>\n",
       "    <tr>\n",
       "      <th>7</th>\n",
       "      <td>Finland</td>\n",
       "      <td>United Arab Emirates</td>\n",
       "      <td>NaN</td>\n",
       "    </tr>\n",
       "    <tr>\n",
       "      <th>8</th>\n",
       "      <td>France</td>\n",
       "      <td>NaN</td>\n",
       "      <td>NaN</td>\n",
       "    </tr>\n",
       "    <tr>\n",
       "      <th>9</th>\n",
       "      <td>Germany</td>\n",
       "      <td>NaN</td>\n",
       "      <td>NaN</td>\n",
       "    </tr>\n",
       "    <tr>\n",
       "      <th>10</th>\n",
       "      <td>Greece</td>\n",
       "      <td>NaN</td>\n",
       "      <td>NaN</td>\n",
       "    </tr>\n",
       "    <tr>\n",
       "      <th>11</th>\n",
       "      <td>Iceland</td>\n",
       "      <td>NaN</td>\n",
       "      <td>NaN</td>\n",
       "    </tr>\n",
       "    <tr>\n",
       "      <th>12</th>\n",
       "      <td>Ireland</td>\n",
       "      <td>NaN</td>\n",
       "      <td>NaN</td>\n",
       "    </tr>\n",
       "    <tr>\n",
       "      <th>13</th>\n",
       "      <td>Italy</td>\n",
       "      <td>NaN</td>\n",
       "      <td>NaN</td>\n",
       "    </tr>\n",
       "    <tr>\n",
       "      <th>14</th>\n",
       "      <td>Japan</td>\n",
       "      <td>NaN</td>\n",
       "      <td>NaN</td>\n",
       "    </tr>\n",
       "    <tr>\n",
       "      <th>15</th>\n",
       "      <td>Luxembourg</td>\n",
       "      <td>NaN</td>\n",
       "      <td>NaN</td>\n",
       "    </tr>\n",
       "    <tr>\n",
       "      <th>16</th>\n",
       "      <td>Malta</td>\n",
       "      <td>NaN</td>\n",
       "      <td>NaN</td>\n",
       "    </tr>\n",
       "    <tr>\n",
       "      <th>17</th>\n",
       "      <td>Netherlands</td>\n",
       "      <td>NaN</td>\n",
       "      <td>NaN</td>\n",
       "    </tr>\n",
       "    <tr>\n",
       "      <th>18</th>\n",
       "      <td>New Zealand</td>\n",
       "      <td>NaN</td>\n",
       "      <td>NaN</td>\n",
       "    </tr>\n",
       "    <tr>\n",
       "      <th>19</th>\n",
       "      <td>Norway</td>\n",
       "      <td>NaN</td>\n",
       "      <td>NaN</td>\n",
       "    </tr>\n",
       "    <tr>\n",
       "      <th>20</th>\n",
       "      <td>Portugal</td>\n",
       "      <td>NaN</td>\n",
       "      <td>NaN</td>\n",
       "    </tr>\n",
       "    <tr>\n",
       "      <th>21</th>\n",
       "      <td>Slovenia</td>\n",
       "      <td>NaN</td>\n",
       "      <td>NaN</td>\n",
       "    </tr>\n",
       "    <tr>\n",
       "      <th>22</th>\n",
       "      <td>Spain</td>\n",
       "      <td>NaN</td>\n",
       "      <td>NaN</td>\n",
       "    </tr>\n",
       "    <tr>\n",
       "      <th>23</th>\n",
       "      <td>Sweden</td>\n",
       "      <td>NaN</td>\n",
       "      <td>NaN</td>\n",
       "    </tr>\n",
       "    <tr>\n",
       "      <th>24</th>\n",
       "      <td>Switzerland</td>\n",
       "      <td>NaN</td>\n",
       "      <td>NaN</td>\n",
       "    </tr>\n",
       "  </tbody>\n",
       "</table>\n",
       "</div>"
      ],
      "text/plain": [
       "              0                     1          2\n",
       "0     Australia               Bahrain  Argentina\n",
       "1       Austria     Brunei Darussalam    Croatia\n",
       "2       Belgium               Estonia    Hungary\n",
       "3        Canada                Israel     Latvia\n",
       "4         Chile                 Qatar  Lithuania\n",
       "5        Cyprus          Saudi Arabia     Poland\n",
       "6       Denmark             Singapore        NaN\n",
       "7       Finland  United Arab Emirates        NaN\n",
       "8        France                   NaN        NaN\n",
       "9       Germany                   NaN        NaN\n",
       "10       Greece                   NaN        NaN\n",
       "11      Iceland                   NaN        NaN\n",
       "12      Ireland                   NaN        NaN\n",
       "13        Italy                   NaN        NaN\n",
       "14        Japan                   NaN        NaN\n",
       "15   Luxembourg                   NaN        NaN\n",
       "16        Malta                   NaN        NaN\n",
       "17  Netherlands                   NaN        NaN\n",
       "18  New Zealand                   NaN        NaN\n",
       "19       Norway                   NaN        NaN\n",
       "20     Portugal                   NaN        NaN\n",
       "21     Slovenia                   NaN        NaN\n",
       "22        Spain                   NaN        NaN\n",
       "23       Sweden                   NaN        NaN\n",
       "24  Switzerland                   NaN        NaN"
      ]
     },
     "execution_count": 79,
     "metadata": {},
     "output_type": "execute_result"
    }
   ],
   "source": [
    "df_ = df_alcool8.copy()\n",
    "name_countries_classificated(df_, kmeans.labels_)"
   ]
  },
  {
   "cell_type": "code",
   "execution_count": 80,
   "id": "98e3bcb6",
   "metadata": {},
   "outputs": [
    {
     "data": {
      "text/html": [
       "<div>\n",
       "<style scoped>\n",
       "    .dataframe tbody tr th:only-of-type {\n",
       "        vertical-align: middle;\n",
       "    }\n",
       "\n",
       "    .dataframe tbody tr th {\n",
       "        vertical-align: top;\n",
       "    }\n",
       "\n",
       "    .dataframe thead th {\n",
       "        text-align: right;\n",
       "    }\n",
       "</style>\n",
       "<table border=\"1\" class=\"dataframe\">\n",
       "  <thead>\n",
       "    <tr style=\"text-align: right;\">\n",
       "      <th></th>\n",
       "      <th>Alcohol</th>\n",
       "      <th>Life expectancy</th>\n",
       "    </tr>\n",
       "  </thead>\n",
       "  <tbody>\n",
       "    <tr>\n",
       "      <th>Alcohol</th>\n",
       "      <td>1.000000</td>\n",
       "      <td>0.271426</td>\n",
       "    </tr>\n",
       "    <tr>\n",
       "      <th>Life expectancy</th>\n",
       "      <td>0.271426</td>\n",
       "      <td>1.000000</td>\n",
       "    </tr>\n",
       "  </tbody>\n",
       "</table>\n",
       "</div>"
      ],
      "text/plain": [
       "                   Alcohol  Life expectancy \n",
       "Alcohol           1.000000          0.271426\n",
       "Life expectancy   0.271426          1.000000"
      ]
     },
     "execution_count": 80,
     "metadata": {},
     "output_type": "execute_result"
    }
   ],
   "source": [
    "df_alcool8[[\"Alcohol\", \"Life expectancy \"]].corr()"
   ]
  },
  {
   "cell_type": "markdown",
   "id": "d48b18cc",
   "metadata": {},
   "source": [
    "Há uma correlação fraca entre consumo de álcool e expectativa de vida."
   ]
  },
  {
   "cell_type": "markdown",
   "id": "2a5182f3",
   "metadata": {},
   "source": [
    "## -*Resultados obtidos*\n"
   ]
  },
  {
   "cell_type": "markdown",
   "id": "c7e04755",
   "metadata": {},
   "source": [
    "- Países com IDH até 0.600: Muitos dos países que compõem esse grupo são muçulmanos e, por motivos religiosos, não consomem álcool. Há uma fraca correlação negativa entre o consumo de álcool e a expectativa de vida.\n",
    "- Países com IDH entre 0.601 e 0.800: Existe uma correlação muito fraca entre consumo de álcool e expectativa de vida \n",
    "- Países com IDH acima de 0.800: Há uma correlação fraca entre consumo de álcool e expectativa de vida. "
   ]
  },
  {
   "cell_type": "markdown",
   "id": "3545459b",
   "metadata": {},
   "source": [
    "# 2.Países com maior escolaridade possuem maior expectativa de vida?"
   ]
  },
  {
   "cell_type": "markdown",
   "id": "bf5c3358",
   "metadata": {},
   "source": [
    "## Países com IDH até 0.600"
   ]
  },
  {
   "cell_type": "code",
   "execution_count": 81,
   "id": "d7fc7b39",
   "metadata": {},
   "outputs": [
    {
     "name": "stderr",
     "output_type": "stream",
     "text": [
      "C:\\Users\\bergs\\anaconda3\\lib\\site-packages\\sklearn\\cluster\\_kmeans.py:881: UserWarning: KMeans is known to have a memory leak on Windows with MKL, when there are less chunks than available threads. You can avoid it by setting the environment variable OMP_NUM_THREADS=1.\n",
      "  warnings.warn(\n"
     ]
    },
    {
     "data": {
      "image/png": "[encoded data removed]",
      "text/plain": [
       "<Figure size 432x288 with 1 Axes>"
      ]
     },
     "metadata": {
      "needs_background": "light"
     },
     "output_type": "display_data"
    }
   ],
   "source": [
    "quantidade_k(df_0_6, \"Life expectancy \", \"Schooling\")"
   ]
  },
  {
   "cell_type": "code",
   "execution_count": 82,
   "id": "5788b08f",
   "metadata": {},
   "outputs": [
    {
     "data": {
      "text/plain": [
       "<AxesSubplot:xlabel='Life expectancy ', ylabel='Schooling'>"
      ]
     },
     "execution_count": 82,
     "metadata": {},
     "output_type": "execute_result"
    },
    {
     "data": {
      "image/png": "[encoded data removed]",
      "text/plain": [
       "<Figure size 432x288 with 1 Axes>"
      ]
     },
     "metadata": {
      "needs_background": "light"
     },
     "output_type": "display_data"
    }
   ],
   "source": [
    "kmeans = KMeans(n_clusters = 4)\n",
    "kmeans.fit(df_0_6[[\"Life expectancy \", \"Schooling\"]])\n",
    "sns.scatterplot(data = df_0_6, x = \"Life expectancy \", y = \"Schooling\", hue = kmeans.labels_)"
   ]
  },
  {
   "cell_type": "code",
   "execution_count": 83,
   "id": "5a18fb62",
   "metadata": {},
   "outputs": [
    {
     "data": {
      "text/html": [
       "<div>\n",
       "<style scoped>\n",
       "    .dataframe tbody tr th:only-of-type {\n",
       "        vertical-align: middle;\n",
       "    }\n",
       "\n",
       "    .dataframe tbody tr th {\n",
       "        vertical-align: top;\n",
       "    }\n",
       "\n",
       "    .dataframe thead th {\n",
       "        text-align: right;\n",
       "    }\n",
       "</style>\n",
       "<table border=\"1\" class=\"dataframe\">\n",
       "  <thead>\n",
       "    <tr style=\"text-align: right;\">\n",
       "      <th></th>\n",
       "      <th>0</th>\n",
       "      <th>1</th>\n",
       "      <th>2</th>\n",
       "      <th>3</th>\n",
       "    </tr>\n",
       "  </thead>\n",
       "  <tbody>\n",
       "    <tr>\n",
       "      <th>0</th>\n",
       "      <td>Central African Republic</td>\n",
       "      <td>Comoros</td>\n",
       "      <td>Afghanistan</td>\n",
       "      <td>Bangladesh</td>\n",
       "    </tr>\n",
       "    <tr>\n",
       "      <th>1</th>\n",
       "      <td>Chad</td>\n",
       "      <td>Djibouti</td>\n",
       "      <td>Angola</td>\n",
       "      <td>Bhutan</td>\n",
       "    </tr>\n",
       "    <tr>\n",
       "      <th>2</th>\n",
       "      <td>Lesotho</td>\n",
       "      <td>Ethiopia</td>\n",
       "      <td>Benin</td>\n",
       "      <td>Cambodia</td>\n",
       "    </tr>\n",
       "    <tr>\n",
       "      <th>3</th>\n",
       "      <td>Mozambique</td>\n",
       "      <td>Ghana</td>\n",
       "      <td>Burkina Faso</td>\n",
       "      <td>Kiribati</td>\n",
       "    </tr>\n",
       "    <tr>\n",
       "      <th>4</th>\n",
       "      <td>Nigeria</td>\n",
       "      <td>Haiti</td>\n",
       "      <td>Burundi</td>\n",
       "      <td>Liberia</td>\n",
       "    </tr>\n",
       "    <tr>\n",
       "      <th>5</th>\n",
       "      <td>Sierra Leone</td>\n",
       "      <td>Kenya</td>\n",
       "      <td>Cameroon</td>\n",
       "      <td>Nepal</td>\n",
       "    </tr>\n",
       "    <tr>\n",
       "      <th>6</th>\n",
       "      <td>South Sudan</td>\n",
       "      <td>Madagascar</td>\n",
       "      <td>Equatorial Guinea</td>\n",
       "      <td>Sao Tome and Principe</td>\n",
       "    </tr>\n",
       "    <tr>\n",
       "      <th>7</th>\n",
       "      <td>NaN</td>\n",
       "      <td>Mauritania</td>\n",
       "      <td>Guinea</td>\n",
       "      <td>Solomon Islands</td>\n",
       "    </tr>\n",
       "    <tr>\n",
       "      <th>8</th>\n",
       "      <td>NaN</td>\n",
       "      <td>Myanmar</td>\n",
       "      <td>Guinea-Bissau</td>\n",
       "      <td>Vanuatu</td>\n",
       "    </tr>\n",
       "    <tr>\n",
       "      <th>9</th>\n",
       "      <td>NaN</td>\n",
       "      <td>Niger</td>\n",
       "      <td>Malawi</td>\n",
       "      <td>NaN</td>\n",
       "    </tr>\n",
       "    <tr>\n",
       "      <th>10</th>\n",
       "      <td>NaN</td>\n",
       "      <td>Pakistan</td>\n",
       "      <td>Mali</td>\n",
       "      <td>NaN</td>\n",
       "    </tr>\n",
       "    <tr>\n",
       "      <th>11</th>\n",
       "      <td>NaN</td>\n",
       "      <td>Papua New Guinea</td>\n",
       "      <td>Swaziland</td>\n",
       "      <td>NaN</td>\n",
       "    </tr>\n",
       "    <tr>\n",
       "      <th>12</th>\n",
       "      <td>NaN</td>\n",
       "      <td>Rwanda</td>\n",
       "      <td>Togo</td>\n",
       "      <td>NaN</td>\n",
       "    </tr>\n",
       "    <tr>\n",
       "      <th>13</th>\n",
       "      <td>NaN</td>\n",
       "      <td>Senegal</td>\n",
       "      <td>Uganda</td>\n",
       "      <td>NaN</td>\n",
       "    </tr>\n",
       "    <tr>\n",
       "      <th>14</th>\n",
       "      <td>NaN</td>\n",
       "      <td>Sudan</td>\n",
       "      <td>Zambia</td>\n",
       "      <td>NaN</td>\n",
       "    </tr>\n",
       "    <tr>\n",
       "      <th>15</th>\n",
       "      <td>NaN</td>\n",
       "      <td>NaN</td>\n",
       "      <td>Zimbabwe</td>\n",
       "      <td>NaN</td>\n",
       "    </tr>\n",
       "  </tbody>\n",
       "</table>\n",
       "</div>"
      ],
      "text/plain": [
       "                           0                 1                  2  \\\n",
       "0   Central African Republic           Comoros        Afghanistan   \n",
       "1                       Chad          Djibouti             Angola   \n",
       "2                    Lesotho          Ethiopia              Benin   \n",
       "3                 Mozambique             Ghana       Burkina Faso   \n",
       "4                    Nigeria             Haiti            Burundi   \n",
       "5               Sierra Leone             Kenya           Cameroon   \n",
       "6                South Sudan        Madagascar  Equatorial Guinea   \n",
       "7                        NaN        Mauritania             Guinea   \n",
       "8                        NaN           Myanmar      Guinea-Bissau   \n",
       "9                        NaN             Niger             Malawi   \n",
       "10                       NaN          Pakistan               Mali   \n",
       "11                       NaN  Papua New Guinea          Swaziland   \n",
       "12                       NaN            Rwanda               Togo   \n",
       "13                       NaN           Senegal             Uganda   \n",
       "14                       NaN             Sudan             Zambia   \n",
       "15                       NaN               NaN           Zimbabwe   \n",
       "\n",
       "                        3  \n",
       "0              Bangladesh  \n",
       "1                  Bhutan  \n",
       "2                Cambodia  \n",
       "3                Kiribati  \n",
       "4                 Liberia  \n",
       "5                   Nepal  \n",
       "6   Sao Tome and Principe  \n",
       "7         Solomon Islands  \n",
       "8                 Vanuatu  \n",
       "9                     NaN  \n",
       "10                    NaN  \n",
       "11                    NaN  \n",
       "12                    NaN  \n",
       "13                    NaN  \n",
       "14                    NaN  \n",
       "15                    NaN  "
      ]
     },
     "execution_count": 83,
     "metadata": {},
     "output_type": "execute_result"
    }
   ],
   "source": [
    "df_ = df_0_6.copy()\n",
    "name_countries_classificated(df_, kmeans.labels_)"
   ]
  },
  {
   "cell_type": "code",
   "execution_count": 84,
   "id": "ab1d1370",
   "metadata": {},
   "outputs": [
    {
     "data": {
      "text/html": [
       "<div>\n",
       "<style scoped>\n",
       "    .dataframe tbody tr th:only-of-type {\n",
       "        vertical-align: middle;\n",
       "    }\n",
       "\n",
       "    .dataframe tbody tr th {\n",
       "        vertical-align: top;\n",
       "    }\n",
       "\n",
       "    .dataframe thead th {\n",
       "        text-align: right;\n",
       "    }\n",
       "</style>\n",
       "<table border=\"1\" class=\"dataframe\">\n",
       "  <thead>\n",
       "    <tr style=\"text-align: right;\">\n",
       "      <th></th>\n",
       "      <th>Life expectancy</th>\n",
       "      <th>Schooling</th>\n",
       "    </tr>\n",
       "  </thead>\n",
       "  <tbody>\n",
       "    <tr>\n",
       "      <th>Life expectancy</th>\n",
       "      <td>1.000000</td>\n",
       "      <td>0.197908</td>\n",
       "    </tr>\n",
       "    <tr>\n",
       "      <th>Schooling</th>\n",
       "      <td>0.197908</td>\n",
       "      <td>1.000000</td>\n",
       "    </tr>\n",
       "  </tbody>\n",
       "</table>\n",
       "</div>"
      ],
      "text/plain": [
       "                  Life expectancy   Schooling\n",
       "Life expectancy           1.000000   0.197908\n",
       "Schooling                 0.197908   1.000000"
      ]
     },
     "execution_count": 84,
     "metadata": {},
     "output_type": "execute_result"
    }
   ],
   "source": [
    "df_0_6[[\"Life expectancy \", \"Schooling\"]].corr()"
   ]
  },
  {
   "cell_type": "markdown",
   "id": "3579261d",
   "metadata": {},
   "source": [
    "Existe uma correlação muito fraca entre a escolaridade e a expectativa de vida. "
   ]
  },
  {
   "cell_type": "markdown",
   "id": "4d52296c",
   "metadata": {},
   "source": [
    "## Países com IDH entre 0.601 e 0.800"
   ]
  },
  {
   "cell_type": "code",
   "execution_count": 85,
   "id": "b06cc740",
   "metadata": {},
   "outputs": [
    {
     "name": "stderr",
     "output_type": "stream",
     "text": [
      "C:\\Users\\bergs\\anaconda3\\lib\\site-packages\\sklearn\\cluster\\_kmeans.py:881: UserWarning: KMeans is known to have a memory leak on Windows with MKL, when there are less chunks than available threads. You can avoid it by setting the environment variable OMP_NUM_THREADS=1.\n",
      "  warnings.warn(\n"
     ]
    },
    {
     "data": {
      "image/png": "[encoded data removed]",
      "text/plain": [
       "<Figure size 432x288 with 1 Axes>"
      ]
     },
     "metadata": {
      "needs_background": "light"
     },
     "output_type": "display_data"
    }
   ],
   "source": [
    "quantidade_k(df_6_8, \"Life expectancy \", \"Schooling\")"
   ]
  },
  {
   "cell_type": "code",
   "execution_count": 86,
   "id": "9d9e4113",
   "metadata": {},
   "outputs": [
    {
     "data": {
      "text/plain": [
       "<AxesSubplot:xlabel='Life expectancy ', ylabel='Schooling'>"
      ]
     },
     "execution_count": 86,
     "metadata": {},
     "output_type": "execute_result"
    },
    {
     "data": {
      "image/png": "[encoded data removed]",
      "text/plain": [
       "<Figure size 432x288 with 1 Axes>"
      ]
     },
     "metadata": {
      "needs_background": "light"
     },
     "output_type": "display_data"
    }
   ],
   "source": [
    "kmeans = KMeans(n_clusters = 4)\n",
    "kmeans.fit(df_6_8[[\"Life expectancy \", \"Schooling\"]])\n",
    "sns.scatterplot(data = df_6_8, x = \"Life expectancy \", y = \"Schooling\", hue = kmeans.labels_)"
   ]
  },
  {
   "cell_type": "code",
   "execution_count": 87,
   "id": "4ae9ecce",
   "metadata": {},
   "outputs": [
    {
     "data": {
      "text/html": [
       "<div>\n",
       "<style scoped>\n",
       "    .dataframe tbody tr th:only-of-type {\n",
       "        vertical-align: middle;\n",
       "    }\n",
       "\n",
       "    .dataframe tbody tr th {\n",
       "        vertical-align: top;\n",
       "    }\n",
       "\n",
       "    .dataframe thead th {\n",
       "        text-align: right;\n",
       "    }\n",
       "</style>\n",
       "<table border=\"1\" class=\"dataframe\">\n",
       "  <thead>\n",
       "    <tr style=\"text-align: right;\">\n",
       "      <th></th>\n",
       "      <th>0</th>\n",
       "      <th>1</th>\n",
       "      <th>2</th>\n",
       "      <th>3</th>\n",
       "    </tr>\n",
       "  </thead>\n",
       "  <tbody>\n",
       "    <tr>\n",
       "      <th>0</th>\n",
       "      <td>Belize</td>\n",
       "      <td>Algeria</td>\n",
       "      <td>Botswana</td>\n",
       "      <td>Albania</td>\n",
       "    </tr>\n",
       "    <tr>\n",
       "      <th>1</th>\n",
       "      <td>Fiji</td>\n",
       "      <td>Armenia</td>\n",
       "      <td>Gabon</td>\n",
       "      <td>Antigua and Barbuda</td>\n",
       "    </tr>\n",
       "    <tr>\n",
       "      <th>2</th>\n",
       "      <td>Guatemala</td>\n",
       "      <td>Azerbaijan</td>\n",
       "      <td>Guyana</td>\n",
       "      <td>Bosnia and Herzegovina</td>\n",
       "    </tr>\n",
       "    <tr>\n",
       "      <th>3</th>\n",
       "      <td>Indonesia</td>\n",
       "      <td>Barbados</td>\n",
       "      <td>Namibia</td>\n",
       "      <td>China</td>\n",
       "    </tr>\n",
       "    <tr>\n",
       "      <th>4</th>\n",
       "      <td>Kazakhstan</td>\n",
       "      <td>Belarus</td>\n",
       "      <td>South Africa</td>\n",
       "      <td>Costa Rica</td>\n",
       "    </tr>\n",
       "    <tr>\n",
       "      <th>5</th>\n",
       "      <td>Mongolia</td>\n",
       "      <td>Brazil</td>\n",
       "      <td>Turkmenistan</td>\n",
       "      <td>Cuba</td>\n",
       "    </tr>\n",
       "    <tr>\n",
       "      <th>6</th>\n",
       "      <td>Philippines</td>\n",
       "      <td>Bulgaria</td>\n",
       "      <td>NaN</td>\n",
       "      <td>Ecuador</td>\n",
       "    </tr>\n",
       "    <tr>\n",
       "      <th>7</th>\n",
       "      <td>Russian Federation</td>\n",
       "      <td>Cabo Verde</td>\n",
       "      <td>NaN</td>\n",
       "      <td>Iraq</td>\n",
       "    </tr>\n",
       "    <tr>\n",
       "      <th>8</th>\n",
       "      <td>Suriname</td>\n",
       "      <td>Colombia</td>\n",
       "      <td>NaN</td>\n",
       "      <td>Maldives</td>\n",
       "    </tr>\n",
       "    <tr>\n",
       "      <th>9</th>\n",
       "      <td>Tajikistan</td>\n",
       "      <td>Dominican Republic</td>\n",
       "      <td>NaN</td>\n",
       "      <td>Mexico</td>\n",
       "    </tr>\n",
       "    <tr>\n",
       "      <th>10</th>\n",
       "      <td>Timor-Leste</td>\n",
       "      <td>El Salvador</td>\n",
       "      <td>NaN</td>\n",
       "      <td>Montenegro</td>\n",
       "    </tr>\n",
       "    <tr>\n",
       "      <th>11</th>\n",
       "      <td>Uzbekistan</td>\n",
       "      <td>Georgia</td>\n",
       "      <td>NaN</td>\n",
       "      <td>Oman</td>\n",
       "    </tr>\n",
       "    <tr>\n",
       "      <th>12</th>\n",
       "      <td>NaN</td>\n",
       "      <td>Grenada</td>\n",
       "      <td>NaN</td>\n",
       "      <td>Panama</td>\n",
       "    </tr>\n",
       "    <tr>\n",
       "      <th>13</th>\n",
       "      <td>NaN</td>\n",
       "      <td>Honduras</td>\n",
       "      <td>NaN</td>\n",
       "      <td>Trinidad and Tobago</td>\n",
       "    </tr>\n",
       "    <tr>\n",
       "      <th>14</th>\n",
       "      <td>NaN</td>\n",
       "      <td>Jamaica</td>\n",
       "      <td>NaN</td>\n",
       "      <td>Ukraine</td>\n",
       "    </tr>\n",
       "    <tr>\n",
       "      <th>15</th>\n",
       "      <td>NaN</td>\n",
       "      <td>Jordan</td>\n",
       "      <td>NaN</td>\n",
       "      <td>Uruguay</td>\n",
       "    </tr>\n",
       "    <tr>\n",
       "      <th>16</th>\n",
       "      <td>NaN</td>\n",
       "      <td>Kuwait</td>\n",
       "      <td>NaN</td>\n",
       "      <td>NaN</td>\n",
       "    </tr>\n",
       "    <tr>\n",
       "      <th>17</th>\n",
       "      <td>NaN</td>\n",
       "      <td>Lebanon</td>\n",
       "      <td>NaN</td>\n",
       "      <td>NaN</td>\n",
       "    </tr>\n",
       "    <tr>\n",
       "      <th>18</th>\n",
       "      <td>NaN</td>\n",
       "      <td>Malaysia</td>\n",
       "      <td>NaN</td>\n",
       "      <td>NaN</td>\n",
       "    </tr>\n",
       "    <tr>\n",
       "      <th>19</th>\n",
       "      <td>NaN</td>\n",
       "      <td>Mauritius</td>\n",
       "      <td>NaN</td>\n",
       "      <td>NaN</td>\n",
       "    </tr>\n",
       "    <tr>\n",
       "      <th>20</th>\n",
       "      <td>NaN</td>\n",
       "      <td>Morocco</td>\n",
       "      <td>NaN</td>\n",
       "      <td>NaN</td>\n",
       "    </tr>\n",
       "    <tr>\n",
       "      <th>21</th>\n",
       "      <td>NaN</td>\n",
       "      <td>Nicaragua</td>\n",
       "      <td>NaN</td>\n",
       "      <td>NaN</td>\n",
       "    </tr>\n",
       "    <tr>\n",
       "      <th>22</th>\n",
       "      <td>NaN</td>\n",
       "      <td>Paraguay</td>\n",
       "      <td>NaN</td>\n",
       "      <td>NaN</td>\n",
       "    </tr>\n",
       "    <tr>\n",
       "      <th>23</th>\n",
       "      <td>NaN</td>\n",
       "      <td>Peru</td>\n",
       "      <td>NaN</td>\n",
       "      <td>NaN</td>\n",
       "    </tr>\n",
       "    <tr>\n",
       "      <th>24</th>\n",
       "      <td>NaN</td>\n",
       "      <td>Romania</td>\n",
       "      <td>NaN</td>\n",
       "      <td>NaN</td>\n",
       "    </tr>\n",
       "    <tr>\n",
       "      <th>25</th>\n",
       "      <td>NaN</td>\n",
       "      <td>Samoa</td>\n",
       "      <td>NaN</td>\n",
       "      <td>NaN</td>\n",
       "    </tr>\n",
       "    <tr>\n",
       "      <th>26</th>\n",
       "      <td>NaN</td>\n",
       "      <td>Serbia</td>\n",
       "      <td>NaN</td>\n",
       "      <td>NaN</td>\n",
       "    </tr>\n",
       "    <tr>\n",
       "      <th>27</th>\n",
       "      <td>NaN</td>\n",
       "      <td>Seychelles</td>\n",
       "      <td>NaN</td>\n",
       "      <td>NaN</td>\n",
       "    </tr>\n",
       "    <tr>\n",
       "      <th>28</th>\n",
       "      <td>NaN</td>\n",
       "      <td>Sri Lanka</td>\n",
       "      <td>NaN</td>\n",
       "      <td>NaN</td>\n",
       "    </tr>\n",
       "    <tr>\n",
       "      <th>29</th>\n",
       "      <td>NaN</td>\n",
       "      <td>Thailand</td>\n",
       "      <td>NaN</td>\n",
       "      <td>NaN</td>\n",
       "    </tr>\n",
       "    <tr>\n",
       "      <th>30</th>\n",
       "      <td>NaN</td>\n",
       "      <td>Tonga</td>\n",
       "      <td>NaN</td>\n",
       "      <td>NaN</td>\n",
       "    </tr>\n",
       "    <tr>\n",
       "      <th>31</th>\n",
       "      <td>NaN</td>\n",
       "      <td>Tunisia</td>\n",
       "      <td>NaN</td>\n",
       "      <td>NaN</td>\n",
       "    </tr>\n",
       "    <tr>\n",
       "      <th>32</th>\n",
       "      <td>NaN</td>\n",
       "      <td>Turkey</td>\n",
       "      <td>NaN</td>\n",
       "      <td>NaN</td>\n",
       "    </tr>\n",
       "  </tbody>\n",
       "</table>\n",
       "</div>"
      ],
      "text/plain": [
       "                     0                   1             2  \\\n",
       "0               Belize             Algeria      Botswana   \n",
       "1                 Fiji             Armenia         Gabon   \n",
       "2            Guatemala          Azerbaijan        Guyana   \n",
       "3            Indonesia            Barbados       Namibia   \n",
       "4           Kazakhstan             Belarus  South Africa   \n",
       "5             Mongolia              Brazil  Turkmenistan   \n",
       "6          Philippines            Bulgaria           NaN   \n",
       "7   Russian Federation          Cabo Verde           NaN   \n",
       "8             Suriname            Colombia           NaN   \n",
       "9           Tajikistan  Dominican Republic           NaN   \n",
       "10         Timor-Leste         El Salvador           NaN   \n",
       "11          Uzbekistan             Georgia           NaN   \n",
       "12                 NaN             Grenada           NaN   \n",
       "13                 NaN            Honduras           NaN   \n",
       "14                 NaN             Jamaica           NaN   \n",
       "15                 NaN              Jordan           NaN   \n",
       "16                 NaN              Kuwait           NaN   \n",
       "17                 NaN             Lebanon           NaN   \n",
       "18                 NaN            Malaysia           NaN   \n",
       "19                 NaN           Mauritius           NaN   \n",
       "20                 NaN             Morocco           NaN   \n",
       "21                 NaN           Nicaragua           NaN   \n",
       "22                 NaN            Paraguay           NaN   \n",
       "23                 NaN                Peru           NaN   \n",
       "24                 NaN             Romania           NaN   \n",
       "25                 NaN               Samoa           NaN   \n",
       "26                 NaN              Serbia           NaN   \n",
       "27                 NaN          Seychelles           NaN   \n",
       "28                 NaN           Sri Lanka           NaN   \n",
       "29                 NaN            Thailand           NaN   \n",
       "30                 NaN               Tonga           NaN   \n",
       "31                 NaN             Tunisia           NaN   \n",
       "32                 NaN              Turkey           NaN   \n",
       "\n",
       "                         3  \n",
       "0                  Albania  \n",
       "1      Antigua and Barbuda  \n",
       "2   Bosnia and Herzegovina  \n",
       "3                    China  \n",
       "4               Costa Rica  \n",
       "5                     Cuba  \n",
       "6                  Ecuador  \n",
       "7                     Iraq  \n",
       "8                 Maldives  \n",
       "9                   Mexico  \n",
       "10              Montenegro  \n",
       "11                    Oman  \n",
       "12                  Panama  \n",
       "13     Trinidad and Tobago  \n",
       "14                 Ukraine  \n",
       "15                 Uruguay  \n",
       "16                     NaN  \n",
       "17                     NaN  \n",
       "18                     NaN  \n",
       "19                     NaN  \n",
       "20                     NaN  \n",
       "21                     NaN  \n",
       "22                     NaN  \n",
       "23                     NaN  \n",
       "24                     NaN  \n",
       "25                     NaN  \n",
       "26                     NaN  \n",
       "27                     NaN  \n",
       "28                     NaN  \n",
       "29                     NaN  \n",
       "30                     NaN  \n",
       "31                     NaN  \n",
       "32                     NaN  "
      ]
     },
     "execution_count": 87,
     "metadata": {},
     "output_type": "execute_result"
    }
   ],
   "source": [
    "df_ = df_6_8.copy()\n",
    "name_countries_classificated(df_, kmeans.labels_)"
   ]
  },
  {
   "cell_type": "code",
   "execution_count": 88,
   "id": "c98cee7a",
   "metadata": {},
   "outputs": [
    {
     "data": {
      "text/html": [
       "<div>\n",
       "<style scoped>\n",
       "    .dataframe tbody tr th:only-of-type {\n",
       "        vertical-align: middle;\n",
       "    }\n",
       "\n",
       "    .dataframe tbody tr th {\n",
       "        vertical-align: top;\n",
       "    }\n",
       "\n",
       "    .dataframe thead th {\n",
       "        text-align: right;\n",
       "    }\n",
       "</style>\n",
       "<table border=\"1\" class=\"dataframe\">\n",
       "  <thead>\n",
       "    <tr style=\"text-align: right;\">\n",
       "      <th></th>\n",
       "      <th>Life expectancy</th>\n",
       "      <th>Schooling</th>\n",
       "    </tr>\n",
       "  </thead>\n",
       "  <tbody>\n",
       "    <tr>\n",
       "      <th>Life expectancy</th>\n",
       "      <td>1.000000</td>\n",
       "      <td>0.349194</td>\n",
       "    </tr>\n",
       "    <tr>\n",
       "      <th>Schooling</th>\n",
       "      <td>0.349194</td>\n",
       "      <td>1.000000</td>\n",
       "    </tr>\n",
       "  </tbody>\n",
       "</table>\n",
       "</div>"
      ],
      "text/plain": [
       "                  Life expectancy   Schooling\n",
       "Life expectancy           1.000000   0.349194\n",
       "Schooling                 0.349194   1.000000"
      ]
     },
     "execution_count": 88,
     "metadata": {},
     "output_type": "execute_result"
    }
   ],
   "source": [
    "df_6_8[[\"Life expectancy \", \"Schooling\"]].corr()"
   ]
  },
  {
   "cell_type": "markdown",
   "id": "40300605",
   "metadata": {},
   "source": [
    "Nesse grupo de países, existe uma correlação fraca entre a escolaridade e a expectativa de vida."
   ]
  },
  {
   "cell_type": "markdown",
   "id": "f5109803",
   "metadata": {},
   "source": [
    "## Países com IDH acima de 0.800"
   ]
  },
  {
   "cell_type": "code",
   "execution_count": 89,
   "id": "4832f8a4",
   "metadata": {},
   "outputs": [
    {
     "name": "stderr",
     "output_type": "stream",
     "text": [
      "C:\\Users\\bergs\\anaconda3\\lib\\site-packages\\sklearn\\cluster\\_kmeans.py:881: UserWarning: KMeans is known to have a memory leak on Windows with MKL, when there are less chunks than available threads. You can avoid it by setting the environment variable OMP_NUM_THREADS=1.\n",
      "  warnings.warn(\n"
     ]
    },
    {
     "data": {
      "image/png": "[encoded data removed]",
      "text/plain": [
       "<Figure size 432x288 with 1 Axes>"
      ]
     },
     "metadata": {
      "needs_background": "light"
     },
     "output_type": "display_data"
    }
   ],
   "source": [
    "quantidade_k(df_8, \"Life expectancy \", \"Schooling\")"
   ]
  },
  {
   "cell_type": "code",
   "execution_count": 90,
   "id": "6562a016",
   "metadata": {},
   "outputs": [
    {
     "data": {
      "text/plain": [
       "<AxesSubplot:xlabel='Life expectancy ', ylabel='Schooling'>"
      ]
     },
     "execution_count": 90,
     "metadata": {},
     "output_type": "execute_result"
    },
    {
     "data": {
      "image/png": "[encoded data removed]",
      "text/plain": [
       "<Figure size 432x288 with 1 Axes>"
      ]
     },
     "metadata": {
      "needs_background": "light"
     },
     "output_type": "display_data"
    }
   ],
   "source": [
    "kmeans = KMeans(n_clusters = 4)\n",
    "kmeans.fit(df_8[[\"Life expectancy \", \"Schooling\"]])\n",
    "sns.scatterplot(data = df_8, x = \"Life expectancy \", y = \"Schooling\", hue = kmeans.labels_)"
   ]
  },
  {
   "cell_type": "code",
   "execution_count": 91,
   "id": "176ba39e",
   "metadata": {},
   "outputs": [
    {
     "data": {
      "text/html": [
       "<div>\n",
       "<style scoped>\n",
       "    .dataframe tbody tr th:only-of-type {\n",
       "        vertical-align: middle;\n",
       "    }\n",
       "\n",
       "    .dataframe tbody tr th {\n",
       "        vertical-align: top;\n",
       "    }\n",
       "\n",
       "    .dataframe thead th {\n",
       "        text-align: right;\n",
       "    }\n",
       "</style>\n",
       "<table border=\"1\" class=\"dataframe\">\n",
       "  <thead>\n",
       "    <tr style=\"text-align: right;\">\n",
       "      <th></th>\n",
       "      <th>0</th>\n",
       "      <th>1</th>\n",
       "      <th>2</th>\n",
       "      <th>3</th>\n",
       "    </tr>\n",
       "  </thead>\n",
       "  <tbody>\n",
       "    <tr>\n",
       "      <th>0</th>\n",
       "      <td>Australia</td>\n",
       "      <td>Argentina</td>\n",
       "      <td>Belgium</td>\n",
       "      <td>Austria</td>\n",
       "    </tr>\n",
       "    <tr>\n",
       "      <th>1</th>\n",
       "      <td>Denmark</td>\n",
       "      <td>Bahrain</td>\n",
       "      <td>Canada</td>\n",
       "      <td>Finland</td>\n",
       "    </tr>\n",
       "    <tr>\n",
       "      <th>2</th>\n",
       "      <td>Iceland</td>\n",
       "      <td>Brunei Darussalam</td>\n",
       "      <td>Chile</td>\n",
       "      <td>Germany</td>\n",
       "    </tr>\n",
       "    <tr>\n",
       "      <th>3</th>\n",
       "      <td>Netherlands</td>\n",
       "      <td>Croatia</td>\n",
       "      <td>Cyprus</td>\n",
       "      <td>Greece</td>\n",
       "    </tr>\n",
       "    <tr>\n",
       "      <th>4</th>\n",
       "      <td>New Zealand</td>\n",
       "      <td>Estonia</td>\n",
       "      <td>France</td>\n",
       "      <td>Ireland</td>\n",
       "    </tr>\n",
       "    <tr>\n",
       "      <th>5</th>\n",
       "      <td>Norway</td>\n",
       "      <td>Hungary</td>\n",
       "      <td>Israel</td>\n",
       "      <td>NaN</td>\n",
       "    </tr>\n",
       "    <tr>\n",
       "      <th>6</th>\n",
       "      <td>Spain</td>\n",
       "      <td>Latvia</td>\n",
       "      <td>Italy</td>\n",
       "      <td>NaN</td>\n",
       "    </tr>\n",
       "    <tr>\n",
       "      <th>7</th>\n",
       "      <td>NaN</td>\n",
       "      <td>Lithuania</td>\n",
       "      <td>Japan</td>\n",
       "      <td>NaN</td>\n",
       "    </tr>\n",
       "    <tr>\n",
       "      <th>8</th>\n",
       "      <td>NaN</td>\n",
       "      <td>Poland</td>\n",
       "      <td>Luxembourg</td>\n",
       "      <td>NaN</td>\n",
       "    </tr>\n",
       "    <tr>\n",
       "      <th>9</th>\n",
       "      <td>NaN</td>\n",
       "      <td>Qatar</td>\n",
       "      <td>Malta</td>\n",
       "      <td>NaN</td>\n",
       "    </tr>\n",
       "    <tr>\n",
       "      <th>10</th>\n",
       "      <td>NaN</td>\n",
       "      <td>Saudi Arabia</td>\n",
       "      <td>Portugal</td>\n",
       "      <td>NaN</td>\n",
       "    </tr>\n",
       "    <tr>\n",
       "      <th>11</th>\n",
       "      <td>NaN</td>\n",
       "      <td>United Arab Emirates</td>\n",
       "      <td>Singapore</td>\n",
       "      <td>NaN</td>\n",
       "    </tr>\n",
       "    <tr>\n",
       "      <th>12</th>\n",
       "      <td>NaN</td>\n",
       "      <td>NaN</td>\n",
       "      <td>Slovenia</td>\n",
       "      <td>NaN</td>\n",
       "    </tr>\n",
       "    <tr>\n",
       "      <th>13</th>\n",
       "      <td>NaN</td>\n",
       "      <td>NaN</td>\n",
       "      <td>Sweden</td>\n",
       "      <td>NaN</td>\n",
       "    </tr>\n",
       "    <tr>\n",
       "      <th>14</th>\n",
       "      <td>NaN</td>\n",
       "      <td>NaN</td>\n",
       "      <td>Switzerland</td>\n",
       "      <td>NaN</td>\n",
       "    </tr>\n",
       "  </tbody>\n",
       "</table>\n",
       "</div>"
      ],
      "text/plain": [
       "              0                     1            2        3\n",
       "0     Australia             Argentina      Belgium  Austria\n",
       "1       Denmark               Bahrain       Canada  Finland\n",
       "2       Iceland     Brunei Darussalam        Chile  Germany\n",
       "3   Netherlands               Croatia       Cyprus   Greece\n",
       "4   New Zealand               Estonia       France  Ireland\n",
       "5        Norway               Hungary       Israel      NaN\n",
       "6         Spain                Latvia        Italy      NaN\n",
       "7           NaN             Lithuania        Japan      NaN\n",
       "8           NaN                Poland   Luxembourg      NaN\n",
       "9           NaN                 Qatar        Malta      NaN\n",
       "10          NaN          Saudi Arabia     Portugal      NaN\n",
       "11          NaN  United Arab Emirates    Singapore      NaN\n",
       "12          NaN                   NaN     Slovenia      NaN\n",
       "13          NaN                   NaN       Sweden      NaN\n",
       "14          NaN                   NaN  Switzerland      NaN"
      ]
     },
     "execution_count": 91,
     "metadata": {},
     "output_type": "execute_result"
    }
   ],
   "source": [
    "df_ = df_8.copy()\n",
    "name_countries_classificated(df_, kmeans.labels_)"
   ]
  },
  {
   "cell_type": "code",
   "execution_count": 92,
   "id": "5481f7c7",
   "metadata": {},
   "outputs": [
    {
     "data": {
      "text/html": [
       "<div>\n",
       "<style scoped>\n",
       "    .dataframe tbody tr th:only-of-type {\n",
       "        vertical-align: middle;\n",
       "    }\n",
       "\n",
       "    .dataframe tbody tr th {\n",
       "        vertical-align: top;\n",
       "    }\n",
       "\n",
       "    .dataframe thead th {\n",
       "        text-align: right;\n",
       "    }\n",
       "</style>\n",
       "<table border=\"1\" class=\"dataframe\">\n",
       "  <thead>\n",
       "    <tr style=\"text-align: right;\">\n",
       "      <th></th>\n",
       "      <th>Life expectancy</th>\n",
       "      <th>Schooling</th>\n",
       "    </tr>\n",
       "  </thead>\n",
       "  <tbody>\n",
       "    <tr>\n",
       "      <th>Life expectancy</th>\n",
       "      <td>1.000000</td>\n",
       "      <td>0.356389</td>\n",
       "    </tr>\n",
       "    <tr>\n",
       "      <th>Schooling</th>\n",
       "      <td>0.356389</td>\n",
       "      <td>1.000000</td>\n",
       "    </tr>\n",
       "  </tbody>\n",
       "</table>\n",
       "</div>"
      ],
      "text/plain": [
       "                  Life expectancy   Schooling\n",
       "Life expectancy           1.000000   0.356389\n",
       "Schooling                 0.356389   1.000000"
      ]
     },
     "execution_count": 92,
     "metadata": {},
     "output_type": "execute_result"
    }
   ],
   "source": [
    "df_8[[\"Life expectancy \", \"Schooling\"]].corr()"
   ]
  },
  {
   "cell_type": "markdown",
   "id": "7b567810",
   "metadata": {},
   "source": [
    "Há uma correlação fraca entre escolaridade e expectativa de vida."
   ]
  },
  {
   "cell_type": "markdown",
   "id": "3d487262",
   "metadata": {},
   "source": [
    "## -*Resultados obtidos*"
   ]
  },
  {
   "cell_type": "markdown",
   "id": "6d3bc5a1",
   "metadata": {},
   "source": [
    "- Países com IDH até 0.600: Existe uma correlação muito fraca entre a escolaridade e a expectativa de vida.  \n",
    "- Países com IDH entre 0.601 e 0.800: Nesse grupo de países, existe uma correlação fraca entre a escolaridade e a expectativa de vida. \n",
    "- Países com IDH acima de 0.800: Há uma correlação fraca entre escolaridade e expectativa de vida. \n",
    "- Conclusão: De um modo geral, existe uma correlação fraca entre escolaridade e expectativa de vida, mas não é algo revelante o suficiente para realmente influenciar na expectativa de vida de uma população.\n",
    "\n",
    "É válido ressaltar que, analisando o gráfico sem separação por IDH, existe uma correlação positiva bastante aparente entre a escolaridade e a expectativa de vida. Isso se deve ao fato de que países com um maior nível de escolaridade também possuem um IDH mais elevado, e o IDH elevado resulta em uma maior expectativa de vida. É o principal fator relacionado a expectativa de vida nos dados analisados."
   ]
  },
  {
   "cell_type": "markdown",
   "id": "adb5b2ea",
   "metadata": {},
   "source": [
    "# 3.Existe uma relação entre o PIB per capita e os gastos governamentais com saúde?"
   ]
  },
  {
   "cell_type": "markdown",
   "id": "21030c96",
   "metadata": {},
   "source": [
    "## Países com IDH até 0.600"
   ]
  },
  {
   "cell_type": "code",
   "execution_count": 95,
   "id": "466e8b3d",
   "metadata": {},
   "outputs": [
    {
     "name": "stderr",
     "output_type": "stream",
     "text": [
      "C:\\Users\\bergs\\anaconda3\\lib\\site-packages\\sklearn\\cluster\\_kmeans.py:881: UserWarning: KMeans is known to have a memory leak on Windows with MKL, when there are less chunks than available threads. You can avoid it by setting the environment variable OMP_NUM_THREADS=1.\n",
      "  warnings.warn(\n"
     ]
    },
    {
     "data": {
      "image/png": "[encoded data removed]",
      "text/plain": [
       "<Figure size 432x288 with 1 Axes>"
      ]
     },
     "metadata": {
      "needs_background": "light"
     },
     "output_type": "display_data"
    }
   ],
   "source": [
    "quantidade_k(df_0_6, \"Total expenditure\", \"GDP\")"
   ]
  },
  {
   "cell_type": "code",
   "execution_count": 96,
   "id": "f7552148",
   "metadata": {},
   "outputs": [
    {
     "data": {
      "text/plain": [
       "<AxesSubplot:xlabel='Total expenditure', ylabel='GDP'>"
      ]
     },
     "execution_count": 96,
     "metadata": {},
     "output_type": "execute_result"
    },
    {
     "data": {
      "image/png": "[encoded data removed]",
      "text/plain": [
       "<Figure size 432x288 with 1 Axes>"
      ]
     },
     "metadata": {
      "needs_background": "light"
     },
     "output_type": "display_data"
    }
   ],
   "source": [
    "kmeans = KMeans(n_clusters = 2)\n",
    "kmeans.fit(df_0_6[[\"Total expenditure\", \"GDP\"]])\n",
    "sns.scatterplot(data = df_0_6, x = \"Total expenditure\", y = \"GDP\", hue = kmeans.labels_)"
   ]
  },
  {
   "cell_type": "code",
   "execution_count": 97,
   "id": "118548ab",
   "metadata": {},
   "outputs": [
    {
     "data": {
      "text/html": [
       "<div>\n",
       "<style scoped>\n",
       "    .dataframe tbody tr th:only-of-type {\n",
       "        vertical-align: middle;\n",
       "    }\n",
       "\n",
       "    .dataframe tbody tr th {\n",
       "        vertical-align: top;\n",
       "    }\n",
       "\n",
       "    .dataframe thead th {\n",
       "        text-align: right;\n",
       "    }\n",
       "</style>\n",
       "<table border=\"1\" class=\"dataframe\">\n",
       "  <thead>\n",
       "    <tr style=\"text-align: right;\">\n",
       "      <th></th>\n",
       "      <th>0</th>\n",
       "      <th>1</th>\n",
       "    </tr>\n",
       "  </thead>\n",
       "  <tbody>\n",
       "    <tr>\n",
       "      <th>0</th>\n",
       "      <td>Afghanistan</td>\n",
       "      <td>Equatorial Guinea</td>\n",
       "    </tr>\n",
       "    <tr>\n",
       "      <th>1</th>\n",
       "      <td>Angola</td>\n",
       "      <td>NaN</td>\n",
       "    </tr>\n",
       "    <tr>\n",
       "      <th>2</th>\n",
       "      <td>Bangladesh</td>\n",
       "      <td>NaN</td>\n",
       "    </tr>\n",
       "    <tr>\n",
       "      <th>3</th>\n",
       "      <td>Benin</td>\n",
       "      <td>NaN</td>\n",
       "    </tr>\n",
       "    <tr>\n",
       "      <th>4</th>\n",
       "      <td>Bhutan</td>\n",
       "      <td>NaN</td>\n",
       "    </tr>\n",
       "    <tr>\n",
       "      <th>5</th>\n",
       "      <td>Burkina Faso</td>\n",
       "      <td>NaN</td>\n",
       "    </tr>\n",
       "    <tr>\n",
       "      <th>6</th>\n",
       "      <td>Burundi</td>\n",
       "      <td>NaN</td>\n",
       "    </tr>\n",
       "    <tr>\n",
       "      <th>7</th>\n",
       "      <td>Cambodia</td>\n",
       "      <td>NaN</td>\n",
       "    </tr>\n",
       "    <tr>\n",
       "      <th>8</th>\n",
       "      <td>Cameroon</td>\n",
       "      <td>NaN</td>\n",
       "    </tr>\n",
       "    <tr>\n",
       "      <th>9</th>\n",
       "      <td>Central African Republic</td>\n",
       "      <td>NaN</td>\n",
       "    </tr>\n",
       "    <tr>\n",
       "      <th>10</th>\n",
       "      <td>Chad</td>\n",
       "      <td>NaN</td>\n",
       "    </tr>\n",
       "    <tr>\n",
       "      <th>11</th>\n",
       "      <td>Comoros</td>\n",
       "      <td>NaN</td>\n",
       "    </tr>\n",
       "    <tr>\n",
       "      <th>12</th>\n",
       "      <td>Djibouti</td>\n",
       "      <td>NaN</td>\n",
       "    </tr>\n",
       "    <tr>\n",
       "      <th>13</th>\n",
       "      <td>Ethiopia</td>\n",
       "      <td>NaN</td>\n",
       "    </tr>\n",
       "    <tr>\n",
       "      <th>14</th>\n",
       "      <td>Ghana</td>\n",
       "      <td>NaN</td>\n",
       "    </tr>\n",
       "    <tr>\n",
       "      <th>15</th>\n",
       "      <td>Guinea</td>\n",
       "      <td>NaN</td>\n",
       "    </tr>\n",
       "    <tr>\n",
       "      <th>16</th>\n",
       "      <td>Guinea-Bissau</td>\n",
       "      <td>NaN</td>\n",
       "    </tr>\n",
       "    <tr>\n",
       "      <th>17</th>\n",
       "      <td>Haiti</td>\n",
       "      <td>NaN</td>\n",
       "    </tr>\n",
       "    <tr>\n",
       "      <th>18</th>\n",
       "      <td>Kenya</td>\n",
       "      <td>NaN</td>\n",
       "    </tr>\n",
       "    <tr>\n",
       "      <th>19</th>\n",
       "      <td>Kiribati</td>\n",
       "      <td>NaN</td>\n",
       "    </tr>\n",
       "    <tr>\n",
       "      <th>20</th>\n",
       "      <td>Lesotho</td>\n",
       "      <td>NaN</td>\n",
       "    </tr>\n",
       "    <tr>\n",
       "      <th>21</th>\n",
       "      <td>Liberia</td>\n",
       "      <td>NaN</td>\n",
       "    </tr>\n",
       "    <tr>\n",
       "      <th>22</th>\n",
       "      <td>Madagascar</td>\n",
       "      <td>NaN</td>\n",
       "    </tr>\n",
       "    <tr>\n",
       "      <th>23</th>\n",
       "      <td>Malawi</td>\n",
       "      <td>NaN</td>\n",
       "    </tr>\n",
       "    <tr>\n",
       "      <th>24</th>\n",
       "      <td>Mali</td>\n",
       "      <td>NaN</td>\n",
       "    </tr>\n",
       "    <tr>\n",
       "      <th>25</th>\n",
       "      <td>Mauritania</td>\n",
       "      <td>NaN</td>\n",
       "    </tr>\n",
       "    <tr>\n",
       "      <th>26</th>\n",
       "      <td>Mozambique</td>\n",
       "      <td>NaN</td>\n",
       "    </tr>\n",
       "    <tr>\n",
       "      <th>27</th>\n",
       "      <td>Myanmar</td>\n",
       "      <td>NaN</td>\n",
       "    </tr>\n",
       "    <tr>\n",
       "      <th>28</th>\n",
       "      <td>Nepal</td>\n",
       "      <td>NaN</td>\n",
       "    </tr>\n",
       "    <tr>\n",
       "      <th>29</th>\n",
       "      <td>Niger</td>\n",
       "      <td>NaN</td>\n",
       "    </tr>\n",
       "    <tr>\n",
       "      <th>30</th>\n",
       "      <td>Nigeria</td>\n",
       "      <td>NaN</td>\n",
       "    </tr>\n",
       "    <tr>\n",
       "      <th>31</th>\n",
       "      <td>Pakistan</td>\n",
       "      <td>NaN</td>\n",
       "    </tr>\n",
       "    <tr>\n",
       "      <th>32</th>\n",
       "      <td>Papua New Guinea</td>\n",
       "      <td>NaN</td>\n",
       "    </tr>\n",
       "    <tr>\n",
       "      <th>33</th>\n",
       "      <td>Rwanda</td>\n",
       "      <td>NaN</td>\n",
       "    </tr>\n",
       "    <tr>\n",
       "      <th>34</th>\n",
       "      <td>Sao Tome and Principe</td>\n",
       "      <td>NaN</td>\n",
       "    </tr>\n",
       "    <tr>\n",
       "      <th>35</th>\n",
       "      <td>Senegal</td>\n",
       "      <td>NaN</td>\n",
       "    </tr>\n",
       "    <tr>\n",
       "      <th>36</th>\n",
       "      <td>Sierra Leone</td>\n",
       "      <td>NaN</td>\n",
       "    </tr>\n",
       "    <tr>\n",
       "      <th>37</th>\n",
       "      <td>Solomon Islands</td>\n",
       "      <td>NaN</td>\n",
       "    </tr>\n",
       "    <tr>\n",
       "      <th>38</th>\n",
       "      <td>South Sudan</td>\n",
       "      <td>NaN</td>\n",
       "    </tr>\n",
       "    <tr>\n",
       "      <th>39</th>\n",
       "      <td>Sudan</td>\n",
       "      <td>NaN</td>\n",
       "    </tr>\n",
       "    <tr>\n",
       "      <th>40</th>\n",
       "      <td>Swaziland</td>\n",
       "      <td>NaN</td>\n",
       "    </tr>\n",
       "    <tr>\n",
       "      <th>41</th>\n",
       "      <td>Togo</td>\n",
       "      <td>NaN</td>\n",
       "    </tr>\n",
       "    <tr>\n",
       "      <th>42</th>\n",
       "      <td>Uganda</td>\n",
       "      <td>NaN</td>\n",
       "    </tr>\n",
       "    <tr>\n",
       "      <th>43</th>\n",
       "      <td>Vanuatu</td>\n",
       "      <td>NaN</td>\n",
       "    </tr>\n",
       "    <tr>\n",
       "      <th>44</th>\n",
       "      <td>Zambia</td>\n",
       "      <td>NaN</td>\n",
       "    </tr>\n",
       "    <tr>\n",
       "      <th>45</th>\n",
       "      <td>Zimbabwe</td>\n",
       "      <td>NaN</td>\n",
       "    </tr>\n",
       "  </tbody>\n",
       "</table>\n",
       "</div>"
      ],
      "text/plain": [
       "                           0                  1\n",
       "0                Afghanistan  Equatorial Guinea\n",
       "1                     Angola                NaN\n",
       "2                 Bangladesh                NaN\n",
       "3                      Benin                NaN\n",
       "4                     Bhutan                NaN\n",
       "5               Burkina Faso                NaN\n",
       "6                    Burundi                NaN\n",
       "7                   Cambodia                NaN\n",
       "8                   Cameroon                NaN\n",
       "9   Central African Republic                NaN\n",
       "10                      Chad                NaN\n",
       "11                   Comoros                NaN\n",
       "12                  Djibouti                NaN\n",
       "13                  Ethiopia                NaN\n",
       "14                     Ghana                NaN\n",
       "15                    Guinea                NaN\n",
       "16             Guinea-Bissau                NaN\n",
       "17                     Haiti                NaN\n",
       "18                     Kenya                NaN\n",
       "19                  Kiribati                NaN\n",
       "20                   Lesotho                NaN\n",
       "21                   Liberia                NaN\n",
       "22                Madagascar                NaN\n",
       "23                    Malawi                NaN\n",
       "24                      Mali                NaN\n",
       "25                Mauritania                NaN\n",
       "26                Mozambique                NaN\n",
       "27                   Myanmar                NaN\n",
       "28                     Nepal                NaN\n",
       "29                     Niger                NaN\n",
       "30                   Nigeria                NaN\n",
       "31                  Pakistan                NaN\n",
       "32          Papua New Guinea                NaN\n",
       "33                    Rwanda                NaN\n",
       "34     Sao Tome and Principe                NaN\n",
       "35                   Senegal                NaN\n",
       "36              Sierra Leone                NaN\n",
       "37           Solomon Islands                NaN\n",
       "38               South Sudan                NaN\n",
       "39                     Sudan                NaN\n",
       "40                 Swaziland                NaN\n",
       "41                      Togo                NaN\n",
       "42                    Uganda                NaN\n",
       "43                   Vanuatu                NaN\n",
       "44                    Zambia                NaN\n",
       "45                  Zimbabwe                NaN"
      ]
     },
     "execution_count": 97,
     "metadata": {},
     "output_type": "execute_result"
    }
   ],
   "source": [
    "df_ = df_0_6.copy()\n",
    "name_countries_classificated(df_, kmeans.labels_)"
   ]
  },
  {
   "cell_type": "code",
   "execution_count": 98,
   "id": "c5535ea7",
   "metadata": {},
   "outputs": [
    {
     "data": {
      "text/html": [
       "<div>\n",
       "<style scoped>\n",
       "    .dataframe tbody tr th:only-of-type {\n",
       "        vertical-align: middle;\n",
       "    }\n",
       "\n",
       "    .dataframe tbody tr th {\n",
       "        vertical-align: top;\n",
       "    }\n",
       "\n",
       "    .dataframe thead th {\n",
       "        text-align: right;\n",
       "    }\n",
       "</style>\n",
       "<table border=\"1\" class=\"dataframe\">\n",
       "  <thead>\n",
       "    <tr style=\"text-align: right;\">\n",
       "      <th></th>\n",
       "      <th>Total expenditure</th>\n",
       "      <th>GDP</th>\n",
       "    </tr>\n",
       "  </thead>\n",
       "  <tbody>\n",
       "    <tr>\n",
       "      <th>Total expenditure</th>\n",
       "      <td>1.000000</td>\n",
       "      <td>-0.147358</td>\n",
       "    </tr>\n",
       "    <tr>\n",
       "      <th>GDP</th>\n",
       "      <td>-0.147358</td>\n",
       "      <td>1.000000</td>\n",
       "    </tr>\n",
       "  </tbody>\n",
       "</table>\n",
       "</div>"
      ],
      "text/plain": [
       "                   Total expenditure       GDP\n",
       "Total expenditure           1.000000 -0.147358\n",
       "GDP                        -0.147358  1.000000"
      ]
     },
     "execution_count": 98,
     "metadata": {},
     "output_type": "execute_result"
    }
   ],
   "source": [
    "df_0_6[[\"Total expenditure\", \"GDP\"]].corr()"
   ]
  },
  {
   "cell_type": "markdown",
   "id": "a907b143",
   "metadata": {},
   "source": [
    "Há uma correlação negativa muito fraca entre os gastos governamentais e o PIB per capita."
   ]
  },
  {
   "cell_type": "markdown",
   "id": "5868c58b",
   "metadata": {},
   "source": [
    "## Países com IDH entre 0.601 e 0.800"
   ]
  },
  {
   "cell_type": "code",
   "execution_count": 99,
   "id": "8682bee3",
   "metadata": {},
   "outputs": [
    {
     "name": "stderr",
     "output_type": "stream",
     "text": [
      "C:\\Users\\bergs\\anaconda3\\lib\\site-packages\\sklearn\\cluster\\_kmeans.py:881: UserWarning: KMeans is known to have a memory leak on Windows with MKL, when there are less chunks than available threads. You can avoid it by setting the environment variable OMP_NUM_THREADS=1.\n",
      "  warnings.warn(\n"
     ]
    },
    {
     "data": {
      "image/png": "[encoded data removed]",
      "text/plain": [
       "<Figure size 432x288 with 1 Axes>"
      ]
     },
     "metadata": {
      "needs_background": "light"
     },
     "output_type": "display_data"
    }
   ],
   "source": [
    "quantidade_k(df_6_8, \"Total expenditure\", \"GDP\")"
   ]
  },
  {
   "cell_type": "code",
   "execution_count": 100,
   "id": "003e7900",
   "metadata": {},
   "outputs": [
    {
     "data": {
      "text/plain": [
       "<AxesSubplot:xlabel='Total expenditure', ylabel='GDP'>"
      ]
     },
     "execution_count": 100,
     "metadata": {},
     "output_type": "execute_result"
    },
    {
     "data": {
      "image/png": "[encoded data removed]",
      "text/plain": [
       "<Figure size 432x288 with 1 Axes>"
      ]
     },
     "metadata": {
      "needs_background": "light"
     },
     "output_type": "display_data"
    }
   ],
   "source": [
    "kmeans = KMeans(n_clusters = 4)\n",
    "kmeans.fit(df_6_8[[\"Total expenditure\", \"GDP\"]])\n",
    "sns.scatterplot(data = df_6_8, x = \"Total expenditure\", y = \"GDP\", hue = kmeans.labels_)"
   ]
  },
  {
   "cell_type": "code",
   "execution_count": 101,
   "id": "6e88e851",
   "metadata": {},
   "outputs": [
    {
     "data": {
      "text/html": [
       "<div>\n",
       "<style scoped>\n",
       "    .dataframe tbody tr th:only-of-type {\n",
       "        vertical-align: middle;\n",
       "    }\n",
       "\n",
       "    .dataframe tbody tr th {\n",
       "        vertical-align: top;\n",
       "    }\n",
       "\n",
       "    .dataframe thead th {\n",
       "        text-align: right;\n",
       "    }\n",
       "</style>\n",
       "<table border=\"1\" class=\"dataframe\">\n",
       "  <thead>\n",
       "    <tr style=\"text-align: right;\">\n",
       "      <th></th>\n",
       "      <th>0</th>\n",
       "      <th>1</th>\n",
       "      <th>2</th>\n",
       "      <th>3</th>\n",
       "    </tr>\n",
       "  </thead>\n",
       "  <tbody>\n",
       "    <tr>\n",
       "      <th>0</th>\n",
       "      <td>Algeria</td>\n",
       "      <td>Antigua and Barbuda</td>\n",
       "      <td>Kuwait</td>\n",
       "      <td>Albania</td>\n",
       "    </tr>\n",
       "    <tr>\n",
       "      <th>1</th>\n",
       "      <td>Azerbaijan</td>\n",
       "      <td>Barbados</td>\n",
       "      <td>NaN</td>\n",
       "      <td>Armenia</td>\n",
       "    </tr>\n",
       "    <tr>\n",
       "      <th>2</th>\n",
       "      <td>Bulgaria</td>\n",
       "      <td>Brazil</td>\n",
       "      <td>NaN</td>\n",
       "      <td>Belarus</td>\n",
       "    </tr>\n",
       "    <tr>\n",
       "      <th>3</th>\n",
       "      <td>China</td>\n",
       "      <td>Kazakhstan</td>\n",
       "      <td>NaN</td>\n",
       "      <td>Belize</td>\n",
       "    </tr>\n",
       "    <tr>\n",
       "      <th>4</th>\n",
       "      <td>Colombia</td>\n",
       "      <td>Oman</td>\n",
       "      <td>NaN</td>\n",
       "      <td>Bosnia and Herzegovina</td>\n",
       "    </tr>\n",
       "    <tr>\n",
       "      <th>5</th>\n",
       "      <td>Costa Rica</td>\n",
       "      <td>Russian Federation</td>\n",
       "      <td>NaN</td>\n",
       "      <td>Botswana</td>\n",
       "    </tr>\n",
       "    <tr>\n",
       "      <th>6</th>\n",
       "      <td>Cuba</td>\n",
       "      <td>Seychelles</td>\n",
       "      <td>NaN</td>\n",
       "      <td>Cabo Verde</td>\n",
       "    </tr>\n",
       "    <tr>\n",
       "      <th>7</th>\n",
       "      <td>Dominican Republic</td>\n",
       "      <td>Trinidad and Tobago</td>\n",
       "      <td>NaN</td>\n",
       "      <td>Ecuador</td>\n",
       "    </tr>\n",
       "    <tr>\n",
       "      <th>8</th>\n",
       "      <td>Gabon</td>\n",
       "      <td>NaN</td>\n",
       "      <td>NaN</td>\n",
       "      <td>El Salvador</td>\n",
       "    </tr>\n",
       "    <tr>\n",
       "      <th>9</th>\n",
       "      <td>Grenada</td>\n",
       "      <td>NaN</td>\n",
       "      <td>NaN</td>\n",
       "      <td>Fiji</td>\n",
       "    </tr>\n",
       "    <tr>\n",
       "      <th>10</th>\n",
       "      <td>Iraq</td>\n",
       "      <td>NaN</td>\n",
       "      <td>NaN</td>\n",
       "      <td>Georgia</td>\n",
       "    </tr>\n",
       "    <tr>\n",
       "      <th>11</th>\n",
       "      <td>Lebanon</td>\n",
       "      <td>NaN</td>\n",
       "      <td>NaN</td>\n",
       "      <td>Guatemala</td>\n",
       "    </tr>\n",
       "    <tr>\n",
       "      <th>12</th>\n",
       "      <td>Maldives</td>\n",
       "      <td>NaN</td>\n",
       "      <td>NaN</td>\n",
       "      <td>Guyana</td>\n",
       "    </tr>\n",
       "    <tr>\n",
       "      <th>13</th>\n",
       "      <td>Mauritius</td>\n",
       "      <td>NaN</td>\n",
       "      <td>NaN</td>\n",
       "      <td>Honduras</td>\n",
       "    </tr>\n",
       "    <tr>\n",
       "      <th>14</th>\n",
       "      <td>Montenegro</td>\n",
       "      <td>NaN</td>\n",
       "      <td>NaN</td>\n",
       "      <td>Indonesia</td>\n",
       "    </tr>\n",
       "    <tr>\n",
       "      <th>15</th>\n",
       "      <td>Namibia</td>\n",
       "      <td>NaN</td>\n",
       "      <td>NaN</td>\n",
       "      <td>Jamaica</td>\n",
       "    </tr>\n",
       "    <tr>\n",
       "      <th>16</th>\n",
       "      <td>Peru</td>\n",
       "      <td>NaN</td>\n",
       "      <td>NaN</td>\n",
       "      <td>Jordan</td>\n",
       "    </tr>\n",
       "    <tr>\n",
       "      <th>17</th>\n",
       "      <td>Romania</td>\n",
       "      <td>NaN</td>\n",
       "      <td>NaN</td>\n",
       "      <td>Malaysia</td>\n",
       "    </tr>\n",
       "    <tr>\n",
       "      <th>18</th>\n",
       "      <td>Serbia</td>\n",
       "      <td>NaN</td>\n",
       "      <td>NaN</td>\n",
       "      <td>Mexico</td>\n",
       "    </tr>\n",
       "    <tr>\n",
       "      <th>19</th>\n",
       "      <td>South Africa</td>\n",
       "      <td>NaN</td>\n",
       "      <td>NaN</td>\n",
       "      <td>Mongolia</td>\n",
       "    </tr>\n",
       "    <tr>\n",
       "      <th>20</th>\n",
       "      <td>Suriname</td>\n",
       "      <td>NaN</td>\n",
       "      <td>NaN</td>\n",
       "      <td>Morocco</td>\n",
       "    </tr>\n",
       "    <tr>\n",
       "      <th>21</th>\n",
       "      <td>Thailand</td>\n",
       "      <td>NaN</td>\n",
       "      <td>NaN</td>\n",
       "      <td>Nicaragua</td>\n",
       "    </tr>\n",
       "    <tr>\n",
       "      <th>22</th>\n",
       "      <td>Turkmenistan</td>\n",
       "      <td>NaN</td>\n",
       "      <td>NaN</td>\n",
       "      <td>Panama</td>\n",
       "    </tr>\n",
       "    <tr>\n",
       "      <th>23</th>\n",
       "      <td>NaN</td>\n",
       "      <td>NaN</td>\n",
       "      <td>NaN</td>\n",
       "      <td>Paraguay</td>\n",
       "    </tr>\n",
       "    <tr>\n",
       "      <th>24</th>\n",
       "      <td>NaN</td>\n",
       "      <td>NaN</td>\n",
       "      <td>NaN</td>\n",
       "      <td>Philippines</td>\n",
       "    </tr>\n",
       "    <tr>\n",
       "      <th>25</th>\n",
       "      <td>NaN</td>\n",
       "      <td>NaN</td>\n",
       "      <td>NaN</td>\n",
       "      <td>Samoa</td>\n",
       "    </tr>\n",
       "    <tr>\n",
       "      <th>26</th>\n",
       "      <td>NaN</td>\n",
       "      <td>NaN</td>\n",
       "      <td>NaN</td>\n",
       "      <td>Sri Lanka</td>\n",
       "    </tr>\n",
       "    <tr>\n",
       "      <th>27</th>\n",
       "      <td>NaN</td>\n",
       "      <td>NaN</td>\n",
       "      <td>NaN</td>\n",
       "      <td>Tajikistan</td>\n",
       "    </tr>\n",
       "    <tr>\n",
       "      <th>28</th>\n",
       "      <td>NaN</td>\n",
       "      <td>NaN</td>\n",
       "      <td>NaN</td>\n",
       "      <td>Timor-Leste</td>\n",
       "    </tr>\n",
       "    <tr>\n",
       "      <th>29</th>\n",
       "      <td>NaN</td>\n",
       "      <td>NaN</td>\n",
       "      <td>NaN</td>\n",
       "      <td>Tonga</td>\n",
       "    </tr>\n",
       "    <tr>\n",
       "      <th>30</th>\n",
       "      <td>NaN</td>\n",
       "      <td>NaN</td>\n",
       "      <td>NaN</td>\n",
       "      <td>Tunisia</td>\n",
       "    </tr>\n",
       "    <tr>\n",
       "      <th>31</th>\n",
       "      <td>NaN</td>\n",
       "      <td>NaN</td>\n",
       "      <td>NaN</td>\n",
       "      <td>Turkey</td>\n",
       "    </tr>\n",
       "    <tr>\n",
       "      <th>32</th>\n",
       "      <td>NaN</td>\n",
       "      <td>NaN</td>\n",
       "      <td>NaN</td>\n",
       "      <td>Ukraine</td>\n",
       "    </tr>\n",
       "    <tr>\n",
       "      <th>33</th>\n",
       "      <td>NaN</td>\n",
       "      <td>NaN</td>\n",
       "      <td>NaN</td>\n",
       "      <td>Uruguay</td>\n",
       "    </tr>\n",
       "    <tr>\n",
       "      <th>34</th>\n",
       "      <td>NaN</td>\n",
       "      <td>NaN</td>\n",
       "      <td>NaN</td>\n",
       "      <td>Uzbekistan</td>\n",
       "    </tr>\n",
       "  </tbody>\n",
       "</table>\n",
       "</div>"
      ],
      "text/plain": [
       "                     0                    1       2                       3\n",
       "0              Algeria  Antigua and Barbuda  Kuwait                 Albania\n",
       "1           Azerbaijan             Barbados     NaN                 Armenia\n",
       "2             Bulgaria               Brazil     NaN                 Belarus\n",
       "3                China           Kazakhstan     NaN                  Belize\n",
       "4             Colombia                 Oman     NaN  Bosnia and Herzegovina\n",
       "5           Costa Rica   Russian Federation     NaN                Botswana\n",
       "6                 Cuba           Seychelles     NaN              Cabo Verde\n",
       "7   Dominican Republic  Trinidad and Tobago     NaN                 Ecuador\n",
       "8                Gabon                  NaN     NaN             El Salvador\n",
       "9              Grenada                  NaN     NaN                    Fiji\n",
       "10                Iraq                  NaN     NaN                 Georgia\n",
       "11             Lebanon                  NaN     NaN               Guatemala\n",
       "12            Maldives                  NaN     NaN                  Guyana\n",
       "13           Mauritius                  NaN     NaN                Honduras\n",
       "14          Montenegro                  NaN     NaN               Indonesia\n",
       "15             Namibia                  NaN     NaN                 Jamaica\n",
       "16                Peru                  NaN     NaN                  Jordan\n",
       "17             Romania                  NaN     NaN                Malaysia\n",
       "18              Serbia                  NaN     NaN                  Mexico\n",
       "19        South Africa                  NaN     NaN                Mongolia\n",
       "20            Suriname                  NaN     NaN                 Morocco\n",
       "21            Thailand                  NaN     NaN               Nicaragua\n",
       "22        Turkmenistan                  NaN     NaN                  Panama\n",
       "23                 NaN                  NaN     NaN                Paraguay\n",
       "24                 NaN                  NaN     NaN             Philippines\n",
       "25                 NaN                  NaN     NaN                   Samoa\n",
       "26                 NaN                  NaN     NaN               Sri Lanka\n",
       "27                 NaN                  NaN     NaN              Tajikistan\n",
       "28                 NaN                  NaN     NaN             Timor-Leste\n",
       "29                 NaN                  NaN     NaN                   Tonga\n",
       "30                 NaN                  NaN     NaN                 Tunisia\n",
       "31                 NaN                  NaN     NaN                  Turkey\n",
       "32                 NaN                  NaN     NaN                 Ukraine\n",
       "33                 NaN                  NaN     NaN                 Uruguay\n",
       "34                 NaN                  NaN     NaN              Uzbekistan"
      ]
     },
     "execution_count": 101,
     "metadata": {},
     "output_type": "execute_result"
    }
   ],
   "source": [
    "df_ = df_6_8.copy()\n",
    "name_countries_classificated(df_, kmeans.labels_)"
   ]
  },
  {
   "cell_type": "code",
   "execution_count": 102,
   "id": "6f765b50",
   "metadata": {},
   "outputs": [
    {
     "data": {
      "text/html": [
       "<div>\n",
       "<style scoped>\n",
       "    .dataframe tbody tr th:only-of-type {\n",
       "        vertical-align: middle;\n",
       "    }\n",
       "\n",
       "    .dataframe tbody tr th {\n",
       "        vertical-align: top;\n",
       "    }\n",
       "\n",
       "    .dataframe thead th {\n",
       "        text-align: right;\n",
       "    }\n",
       "</style>\n",
       "<table border=\"1\" class=\"dataframe\">\n",
       "  <thead>\n",
       "    <tr style=\"text-align: right;\">\n",
       "      <th></th>\n",
       "      <th>Total expenditure</th>\n",
       "      <th>GDP</th>\n",
       "    </tr>\n",
       "  </thead>\n",
       "  <tbody>\n",
       "    <tr>\n",
       "      <th>Total expenditure</th>\n",
       "      <td>1.000000</td>\n",
       "      <td>-0.168716</td>\n",
       "    </tr>\n",
       "    <tr>\n",
       "      <th>GDP</th>\n",
       "      <td>-0.168716</td>\n",
       "      <td>1.000000</td>\n",
       "    </tr>\n",
       "  </tbody>\n",
       "</table>\n",
       "</div>"
      ],
      "text/plain": [
       "                   Total expenditure       GDP\n",
       "Total expenditure           1.000000 -0.168716\n",
       "GDP                        -0.168716  1.000000"
      ]
     },
     "execution_count": 102,
     "metadata": {},
     "output_type": "execute_result"
    }
   ],
   "source": [
    "df_6_8[[\"Total expenditure\", \"GDP\"]].corr()"
   ]
  },
  {
   "cell_type": "markdown",
   "id": "1ed3c1ea",
   "metadata": {},
   "source": [
    "Há uma correlação negativa muito fraca entre os gastos governamentais e o PIB per capita."
   ]
  },
  {
   "cell_type": "markdown",
   "id": "836a3354",
   "metadata": {},
   "source": [
    "## Países com IDH acima de 0.800"
   ]
  },
  {
   "cell_type": "code",
   "execution_count": 104,
   "id": "63255e88",
   "metadata": {},
   "outputs": [
    {
     "name": "stderr",
     "output_type": "stream",
     "text": [
      "C:\\Users\\bergs\\anaconda3\\lib\\site-packages\\sklearn\\cluster\\_kmeans.py:881: UserWarning: KMeans is known to have a memory leak on Windows with MKL, when there are less chunks than available threads. You can avoid it by setting the environment variable OMP_NUM_THREADS=1.\n",
      "  warnings.warn(\n"
     ]
    },
    {
     "data": {
      "image/png": "[encoded data removed]",
      "text/plain": [
       "<Figure size 432x288 with 1 Axes>"
      ]
     },
     "metadata": {
      "needs_background": "light"
     },
     "output_type": "display_data"
    }
   ],
   "source": [
    "quantidade_k(df_8, \"Total expenditure\", \"GDP\")"
   ]
  },
  {
   "cell_type": "code",
   "execution_count": 105,
   "id": "d967cdf5",
   "metadata": {},
   "outputs": [
    {
     "data": {
      "text/plain": [
       "<AxesSubplot:xlabel='Total expenditure', ylabel='GDP'>"
      ]
     },
     "execution_count": 105,
     "metadata": {},
     "output_type": "execute_result"
    },
    {
     "data": {
      "image/png": "[encoded data removed]",
      "text/plain": [
       "<Figure size 432x288 with 1 Axes>"
      ]
     },
     "metadata": {
      "needs_background": "light"
     },
     "output_type": "display_data"
    }
   ],
   "source": [
    "kmeans = KMeans(n_clusters = 4)\n",
    "kmeans.fit(df_8[[\"Total expenditure\", \"GDP\"]])\n",
    "sns.scatterplot(data = df_8, x = \"Total expenditure\", y = \"GDP\", hue = kmeans.labels_)"
   ]
  },
  {
   "cell_type": "code",
   "execution_count": 106,
   "id": "a17009ef",
   "metadata": {},
   "outputs": [
    {
     "data": {
      "text/html": [
       "<div>\n",
       "<style scoped>\n",
       "    .dataframe tbody tr th:only-of-type {\n",
       "        vertical-align: middle;\n",
       "    }\n",
       "\n",
       "    .dataframe tbody tr th {\n",
       "        vertical-align: top;\n",
       "    }\n",
       "\n",
       "    .dataframe thead th {\n",
       "        text-align: right;\n",
       "    }\n",
       "</style>\n",
       "<table border=\"1\" class=\"dataframe\">\n",
       "  <thead>\n",
       "    <tr style=\"text-align: right;\">\n",
       "      <th></th>\n",
       "      <th>0</th>\n",
       "      <th>1</th>\n",
       "      <th>2</th>\n",
       "      <th>3</th>\n",
       "    </tr>\n",
       "  </thead>\n",
       "  <tbody>\n",
       "    <tr>\n",
       "      <th>0</th>\n",
       "      <td>Bahrain</td>\n",
       "      <td>Austria</td>\n",
       "      <td>Argentina</td>\n",
       "      <td>Australia</td>\n",
       "    </tr>\n",
       "    <tr>\n",
       "      <th>1</th>\n",
       "      <td>Cyprus</td>\n",
       "      <td>Brunei Darussalam</td>\n",
       "      <td>Belgium</td>\n",
       "      <td>Qatar</td>\n",
       "    </tr>\n",
       "    <tr>\n",
       "      <th>2</th>\n",
       "      <td>Greece</td>\n",
       "      <td>Canada</td>\n",
       "      <td>Chile</td>\n",
       "      <td>Switzerland</td>\n",
       "    </tr>\n",
       "    <tr>\n",
       "      <th>3</th>\n",
       "      <td>Israel</td>\n",
       "      <td>Finland</td>\n",
       "      <td>Croatia</td>\n",
       "      <td>NaN</td>\n",
       "    </tr>\n",
       "    <tr>\n",
       "      <th>4</th>\n",
       "      <td>Italy</td>\n",
       "      <td>Iceland</td>\n",
       "      <td>Denmark</td>\n",
       "      <td>NaN</td>\n",
       "    </tr>\n",
       "    <tr>\n",
       "      <th>5</th>\n",
       "      <td>Slovenia</td>\n",
       "      <td>Ireland</td>\n",
       "      <td>Estonia</td>\n",
       "      <td>NaN</td>\n",
       "    </tr>\n",
       "    <tr>\n",
       "      <th>6</th>\n",
       "      <td>Spain</td>\n",
       "      <td>Netherlands</td>\n",
       "      <td>France</td>\n",
       "      <td>NaN</td>\n",
       "    </tr>\n",
       "    <tr>\n",
       "      <th>7</th>\n",
       "      <td>NaN</td>\n",
       "      <td>Singapore</td>\n",
       "      <td>Germany</td>\n",
       "      <td>NaN</td>\n",
       "    </tr>\n",
       "    <tr>\n",
       "      <th>8</th>\n",
       "      <td>NaN</td>\n",
       "      <td>Sweden</td>\n",
       "      <td>Hungary</td>\n",
       "      <td>NaN</td>\n",
       "    </tr>\n",
       "    <tr>\n",
       "      <th>9</th>\n",
       "      <td>NaN</td>\n",
       "      <td>United Arab Emirates</td>\n",
       "      <td>Japan</td>\n",
       "      <td>NaN</td>\n",
       "    </tr>\n",
       "    <tr>\n",
       "      <th>10</th>\n",
       "      <td>NaN</td>\n",
       "      <td>NaN</td>\n",
       "      <td>Latvia</td>\n",
       "      <td>NaN</td>\n",
       "    </tr>\n",
       "    <tr>\n",
       "      <th>11</th>\n",
       "      <td>NaN</td>\n",
       "      <td>NaN</td>\n",
       "      <td>Lithuania</td>\n",
       "      <td>NaN</td>\n",
       "    </tr>\n",
       "    <tr>\n",
       "      <th>12</th>\n",
       "      <td>NaN</td>\n",
       "      <td>NaN</td>\n",
       "      <td>Luxembourg</td>\n",
       "      <td>NaN</td>\n",
       "    </tr>\n",
       "    <tr>\n",
       "      <th>13</th>\n",
       "      <td>NaN</td>\n",
       "      <td>NaN</td>\n",
       "      <td>Malta</td>\n",
       "      <td>NaN</td>\n",
       "    </tr>\n",
       "    <tr>\n",
       "      <th>14</th>\n",
       "      <td>NaN</td>\n",
       "      <td>NaN</td>\n",
       "      <td>New Zealand</td>\n",
       "      <td>NaN</td>\n",
       "    </tr>\n",
       "    <tr>\n",
       "      <th>15</th>\n",
       "      <td>NaN</td>\n",
       "      <td>NaN</td>\n",
       "      <td>Norway</td>\n",
       "      <td>NaN</td>\n",
       "    </tr>\n",
       "    <tr>\n",
       "      <th>16</th>\n",
       "      <td>NaN</td>\n",
       "      <td>NaN</td>\n",
       "      <td>Poland</td>\n",
       "      <td>NaN</td>\n",
       "    </tr>\n",
       "    <tr>\n",
       "      <th>17</th>\n",
       "      <td>NaN</td>\n",
       "      <td>NaN</td>\n",
       "      <td>Portugal</td>\n",
       "      <td>NaN</td>\n",
       "    </tr>\n",
       "    <tr>\n",
       "      <th>18</th>\n",
       "      <td>NaN</td>\n",
       "      <td>NaN</td>\n",
       "      <td>Saudi Arabia</td>\n",
       "      <td>NaN</td>\n",
       "    </tr>\n",
       "  </tbody>\n",
       "</table>\n",
       "</div>"
      ],
      "text/plain": [
       "           0                     1             2            3\n",
       "0    Bahrain               Austria     Argentina    Australia\n",
       "1     Cyprus     Brunei Darussalam       Belgium        Qatar\n",
       "2     Greece                Canada         Chile  Switzerland\n",
       "3     Israel               Finland       Croatia          NaN\n",
       "4      Italy               Iceland       Denmark          NaN\n",
       "5   Slovenia               Ireland       Estonia          NaN\n",
       "6      Spain           Netherlands        France          NaN\n",
       "7        NaN             Singapore       Germany          NaN\n",
       "8        NaN                Sweden       Hungary          NaN\n",
       "9        NaN  United Arab Emirates         Japan          NaN\n",
       "10       NaN                   NaN        Latvia          NaN\n",
       "11       NaN                   NaN     Lithuania          NaN\n",
       "12       NaN                   NaN    Luxembourg          NaN\n",
       "13       NaN                   NaN         Malta          NaN\n",
       "14       NaN                   NaN   New Zealand          NaN\n",
       "15       NaN                   NaN        Norway          NaN\n",
       "16       NaN                   NaN        Poland          NaN\n",
       "17       NaN                   NaN      Portugal          NaN\n",
       "18       NaN                   NaN  Saudi Arabia          NaN"
      ]
     },
     "execution_count": 106,
     "metadata": {},
     "output_type": "execute_result"
    }
   ],
   "source": [
    "df_ = df_8.copy()\n",
    "name_countries_classificated(df_, kmeans.labels_)"
   ]
  },
  {
   "cell_type": "code",
   "execution_count": 107,
   "id": "0fc40243",
   "metadata": {},
   "outputs": [
    {
     "data": {
      "text/html": [
       "<div>\n",
       "<style scoped>\n",
       "    .dataframe tbody tr th:only-of-type {\n",
       "        vertical-align: middle;\n",
       "    }\n",
       "\n",
       "    .dataframe tbody tr th {\n",
       "        vertical-align: top;\n",
       "    }\n",
       "\n",
       "    .dataframe thead th {\n",
       "        text-align: right;\n",
       "    }\n",
       "</style>\n",
       "<table border=\"1\" class=\"dataframe\">\n",
       "  <thead>\n",
       "    <tr style=\"text-align: right;\">\n",
       "      <th></th>\n",
       "      <th>Total expenditure</th>\n",
       "      <th>GDP</th>\n",
       "    </tr>\n",
       "  </thead>\n",
       "  <tbody>\n",
       "    <tr>\n",
       "      <th>Total expenditure</th>\n",
       "      <td>1.00000</td>\n",
       "      <td>0.11795</td>\n",
       "    </tr>\n",
       "    <tr>\n",
       "      <th>GDP</th>\n",
       "      <td>0.11795</td>\n",
       "      <td>1.00000</td>\n",
       "    </tr>\n",
       "  </tbody>\n",
       "</table>\n",
       "</div>"
      ],
      "text/plain": [
       "                   Total expenditure      GDP\n",
       "Total expenditure            1.00000  0.11795\n",
       "GDP                          0.11795  1.00000"
      ]
     },
     "execution_count": 107,
     "metadata": {},
     "output_type": "execute_result"
    }
   ],
   "source": [
    "df_8[[\"Total expenditure\", \"GDP\"]].corr()"
   ]
  },
  {
   "cell_type": "markdown",
   "id": "38cec818",
   "metadata": {},
   "source": [
    "Existe uma correlação muito fraca entre gastos governamentais e PIB per capita."
   ]
  },
  {
   "cell_type": "markdown",
   "id": "49ef381a",
   "metadata": {},
   "source": [
    "## -*Resultados obtidos*"
   ]
  },
  {
   "cell_type": "markdown",
   "id": "d8eab3ce",
   "metadata": {},
   "source": [
    "- Países com IDH até 0.600: Há uma correlação negativa muito fraca entre os gastos governamentais e o PIB per capita.\n",
    "- Países com IDH entre 0.601 e 0.800: Há uma correlação negativa muito fraca entre gastos governamentais e o PIB per capita.\n",
    "- Países com IDH acima de 0.800: Existe uma correlação muito fraca entre gastos governamentais e PIB per capita."
   ]
  },
  {
   "cell_type": "markdown",
   "id": "bdfc388b",
   "metadata": {},
   "source": [
    "# 4.Existe relação entre escolaridade e gastos pessoais com saúde?"
   ]
  },
  {
   "cell_type": "markdown",
   "id": "e0a5f69a",
   "metadata": {},
   "source": [
    "## Países com IDH até 0.600"
   ]
  },
  {
   "cell_type": "code",
   "execution_count": 108,
   "id": "5b85e3a9",
   "metadata": {},
   "outputs": [
    {
     "name": "stderr",
     "output_type": "stream",
     "text": [
      "C:\\Users\\bergs\\anaconda3\\lib\\site-packages\\sklearn\\cluster\\_kmeans.py:881: UserWarning: KMeans is known to have a memory leak on Windows with MKL, when there are less chunks than available threads. You can avoid it by setting the environment variable OMP_NUM_THREADS=1.\n",
      "  warnings.warn(\n"
     ]
    },
    {
     "data": {
      "image/png": "[encoded data removed]",
      "text/plain": [
       "<Figure size 432x288 with 1 Axes>"
      ]
     },
     "metadata": {
      "needs_background": "light"
     },
     "output_type": "display_data"
    }
   ],
   "source": [
    "quantidade_k(df_0_6, \"percentage expenditure\", \"Schooling\")"
   ]
  },
  {
   "cell_type": "code",
   "execution_count": 109,
   "id": "25f96e45",
   "metadata": {},
   "outputs": [
    {
     "data": {
      "text/plain": [
       "<AxesSubplot:xlabel='percentage expenditure', ylabel='Schooling'>"
      ]
     },
     "execution_count": 109,
     "metadata": {},
     "output_type": "execute_result"
    },
    {
     "data": {
      "image/png": "[encoded data removed]",
      "text/plain": [
       "<Figure size 432x288 with 1 Axes>"
      ]
     },
     "metadata": {
      "needs_background": "light"
     },
     "output_type": "display_data"
    }
   ],
   "source": [
    "kmeans = KMeans(n_clusters = 4)\n",
    "kmeans.fit(df_0_6[[\"percentage expenditure\", \"Schooling\"]])\n",
    "sns.scatterplot(data = df_0_6, x = \"percentage expenditure\", y = \"Schooling\", hue = kmeans.labels_)"
   ]
  },
  {
   "cell_type": "code",
   "execution_count": 110,
   "id": "7f1f97d7",
   "metadata": {},
   "outputs": [
    {
     "data": {
      "text/html": [
       "<div>\n",
       "<style scoped>\n",
       "    .dataframe tbody tr th:only-of-type {\n",
       "        vertical-align: middle;\n",
       "    }\n",
       "\n",
       "    .dataframe tbody tr th {\n",
       "        vertical-align: top;\n",
       "    }\n",
       "\n",
       "    .dataframe thead th {\n",
       "        text-align: right;\n",
       "    }\n",
       "</style>\n",
       "<table border=\"1\" class=\"dataframe\">\n",
       "  <thead>\n",
       "    <tr style=\"text-align: right;\">\n",
       "      <th></th>\n",
       "      <th>0</th>\n",
       "      <th>1</th>\n",
       "      <th>2</th>\n",
       "      <th>3</th>\n",
       "    </tr>\n",
       "  </thead>\n",
       "  <tbody>\n",
       "    <tr>\n",
       "      <th>0</th>\n",
       "      <td>Afghanistan</td>\n",
       "      <td>Equatorial Guinea</td>\n",
       "      <td>Swaziland</td>\n",
       "      <td>Angola</td>\n",
       "    </tr>\n",
       "    <tr>\n",
       "      <th>1</th>\n",
       "      <td>Bangladesh</td>\n",
       "      <td>NaN</td>\n",
       "      <td>Vanuatu</td>\n",
       "      <td>Bhutan</td>\n",
       "    </tr>\n",
       "    <tr>\n",
       "      <th>2</th>\n",
       "      <td>Benin</td>\n",
       "      <td>NaN</td>\n",
       "      <td>NaN</td>\n",
       "      <td>Djibouti</td>\n",
       "    </tr>\n",
       "    <tr>\n",
       "      <th>3</th>\n",
       "      <td>Burkina Faso</td>\n",
       "      <td>NaN</td>\n",
       "      <td>NaN</td>\n",
       "      <td>Ghana</td>\n",
       "    </tr>\n",
       "    <tr>\n",
       "      <th>4</th>\n",
       "      <td>Burundi</td>\n",
       "      <td>NaN</td>\n",
       "      <td>NaN</td>\n",
       "      <td>Kenya</td>\n",
       "    </tr>\n",
       "    <tr>\n",
       "      <th>5</th>\n",
       "      <td>Cambodia</td>\n",
       "      <td>NaN</td>\n",
       "      <td>NaN</td>\n",
       "      <td>Kiribati</td>\n",
       "    </tr>\n",
       "    <tr>\n",
       "      <th>6</th>\n",
       "      <td>Cameroon</td>\n",
       "      <td>NaN</td>\n",
       "      <td>NaN</td>\n",
       "      <td>Lesotho</td>\n",
       "    </tr>\n",
       "    <tr>\n",
       "      <th>7</th>\n",
       "      <td>Central African Republic</td>\n",
       "      <td>NaN</td>\n",
       "      <td>NaN</td>\n",
       "      <td>Nigeria</td>\n",
       "    </tr>\n",
       "    <tr>\n",
       "      <th>8</th>\n",
       "      <td>Chad</td>\n",
       "      <td>NaN</td>\n",
       "      <td>NaN</td>\n",
       "      <td>Solomon Islands</td>\n",
       "    </tr>\n",
       "    <tr>\n",
       "      <th>9</th>\n",
       "      <td>Comoros</td>\n",
       "      <td>NaN</td>\n",
       "      <td>NaN</td>\n",
       "      <td>Sudan</td>\n",
       "    </tr>\n",
       "    <tr>\n",
       "      <th>10</th>\n",
       "      <td>Ethiopia</td>\n",
       "      <td>NaN</td>\n",
       "      <td>NaN</td>\n",
       "      <td>Zambia</td>\n",
       "    </tr>\n",
       "    <tr>\n",
       "      <th>11</th>\n",
       "      <td>Guinea</td>\n",
       "      <td>NaN</td>\n",
       "      <td>NaN</td>\n",
       "      <td>NaN</td>\n",
       "    </tr>\n",
       "    <tr>\n",
       "      <th>12</th>\n",
       "      <td>Guinea-Bissau</td>\n",
       "      <td>NaN</td>\n",
       "      <td>NaN</td>\n",
       "      <td>NaN</td>\n",
       "    </tr>\n",
       "    <tr>\n",
       "      <th>13</th>\n",
       "      <td>Haiti</td>\n",
       "      <td>NaN</td>\n",
       "      <td>NaN</td>\n",
       "      <td>NaN</td>\n",
       "    </tr>\n",
       "    <tr>\n",
       "      <th>14</th>\n",
       "      <td>Liberia</td>\n",
       "      <td>NaN</td>\n",
       "      <td>NaN</td>\n",
       "      <td>NaN</td>\n",
       "    </tr>\n",
       "    <tr>\n",
       "      <th>15</th>\n",
       "      <td>Madagascar</td>\n",
       "      <td>NaN</td>\n",
       "      <td>NaN</td>\n",
       "      <td>NaN</td>\n",
       "    </tr>\n",
       "    <tr>\n",
       "      <th>16</th>\n",
       "      <td>Malawi</td>\n",
       "      <td>NaN</td>\n",
       "      <td>NaN</td>\n",
       "      <td>NaN</td>\n",
       "    </tr>\n",
       "    <tr>\n",
       "      <th>17</th>\n",
       "      <td>Mali</td>\n",
       "      <td>NaN</td>\n",
       "      <td>NaN</td>\n",
       "      <td>NaN</td>\n",
       "    </tr>\n",
       "    <tr>\n",
       "      <th>18</th>\n",
       "      <td>Mauritania</td>\n",
       "      <td>NaN</td>\n",
       "      <td>NaN</td>\n",
       "      <td>NaN</td>\n",
       "    </tr>\n",
       "    <tr>\n",
       "      <th>19</th>\n",
       "      <td>Mozambique</td>\n",
       "      <td>NaN</td>\n",
       "      <td>NaN</td>\n",
       "      <td>NaN</td>\n",
       "    </tr>\n",
       "    <tr>\n",
       "      <th>20</th>\n",
       "      <td>Myanmar</td>\n",
       "      <td>NaN</td>\n",
       "      <td>NaN</td>\n",
       "      <td>NaN</td>\n",
       "    </tr>\n",
       "    <tr>\n",
       "      <th>21</th>\n",
       "      <td>Nepal</td>\n",
       "      <td>NaN</td>\n",
       "      <td>NaN</td>\n",
       "      <td>NaN</td>\n",
       "    </tr>\n",
       "    <tr>\n",
       "      <th>22</th>\n",
       "      <td>Niger</td>\n",
       "      <td>NaN</td>\n",
       "      <td>NaN</td>\n",
       "      <td>NaN</td>\n",
       "    </tr>\n",
       "    <tr>\n",
       "      <th>23</th>\n",
       "      <td>Pakistan</td>\n",
       "      <td>NaN</td>\n",
       "      <td>NaN</td>\n",
       "      <td>NaN</td>\n",
       "    </tr>\n",
       "    <tr>\n",
       "      <th>24</th>\n",
       "      <td>Papua New Guinea</td>\n",
       "      <td>NaN</td>\n",
       "      <td>NaN</td>\n",
       "      <td>NaN</td>\n",
       "    </tr>\n",
       "    <tr>\n",
       "      <th>25</th>\n",
       "      <td>Rwanda</td>\n",
       "      <td>NaN</td>\n",
       "      <td>NaN</td>\n",
       "      <td>NaN</td>\n",
       "    </tr>\n",
       "    <tr>\n",
       "      <th>26</th>\n",
       "      <td>Sao Tome and Principe</td>\n",
       "      <td>NaN</td>\n",
       "      <td>NaN</td>\n",
       "      <td>NaN</td>\n",
       "    </tr>\n",
       "    <tr>\n",
       "      <th>27</th>\n",
       "      <td>Senegal</td>\n",
       "      <td>NaN</td>\n",
       "      <td>NaN</td>\n",
       "      <td>NaN</td>\n",
       "    </tr>\n",
       "    <tr>\n",
       "      <th>28</th>\n",
       "      <td>Sierra Leone</td>\n",
       "      <td>NaN</td>\n",
       "      <td>NaN</td>\n",
       "      <td>NaN</td>\n",
       "    </tr>\n",
       "    <tr>\n",
       "      <th>29</th>\n",
       "      <td>South Sudan</td>\n",
       "      <td>NaN</td>\n",
       "      <td>NaN</td>\n",
       "      <td>NaN</td>\n",
       "    </tr>\n",
       "    <tr>\n",
       "      <th>30</th>\n",
       "      <td>Togo</td>\n",
       "      <td>NaN</td>\n",
       "      <td>NaN</td>\n",
       "      <td>NaN</td>\n",
       "    </tr>\n",
       "    <tr>\n",
       "      <th>31</th>\n",
       "      <td>Uganda</td>\n",
       "      <td>NaN</td>\n",
       "      <td>NaN</td>\n",
       "      <td>NaN</td>\n",
       "    </tr>\n",
       "    <tr>\n",
       "      <th>32</th>\n",
       "      <td>Zimbabwe</td>\n",
       "      <td>NaN</td>\n",
       "      <td>NaN</td>\n",
       "      <td>NaN</td>\n",
       "    </tr>\n",
       "  </tbody>\n",
       "</table>\n",
       "</div>"
      ],
      "text/plain": [
       "                           0                  1          2                3\n",
       "0                Afghanistan  Equatorial Guinea  Swaziland           Angola\n",
       "1                 Bangladesh                NaN    Vanuatu           Bhutan\n",
       "2                      Benin                NaN        NaN         Djibouti\n",
       "3               Burkina Faso                NaN        NaN            Ghana\n",
       "4                    Burundi                NaN        NaN            Kenya\n",
       "5                   Cambodia                NaN        NaN         Kiribati\n",
       "6                   Cameroon                NaN        NaN          Lesotho\n",
       "7   Central African Republic                NaN        NaN          Nigeria\n",
       "8                       Chad                NaN        NaN  Solomon Islands\n",
       "9                    Comoros                NaN        NaN            Sudan\n",
       "10                  Ethiopia                NaN        NaN           Zambia\n",
       "11                    Guinea                NaN        NaN              NaN\n",
       "12             Guinea-Bissau                NaN        NaN              NaN\n",
       "13                     Haiti                NaN        NaN              NaN\n",
       "14                   Liberia                NaN        NaN              NaN\n",
       "15                Madagascar                NaN        NaN              NaN\n",
       "16                    Malawi                NaN        NaN              NaN\n",
       "17                      Mali                NaN        NaN              NaN\n",
       "18                Mauritania                NaN        NaN              NaN\n",
       "19                Mozambique                NaN        NaN              NaN\n",
       "20                   Myanmar                NaN        NaN              NaN\n",
       "21                     Nepal                NaN        NaN              NaN\n",
       "22                     Niger                NaN        NaN              NaN\n",
       "23                  Pakistan                NaN        NaN              NaN\n",
       "24          Papua New Guinea                NaN        NaN              NaN\n",
       "25                    Rwanda                NaN        NaN              NaN\n",
       "26     Sao Tome and Principe                NaN        NaN              NaN\n",
       "27                   Senegal                NaN        NaN              NaN\n",
       "28              Sierra Leone                NaN        NaN              NaN\n",
       "29               South Sudan                NaN        NaN              NaN\n",
       "30                      Togo                NaN        NaN              NaN\n",
       "31                    Uganda                NaN        NaN              NaN\n",
       "32                  Zimbabwe                NaN        NaN              NaN"
      ]
     },
     "execution_count": 110,
     "metadata": {},
     "output_type": "execute_result"
    }
   ],
   "source": [
    "df_ = df_0_6.copy()\n",
    "name_countries_classificated(df_, kmeans.labels_)"
   ]
  },
  {
   "cell_type": "code",
   "execution_count": 111,
   "id": "72be0447",
   "metadata": {},
   "outputs": [
    {
     "data": {
      "text/html": [
       "<div>\n",
       "<style scoped>\n",
       "    .dataframe tbody tr th:only-of-type {\n",
       "        vertical-align: middle;\n",
       "    }\n",
       "\n",
       "    .dataframe tbody tr th {\n",
       "        vertical-align: top;\n",
       "    }\n",
       "\n",
       "    .dataframe thead th {\n",
       "        text-align: right;\n",
       "    }\n",
       "</style>\n",
       "<table border=\"1\" class=\"dataframe\">\n",
       "  <thead>\n",
       "    <tr style=\"text-align: right;\">\n",
       "      <th></th>\n",
       "      <th>percentage expenditure</th>\n",
       "      <th>Schooling</th>\n",
       "    </tr>\n",
       "  </thead>\n",
       "  <tbody>\n",
       "    <tr>\n",
       "      <th>percentage expenditure</th>\n",
       "      <td>1.000000</td>\n",
       "      <td>0.108859</td>\n",
       "    </tr>\n",
       "    <tr>\n",
       "      <th>Schooling</th>\n",
       "      <td>0.108859</td>\n",
       "      <td>1.000000</td>\n",
       "    </tr>\n",
       "  </tbody>\n",
       "</table>\n",
       "</div>"
      ],
      "text/plain": [
       "                        percentage expenditure  Schooling\n",
       "percentage expenditure                1.000000   0.108859\n",
       "Schooling                             0.108859   1.000000"
      ]
     },
     "execution_count": 111,
     "metadata": {},
     "output_type": "execute_result"
    }
   ],
   "source": [
    "df_0_6[[\"percentage expenditure\", \"Schooling\"]].corr()"
   ]
  },
  {
   "cell_type": "markdown",
   "id": "f751f595",
   "metadata": {},
   "source": [
    "Existe uma correlação muito fraca entre escolaridade e os gastos pessoais com saúde."
   ]
  },
  {
   "cell_type": "markdown",
   "id": "d15ec310",
   "metadata": {},
   "source": [
    "## Países com IDH entre 0.601 e 0.800"
   ]
  },
  {
   "cell_type": "code",
   "execution_count": 112,
   "id": "a16e29fd",
   "metadata": {},
   "outputs": [
    {
     "name": "stderr",
     "output_type": "stream",
     "text": [
      "C:\\Users\\bergs\\anaconda3\\lib\\site-packages\\sklearn\\cluster\\_kmeans.py:881: UserWarning: KMeans is known to have a memory leak on Windows with MKL, when there are less chunks than available threads. You can avoid it by setting the environment variable OMP_NUM_THREADS=1.\n",
      "  warnings.warn(\n"
     ]
    },
    {
     "data": {
      "image/png": "[encoded data removed]",
      "text/plain": [
       "<Figure size 432x288 with 1 Axes>"
      ]
     },
     "metadata": {
      "needs_background": "light"
     },
     "output_type": "display_data"
    }
   ],
   "source": [
    "quantidade_k(df_6_8, \"percentage expenditure\", \"Schooling\")"
   ]
  },
  {
   "cell_type": "code",
   "execution_count": 113,
   "id": "58eb23d4",
   "metadata": {},
   "outputs": [
    {
     "data": {
      "text/plain": [
       "<AxesSubplot:xlabel='percentage expenditure', ylabel='Schooling'>"
      ]
     },
     "execution_count": 113,
     "metadata": {},
     "output_type": "execute_result"
    },
    {
     "data": {
      "image/png": "[encoded data removed]",
      "text/plain": [
       "<Figure size 432x288 with 1 Axes>"
      ]
     },
     "metadata": {
      "needs_background": "light"
     },
     "output_type": "display_data"
    }
   ],
   "source": [
    "kmeans = KMeans(n_clusters = 3)\n",
    "kmeans.fit(df_6_8[[\"percentage expenditure\", \"Schooling\"]])\n",
    "sns.scatterplot(data = df_6_8, x = \"percentage expenditure\", y = \"Schooling\", hue = kmeans.labels_)"
   ]
  },
  {
   "cell_type": "code",
   "execution_count": 114,
   "id": "de282518",
   "metadata": {},
   "outputs": [
    {
     "data": {
      "text/html": [
       "<div>\n",
       "<style scoped>\n",
       "    .dataframe tbody tr th:only-of-type {\n",
       "        vertical-align: middle;\n",
       "    }\n",
       "\n",
       "    .dataframe tbody tr th {\n",
       "        vertical-align: top;\n",
       "    }\n",
       "\n",
       "    .dataframe thead th {\n",
       "        text-align: right;\n",
       "    }\n",
       "</style>\n",
       "<table border=\"1\" class=\"dataframe\">\n",
       "  <thead>\n",
       "    <tr style=\"text-align: right;\">\n",
       "      <th></th>\n",
       "      <th>0</th>\n",
       "      <th>1</th>\n",
       "      <th>2</th>\n",
       "    </tr>\n",
       "  </thead>\n",
       "  <tbody>\n",
       "    <tr>\n",
       "      <th>0</th>\n",
       "      <td>Albania</td>\n",
       "      <td>Antigua and Barbuda</td>\n",
       "      <td>Algeria</td>\n",
       "    </tr>\n",
       "    <tr>\n",
       "      <th>1</th>\n",
       "      <td>Armenia</td>\n",
       "      <td>Costa Rica</td>\n",
       "      <td>Belize</td>\n",
       "    </tr>\n",
       "    <tr>\n",
       "      <th>2</th>\n",
       "      <td>Azerbaijan</td>\n",
       "      <td>Kuwait</td>\n",
       "      <td>Bosnia and Herzegovina</td>\n",
       "    </tr>\n",
       "    <tr>\n",
       "      <th>3</th>\n",
       "      <td>Barbados</td>\n",
       "      <td>NaN</td>\n",
       "      <td>Brazil</td>\n",
       "    </tr>\n",
       "    <tr>\n",
       "      <th>4</th>\n",
       "      <td>Belarus</td>\n",
       "      <td>NaN</td>\n",
       "      <td>Bulgaria</td>\n",
       "    </tr>\n",
       "    <tr>\n",
       "      <th>5</th>\n",
       "      <td>Botswana</td>\n",
       "      <td>NaN</td>\n",
       "      <td>Colombia</td>\n",
       "    </tr>\n",
       "    <tr>\n",
       "      <th>6</th>\n",
       "      <td>Cabo Verde</td>\n",
       "      <td>NaN</td>\n",
       "      <td>Cuba</td>\n",
       "    </tr>\n",
       "    <tr>\n",
       "      <th>7</th>\n",
       "      <td>China</td>\n",
       "      <td>NaN</td>\n",
       "      <td>Dominican Republic</td>\n",
       "    </tr>\n",
       "    <tr>\n",
       "      <th>8</th>\n",
       "      <td>Ecuador</td>\n",
       "      <td>NaN</td>\n",
       "      <td>El Salvador</td>\n",
       "    </tr>\n",
       "    <tr>\n",
       "      <th>9</th>\n",
       "      <td>Fiji</td>\n",
       "      <td>NaN</td>\n",
       "      <td>Gabon</td>\n",
       "    </tr>\n",
       "    <tr>\n",
       "      <th>10</th>\n",
       "      <td>Georgia</td>\n",
       "      <td>NaN</td>\n",
       "      <td>Grenada</td>\n",
       "    </tr>\n",
       "    <tr>\n",
       "      <th>11</th>\n",
       "      <td>Guatemala</td>\n",
       "      <td>NaN</td>\n",
       "      <td>Maldives</td>\n",
       "    </tr>\n",
       "    <tr>\n",
       "      <th>12</th>\n",
       "      <td>Guyana</td>\n",
       "      <td>NaN</td>\n",
       "      <td>Mauritius</td>\n",
       "    </tr>\n",
       "    <tr>\n",
       "      <th>13</th>\n",
       "      <td>Honduras</td>\n",
       "      <td>NaN</td>\n",
       "      <td>Montenegro</td>\n",
       "    </tr>\n",
       "    <tr>\n",
       "      <th>14</th>\n",
       "      <td>Indonesia</td>\n",
       "      <td>NaN</td>\n",
       "      <td>Namibia</td>\n",
       "    </tr>\n",
       "    <tr>\n",
       "      <th>15</th>\n",
       "      <td>Iraq</td>\n",
       "      <td>NaN</td>\n",
       "      <td>Oman</td>\n",
       "    </tr>\n",
       "    <tr>\n",
       "      <th>16</th>\n",
       "      <td>Jamaica</td>\n",
       "      <td>NaN</td>\n",
       "      <td>Peru</td>\n",
       "    </tr>\n",
       "    <tr>\n",
       "      <th>17</th>\n",
       "      <td>Jordan</td>\n",
       "      <td>NaN</td>\n",
       "      <td>Romania</td>\n",
       "    </tr>\n",
       "    <tr>\n",
       "      <th>18</th>\n",
       "      <td>Kazakhstan</td>\n",
       "      <td>NaN</td>\n",
       "      <td>Serbia</td>\n",
       "    </tr>\n",
       "    <tr>\n",
       "      <th>19</th>\n",
       "      <td>Lebanon</td>\n",
       "      <td>NaN</td>\n",
       "      <td>South Africa</td>\n",
       "    </tr>\n",
       "    <tr>\n",
       "      <th>20</th>\n",
       "      <td>Malaysia</td>\n",
       "      <td>NaN</td>\n",
       "      <td>Suriname</td>\n",
       "    </tr>\n",
       "    <tr>\n",
       "      <th>21</th>\n",
       "      <td>Mexico</td>\n",
       "      <td>NaN</td>\n",
       "      <td>Thailand</td>\n",
       "    </tr>\n",
       "    <tr>\n",
       "      <th>22</th>\n",
       "      <td>Mongolia</td>\n",
       "      <td>NaN</td>\n",
       "      <td>Trinidad and Tobago</td>\n",
       "    </tr>\n",
       "    <tr>\n",
       "      <th>23</th>\n",
       "      <td>Morocco</td>\n",
       "      <td>NaN</td>\n",
       "      <td>Tunisia</td>\n",
       "    </tr>\n",
       "    <tr>\n",
       "      <th>24</th>\n",
       "      <td>Nicaragua</td>\n",
       "      <td>NaN</td>\n",
       "      <td>Turkmenistan</td>\n",
       "    </tr>\n",
       "    <tr>\n",
       "      <th>25</th>\n",
       "      <td>Panama</td>\n",
       "      <td>NaN</td>\n",
       "      <td>NaN</td>\n",
       "    </tr>\n",
       "    <tr>\n",
       "      <th>26</th>\n",
       "      <td>Paraguay</td>\n",
       "      <td>NaN</td>\n",
       "      <td>NaN</td>\n",
       "    </tr>\n",
       "    <tr>\n",
       "      <th>27</th>\n",
       "      <td>Philippines</td>\n",
       "      <td>NaN</td>\n",
       "      <td>NaN</td>\n",
       "    </tr>\n",
       "    <tr>\n",
       "      <th>28</th>\n",
       "      <td>Russian Federation</td>\n",
       "      <td>NaN</td>\n",
       "      <td>NaN</td>\n",
       "    </tr>\n",
       "    <tr>\n",
       "      <th>29</th>\n",
       "      <td>Samoa</td>\n",
       "      <td>NaN</td>\n",
       "      <td>NaN</td>\n",
       "    </tr>\n",
       "    <tr>\n",
       "      <th>30</th>\n",
       "      <td>Seychelles</td>\n",
       "      <td>NaN</td>\n",
       "      <td>NaN</td>\n",
       "    </tr>\n",
       "    <tr>\n",
       "      <th>31</th>\n",
       "      <td>Sri Lanka</td>\n",
       "      <td>NaN</td>\n",
       "      <td>NaN</td>\n",
       "    </tr>\n",
       "    <tr>\n",
       "      <th>32</th>\n",
       "      <td>Tajikistan</td>\n",
       "      <td>NaN</td>\n",
       "      <td>NaN</td>\n",
       "    </tr>\n",
       "    <tr>\n",
       "      <th>33</th>\n",
       "      <td>Timor-Leste</td>\n",
       "      <td>NaN</td>\n",
       "      <td>NaN</td>\n",
       "    </tr>\n",
       "    <tr>\n",
       "      <th>34</th>\n",
       "      <td>Tonga</td>\n",
       "      <td>NaN</td>\n",
       "      <td>NaN</td>\n",
       "    </tr>\n",
       "    <tr>\n",
       "      <th>35</th>\n",
       "      <td>Turkey</td>\n",
       "      <td>NaN</td>\n",
       "      <td>NaN</td>\n",
       "    </tr>\n",
       "    <tr>\n",
       "      <th>36</th>\n",
       "      <td>Ukraine</td>\n",
       "      <td>NaN</td>\n",
       "      <td>NaN</td>\n",
       "    </tr>\n",
       "    <tr>\n",
       "      <th>37</th>\n",
       "      <td>Uruguay</td>\n",
       "      <td>NaN</td>\n",
       "      <td>NaN</td>\n",
       "    </tr>\n",
       "    <tr>\n",
       "      <th>38</th>\n",
       "      <td>Uzbekistan</td>\n",
       "      <td>NaN</td>\n",
       "      <td>NaN</td>\n",
       "    </tr>\n",
       "  </tbody>\n",
       "</table>\n",
       "</div>"
      ],
      "text/plain": [
       "                     0                    1                       2\n",
       "0              Albania  Antigua and Barbuda                 Algeria\n",
       "1              Armenia           Costa Rica                  Belize\n",
       "2           Azerbaijan               Kuwait  Bosnia and Herzegovina\n",
       "3             Barbados                  NaN                  Brazil\n",
       "4              Belarus                  NaN                Bulgaria\n",
       "5             Botswana                  NaN                Colombia\n",
       "6           Cabo Verde                  NaN                    Cuba\n",
       "7                China                  NaN      Dominican Republic\n",
       "8              Ecuador                  NaN             El Salvador\n",
       "9                 Fiji                  NaN                   Gabon\n",
       "10             Georgia                  NaN                 Grenada\n",
       "11           Guatemala                  NaN                Maldives\n",
       "12              Guyana                  NaN               Mauritius\n",
       "13            Honduras                  NaN              Montenegro\n",
       "14           Indonesia                  NaN                 Namibia\n",
       "15                Iraq                  NaN                    Oman\n",
       "16             Jamaica                  NaN                    Peru\n",
       "17              Jordan                  NaN                 Romania\n",
       "18          Kazakhstan                  NaN                  Serbia\n",
       "19             Lebanon                  NaN            South Africa\n",
       "20            Malaysia                  NaN                Suriname\n",
       "21              Mexico                  NaN                Thailand\n",
       "22            Mongolia                  NaN     Trinidad and Tobago\n",
       "23             Morocco                  NaN                 Tunisia\n",
       "24           Nicaragua                  NaN            Turkmenistan\n",
       "25              Panama                  NaN                     NaN\n",
       "26            Paraguay                  NaN                     NaN\n",
       "27         Philippines                  NaN                     NaN\n",
       "28  Russian Federation                  NaN                     NaN\n",
       "29               Samoa                  NaN                     NaN\n",
       "30          Seychelles                  NaN                     NaN\n",
       "31           Sri Lanka                  NaN                     NaN\n",
       "32          Tajikistan                  NaN                     NaN\n",
       "33         Timor-Leste                  NaN                     NaN\n",
       "34               Tonga                  NaN                     NaN\n",
       "35              Turkey                  NaN                     NaN\n",
       "36             Ukraine                  NaN                     NaN\n",
       "37             Uruguay                  NaN                     NaN\n",
       "38          Uzbekistan                  NaN                     NaN"
      ]
     },
     "execution_count": 114,
     "metadata": {},
     "output_type": "execute_result"
    }
   ],
   "source": [
    "df_ = df_6_8.copy()\n",
    "name_countries_classificated(df_, kmeans.labels_)"
   ]
  },
  {
   "cell_type": "code",
   "execution_count": 115,
   "id": "d563d30c",
   "metadata": {},
   "outputs": [
    {
     "data": {
      "text/html": [
       "<div>\n",
       "<style scoped>\n",
       "    .dataframe tbody tr th:only-of-type {\n",
       "        vertical-align: middle;\n",
       "    }\n",
       "\n",
       "    .dataframe tbody tr th {\n",
       "        vertical-align: top;\n",
       "    }\n",
       "\n",
       "    .dataframe thead th {\n",
       "        text-align: right;\n",
       "    }\n",
       "</style>\n",
       "<table border=\"1\" class=\"dataframe\">\n",
       "  <thead>\n",
       "    <tr style=\"text-align: right;\">\n",
       "      <th></th>\n",
       "      <th>percentage expenditure</th>\n",
       "      <th>Schooling</th>\n",
       "    </tr>\n",
       "  </thead>\n",
       "  <tbody>\n",
       "    <tr>\n",
       "      <th>percentage expenditure</th>\n",
       "      <td>1.000000</td>\n",
       "      <td>0.094611</td>\n",
       "    </tr>\n",
       "    <tr>\n",
       "      <th>Schooling</th>\n",
       "      <td>0.094611</td>\n",
       "      <td>1.000000</td>\n",
       "    </tr>\n",
       "  </tbody>\n",
       "</table>\n",
       "</div>"
      ],
      "text/plain": [
       "                        percentage expenditure  Schooling\n",
       "percentage expenditure                1.000000   0.094611\n",
       "Schooling                             0.094611   1.000000"
      ]
     },
     "execution_count": 115,
     "metadata": {},
     "output_type": "execute_result"
    }
   ],
   "source": [
    "df_6_8[[\"percentage expenditure\", \"Schooling\"]].corr()"
   ]
  },
  {
   "cell_type": "markdown",
   "id": "c221da0a",
   "metadata": {},
   "source": [
    "Existe uma correlação muito fraca entre escolaridade e os gastos pessoais com saúde."
   ]
  },
  {
   "cell_type": "markdown",
   "id": "481d3aba",
   "metadata": {},
   "source": [
    "## Países com IDH acima de 0.800"
   ]
  },
  {
   "cell_type": "code",
   "execution_count": 116,
   "id": "81c4823e",
   "metadata": {},
   "outputs": [
    {
     "name": "stderr",
     "output_type": "stream",
     "text": [
      "C:\\Users\\bergs\\anaconda3\\lib\\site-packages\\sklearn\\cluster\\_kmeans.py:881: UserWarning: KMeans is known to have a memory leak on Windows with MKL, when there are less chunks than available threads. You can avoid it by setting the environment variable OMP_NUM_THREADS=1.\n",
      "  warnings.warn(\n"
     ]
    },
    {
     "data": {
      "image/png": "[encoded data removed]",
      "text/plain": [
       "<Figure size 432x288 with 1 Axes>"
      ]
     },
     "metadata": {
      "needs_background": "light"
     },
     "output_type": "display_data"
    }
   ],
   "source": [
    "quantidade_k(df_8, \"percentage expenditure\", \"Schooling\")"
   ]
  },
  {
   "cell_type": "code",
   "execution_count": 117,
   "id": "7469a050",
   "metadata": {},
   "outputs": [
    {
     "data": {
      "text/plain": [
       "<AxesSubplot:xlabel='percentage expenditure', ylabel='Schooling'>"
      ]
     },
     "execution_count": 117,
     "metadata": {},
     "output_type": "execute_result"
    },
    {
     "data": {
      "image/png": "[encoded data removed]",
      "text/plain": [
       "<Figure size 432x288 with 1 Axes>"
      ]
     },
     "metadata": {
      "needs_background": "light"
     },
     "output_type": "display_data"
    }
   ],
   "source": [
    "kmeans = KMeans(n_clusters = 4)\n",
    "kmeans.fit(df_8[[\"percentage expenditure\", \"Schooling\"]])\n",
    "sns.scatterplot(data = df_8, x = \"percentage expenditure\", y = \"Schooling\", hue = kmeans.labels_)"
   ]
  },
  {
   "cell_type": "code",
   "execution_count": 118,
   "id": "540e4d9a",
   "metadata": {},
   "outputs": [
    {
     "data": {
      "text/html": [
       "<div>\n",
       "<style scoped>\n",
       "    .dataframe tbody tr th:only-of-type {\n",
       "        vertical-align: middle;\n",
       "    }\n",
       "\n",
       "    .dataframe tbody tr th {\n",
       "        vertical-align: top;\n",
       "    }\n",
       "\n",
       "    .dataframe thead th {\n",
       "        text-align: right;\n",
       "    }\n",
       "</style>\n",
       "<table border=\"1\" class=\"dataframe\">\n",
       "  <thead>\n",
       "    <tr style=\"text-align: right;\">\n",
       "      <th></th>\n",
       "      <th>0</th>\n",
       "      <th>1</th>\n",
       "      <th>2</th>\n",
       "      <th>3</th>\n",
       "    </tr>\n",
       "  </thead>\n",
       "  <tbody>\n",
       "    <tr>\n",
       "      <th>0</th>\n",
       "      <td>Brunei Darussalam</td>\n",
       "      <td>Argentina</td>\n",
       "      <td>Switzerland</td>\n",
       "      <td>Australia</td>\n",
       "    </tr>\n",
       "    <tr>\n",
       "      <th>1</th>\n",
       "      <td>Finland</td>\n",
       "      <td>Bahrain</td>\n",
       "      <td>NaN</td>\n",
       "      <td>Austria</td>\n",
       "    </tr>\n",
       "    <tr>\n",
       "      <th>2</th>\n",
       "      <td>Iceland</td>\n",
       "      <td>Belgium</td>\n",
       "      <td>NaN</td>\n",
       "      <td>Canada</td>\n",
       "    </tr>\n",
       "    <tr>\n",
       "      <th>3</th>\n",
       "      <td>Ireland</td>\n",
       "      <td>Chile</td>\n",
       "      <td>NaN</td>\n",
       "      <td>Sweden</td>\n",
       "    </tr>\n",
       "    <tr>\n",
       "      <th>4</th>\n",
       "      <td>Israel</td>\n",
       "      <td>Croatia</td>\n",
       "      <td>NaN</td>\n",
       "      <td>NaN</td>\n",
       "    </tr>\n",
       "    <tr>\n",
       "      <th>5</th>\n",
       "      <td>Italy</td>\n",
       "      <td>Cyprus</td>\n",
       "      <td>NaN</td>\n",
       "      <td>NaN</td>\n",
       "    </tr>\n",
       "    <tr>\n",
       "      <th>6</th>\n",
       "      <td>Qatar</td>\n",
       "      <td>Denmark</td>\n",
       "      <td>NaN</td>\n",
       "      <td>NaN</td>\n",
       "    </tr>\n",
       "    <tr>\n",
       "      <th>7</th>\n",
       "      <td>Singapore</td>\n",
       "      <td>Estonia</td>\n",
       "      <td>NaN</td>\n",
       "      <td>NaN</td>\n",
       "    </tr>\n",
       "    <tr>\n",
       "      <th>8</th>\n",
       "      <td>Slovenia</td>\n",
       "      <td>France</td>\n",
       "      <td>NaN</td>\n",
       "      <td>NaN</td>\n",
       "    </tr>\n",
       "    <tr>\n",
       "      <th>9</th>\n",
       "      <td>Spain</td>\n",
       "      <td>Germany</td>\n",
       "      <td>NaN</td>\n",
       "      <td>NaN</td>\n",
       "    </tr>\n",
       "    <tr>\n",
       "      <th>10</th>\n",
       "      <td>United Arab Emirates</td>\n",
       "      <td>Greece</td>\n",
       "      <td>NaN</td>\n",
       "      <td>NaN</td>\n",
       "    </tr>\n",
       "    <tr>\n",
       "      <th>11</th>\n",
       "      <td>NaN</td>\n",
       "      <td>Hungary</td>\n",
       "      <td>NaN</td>\n",
       "      <td>NaN</td>\n",
       "    </tr>\n",
       "    <tr>\n",
       "      <th>12</th>\n",
       "      <td>NaN</td>\n",
       "      <td>Japan</td>\n",
       "      <td>NaN</td>\n",
       "      <td>NaN</td>\n",
       "    </tr>\n",
       "    <tr>\n",
       "      <th>13</th>\n",
       "      <td>NaN</td>\n",
       "      <td>Latvia</td>\n",
       "      <td>NaN</td>\n",
       "      <td>NaN</td>\n",
       "    </tr>\n",
       "    <tr>\n",
       "      <th>14</th>\n",
       "      <td>NaN</td>\n",
       "      <td>Lithuania</td>\n",
       "      <td>NaN</td>\n",
       "      <td>NaN</td>\n",
       "    </tr>\n",
       "    <tr>\n",
       "      <th>15</th>\n",
       "      <td>NaN</td>\n",
       "      <td>Luxembourg</td>\n",
       "      <td>NaN</td>\n",
       "      <td>NaN</td>\n",
       "    </tr>\n",
       "    <tr>\n",
       "      <th>16</th>\n",
       "      <td>NaN</td>\n",
       "      <td>Malta</td>\n",
       "      <td>NaN</td>\n",
       "      <td>NaN</td>\n",
       "    </tr>\n",
       "    <tr>\n",
       "      <th>17</th>\n",
       "      <td>NaN</td>\n",
       "      <td>Netherlands</td>\n",
       "      <td>NaN</td>\n",
       "      <td>NaN</td>\n",
       "    </tr>\n",
       "    <tr>\n",
       "      <th>18</th>\n",
       "      <td>NaN</td>\n",
       "      <td>New Zealand</td>\n",
       "      <td>NaN</td>\n",
       "      <td>NaN</td>\n",
       "    </tr>\n",
       "    <tr>\n",
       "      <th>19</th>\n",
       "      <td>NaN</td>\n",
       "      <td>Norway</td>\n",
       "      <td>NaN</td>\n",
       "      <td>NaN</td>\n",
       "    </tr>\n",
       "    <tr>\n",
       "      <th>20</th>\n",
       "      <td>NaN</td>\n",
       "      <td>Poland</td>\n",
       "      <td>NaN</td>\n",
       "      <td>NaN</td>\n",
       "    </tr>\n",
       "    <tr>\n",
       "      <th>21</th>\n",
       "      <td>NaN</td>\n",
       "      <td>Portugal</td>\n",
       "      <td>NaN</td>\n",
       "      <td>NaN</td>\n",
       "    </tr>\n",
       "    <tr>\n",
       "      <th>22</th>\n",
       "      <td>NaN</td>\n",
       "      <td>Saudi Arabia</td>\n",
       "      <td>NaN</td>\n",
       "      <td>NaN</td>\n",
       "    </tr>\n",
       "  </tbody>\n",
       "</table>\n",
       "</div>"
      ],
      "text/plain": [
       "                       0             1            2          3\n",
       "0      Brunei Darussalam     Argentina  Switzerland  Australia\n",
       "1                Finland       Bahrain          NaN    Austria\n",
       "2                Iceland       Belgium          NaN     Canada\n",
       "3                Ireland         Chile          NaN     Sweden\n",
       "4                 Israel       Croatia          NaN        NaN\n",
       "5                  Italy        Cyprus          NaN        NaN\n",
       "6                  Qatar       Denmark          NaN        NaN\n",
       "7              Singapore       Estonia          NaN        NaN\n",
       "8               Slovenia        France          NaN        NaN\n",
       "9                  Spain       Germany          NaN        NaN\n",
       "10  United Arab Emirates        Greece          NaN        NaN\n",
       "11                   NaN       Hungary          NaN        NaN\n",
       "12                   NaN         Japan          NaN        NaN\n",
       "13                   NaN        Latvia          NaN        NaN\n",
       "14                   NaN     Lithuania          NaN        NaN\n",
       "15                   NaN    Luxembourg          NaN        NaN\n",
       "16                   NaN         Malta          NaN        NaN\n",
       "17                   NaN   Netherlands          NaN        NaN\n",
       "18                   NaN   New Zealand          NaN        NaN\n",
       "19                   NaN        Norway          NaN        NaN\n",
       "20                   NaN        Poland          NaN        NaN\n",
       "21                   NaN      Portugal          NaN        NaN\n",
       "22                   NaN  Saudi Arabia          NaN        NaN"
      ]
     },
     "execution_count": 118,
     "metadata": {},
     "output_type": "execute_result"
    }
   ],
   "source": [
    "df_ = df_8.copy()\n",
    "name_countries_classificated(df_, kmeans.labels_)"
   ]
  },
  {
   "cell_type": "code",
   "execution_count": 119,
   "id": "639b82a0",
   "metadata": {},
   "outputs": [
    {
     "data": {
      "text/html": [
       "<div>\n",
       "<style scoped>\n",
       "    .dataframe tbody tr th:only-of-type {\n",
       "        vertical-align: middle;\n",
       "    }\n",
       "\n",
       "    .dataframe tbody tr th {\n",
       "        vertical-align: top;\n",
       "    }\n",
       "\n",
       "    .dataframe thead th {\n",
       "        text-align: right;\n",
       "    }\n",
       "</style>\n",
       "<table border=\"1\" class=\"dataframe\">\n",
       "  <thead>\n",
       "    <tr style=\"text-align: right;\">\n",
       "      <th></th>\n",
       "      <th>percentage expenditure</th>\n",
       "      <th>Schooling</th>\n",
       "    </tr>\n",
       "  </thead>\n",
       "  <tbody>\n",
       "    <tr>\n",
       "      <th>percentage expenditure</th>\n",
       "      <td>1.000000</td>\n",
       "      <td>0.156661</td>\n",
       "    </tr>\n",
       "    <tr>\n",
       "      <th>Schooling</th>\n",
       "      <td>0.156661</td>\n",
       "      <td>1.000000</td>\n",
       "    </tr>\n",
       "  </tbody>\n",
       "</table>\n",
       "</div>"
      ],
      "text/plain": [
       "                        percentage expenditure  Schooling\n",
       "percentage expenditure                1.000000   0.156661\n",
       "Schooling                             0.156661   1.000000"
      ]
     },
     "execution_count": 119,
     "metadata": {},
     "output_type": "execute_result"
    }
   ],
   "source": [
    "df_8[[\"percentage expenditure\", \"Schooling\"]].corr()"
   ]
  },
  {
   "cell_type": "markdown",
   "id": "40f829e7",
   "metadata": {},
   "source": [
    "Existe uma correlação muito fraca entre escolaridade e os gastos pessoais com saúde."
   ]
  },
  {
   "cell_type": "markdown",
   "id": "39d258dd",
   "metadata": {},
   "source": [
    "## -*Resultados obtidos*"
   ]
  },
  {
   "cell_type": "markdown",
   "id": "807141b5",
   "metadata": {},
   "source": [
    "- Países com IDH até 0.600: Existe uma correlação muito fraca entre escolaridade e os gastos pessoais com saúde.\n",
    "- Países com IDH entre 0.601 e 0.800: Existe uma correlação muito fraca entre escolaridade e os gastos pessoais com saúde.\n",
    "- Países com IDH acima de 0.800: Existe uma correlação muito fraca entre escolaridade e os gastos pessoais com saúde."
   ]
  },
  {
   "cell_type": "markdown",
   "id": "9cbefef7",
   "metadata": {},
   "source": [
    "# 5.Existe relação entre escolaridade e consumo de álcool?"
   ]
  },
  {
   "cell_type": "markdown",
   "id": "913a0cea",
   "metadata": {},
   "source": [
    "## Países com IDH até 0.600"
   ]
  },
  {
   "cell_type": "code",
   "execution_count": 120,
   "id": "7e7a73fe",
   "metadata": {},
   "outputs": [
    {
     "name": "stderr",
     "output_type": "stream",
     "text": [
      "C:\\Users\\bergs\\anaconda3\\lib\\site-packages\\sklearn\\cluster\\_kmeans.py:881: UserWarning: KMeans is known to have a memory leak on Windows with MKL, when there are less chunks than available threads. You can avoid it by setting the environment variable OMP_NUM_THREADS=1.\n",
      "  warnings.warn(\n"
     ]
    },
    {
     "data": {
      "image/png": "[encoded data removed]",
      "text/plain": [
       "<Figure size 432x288 with 1 Axes>"
      ]
     },
     "metadata": {
      "needs_background": "light"
     },
     "output_type": "display_data"
    }
   ],
   "source": [
    "quantidade_k(df_alcool06, \"Schooling\", \"Alcohol\")"
   ]
  },
  {
   "cell_type": "code",
   "execution_count": 121,
   "id": "4b1362dc",
   "metadata": {},
   "outputs": [
    {
     "data": {
      "text/plain": [
       "<AxesSubplot:xlabel='Alcohol', ylabel='Schooling'>"
      ]
     },
     "execution_count": 121,
     "metadata": {},
     "output_type": "execute_result"
    },
    {
     "data": {
      "image/png": "[encoded data removed]",
      "text/plain": [
       "<Figure size 432x288 with 1 Axes>"
      ]
     },
     "metadata": {
      "needs_background": "light"
     },
     "output_type": "display_data"
    }
   ],
   "source": [
    "kmeans = KMeans(n_clusters = 3)\n",
    "kmeans.fit(df_alcool06[[\"Schooling\", \"Alcohol\"]])\n",
    "sns.scatterplot(data = df_alcool06, x = \"Alcohol\", y = \"Schooling\", hue = kmeans.labels_)"
   ]
  },
  {
   "cell_type": "code",
   "execution_count": 122,
   "id": "119240cc",
   "metadata": {},
   "outputs": [
    {
     "data": {
      "text/html": [
       "<div>\n",
       "<style scoped>\n",
       "    .dataframe tbody tr th:only-of-type {\n",
       "        vertical-align: middle;\n",
       "    }\n",
       "\n",
       "    .dataframe tbody tr th {\n",
       "        vertical-align: top;\n",
       "    }\n",
       "\n",
       "    .dataframe thead th {\n",
       "        text-align: right;\n",
       "    }\n",
       "</style>\n",
       "<table border=\"1\" class=\"dataframe\">\n",
       "  <thead>\n",
       "    <tr style=\"text-align: right;\">\n",
       "      <th></th>\n",
       "      <th>0</th>\n",
       "      <th>1</th>\n",
       "      <th>2</th>\n",
       "    </tr>\n",
       "  </thead>\n",
       "  <tbody>\n",
       "    <tr>\n",
       "      <th>0</th>\n",
       "      <td>Afghanistan</td>\n",
       "      <td>Central African Republic</td>\n",
       "      <td>Angola</td>\n",
       "    </tr>\n",
       "    <tr>\n",
       "      <th>1</th>\n",
       "      <td>Bangladesh</td>\n",
       "      <td>Chad</td>\n",
       "      <td>Burkina Faso</td>\n",
       "    </tr>\n",
       "    <tr>\n",
       "      <th>2</th>\n",
       "      <td>Benin</td>\n",
       "      <td>Djibouti</td>\n",
       "      <td>Equatorial Guinea</td>\n",
       "    </tr>\n",
       "    <tr>\n",
       "      <th>3</th>\n",
       "      <td>Bhutan</td>\n",
       "      <td>Ethiopia</td>\n",
       "      <td>Haiti</td>\n",
       "    </tr>\n",
       "    <tr>\n",
       "      <th>4</th>\n",
       "      <td>Burundi</td>\n",
       "      <td>Guinea</td>\n",
       "      <td>Nigeria</td>\n",
       "    </tr>\n",
       "    <tr>\n",
       "      <th>5</th>\n",
       "      <td>Cambodia</td>\n",
       "      <td>Guinea-Bissau</td>\n",
       "      <td>Zimbabwe</td>\n",
       "    </tr>\n",
       "    <tr>\n",
       "      <th>6</th>\n",
       "      <td>Cameroon</td>\n",
       "      <td>Mali</td>\n",
       "      <td>NaN</td>\n",
       "    </tr>\n",
       "    <tr>\n",
       "      <th>7</th>\n",
       "      <td>Comoros</td>\n",
       "      <td>Mauritania</td>\n",
       "      <td>NaN</td>\n",
       "    </tr>\n",
       "    <tr>\n",
       "      <th>8</th>\n",
       "      <td>Ghana</td>\n",
       "      <td>Mozambique</td>\n",
       "      <td>NaN</td>\n",
       "    </tr>\n",
       "    <tr>\n",
       "      <th>9</th>\n",
       "      <td>Kenya</td>\n",
       "      <td>Myanmar</td>\n",
       "      <td>NaN</td>\n",
       "    </tr>\n",
       "    <tr>\n",
       "      <th>10</th>\n",
       "      <td>Kiribati</td>\n",
       "      <td>Niger</td>\n",
       "      <td>NaN</td>\n",
       "    </tr>\n",
       "    <tr>\n",
       "      <th>11</th>\n",
       "      <td>Lesotho</td>\n",
       "      <td>Pakistan</td>\n",
       "      <td>NaN</td>\n",
       "    </tr>\n",
       "    <tr>\n",
       "      <th>12</th>\n",
       "      <td>Liberia</td>\n",
       "      <td>Senegal</td>\n",
       "      <td>NaN</td>\n",
       "    </tr>\n",
       "    <tr>\n",
       "      <th>13</th>\n",
       "      <td>Madagascar</td>\n",
       "      <td>Sierra Leone</td>\n",
       "      <td>NaN</td>\n",
       "    </tr>\n",
       "    <tr>\n",
       "      <th>14</th>\n",
       "      <td>Malawi</td>\n",
       "      <td>Sudan</td>\n",
       "      <td>NaN</td>\n",
       "    </tr>\n",
       "    <tr>\n",
       "      <th>15</th>\n",
       "      <td>Nepal</td>\n",
       "      <td>NaN</td>\n",
       "      <td>NaN</td>\n",
       "    </tr>\n",
       "    <tr>\n",
       "      <th>16</th>\n",
       "      <td>Papua New Guinea</td>\n",
       "      <td>NaN</td>\n",
       "      <td>NaN</td>\n",
       "    </tr>\n",
       "    <tr>\n",
       "      <th>17</th>\n",
       "      <td>Rwanda</td>\n",
       "      <td>NaN</td>\n",
       "      <td>NaN</td>\n",
       "    </tr>\n",
       "    <tr>\n",
       "      <th>18</th>\n",
       "      <td>Sao Tome and Principe</td>\n",
       "      <td>NaN</td>\n",
       "      <td>NaN</td>\n",
       "    </tr>\n",
       "    <tr>\n",
       "      <th>19</th>\n",
       "      <td>Solomon Islands</td>\n",
       "      <td>NaN</td>\n",
       "      <td>NaN</td>\n",
       "    </tr>\n",
       "    <tr>\n",
       "      <th>20</th>\n",
       "      <td>Swaziland</td>\n",
       "      <td>NaN</td>\n",
       "      <td>NaN</td>\n",
       "    </tr>\n",
       "    <tr>\n",
       "      <th>21</th>\n",
       "      <td>Togo</td>\n",
       "      <td>NaN</td>\n",
       "      <td>NaN</td>\n",
       "    </tr>\n",
       "    <tr>\n",
       "      <th>22</th>\n",
       "      <td>Uganda</td>\n",
       "      <td>NaN</td>\n",
       "      <td>NaN</td>\n",
       "    </tr>\n",
       "    <tr>\n",
       "      <th>23</th>\n",
       "      <td>Vanuatu</td>\n",
       "      <td>NaN</td>\n",
       "      <td>NaN</td>\n",
       "    </tr>\n",
       "    <tr>\n",
       "      <th>24</th>\n",
       "      <td>Zambia</td>\n",
       "      <td>NaN</td>\n",
       "      <td>NaN</td>\n",
       "    </tr>\n",
       "  </tbody>\n",
       "</table>\n",
       "</div>"
      ],
      "text/plain": [
       "                        0                         1                  2\n",
       "0             Afghanistan  Central African Republic             Angola\n",
       "1              Bangladesh                      Chad       Burkina Faso\n",
       "2                   Benin                  Djibouti  Equatorial Guinea\n",
       "3                  Bhutan                  Ethiopia              Haiti\n",
       "4                 Burundi                    Guinea            Nigeria\n",
       "5                Cambodia             Guinea-Bissau           Zimbabwe\n",
       "6                Cameroon                      Mali                NaN\n",
       "7                 Comoros                Mauritania                NaN\n",
       "8                   Ghana                Mozambique                NaN\n",
       "9                   Kenya                   Myanmar                NaN\n",
       "10               Kiribati                     Niger                NaN\n",
       "11                Lesotho                  Pakistan                NaN\n",
       "12                Liberia                   Senegal                NaN\n",
       "13             Madagascar              Sierra Leone                NaN\n",
       "14                 Malawi                     Sudan                NaN\n",
       "15                  Nepal                       NaN                NaN\n",
       "16       Papua New Guinea                       NaN                NaN\n",
       "17                 Rwanda                       NaN                NaN\n",
       "18  Sao Tome and Principe                       NaN                NaN\n",
       "19        Solomon Islands                       NaN                NaN\n",
       "20              Swaziland                       NaN                NaN\n",
       "21                   Togo                       NaN                NaN\n",
       "22                 Uganda                       NaN                NaN\n",
       "23                Vanuatu                       NaN                NaN\n",
       "24                 Zambia                       NaN                NaN"
      ]
     },
     "execution_count": 122,
     "metadata": {},
     "output_type": "execute_result"
    }
   ],
   "source": [
    "df_ = df_alcool06.copy()\n",
    "name_countries_classificated(df_, kmeans.labels_)"
   ]
  },
  {
   "cell_type": "code",
   "execution_count": 123,
   "id": "9b64ef7c",
   "metadata": {},
   "outputs": [
    {
     "data": {
      "text/html": [
       "<div>\n",
       "<style scoped>\n",
       "    .dataframe tbody tr th:only-of-type {\n",
       "        vertical-align: middle;\n",
       "    }\n",
       "\n",
       "    .dataframe tbody tr th {\n",
       "        vertical-align: top;\n",
       "    }\n",
       "\n",
       "    .dataframe thead th {\n",
       "        text-align: right;\n",
       "    }\n",
       "</style>\n",
       "<table border=\"1\" class=\"dataframe\">\n",
       "  <thead>\n",
       "    <tr style=\"text-align: right;\">\n",
       "      <th></th>\n",
       "      <th>Schooling</th>\n",
       "      <th>Alcohol</th>\n",
       "    </tr>\n",
       "  </thead>\n",
       "  <tbody>\n",
       "    <tr>\n",
       "      <th>Schooling</th>\n",
       "      <td>1.000000</td>\n",
       "      <td>-0.039555</td>\n",
       "    </tr>\n",
       "    <tr>\n",
       "      <th>Alcohol</th>\n",
       "      <td>-0.039555</td>\n",
       "      <td>1.000000</td>\n",
       "    </tr>\n",
       "  </tbody>\n",
       "</table>\n",
       "</div>"
      ],
      "text/plain": [
       "           Schooling   Alcohol\n",
       "Schooling   1.000000 -0.039555\n",
       "Alcohol    -0.039555  1.000000"
      ]
     },
     "execution_count": 123,
     "metadata": {},
     "output_type": "execute_result"
    }
   ],
   "source": [
    "df_alcool06[[\"Schooling\", \"Alcohol\"]].corr()"
   ]
  },
  {
   "cell_type": "markdown",
   "id": "89182d2c",
   "metadata": {},
   "source": [
    "Existe uma correlação negativa muito fraca entre escolaridade e consumo de álcool."
   ]
  },
  {
   "cell_type": "markdown",
   "id": "8d4f8d35",
   "metadata": {},
   "source": [
    "## Países com IDH entre 0.601 e 0.800"
   ]
  },
  {
   "cell_type": "code",
   "execution_count": 124,
   "id": "7f2dc621",
   "metadata": {},
   "outputs": [
    {
     "name": "stderr",
     "output_type": "stream",
     "text": [
      "C:\\Users\\bergs\\anaconda3\\lib\\site-packages\\sklearn\\cluster\\_kmeans.py:881: UserWarning: KMeans is known to have a memory leak on Windows with MKL, when there are less chunks than available threads. You can avoid it by setting the environment variable OMP_NUM_THREADS=1.\n",
      "  warnings.warn(\n"
     ]
    },
    {
     "data": {
      "image/png": "[encoded data removed]",
      "text/plain": [
       "<Figure size 432x288 with 1 Axes>"
      ]
     },
     "metadata": {
      "needs_background": "light"
     },
     "output_type": "display_data"
    }
   ],
   "source": [
    "quantidade_k(df_alcool68, \"Schooling\", \"Alcohol\")"
   ]
  },
  {
   "cell_type": "code",
   "execution_count": 125,
   "id": "b8cdf3b8",
   "metadata": {},
   "outputs": [
    {
     "data": {
      "text/plain": [
       "<AxesSubplot:xlabel='Alcohol', ylabel='Schooling'>"
      ]
     },
     "execution_count": 125,
     "metadata": {},
     "output_type": "execute_result"
    },
    {
     "data": {
      "image/png": "[encoded data removed]",
      "text/plain": [
       "<Figure size 432x288 with 1 Axes>"
      ]
     },
     "metadata": {
      "needs_background": "light"
     },
     "output_type": "display_data"
    }
   ],
   "source": [
    "kmeans = KMeans(n_clusters = 3)\n",
    "kmeans.fit(df_alcool68[[\"Schooling\", \"Alcohol\"]])\n",
    "sns.scatterplot(data = df_alcool68, x = \"Alcohol\", y = \"Schooling\", hue = kmeans.labels_)"
   ]
  },
  {
   "cell_type": "code",
   "execution_count": 126,
   "id": "8940f6cf",
   "metadata": {},
   "outputs": [
    {
     "data": {
      "text/html": [
       "<div>\n",
       "<style scoped>\n",
       "    .dataframe tbody tr th:only-of-type {\n",
       "        vertical-align: middle;\n",
       "    }\n",
       "\n",
       "    .dataframe tbody tr th {\n",
       "        vertical-align: top;\n",
       "    }\n",
       "\n",
       "    .dataframe thead th {\n",
       "        text-align: right;\n",
       "    }\n",
       "</style>\n",
       "<table border=\"1\" class=\"dataframe\">\n",
       "  <thead>\n",
       "    <tr style=\"text-align: right;\">\n",
       "      <th></th>\n",
       "      <th>0</th>\n",
       "      <th>1</th>\n",
       "      <th>2</th>\n",
       "    </tr>\n",
       "  </thead>\n",
       "  <tbody>\n",
       "    <tr>\n",
       "      <th>0</th>\n",
       "      <td>Albania</td>\n",
       "      <td>Algeria</td>\n",
       "      <td>Antigua and Barbuda</td>\n",
       "    </tr>\n",
       "    <tr>\n",
       "      <th>1</th>\n",
       "      <td>Armenia</td>\n",
       "      <td>Azerbaijan</td>\n",
       "      <td>Barbados</td>\n",
       "    </tr>\n",
       "    <tr>\n",
       "      <th>2</th>\n",
       "      <td>Belize</td>\n",
       "      <td>Botswana</td>\n",
       "      <td>Belarus</td>\n",
       "    </tr>\n",
       "    <tr>\n",
       "      <th>3</th>\n",
       "      <td>Bosnia and Herzegovina</td>\n",
       "      <td>Cabo Verde</td>\n",
       "      <td>Brazil</td>\n",
       "    </tr>\n",
       "    <tr>\n",
       "      <th>4</th>\n",
       "      <td>China</td>\n",
       "      <td>El Salvador</td>\n",
       "      <td>Bulgaria</td>\n",
       "    </tr>\n",
       "    <tr>\n",
       "      <th>5</th>\n",
       "      <td>Colombia</td>\n",
       "      <td>Fiji</td>\n",
       "      <td>Gabon</td>\n",
       "    </tr>\n",
       "    <tr>\n",
       "      <th>6</th>\n",
       "      <td>Costa Rica</td>\n",
       "      <td>Guatemala</td>\n",
       "      <td>Georgia</td>\n",
       "    </tr>\n",
       "    <tr>\n",
       "      <th>7</th>\n",
       "      <td>Cuba</td>\n",
       "      <td>Indonesia</td>\n",
       "      <td>Grenada</td>\n",
       "    </tr>\n",
       "    <tr>\n",
       "      <th>8</th>\n",
       "      <td>Dominican Republic</td>\n",
       "      <td>Iraq</td>\n",
       "      <td>Romania</td>\n",
       "    </tr>\n",
       "    <tr>\n",
       "      <th>9</th>\n",
       "      <td>Ecuador</td>\n",
       "      <td>Jordan</td>\n",
       "      <td>Russian Federation</td>\n",
       "    </tr>\n",
       "    <tr>\n",
       "      <th>10</th>\n",
       "      <td>Guyana</td>\n",
       "      <td>Kuwait</td>\n",
       "      <td>Serbia</td>\n",
       "    </tr>\n",
       "    <tr>\n",
       "      <th>11</th>\n",
       "      <td>Honduras</td>\n",
       "      <td>Lebanon</td>\n",
       "      <td>Ukraine</td>\n",
       "    </tr>\n",
       "    <tr>\n",
       "      <th>12</th>\n",
       "      <td>Jamaica</td>\n",
       "      <td>Malaysia</td>\n",
       "      <td>NaN</td>\n",
       "    </tr>\n",
       "    <tr>\n",
       "      <th>13</th>\n",
       "      <td>Kazakhstan</td>\n",
       "      <td>Maldives</td>\n",
       "      <td>NaN</td>\n",
       "    </tr>\n",
       "    <tr>\n",
       "      <th>14</th>\n",
       "      <td>Mexico</td>\n",
       "      <td>Mauritius</td>\n",
       "      <td>NaN</td>\n",
       "    </tr>\n",
       "    <tr>\n",
       "      <th>15</th>\n",
       "      <td>Nicaragua</td>\n",
       "      <td>Mongolia</td>\n",
       "      <td>NaN</td>\n",
       "    </tr>\n",
       "    <tr>\n",
       "      <th>16</th>\n",
       "      <td>Panama</td>\n",
       "      <td>Montenegro</td>\n",
       "      <td>NaN</td>\n",
       "    </tr>\n",
       "    <tr>\n",
       "      <th>17</th>\n",
       "      <td>Paraguay</td>\n",
       "      <td>Morocco</td>\n",
       "      <td>NaN</td>\n",
       "    </tr>\n",
       "    <tr>\n",
       "      <th>18</th>\n",
       "      <td>Peru</td>\n",
       "      <td>Namibia</td>\n",
       "      <td>NaN</td>\n",
       "    </tr>\n",
       "    <tr>\n",
       "      <th>19</th>\n",
       "      <td>Philippines</td>\n",
       "      <td>Oman</td>\n",
       "      <td>NaN</td>\n",
       "    </tr>\n",
       "    <tr>\n",
       "      <th>20</th>\n",
       "      <td>South Africa</td>\n",
       "      <td>Samoa</td>\n",
       "      <td>NaN</td>\n",
       "    </tr>\n",
       "    <tr>\n",
       "      <th>21</th>\n",
       "      <td>Suriname</td>\n",
       "      <td>Seychelles</td>\n",
       "      <td>NaN</td>\n",
       "    </tr>\n",
       "    <tr>\n",
       "      <th>22</th>\n",
       "      <td>Thailand</td>\n",
       "      <td>Sri Lanka</td>\n",
       "      <td>NaN</td>\n",
       "    </tr>\n",
       "    <tr>\n",
       "      <th>23</th>\n",
       "      <td>Trinidad and Tobago</td>\n",
       "      <td>Tajikistan</td>\n",
       "      <td>NaN</td>\n",
       "    </tr>\n",
       "    <tr>\n",
       "      <th>24</th>\n",
       "      <td>Uruguay</td>\n",
       "      <td>Timor-Leste</td>\n",
       "      <td>NaN</td>\n",
       "    </tr>\n",
       "    <tr>\n",
       "      <th>25</th>\n",
       "      <td>NaN</td>\n",
       "      <td>Tonga</td>\n",
       "      <td>NaN</td>\n",
       "    </tr>\n",
       "    <tr>\n",
       "      <th>26</th>\n",
       "      <td>NaN</td>\n",
       "      <td>Tunisia</td>\n",
       "      <td>NaN</td>\n",
       "    </tr>\n",
       "    <tr>\n",
       "      <th>27</th>\n",
       "      <td>NaN</td>\n",
       "      <td>Turkey</td>\n",
       "      <td>NaN</td>\n",
       "    </tr>\n",
       "    <tr>\n",
       "      <th>28</th>\n",
       "      <td>NaN</td>\n",
       "      <td>Turkmenistan</td>\n",
       "      <td>NaN</td>\n",
       "    </tr>\n",
       "    <tr>\n",
       "      <th>29</th>\n",
       "      <td>NaN</td>\n",
       "      <td>Uzbekistan</td>\n",
       "      <td>NaN</td>\n",
       "    </tr>\n",
       "  </tbody>\n",
       "</table>\n",
       "</div>"
      ],
      "text/plain": [
       "                         0             1                    2\n",
       "0                  Albania       Algeria  Antigua and Barbuda\n",
       "1                  Armenia    Azerbaijan             Barbados\n",
       "2                   Belize      Botswana              Belarus\n",
       "3   Bosnia and Herzegovina    Cabo Verde               Brazil\n",
       "4                    China   El Salvador             Bulgaria\n",
       "5                 Colombia          Fiji                Gabon\n",
       "6               Costa Rica     Guatemala              Georgia\n",
       "7                     Cuba     Indonesia              Grenada\n",
       "8       Dominican Republic          Iraq              Romania\n",
       "9                  Ecuador        Jordan   Russian Federation\n",
       "10                  Guyana        Kuwait               Serbia\n",
       "11                Honduras       Lebanon              Ukraine\n",
       "12                 Jamaica      Malaysia                  NaN\n",
       "13              Kazakhstan      Maldives                  NaN\n",
       "14                  Mexico     Mauritius                  NaN\n",
       "15               Nicaragua      Mongolia                  NaN\n",
       "16                  Panama    Montenegro                  NaN\n",
       "17                Paraguay       Morocco                  NaN\n",
       "18                    Peru       Namibia                  NaN\n",
       "19             Philippines          Oman                  NaN\n",
       "20            South Africa         Samoa                  NaN\n",
       "21                Suriname    Seychelles                  NaN\n",
       "22                Thailand     Sri Lanka                  NaN\n",
       "23     Trinidad and Tobago    Tajikistan                  NaN\n",
       "24                 Uruguay   Timor-Leste                  NaN\n",
       "25                     NaN         Tonga                  NaN\n",
       "26                     NaN       Tunisia                  NaN\n",
       "27                     NaN        Turkey                  NaN\n",
       "28                     NaN  Turkmenistan                  NaN\n",
       "29                     NaN    Uzbekistan                  NaN"
      ]
     },
     "execution_count": 126,
     "metadata": {},
     "output_type": "execute_result"
    }
   ],
   "source": [
    "df_ = df_alcool68.copy()\n",
    "name_countries_classificated(df_, kmeans.labels_)"
   ]
  },
  {
   "cell_type": "code",
   "execution_count": 127,
   "id": "032372cc",
   "metadata": {},
   "outputs": [
    {
     "data": {
      "text/html": [
       "<div>\n",
       "<style scoped>\n",
       "    .dataframe tbody tr th:only-of-type {\n",
       "        vertical-align: middle;\n",
       "    }\n",
       "\n",
       "    .dataframe tbody tr th {\n",
       "        vertical-align: top;\n",
       "    }\n",
       "\n",
       "    .dataframe thead th {\n",
       "        text-align: right;\n",
       "    }\n",
       "</style>\n",
       "<table border=\"1\" class=\"dataframe\">\n",
       "  <thead>\n",
       "    <tr style=\"text-align: right;\">\n",
       "      <th></th>\n",
       "      <th>Schooling</th>\n",
       "      <th>Alcohol</th>\n",
       "    </tr>\n",
       "  </thead>\n",
       "  <tbody>\n",
       "    <tr>\n",
       "      <th>Schooling</th>\n",
       "      <td>1.000000</td>\n",
       "      <td>0.335941</td>\n",
       "    </tr>\n",
       "    <tr>\n",
       "      <th>Alcohol</th>\n",
       "      <td>0.335941</td>\n",
       "      <td>1.000000</td>\n",
       "    </tr>\n",
       "  </tbody>\n",
       "</table>\n",
       "</div>"
      ],
      "text/plain": [
       "           Schooling   Alcohol\n",
       "Schooling   1.000000  0.335941\n",
       "Alcohol     0.335941  1.000000"
      ]
     },
     "execution_count": 127,
     "metadata": {},
     "output_type": "execute_result"
    }
   ],
   "source": [
    "df_alcool68[[\"Schooling\", \"Alcohol\"]].corr()"
   ]
  },
  {
   "cell_type": "markdown",
   "id": "6bbfc17a",
   "metadata": {},
   "source": [
    "Existe uma correlação fraca entre escolaridade e consumo de álcool."
   ]
  },
  {
   "cell_type": "markdown",
   "id": "b2e416ae",
   "metadata": {},
   "source": [
    "## Países com IDH acima de 0.800"
   ]
  },
  {
   "cell_type": "code",
   "execution_count": 128,
   "id": "ff49461a",
   "metadata": {},
   "outputs": [
    {
     "name": "stderr",
     "output_type": "stream",
     "text": [
      "C:\\Users\\bergs\\anaconda3\\lib\\site-packages\\sklearn\\cluster\\_kmeans.py:881: UserWarning: KMeans is known to have a memory leak on Windows with MKL, when there are less chunks than available threads. You can avoid it by setting the environment variable OMP_NUM_THREADS=1.\n",
      "  warnings.warn(\n"
     ]
    },
    {
     "data": {
      "image/png": "[encoded data removed]",
      "text/plain": [
       "<Figure size 432x288 with 1 Axes>"
      ]
     },
     "metadata": {
      "needs_background": "light"
     },
     "output_type": "display_data"
    }
   ],
   "source": [
    "quantidade_k(df_alcool8, \"Schooling\", \"Alcohol\")"
   ]
  },
  {
   "cell_type": "code",
   "execution_count": 129,
   "id": "6d009aa4",
   "metadata": {},
   "outputs": [
    {
     "data": {
      "text/plain": [
       "<AxesSubplot:xlabel='Alcohol', ylabel='Schooling'>"
      ]
     },
     "execution_count": 129,
     "metadata": {},
     "output_type": "execute_result"
    },
    {
     "data": {
      "image/png": "[encoded data removed]",
      "text/plain": [
       "<Figure size 432x288 with 1 Axes>"
      ]
     },
     "metadata": {
      "needs_background": "light"
     },
     "output_type": "display_data"
    }
   ],
   "source": [
    "kmeans = KMeans(n_clusters = 3)\n",
    "kmeans.fit(df_alcool8[[\"Schooling\", \"Alcohol\"]])\n",
    "sns.scatterplot(data = df_alcool8, x = \"Alcohol\", y = \"Schooling\", hue = kmeans.labels_)"
   ]
  },
  {
   "cell_type": "code",
   "execution_count": 130,
   "id": "fdd039d8",
   "metadata": {},
   "outputs": [
    {
     "data": {
      "text/html": [
       "<div>\n",
       "<style scoped>\n",
       "    .dataframe tbody tr th:only-of-type {\n",
       "        vertical-align: middle;\n",
       "    }\n",
       "\n",
       "    .dataframe tbody tr th {\n",
       "        vertical-align: top;\n",
       "    }\n",
       "\n",
       "    .dataframe thead th {\n",
       "        text-align: right;\n",
       "    }\n",
       "</style>\n",
       "<table border=\"1\" class=\"dataframe\">\n",
       "  <thead>\n",
       "    <tr style=\"text-align: right;\">\n",
       "      <th></th>\n",
       "      <th>0</th>\n",
       "      <th>1</th>\n",
       "      <th>2</th>\n",
       "    </tr>\n",
       "  </thead>\n",
       "  <tbody>\n",
       "    <tr>\n",
       "      <th>0</th>\n",
       "      <td>Argentina</td>\n",
       "      <td>Bahrain</td>\n",
       "      <td>Austria</td>\n",
       "    </tr>\n",
       "    <tr>\n",
       "      <th>1</th>\n",
       "      <td>Australia</td>\n",
       "      <td>Brunei Darussalam</td>\n",
       "      <td>Belgium</td>\n",
       "    </tr>\n",
       "    <tr>\n",
       "      <th>2</th>\n",
       "      <td>Canada</td>\n",
       "      <td>Estonia</td>\n",
       "      <td>Croatia</td>\n",
       "    </tr>\n",
       "    <tr>\n",
       "      <th>3</th>\n",
       "      <td>Chile</td>\n",
       "      <td>Israel</td>\n",
       "      <td>Cyprus</td>\n",
       "    </tr>\n",
       "    <tr>\n",
       "      <th>4</th>\n",
       "      <td>Denmark</td>\n",
       "      <td>Qatar</td>\n",
       "      <td>France</td>\n",
       "    </tr>\n",
       "    <tr>\n",
       "      <th>5</th>\n",
       "      <td>Finland</td>\n",
       "      <td>Saudi Arabia</td>\n",
       "      <td>Germany</td>\n",
       "    </tr>\n",
       "    <tr>\n",
       "      <th>6</th>\n",
       "      <td>Greece</td>\n",
       "      <td>Singapore</td>\n",
       "      <td>Hungary</td>\n",
       "    </tr>\n",
       "    <tr>\n",
       "      <th>7</th>\n",
       "      <td>Iceland</td>\n",
       "      <td>United Arab Emirates</td>\n",
       "      <td>Ireland</td>\n",
       "    </tr>\n",
       "    <tr>\n",
       "      <th>8</th>\n",
       "      <td>Italy</td>\n",
       "      <td>NaN</td>\n",
       "      <td>Latvia</td>\n",
       "    </tr>\n",
       "    <tr>\n",
       "      <th>9</th>\n",
       "      <td>Japan</td>\n",
       "      <td>NaN</td>\n",
       "      <td>Lithuania</td>\n",
       "    </tr>\n",
       "    <tr>\n",
       "      <th>10</th>\n",
       "      <td>Malta</td>\n",
       "      <td>NaN</td>\n",
       "      <td>Luxembourg</td>\n",
       "    </tr>\n",
       "    <tr>\n",
       "      <th>11</th>\n",
       "      <td>Netherlands</td>\n",
       "      <td>NaN</td>\n",
       "      <td>Poland</td>\n",
       "    </tr>\n",
       "    <tr>\n",
       "      <th>12</th>\n",
       "      <td>New Zealand</td>\n",
       "      <td>NaN</td>\n",
       "      <td>Portugal</td>\n",
       "    </tr>\n",
       "    <tr>\n",
       "      <th>13</th>\n",
       "      <td>Norway</td>\n",
       "      <td>NaN</td>\n",
       "      <td>Slovenia</td>\n",
       "    </tr>\n",
       "    <tr>\n",
       "      <th>14</th>\n",
       "      <td>Spain</td>\n",
       "      <td>NaN</td>\n",
       "      <td>Switzerland</td>\n",
       "    </tr>\n",
       "    <tr>\n",
       "      <th>15</th>\n",
       "      <td>Sweden</td>\n",
       "      <td>NaN</td>\n",
       "      <td>NaN</td>\n",
       "    </tr>\n",
       "  </tbody>\n",
       "</table>\n",
       "</div>"
      ],
      "text/plain": [
       "              0                     1            2\n",
       "0     Argentina               Bahrain      Austria\n",
       "1     Australia     Brunei Darussalam      Belgium\n",
       "2        Canada               Estonia      Croatia\n",
       "3         Chile                Israel       Cyprus\n",
       "4       Denmark                 Qatar       France\n",
       "5       Finland          Saudi Arabia      Germany\n",
       "6        Greece             Singapore      Hungary\n",
       "7       Iceland  United Arab Emirates      Ireland\n",
       "8         Italy                   NaN       Latvia\n",
       "9         Japan                   NaN    Lithuania\n",
       "10        Malta                   NaN   Luxembourg\n",
       "11  Netherlands                   NaN       Poland\n",
       "12  New Zealand                   NaN     Portugal\n",
       "13       Norway                   NaN     Slovenia\n",
       "14        Spain                   NaN  Switzerland\n",
       "15       Sweden                   NaN          NaN"
      ]
     },
     "execution_count": 130,
     "metadata": {},
     "output_type": "execute_result"
    }
   ],
   "source": [
    "df_ = df_alcool8.copy()\n",
    "name_countries_classificated(df_, kmeans.labels_)"
   ]
  },
  {
   "cell_type": "code",
   "execution_count": 131,
   "id": "9a18d23a",
   "metadata": {},
   "outputs": [
    {
     "data": {
      "text/html": [
       "<div>\n",
       "<style scoped>\n",
       "    .dataframe tbody tr th:only-of-type {\n",
       "        vertical-align: middle;\n",
       "    }\n",
       "\n",
       "    .dataframe tbody tr th {\n",
       "        vertical-align: top;\n",
       "    }\n",
       "\n",
       "    .dataframe thead th {\n",
       "        text-align: right;\n",
       "    }\n",
       "</style>\n",
       "<table border=\"1\" class=\"dataframe\">\n",
       "  <thead>\n",
       "    <tr style=\"text-align: right;\">\n",
       "      <th></th>\n",
       "      <th>Schooling</th>\n",
       "      <th>Alcohol</th>\n",
       "    </tr>\n",
       "  </thead>\n",
       "  <tbody>\n",
       "    <tr>\n",
       "      <th>Schooling</th>\n",
       "      <td>1.00000</td>\n",
       "      <td>0.34435</td>\n",
       "    </tr>\n",
       "    <tr>\n",
       "      <th>Alcohol</th>\n",
       "      <td>0.34435</td>\n",
       "      <td>1.00000</td>\n",
       "    </tr>\n",
       "  </tbody>\n",
       "</table>\n",
       "</div>"
      ],
      "text/plain": [
       "           Schooling  Alcohol\n",
       "Schooling    1.00000  0.34435\n",
       "Alcohol      0.34435  1.00000"
      ]
     },
     "execution_count": 131,
     "metadata": {},
     "output_type": "execute_result"
    }
   ],
   "source": [
    "df_alcool8[[\"Schooling\", \"Alcohol\"]].corr()"
   ]
  },
  {
   "cell_type": "markdown",
   "id": "5ff421a5",
   "metadata": {},
   "source": [
    "Há uma correlação fraca entre consumo de álcool e escolaridade."
   ]
  },
  {
   "cell_type": "markdown",
   "id": "81a9896d",
   "metadata": {},
   "source": [
    "## -*Resultados obtidos*"
   ]
  },
  {
   "cell_type": "markdown",
   "id": "78f12e0c",
   "metadata": {},
   "source": [
    "- Países com IDH até 0.600: Existe uma correlação negativa muito fraca entre escolaridade e consumo de álcool.\n",
    "- Países com IDH entre 0.601 e 0.800: Existe uma correlação fraca entre a escolaridade e o consumo de álcool.\n",
    "- Países com IDH acima de 0.800: Há uma correlação fraca entre escolaridade e consumo de álcool.\n",
    "- Conclusão: Existe uma correlação fraca entre escolaridade e consumo de álcool presente em países que não são predominantemente muçulmanos."
   ]
  },
  {
   "cell_type": "markdown",
   "id": "7b414e72",
   "metadata": {},
   "source": [
    "# CONCLUSÕES FINAIS\n"
   ]
  },
  {
   "cell_type": "markdown",
   "id": "f3fcc482",
   "metadata": {},
   "source": [
    "## Limitações, trabalhos futuros e melhorias que podem ser feitas"
   ]
  },
  {
   "cell_type": "markdown",
   "id": "cfb7efa0",
   "metadata": {},
   "source": [
    "### Limitações\n",
    "1. O dataset possui alguns países com dados inválidos ou em falta. Algumas unidades de medida não estão bem informadas.\n",
    "2. Ao analisar o consumo de álcool, muitos países possuem um consumo próximo de zero por se tratarem de países muçulmanos, dificultando a correlação das perguntas 1 e 5.\n",
    "3. Não é possível fazer uma correlação generalizada dos fatores, pois o IDH influencia nessa correlação."
   ]
  },
  {
   "cell_type": "markdown",
   "id": "31e9673a",
   "metadata": {},
   "source": [
    "### Trabalhos futuros\n",
    "Procurar outros datasets que permitam uma análise de outros fatores, como fatores relacionados a imunização e fatores relacionados a mortalidade."
   ]
  },
  {
   "cell_type": "markdown",
   "id": "f0d8039a",
   "metadata": {},
   "source": [
    "### Melhorias que podem ser feitas"
   ]
  },
  {
   "cell_type": "markdown",
   "id": "b0309a98",
   "metadata": {},
   "source": [
    "1. Gerar gráficos de boxplot mais precisos, analisando os anos em que os dados do dataset são validados.\n",
    "2. Fazer uma análise de forma paralela à países muçulmanos e não muçulmanos no que tange às correlações envolvendo álcool."
   ]
  }
 ],
 "metadata": {
  "kernelspec": {
   "display_name": "Python 3 (ipykernel)",
   "language": "python",
   "name": "python3"
  },
  "language_info": {
   "codemirror_mode": {
    "name": "ipython",
    "version": 3
   },
   "file_extension": ".py",
   "mimetype": "text/x-python",
   "name": "python",
   "nbconvert_exporter": "python",
   "pygments_lexer": "ipython3",
   "version": "3.9.7"
  }
 },
 "nbformat": 4,
 "nbformat_minor": 5
}
