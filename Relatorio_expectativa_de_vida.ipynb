{
 "cells": [
  {
   "cell_type": "markdown",
   "id": "60ff6822",
   "metadata": {
    "id": "60ff6822"
   },
   "source": [
    "# EXPECTATIVA DE VIDA(OMS)\n",
    "*Uma breve análise de correlações entre fatores socioeconômicos.*\n",
    "\n",
    "## Nome dos integrantes\n",
    "**Bergson Gabriel da Silva Oliveira Melo, Lucas de Medeiros Linhares Gomes, Davi Cavalcanti de Mello.**\n",
    "\n",
    "# INTRODUÇÃO\n",
    "\n",
    "## Sobre o dataset \n",
    "O repositório de dados do Global Health Observatory (GHO) sob a Organização Mundial da Saúde (OMS) acompanha o estado da saúde, bem como muitos outros fatores relacionados para 193 países. Os conjuntos de dados são disponibilizados ao público para fins de contribuições através de análise de dados. Coletado do mesmo site de repositório de dados da OMS e seus dados econômicos correspondentes foram coletados do site das Nações Unidas. Entre todas as categorias de fatores relacionados à saúde, foram escolhidos apenas os fatores críticos que são mais representativos. Observou-se que nos últimos 15 anos houve um grande desenvolvimento no setor de saúde, resultando na melhoria das taxas de mortalidade humana, especialmente nas nações em desenvolvimento, em comparação com os últimos 30 anos. Portanto, neste dataset são considerado dados do ano 2000-2015. Os arquivos de dados individuais foram mesclados em um único conjunto de dados. O arquivo mesclado final (conjunto de dados final) consiste em 22 colunas e 2.938 linhas, o que significa 20 variáveis de previsão. Todas as variáveis de previsão foram então divididas em várias categorias amplas: fatores relacionados à imunização, fatores de mortalidade, fatores econômicos e fatores sociais.\n",
    "## Objetivos da análise\n",
    "Dado o diverso escopo de possibilidades de possíveis correlações entre as variáveis de previsão, decidimos nos concentrar em 5 perguntas chaves no qual julgamos interessantes para determinar alguns fatores socioeconômicos.\n",
    "\n",
    "- *Qual a relação existente entre o consumo de álcool e a expectativa de vida?*\n",
    "- *Países com maior escolaridade possuem maior expetativa de vida?*\n",
    "- *Existe uma relação entre o PIB per capita e os gastos governamentais com saúde?*\n",
    "- *Existe relação entre escolaridade e gastos pessoais com saúde?*\n",
    "- *Existe relação entre escolaridade e consumo de álcool?*\n",
    "\n",
    "\n",
    "\n",
    "\n",
    "\n"
   ]
  },
  {
   "cell_type": "markdown",
   "id": "cd49fecd",
   "metadata": {
    "id": "cd49fecd"
   },
   "source": [
    "# EXPLORAÇÃO INICIAL DOS DADOS\n",
    "\n",
    "## 1.Datasets utilizados\n"
   ]
  },
  {
   "cell_type": "code",
   "execution_count": 1,
   "id": "2df39c88",
   "metadata": {
    "id": "2df39c88"
   },
   "outputs": [],
   "source": [
    "import pandas as pd\n",
    "import numpy as np\n",
    "import seaborn as sns\n",
    "from sklearn.cluster import KMeans"
   ]
  },
  {
   "cell_type": "code",
   "execution_count": 2,
   "id": "6caafc4d",
   "metadata": {
    "id": "6caafc4d"
   },
   "outputs": [],
   "source": [
    "df_dados = pd.read_csv(\"Life Expectancy Data.csv\")"
   ]
  },
  {
   "cell_type": "markdown",
   "id": "4942d95c",
   "metadata": {
    "id": "4942d95c"
   },
   "source": [
    "Nem todas as colunas possuíam dados relevantes na análise desenvolvida, portanto as mais importantes foram selecionadas na cécula abaixo."
   ]
  },
  {
   "cell_type": "code",
   "execution_count": 3,
   "id": "80cd6f45",
   "metadata": {
    "id": "80cd6f45"
   },
   "outputs": [],
   "source": [
    "colunas_selecionadas = [\"Country\", \"Year\", \"Status\", \"Life expectancy \", \"infant deaths\", \"Alcohol\", \"percentage expenditure\", \"GDP\", \"Hepatitis B\",\n",
    "                     \" BMI \", \"under-five deaths \", \"Polio\", \"Total expenditure\", \"Diphtheria \", \" HIV/AIDS\",\n",
    "                     \" thinness  1-19 years\", \" thinness 5-9 years\", \"Income composition of resources\",\n",
    "                     \"Schooling\"]\n",
    "df_dados = df_dados[colunas_selecionadas]"
   ]
  },
  {
   "cell_type": "markdown",
   "id": "921138a3",
   "metadata": {
    "id": "921138a3"
   },
   "source": [
    "Para trabalhar com medidas como centralidade, dispersão e correlação, faz-se necessário que os dados sejam numéricos. O dataframe \"df_dados_numericos\" possui apenas colunas com dados numéricos."
   ]
  },
  {
   "cell_type": "code",
   "execution_count": 4,
   "id": "b4a008a1",
   "metadata": {
    "id": "b4a008a1"
   },
   "outputs": [],
   "source": [
    "df_dados_numericos = df_dados[[\"Life expectancy \", \"infant deaths\", \"Alcohol\", \"percentage expenditure\", \"GDP\", \"Hepatitis B\",\n",
    "                     \" BMI \", \"under-five deaths \", \"Polio\", \"Total expenditure\", \"Diphtheria \", \" HIV/AIDS\",\n",
    "                     \" thinness  1-19 years\", \" thinness 5-9 years\", \"Income composition of resources\",\n",
    "                     \"Schooling\"]]"
   ]
  },
  {
   "cell_type": "markdown",
   "id": "d169f62c",
   "metadata": {
    "id": "d169f62c"
   },
   "source": [
    "Como o dataframe possui dados do ano 2000 até o ano 2015, escolhemos um ano para realizar uma análise baseada nele. Isso deixa a visualização e correlação dos dados mais clara e precisa. O ano escolhido foi 2012, por ser o ano com a menor quantidade de dados em falta."
   ]
  },
  {
   "cell_type": "code",
   "execution_count": 5,
   "id": "4b033f9c",
   "metadata": {
    "id": "4b033f9c"
   },
   "outputs": [],
   "source": [
    "df_dados2012 = df_dados[df_dados[\"Year\"] == 2012]"
   ]
  },
  {
   "cell_type": "markdown",
   "id": "283feb84",
   "metadata": {
    "id": "283feb84"
   },
   "source": [
    "Para evitar dados incorretos (por eventuais erros de digitação do arquivo csv), utilizamos essas máscaras nas seguintes variáveis: "
   ]
  },
  {
   "cell_type": "code",
   "execution_count": 6,
   "id": "cd953974",
   "metadata": {
    "id": "cd953974"
   },
   "outputs": [],
   "source": [
    "df_dados2012 = df_dados2012[df_dados2012[\"Income composition of resources\"] > 0]\n",
    "df_dados2012 = df_dados2012[df_dados2012[\"Schooling\"] > 0]\n",
    "df_dados2012 = df_dados2012[df_dados2012[\"infant deaths\"] < 900]\n",
    "df_dados2012 = df_dados2012[df_dados2012[\"under-five deaths \"] < 900]\n",
    "df_dados2012 = df_dados2012[df_dados2012[\"GDP\"] > 0]"
   ]
  },
  {
   "cell_type": "markdown",
   "id": "66f6b8be",
   "metadata": {
    "id": "66f6b8be"
   },
   "source": [
    "Para o funcionamento do algoritmo KMeans, não podem haver valores NaN. Para não compremeter outras análises, foram feitos dataframes específicos retirando os valores NaN de algumas colunas."
   ]
  },
  {
   "cell_type": "code",
   "execution_count": 7,
   "id": "89e79026",
   "metadata": {
    "id": "89e79026"
   },
   "outputs": [],
   "source": [
    "df_alcool = df_dados2012.dropna(subset=[\"Alcohol\"])\n",
    "df_BMI = df_dados2012.dropna(subset=[\" BMI \"])"
   ]
  },
  {
   "cell_type": "markdown",
   "id": "eac25f30",
   "metadata": {
    "id": "eac25f30"
   },
   "source": [
    "## 2. Centralidade das variáveis"
   ]
  },
  {
   "cell_type": "code",
   "execution_count": 8,
   "id": "0dcbae32",
   "metadata": {
    "id": "0dcbae32"
   },
   "outputs": [],
   "source": [
    "def central(dfcoluna: pd.Series) -> dict[str, float]:\n",
    "    media = dfcoluna.mean()\n",
    "    mediana = dfcoluna.median()\n",
    "    moda = dfcoluna.mode().squeeze() \n",
    "    \n",
    "    return {\"Média\": media, \"Mediana\" : mediana, \"Moda\" : moda}"
   ]
  },
  {
   "cell_type": "markdown",
   "id": "Mg2AowMgJx95",
   "metadata": {
    "id": "Mg2AowMgJx95"
   },
   "source": [
    "A função acima foi definida para computar as medidas de centralidade das variáveis do dataset. A função recebe \"uma coluna de DataFrame\" (Pandas Series) e retorna um dicionário com as medidas de centralidade."
   ]
  },
  {
   "cell_type": "code",
   "execution_count": 9,
   "id": "f0f6f6dd",
   "metadata": {
    "id": "f0f6f6dd"
   },
   "outputs": [],
   "source": [
    "centralidade_das_variaveis = {}\n",
    "\n",
    "for coluna in df_dados_numericos.drop([\"GDP\"], axis = 1):   \n",
    "    dado = df_dados_numericos[coluna]\n",
    "    centralidade_das_variaveis[coluna] = central(dado)\n",
    "    \n",
    "GDP = df_dados_numericos[\"GDP\"]\n",
    "media_gdp = GDP.mean()\n",
    "mediana_gdp = GDP.median()\n",
    "centralidade_das_variaveis[\"GDP\"] = {\"Média\" : media_gdp, \"Mediana\" : mediana_gdp}\n"
   ]
  },
  {
   "cell_type": "markdown",
   "id": "5-a0DagxMQY_",
   "metadata": {
    "id": "5-a0DagxMQY_"
   },
   "source": [
    "A função de nome central foi aplicada a todas as colunas do dataset, com exceção de \"GDP\", visto que não se desejava calcular sua moda. O resultado foi armanezado no dicionário \"centralcentralidade_das_variaveis\", no qual as keys são os nomes das colunas e os values o resultado retornado da função central."
   ]
  },
  {
   "cell_type": "code",
   "execution_count": 10,
   "id": "52636c36",
   "metadata": {
    "id": "52636c36",
    "outputId": "d051871d-6e6b-49f4-e0ac-b6227ebbf58a"
   },
   "outputs": [
    {
     "data": {
      "text/plain": [
       "{'Life expectancy ': {'Média': 69.22493169398912,\n",
       "  'Mediana': 72.1,\n",
       "  'Moda': 73.0},\n",
       " 'infant deaths': {'Média': 30.303948264125257, 'Mediana': 3.0, 'Moda': 0},\n",
       " 'Alcohol': {'Média': 4.6028607871720375, 'Mediana': 3.755, 'Moda': 0.01},\n",
       " 'percentage expenditure': {'Média': 738.2512954533823,\n",
       "  'Mediana': 64.912906045,\n",
       "  'Moda': 0.0},\n",
       " 'Hepatitis B': {'Média': 80.94046121593291, 'Mediana': 92.0, 'Moda': 99.0},\n",
       " ' BMI ': {'Média': 38.32124655647373, 'Mediana': 43.5, 'Moda': 58.5},\n",
       " 'under-five deaths ': {'Média': 42.0357385976855, 'Mediana': 4.0, 'Moda': 0},\n",
       " 'Polio': {'Média': 82.55018842069202, 'Mediana': 93.0, 'Moda': 99.0},\n",
       " 'Total expenditure': {'Média': 5.9381895280235915,\n",
       "  'Mediana': 5.755,\n",
       "  'Moda': 4.6},\n",
       " 'Diphtheria ': {'Média': 82.32408359027065, 'Mediana': 93.0, 'Moda': 99.0},\n",
       " ' HIV/AIDS': {'Média': 1.7421034717494939, 'Mediana': 0.1, 'Moda': 0.1},\n",
       " ' thinness  1-19 years': {'Média': 4.8397038567493205,\n",
       "  'Mediana': 3.3,\n",
       "  'Moda': 1.0},\n",
       " ' thinness 5-9 years': {'Média': 4.870316804407711,\n",
       "  'Mediana': 3.3,\n",
       "  'Moda': 0.9},\n",
       " 'Income composition of resources': {'Média': 0.6275510645976166,\n",
       "  'Mediana': 0.677,\n",
       "  'Moda': 0.0},\n",
       " 'Schooling': {'Média': 11.992792792792786, 'Mediana': 12.3, 'Moda': 12.9},\n",
       " 'GDP': {'Média': 7483.158469138481, 'Mediana': 1766.947595}}"
      ]
     },
     "execution_count": 10,
     "metadata": {},
     "output_type": "execute_result"
    }
   ],
   "source": [
    "centralidade_das_variaveis"
   ]
  },
  {
   "cell_type": "markdown",
   "id": "f8e2e65e",
   "metadata": {
    "id": "f8e2e65e"
   },
   "source": [
    "## 3.Dispersão das variáveis\n"
   ]
  },
  {
   "cell_type": "code",
   "execution_count": 11,
   "id": "8o67U2BZPNSQ",
   "metadata": {
    "id": "8o67U2BZPNSQ"
   },
   "outputs": [],
   "source": [
    "def dispersao(dfcoluna:pd.Series) -> dict[str,float]:\n",
    "    variancia = np.var(dfcoluna)\n",
    "    desvio_p = np.std(dfcoluna) \n",
    "    return {\"Variância\": variancia, \"Desvio Padrão\" : desvio_p}"
   ]
  },
  {
   "cell_type": "markdown",
   "id": "cIcVoyhLM-6Z",
   "metadata": {
    "id": "cIcVoyhLM-6Z"
   },
   "source": [
    "Semelhante a função central, foi definida a função dispersao para calcular as medidas de dispersão das variáveis do dataset. A função recebe um objeto pandas Series e retorna um dicionário com os valores de variância e desvio padrão dos dados passados."
   ]
  },
  {
   "cell_type": "code",
   "execution_count": 12,
   "id": "57b5ef17",
   "metadata": {
    "id": "57b5ef17"
   },
   "outputs": [],
   "source": [
    "dispersao_das_variaveis = {}\n",
    "\n",
    "for colunas in df_dados_numericos:\n",
    "    dados2 = df_dados_numericos[colunas]\n",
    "    dispersao_das_variaveis[colunas] = dispersao(dados2)"
   ]
  },
  {
   "cell_type": "markdown",
   "id": "bd1RgTIEPrrt",
   "metadata": {
    "id": "bd1RgTIEPrrt"
   },
   "source": [
    "A função dispersao foi aplicada a todas as colunas do dataset e os resultados foram armazenados no dicionários dispersao_das_variaveis"
   ]
  },
  {
   "cell_type": "code",
   "execution_count": 13,
   "id": "b57ac9b0",
   "metadata": {
    "id": "b57ac9b0",
    "outputId": "466ca447-3582-48cf-bccf-7be6847d19e8",
    "scrolled": false
   },
   "outputs": [
    {
     "data": {
      "text/plain": [
       "{'Life expectancy ': {'Variância': 90.67307376582568,\n",
       "  'Desvio Padrão': 9.522241005447492},\n",
       " 'infant deaths': {'Variância': 13901.926335670341,\n",
       "  'Desvio Padrão': 117.90643042544517},\n",
       " 'Alcohol': {'Variância': 16.416063645342746,\n",
       "  'Desvio Padrão': 4.051674178082777},\n",
       " 'percentage expenditure': {'Variância': 3950460.4161855783,\n",
       "  'Desvio Padrão': 1987.5765183221447},\n",
       " 'GDP': {'Variância': 203555950.81344026, 'Desvio Padrão': 14267.303557906107},\n",
       " 'Hepatitis B': {'Variância': 628.2421574392729,\n",
       "  'Desvio Padrão': 25.06475927351533},\n",
       " ' BMI ': {'Variância': 401.6249308152427,\n",
       "  'Desvio Padrão': 20.040582097714694},\n",
       " 'under-five deaths ': {'Variância': 25734.011997089085,\n",
       "  'Desvio Padrão': 160.4182408490041},\n",
       " 'Polio': {'Variância': 548.6853022940603,\n",
       "  'Desvio Padrão': 23.424032579683207},\n",
       " 'Total expenditure': {'Variância': 6.239299708916882,\n",
       "  'Desvio Padrão': 2.497859025028611},\n",
       " 'Diphtheria ': {'Variância': 562.2992178566609,\n",
       "  'Desvio Padrão': 23.712849214226893},\n",
       " ' HIV/AIDS': {'Variância': 25.77511974150574,\n",
       "  'Desvio Padrão': 5.0769203008818},\n",
       " ' thinness  1-19 years': {'Variância': 19.531395366844496,\n",
       "  'Desvio Padrão': 4.419433828766361},\n",
       " ' thinness 5-9 years': {'Variância': 20.323016979524773,\n",
       "  'Desvio Padrão': 4.508105697465929},\n",
       " 'Income composition of resources': {'Variância': 0.04446425749706239,\n",
       "  'Desvio Padrão': 0.2108654962222658},\n",
       " 'Schooling': {'Variância': 11.278275984092264,\n",
       "  'Desvio Padrão': 3.3583144558084883}}"
      ]
     },
     "execution_count": 13,
     "metadata": {},
     "output_type": "execute_result"
    }
   ],
   "source": [
    "dispersao_das_variaveis"
   ]
  },
  {
   "cell_type": "markdown",
   "id": "d881387c",
   "metadata": {
    "id": "d881387c"
   },
   "source": [
    "## 4. Histograma de expectativa de vida"
   ]
  },
  {
   "cell_type": "code",
   "execution_count": 14,
   "id": "c2f4b189",
   "metadata": {
    "id": "c2f4b189",
    "outputId": "2c2ef511-cd88-4702-e57b-d8d93a350f33"
   },
   "outputs": [
    {
     "data": {
      "text/plain": [
       "<seaborn.axisgrid.FacetGrid at 0x2da296d6760>"
      ]
     },
     "execution_count": 14,
     "metadata": {},
     "output_type": "execute_result"
    },
    {
     "data": {
      "image/png": "[encoded data removed]",
      "text/plain": [
       "<Figure size 360x360 with 1 Axes>"
      ]
     },
     "metadata": {
      "needs_background": "light"
     },
     "output_type": "display_data"
    }
   ],
   "source": [
    "sns.displot(df_dados2012, x = \"Life expectancy \", bins = 10)"
   ]
  },
  {
   "cell_type": "markdown",
   "id": "41330677",
   "metadata": {
    "id": "41330677"
   },
   "source": [
    "# FATOR IDH\n",
    "*Os gráficos abaixo foram feitos com o objetivo de explicar a influência do IDH nos demais fatores e como essa influência foi solucionada.*"
   ]
  },
  {
   "cell_type": "code",
   "execution_count": 15,
   "id": "186e7276",
   "metadata": {
    "id": "186e7276"
   },
   "outputs": [],
   "source": [
    "def quantidade_k(df:pd.DataFrame, coluna1, coluna2):\n",
    "    dists = []\n",
    "    for i in range(1,10):\n",
    "        kmeans = KMeans(n_clusters = i)\n",
    "        kmeans.fit(df[[coluna1, coluna2]])\n",
    "        dists.append(kmeans.inertia_)\n",
    "    sns.lineplot(x = range(1,10), y = dists)"
   ]
  },
  {
   "cell_type": "markdown",
   "id": "f14d0d6e",
   "metadata": {
    "id": "f14d0d6e"
   },
   "source": [
    "A função acima (quantidade_k) é responsável por iniciar o algoritmo do KMeans. K varia de 1 até 10, e a função calcula as distâncias para cada valor de k. Ao final, é gerado um gráfico de linha com as distâncias de k no eixo Y e a quantidade de k no eixo X. A partir da análise do gráfico é possível escolher o valor de k mais apropriado para fazer o agrupamento. A função recebe um dataframe e o nome das duas colunas que serão agrupadas."
   ]
  },
  {
   "cell_type": "markdown",
   "id": "9d79fa3e",
   "metadata": {
    "id": "9d79fa3e"
   },
   "source": [
    "### Agrupamento entre expectativa de vida e IDH"
   ]
  },
  {
   "cell_type": "code",
   "execution_count": 16,
   "id": "4a60b36b",
   "metadata": {
    "id": "4a60b36b",
    "outputId": "d17b48b1-2f0a-4b13-ee0c-9bb6deea231f"
   },
   "outputs": [
    {
     "name": "stderr",
     "output_type": "stream",
     "text": [
      "C:\\Users\\bergs\\anaconda3\\lib\\site-packages\\sklearn\\cluster\\_kmeans.py:881: UserWarning: KMeans is known to have a memory leak on Windows with MKL, when there are less chunks than available threads. You can avoid it by setting the environment variable OMP_NUM_THREADS=1.\n",
      "  warnings.warn(\n"
     ]
    },
    {
     "data": {
      "image/png": "[encoded data removed]",
      "text/plain": [
       "<Figure size 432x288 with 1 Axes>"
      ]
     },
     "metadata": {
      "needs_background": "light"
     },
     "output_type": "display_data"
    }
   ],
   "source": [
    "quantidade_k(df_dados2012, \"Life expectancy \", \"Income composition of resources\")"
   ]
  },
  {
   "cell_type": "markdown",
   "id": "866ea438",
   "metadata": {
    "id": "866ea438"
   },
   "source": [
    "Acima está o gráfico gerado pela função \"quantidade_k\". A partir dele, escolhemos o valor de k para gerar o gráfico de agrupamento exibido abaixo."
   ]
  },
  {
   "cell_type": "code",
   "execution_count": 17,
   "id": "b888d7d5",
   "metadata": {
    "id": "b888d7d5",
    "outputId": "5f48778b-ab60-4fde-86a9-aa700b167d21"
   },
   "outputs": [
    {
     "data": {
      "text/plain": [
       "<AxesSubplot:xlabel='Life expectancy ', ylabel='Income composition of resources'>"
      ]
     },
     "execution_count": 17,
     "metadata": {},
     "output_type": "execute_result"
    },
    {
     "data": {
      "image/png": "[encoded data removed]",
      "text/plain": [
       "<Figure size 432x288 with 1 Axes>"
      ]
     },
     "metadata": {
      "needs_background": "light"
     },
     "output_type": "display_data"
    }
   ],
   "source": [
    "kmeans = KMeans(n_clusters = 4)\n",
    "kmeans.fit(df_dados2012[[\"Life expectancy \", \"Income composition of resources\"]])\n",
    "sns.scatterplot(data = df_dados2012, x = \"Life expectancy \", y = \"Income composition of resources\", hue = kmeans.labels_)"
   ]
  },
  {
   "cell_type": "code",
   "execution_count": 18,
   "id": "7651f473",
   "metadata": {
    "id": "7651f473",
    "outputId": "2db85130-44df-4336-ae59-4c7ec9fee630"
   },
   "outputs": [
    {
     "data": {
      "text/html": [
       "<div>\n",
       "<style scoped>\n",
       "    .dataframe tbody tr th:only-of-type {\n",
       "        vertical-align: middle;\n",
       "    }\n",
       "\n",
       "    .dataframe tbody tr th {\n",
       "        vertical-align: top;\n",
       "    }\n",
       "\n",
       "    .dataframe thead th {\n",
       "        text-align: right;\n",
       "    }\n",
       "</style>\n",
       "<table border=\"1\" class=\"dataframe\">\n",
       "  <thead>\n",
       "    <tr style=\"text-align: right;\">\n",
       "      <th></th>\n",
       "      <th>Life expectancy</th>\n",
       "      <th>Income composition of resources</th>\n",
       "    </tr>\n",
       "  </thead>\n",
       "  <tbody>\n",
       "    <tr>\n",
       "      <th>Life expectancy</th>\n",
       "      <td>1.00000</td>\n",
       "      <td>0.90082</td>\n",
       "    </tr>\n",
       "    <tr>\n",
       "      <th>Income composition of resources</th>\n",
       "      <td>0.90082</td>\n",
       "      <td>1.00000</td>\n",
       "    </tr>\n",
       "  </tbody>\n",
       "</table>\n",
       "</div>"
      ],
      "text/plain": [
       "                                 Life expectancy   \\\n",
       "Life expectancy                           1.00000   \n",
       "Income composition of resources           0.90082   \n",
       "\n",
       "                                 Income composition of resources  \n",
       "Life expectancy                                          0.90082  \n",
       "Income composition of resources                          1.00000  "
      ]
     },
     "execution_count": 18,
     "metadata": {},
     "output_type": "execute_result"
    }
   ],
   "source": [
    "df_dados2012[[\"Life expectancy \", \"Income composition of resources\"]].corr()"
   ]
  },
  {
   "cell_type": "markdown",
   "id": "b7efc205",
   "metadata": {
    "id": "b7efc205"
   },
   "source": [
    "O IDH é o fator que mais influencia na expectativa de vida dentre os dados analisados."
   ]
  },
  {
   "cell_type": "markdown",
   "id": "da9385a6",
   "metadata": {
    "id": "da9385a6"
   },
   "source": [
    "### Agrupamento entre consumo de álcool e expectativa de vida"
   ]
  },
  {
   "cell_type": "code",
   "execution_count": 19,
   "id": "995ecb58",
   "metadata": {
    "id": "995ecb58",
    "outputId": "6674289f-6a5d-4234-b72c-c4adb82df67f"
   },
   "outputs": [
    {
     "name": "stderr",
     "output_type": "stream",
     "text": [
      "C:\\Users\\bergs\\anaconda3\\lib\\site-packages\\sklearn\\cluster\\_kmeans.py:881: UserWarning: KMeans is known to have a memory leak on Windows with MKL, when there are less chunks than available threads. You can avoid it by setting the environment variable OMP_NUM_THREADS=1.\n",
      "  warnings.warn(\n"
     ]
    },
    {
     "data": {
      "image/png": "[encoded data removed]",
      "text/plain": [
       "<Figure size 432x288 with 1 Axes>"
      ]
     },
     "metadata": {
      "needs_background": "light"
     },
     "output_type": "display_data"
    }
   ],
   "source": [
    "quantidade_k(df_alcool, \"Alcohol\", \"Life expectancy \")"
   ]
  },
  {
   "cell_type": "code",
   "execution_count": 20,
   "id": "f0e9dc71",
   "metadata": {
    "id": "f0e9dc71",
    "outputId": "6622b944-48a6-4025-f302-8b925f7b1473"
   },
   "outputs": [
    {
     "data": {
      "text/plain": [
       "<AxesSubplot:xlabel='Life expectancy ', ylabel='Alcohol'>"
      ]
     },
     "execution_count": 20,
     "metadata": {},
     "output_type": "execute_result"
    },
    {
     "data": {
      "image/png": "[encoded data removed]",
      "text/plain": [
       "<Figure size 432x288 with 1 Axes>"
      ]
     },
     "metadata": {
      "needs_background": "light"
     },
     "output_type": "display_data"
    }
   ],
   "source": [
    "kmeans = KMeans(n_clusters = 5)\n",
    "kmeans.fit(df_alcool[[\"Alcohol\", \"Life expectancy \"]])\n",
    "sns.scatterplot(data = df_alcool, x = \"Life expectancy \", y = \"Alcohol\", hue = kmeans.labels_)"
   ]
  },
  {
   "cell_type": "code",
   "execution_count": 21,
   "id": "0e0dce0a",
   "metadata": {
    "id": "0e0dce0a",
    "outputId": "0d507735-c699-4d98-cc13-93d7fd82b552"
   },
   "outputs": [
    {
     "data": {
      "text/html": [
       "<div>\n",
       "<style scoped>\n",
       "    .dataframe tbody tr th:only-of-type {\n",
       "        vertical-align: middle;\n",
       "    }\n",
       "\n",
       "    .dataframe tbody tr th {\n",
       "        vertical-align: top;\n",
       "    }\n",
       "\n",
       "    .dataframe thead th {\n",
       "        text-align: right;\n",
       "    }\n",
       "</style>\n",
       "<table border=\"1\" class=\"dataframe\">\n",
       "  <thead>\n",
       "    <tr style=\"text-align: right;\">\n",
       "      <th></th>\n",
       "      <th>Life expectancy</th>\n",
       "      <th>Alcohol</th>\n",
       "    </tr>\n",
       "  </thead>\n",
       "  <tbody>\n",
       "    <tr>\n",
       "      <th>Life expectancy</th>\n",
       "      <td>1.000000</td>\n",
       "      <td>0.485464</td>\n",
       "    </tr>\n",
       "    <tr>\n",
       "      <th>Alcohol</th>\n",
       "      <td>0.485464</td>\n",
       "      <td>1.000000</td>\n",
       "    </tr>\n",
       "  </tbody>\n",
       "</table>\n",
       "</div>"
      ],
      "text/plain": [
       "                  Life expectancy    Alcohol\n",
       "Life expectancy           1.000000  0.485464\n",
       "Alcohol                   0.485464  1.000000"
      ]
     },
     "execution_count": 21,
     "metadata": {},
     "output_type": "execute_result"
    }
   ],
   "source": [
    "df_alcool[[\"Life expectancy \", \"Alcohol\"]].corr()"
   ]
  },
  {
   "cell_type": "markdown",
   "id": "4948b850",
   "metadata": {
    "id": "4948b850"
   },
   "source": [
    "### Agrupamento entre consumo de álcool e IDH"
   ]
  },
  {
   "cell_type": "code",
   "execution_count": 22,
   "id": "e266fe92",
   "metadata": {
    "id": "e266fe92",
    "outputId": "ac4976b2-e53b-4913-88aa-9659b210e34e"
   },
   "outputs": [
    {
     "name": "stderr",
     "output_type": "stream",
     "text": [
      "C:\\Users\\bergs\\anaconda3\\lib\\site-packages\\sklearn\\cluster\\_kmeans.py:881: UserWarning: KMeans is known to have a memory leak on Windows with MKL, when there are less chunks than available threads. You can avoid it by setting the environment variable OMP_NUM_THREADS=1.\n",
      "  warnings.warn(\n"
     ]
    },
    {
     "data": {
      "image/png": "[encoded data removed]",
      "text/plain": [
       "<Figure size 432x288 with 1 Axes>"
      ]
     },
     "metadata": {
      "needs_background": "light"
     },
     "output_type": "display_data"
    }
   ],
   "source": [
    "quantidade_k(df_alcool, \"Alcohol\", \"Income composition of resources\")"
   ]
  },
  {
   "cell_type": "code",
   "execution_count": 23,
   "id": "d028d624",
   "metadata": {
    "id": "d028d624",
    "outputId": "54a71ed7-379e-46da-b429-b23d7a0ca0c4"
   },
   "outputs": [
    {
     "data": {
      "text/plain": [
       "<AxesSubplot:xlabel='Income composition of resources', ylabel='Alcohol'>"
      ]
     },
     "execution_count": 23,
     "metadata": {},
     "output_type": "execute_result"
    },
    {
     "data": {
      "image/png": "[encoded data removed]",
      "text/plain": [
       "<Figure size 432x288 with 1 Axes>"
      ]
     },
     "metadata": {
      "needs_background": "light"
     },
     "output_type": "display_data"
    }
   ],
   "source": [
    "kmeans = KMeans(n_clusters = 3)\n",
    "kmeans.fit(df_alcool[[\"Alcohol\", \"Income composition of resources\"]])\n",
    "sns.scatterplot(data = df_alcool, x = \"Income composition of resources\", y = \"Alcohol\", hue = kmeans.labels_)"
   ]
  },
  {
   "cell_type": "code",
   "execution_count": 24,
   "id": "e81108cb",
   "metadata": {
    "id": "e81108cb",
    "outputId": "a00dc67a-9a16-41ca-cdce-92b7442db4e3"
   },
   "outputs": [
    {
     "data": {
      "text/html": [
       "<div>\n",
       "<style scoped>\n",
       "    .dataframe tbody tr th:only-of-type {\n",
       "        vertical-align: middle;\n",
       "    }\n",
       "\n",
       "    .dataframe tbody tr th {\n",
       "        vertical-align: top;\n",
       "    }\n",
       "\n",
       "    .dataframe thead th {\n",
       "        text-align: right;\n",
       "    }\n",
       "</style>\n",
       "<table border=\"1\" class=\"dataframe\">\n",
       "  <thead>\n",
       "    <tr style=\"text-align: right;\">\n",
       "      <th></th>\n",
       "      <th>Income composition of resources</th>\n",
       "      <th>Alcohol</th>\n",
       "    </tr>\n",
       "  </thead>\n",
       "  <tbody>\n",
       "    <tr>\n",
       "      <th>Income composition of resources</th>\n",
       "      <td>1.000000</td>\n",
       "      <td>0.601073</td>\n",
       "    </tr>\n",
       "    <tr>\n",
       "      <th>Alcohol</th>\n",
       "      <td>0.601073</td>\n",
       "      <td>1.000000</td>\n",
       "    </tr>\n",
       "  </tbody>\n",
       "</table>\n",
       "</div>"
      ],
      "text/plain": [
       "                                 Income composition of resources   Alcohol\n",
       "Income composition of resources                         1.000000  0.601073\n",
       "Alcohol                                                 0.601073  1.000000"
      ]
     },
     "execution_count": 24,
     "metadata": {},
     "output_type": "execute_result"
    }
   ],
   "source": [
    "df_alcool[[\"Income composition of resources\", \"Alcohol\"]].corr()"
   ]
  },
  {
   "cell_type": "markdown",
   "id": "dcda2ad6",
   "metadata": {
    "id": "dcda2ad6"
   },
   "source": [
    "### Agrupamento entre escolaridade e expectativa de vida"
   ]
  },
  {
   "cell_type": "code",
   "execution_count": 25,
   "id": "466f65ab",
   "metadata": {
    "id": "466f65ab",
    "outputId": "84bdb634-5599-4fce-b522-6a0e0361cf3f"
   },
   "outputs": [
    {
     "name": "stderr",
     "output_type": "stream",
     "text": [
      "C:\\Users\\bergs\\anaconda3\\lib\\site-packages\\sklearn\\cluster\\_kmeans.py:881: UserWarning: KMeans is known to have a memory leak on Windows with MKL, when there are less chunks than available threads. You can avoid it by setting the environment variable OMP_NUM_THREADS=1.\n",
      "  warnings.warn(\n"
     ]
    },
    {
     "data": {
      "image/png": "[encoded data removed]",
      "text/plain": [
       "<Figure size 432x288 with 1 Axes>"
      ]
     },
     "metadata": {
      "needs_background": "light"
     },
     "output_type": "display_data"
    }
   ],
   "source": [
    "quantidade_k(df_dados2012, \"Life expectancy \", \"Schooling\")"
   ]
  },
  {
   "cell_type": "code",
   "execution_count": 26,
   "id": "66c8113d",
   "metadata": {
    "id": "66c8113d",
    "outputId": "a926238f-4f83-4ccd-ed3b-153f222b6eac"
   },
   "outputs": [
    {
     "data": {
      "text/plain": [
       "<AxesSubplot:xlabel='Life expectancy ', ylabel='Schooling'>"
      ]
     },
     "execution_count": 26,
     "metadata": {},
     "output_type": "execute_result"
    },
    {
     "data": {
      "image/png": "[encoded data removed]",
      "text/plain": [
       "<Figure size 432x288 with 1 Axes>"
      ]
     },
     "metadata": {
      "needs_background": "light"
     },
     "output_type": "display_data"
    }
   ],
   "source": [
    "kmeans = KMeans(n_clusters = 4)\n",
    "kmeans.fit(df_dados2012[[\"Life expectancy \", \"Schooling\"]])\n",
    "sns.scatterplot(data = df_dados2012, x = \"Life expectancy \", y = \"Schooling\", hue = kmeans.labels_)"
   ]
  },
  {
   "cell_type": "code",
   "execution_count": 27,
   "id": "f7f7c612",
   "metadata": {
    "id": "f7f7c612",
    "outputId": "d998b89d-5534-4752-f590-8ae50728cbef"
   },
   "outputs": [
    {
     "data": {
      "text/html": [
       "<div>\n",
       "<style scoped>\n",
       "    .dataframe tbody tr th:only-of-type {\n",
       "        vertical-align: middle;\n",
       "    }\n",
       "\n",
       "    .dataframe tbody tr th {\n",
       "        vertical-align: top;\n",
       "    }\n",
       "\n",
       "    .dataframe thead th {\n",
       "        text-align: right;\n",
       "    }\n",
       "</style>\n",
       "<table border=\"1\" class=\"dataframe\">\n",
       "  <thead>\n",
       "    <tr style=\"text-align: right;\">\n",
       "      <th></th>\n",
       "      <th>Life expectancy</th>\n",
       "      <th>Schooling</th>\n",
       "    </tr>\n",
       "  </thead>\n",
       "  <tbody>\n",
       "    <tr>\n",
       "      <th>Life expectancy</th>\n",
       "      <td>1.000000</td>\n",
       "      <td>0.804739</td>\n",
       "    </tr>\n",
       "    <tr>\n",
       "      <th>Schooling</th>\n",
       "      <td>0.804739</td>\n",
       "      <td>1.000000</td>\n",
       "    </tr>\n",
       "  </tbody>\n",
       "</table>\n",
       "</div>"
      ],
      "text/plain": [
       "                  Life expectancy   Schooling\n",
       "Life expectancy           1.000000   0.804739\n",
       "Schooling                 0.804739   1.000000"
      ]
     },
     "execution_count": 27,
     "metadata": {},
     "output_type": "execute_result"
    }
   ],
   "source": [
    "df_dados2012[[\"Life expectancy \", \"Schooling\"]].corr()"
   ]
  },
  {
   "cell_type": "markdown",
   "id": "6f245581",
   "metadata": {
    "id": "6f245581"
   },
   "source": [
    "### Agrupamento entre escolaridade e IDH"
   ]
  },
  {
   "cell_type": "code",
   "execution_count": 28,
   "id": "9e726edc",
   "metadata": {
    "id": "9e726edc",
    "outputId": "b401b959-2034-467a-cb7f-fea4d1226965"
   },
   "outputs": [
    {
     "name": "stderr",
     "output_type": "stream",
     "text": [
      "C:\\Users\\bergs\\anaconda3\\lib\\site-packages\\sklearn\\cluster\\_kmeans.py:881: UserWarning: KMeans is known to have a memory leak on Windows with MKL, when there are less chunks than available threads. You can avoid it by setting the environment variable OMP_NUM_THREADS=1.\n",
      "  warnings.warn(\n"
     ]
    },
    {
     "data": {
      "image/png": "[encoded data removed]",
      "text/plain": [
       "<Figure size 432x288 with 1 Axes>"
      ]
     },
     "metadata": {
      "needs_background": "light"
     },
     "output_type": "display_data"
    }
   ],
   "source": [
    "quantidade_k(df_dados2012, \"Income composition of resources\", \"Schooling\")"
   ]
  },
  {
   "cell_type": "code",
   "execution_count": 29,
   "id": "bfb9514c",
   "metadata": {
    "id": "bfb9514c",
    "outputId": "645013b0-e136-484d-d6bc-22a1ebf9ce71"
   },
   "outputs": [
    {
     "data": {
      "text/plain": [
       "<AxesSubplot:xlabel='Income composition of resources', ylabel='Schooling'>"
      ]
     },
     "execution_count": 29,
     "metadata": {},
     "output_type": "execute_result"
    },
    {
     "data": {
      "image/png": "[encoded data removed]",
      "text/plain": [
       "<Figure size 432x288 with 1 Axes>"
      ]
     },
     "metadata": {
      "needs_background": "light"
     },
     "output_type": "display_data"
    }
   ],
   "source": [
    "kmeans = KMeans(n_clusters = 4)\n",
    "kmeans.fit(df_dados2012[[\"Income composition of resources\", \"Schooling\"]])\n",
    "sns.scatterplot(data = df_dados2012, x = \"Income composition of resources\", y = \"Schooling\", hue = kmeans.labels_)"
   ]
  },
  {
   "cell_type": "code",
   "execution_count": 30,
   "id": "241b0855",
   "metadata": {
    "id": "241b0855",
    "outputId": "42cbda91-c049-4747-cc57-d5bb6c468bf9"
   },
   "outputs": [
    {
     "data": {
      "text/html": [
       "<div>\n",
       "<style scoped>\n",
       "    .dataframe tbody tr th:only-of-type {\n",
       "        vertical-align: middle;\n",
       "    }\n",
       "\n",
       "    .dataframe tbody tr th {\n",
       "        vertical-align: top;\n",
       "    }\n",
       "\n",
       "    .dataframe thead th {\n",
       "        text-align: right;\n",
       "    }\n",
       "</style>\n",
       "<table border=\"1\" class=\"dataframe\">\n",
       "  <thead>\n",
       "    <tr style=\"text-align: right;\">\n",
       "      <th></th>\n",
       "      <th>Income composition of resources</th>\n",
       "      <th>Schooling</th>\n",
       "    </tr>\n",
       "  </thead>\n",
       "  <tbody>\n",
       "    <tr>\n",
       "      <th>Income composition of resources</th>\n",
       "      <td>1.000000</td>\n",
       "      <td>0.915567</td>\n",
       "    </tr>\n",
       "    <tr>\n",
       "      <th>Schooling</th>\n",
       "      <td>0.915567</td>\n",
       "      <td>1.000000</td>\n",
       "    </tr>\n",
       "  </tbody>\n",
       "</table>\n",
       "</div>"
      ],
      "text/plain": [
       "                                 Income composition of resources  Schooling\n",
       "Income composition of resources                         1.000000   0.915567\n",
       "Schooling                                               0.915567   1.000000"
      ]
     },
     "execution_count": 30,
     "metadata": {},
     "output_type": "execute_result"
    }
   ],
   "source": [
    "df_dados2012[[\"Income composition of resources\", \"Schooling\"]].corr()"
   ]
  },
  {
   "cell_type": "markdown",
   "id": "9443d3cb",
   "metadata": {
    "id": "9443d3cb"
   },
   "source": [
    "Analisando os países sem uma separação em grupos por IDH, este fator acaba influenciando nas outras variáveis. Observando o gráfico de escolaridade e expectativa de vida, fica evidente a correlação entre essas duas variáveis. Entretanto, isso acontece por causa do IDH; países com um IDH maior possuem um maior nível de escolaridade, e países que possuem maior IDH possuem maior expectativa de vida. Com isso, pode existir correlação entre expectativa de vida e escolaridade, mas pode não haver causalidade."
   ]
  },
  {
   "cell_type": "markdown",
   "id": "eeae11c8",
   "metadata": {
    "id": "eeae11c8"
   },
   "source": [
    "## **Para uma análise sem ter o IDH influenciando na correlação das variáveis, foi feita uma separação dos países por IDH:**\n",
    "#### - Grupo 1: Países com IDH até 0.600;\n",
    "#### - Grupo 2: Países com IDH entre 0.601 e 0.800;\n",
    "#### - Grupo 3: Países com IDH acima de 0.800."
   ]
  },
  {
   "cell_type": "markdown",
   "id": "f10c93fa",
   "metadata": {
    "id": "f10c93fa"
   },
   "source": [
    "## 5.RESPONDENDO AS PERGUNTAS \n",
    "**Nessa seção visualizaremos os dados pertinentes de cada pergunta de forma intuitiva como também o resultados que obtivemos utilizando agrupamento com o método K-means**"
   ]
  },
  {
   "cell_type": "code",
   "execution_count": 31,
   "id": "775f3e16",
   "metadata": {
    "id": "775f3e16"
   },
   "outputs": [],
   "source": [
    "def name_countries_classificated(df:pd.DataFrame, label:np.ndarray) -> pd.DataFrame:\n",
    "    df['classificacao'] = kmeans.labels_\n",
    "    dfs_ = [\n",
    "        df.query(f'classificacao == {unique_label}')['Country']\\\n",
    "            .reset_index(drop=True)\\\n",
    "            .rename(f'{unique_label}', axis=0)\n",
    "        for unique_label in np.unique(label)\n",
    "    ]\n",
    "\n",
    "    return pd.concat(dfs_, axis=1)"
   ]
  },
  {
   "cell_type": "markdown",
   "id": "sDi293BQQA8P",
   "metadata": {
    "id": "sDi293BQQA8P"
   },
   "source": [
    "A função name_countries_classificated foi definida para verificar quais países tinham sido classificados em cada cluster pelo algoritmo K-Means. O vetor kmeans.labels_, por possuir o mesmo tamanho do DataFrame, foi atribuído a coluna \"classificacao\". \n",
    "Com isso foi possível realizar uma query para selecionar apenas os países que possuem determinada classificação numérica, o índice do dataset original foi removido e a coluna foi renomeada para corresponder ao label do K-Means. \n",
    "Ao fim, os n dataframes armazenados na lista são concatenados em colunas para retornar apenas 1 DataFrame com todos os países classificados."
   ]
  },
  {
   "cell_type": "markdown",
   "id": "1f79b0d5",
   "metadata": {
    "id": "1f79b0d5"
   },
   "source": [
    "Abaixo está o dataframe que representa os países com IDH até 0.600."
   ]
  },
  {
   "cell_type": "code",
   "execution_count": 32,
   "id": "2d23cad3",
   "metadata": {
    "id": "2d23cad3"
   },
   "outputs": [],
   "source": [
    "df_0_6 = df_dados2012.copy()\n",
    "df_0_6 = df_0_6[df_0_6[\"Income composition of resources\"] <= 0.600]"
   ]
  },
  {
   "cell_type": "markdown",
   "id": "4e52a219",
   "metadata": {
    "id": "4e52a219"
   },
   "source": [
    "O dataframe \"df_alcool06\" possui os dados de consumo de álcool dos países com IDH até 0.600 sem a presença de valores \"NaN\". Este procedimento foi repetido nos outros dataframes, tendo em vista que o algoritmo KMeans não trabalha com valores \"NaN\"."
   ]
  },
  {
   "cell_type": "code",
   "execution_count": 33,
   "id": "f53370da",
   "metadata": {
    "id": "f53370da"
   },
   "outputs": [],
   "source": [
    "df_alcool06 = df_0_6.dropna(subset = [\"Alcohol\"])"
   ]
  },
  {
   "cell_type": "markdown",
   "id": "13b0c948",
   "metadata": {
    "id": "13b0c948"
   },
   "source": [
    "Abaixo está o dataframe que representa os países com IDH entre 0.601 e 0.800."
   ]
  },
  {
   "cell_type": "code",
   "execution_count": 34,
   "id": "e1a060a0",
   "metadata": {
    "id": "e1a060a0"
   },
   "outputs": [],
   "source": [
    "df_6_8 = df_dados2012.copy()\n",
    "df_6_8 = df_6_8[df_6_8[\"Income composition of resources\"] > 0.600]\n",
    "df_6_8 = df_6_8[df_6_8[\"Income composition of resources\"] <= 0.800]"
   ]
  },
  {
   "cell_type": "code",
   "execution_count": 35,
   "id": "b068267f",
   "metadata": {
    "id": "b068267f"
   },
   "outputs": [],
   "source": [
    "df_alcool68 = df_6_8.dropna(subset = [\"Alcohol\"])"
   ]
  },
  {
   "cell_type": "markdown",
   "id": "d3b4d2fb",
   "metadata": {
    "id": "d3b4d2fb"
   },
   "source": [
    "Abaixo está o dataframe que representa os países com IDH acima de 0.800."
   ]
  },
  {
   "cell_type": "code",
   "execution_count": 36,
   "id": "9bb2bcf5",
   "metadata": {
    "id": "9bb2bcf5"
   },
   "outputs": [],
   "source": [
    "df_8 = df_dados2012.copy()\n",
    "df_8 = df_8[df_8[\"Income composition of resources\"] > 0.800]"
   ]
  },
  {
   "cell_type": "code",
   "execution_count": 37,
   "id": "a0afd015",
   "metadata": {
    "id": "a0afd015"
   },
   "outputs": [],
   "source": [
    "df_alcool8 = df_8.dropna(subset = [\"Alcohol\"])"
   ]
  },
  {
   "cell_type": "markdown",
   "id": "a5bbd622",
   "metadata": {
    "id": "a5bbd622"
   },
   "source": [
    "- O procedimento padrão para responder todas as perguntas foi o seguinte:\n",
    "1. Utilizar a função \"quantidade_k\" para encontrar o valor ideal de k;\n",
    "2. Agrupar os dados utilizando o algoritmo KMeans e gerar o gráfico de dispersão agrupado (as cores representam os grupos, no parâmetro \"hue\" foi utilizado o 'kmeans.labels_', responsável pelo agrupamento);\n",
    "3. Utilizar a função \"name_countries_classificated\" para gerar um dataframe com os países separados pelos grupos formados;\n",
    "4. Gerar a correlação entre os fatores analisados para chegar as conclusões."
   ]
  },
  {
   "cell_type": "markdown",
   "id": "3cb35673",
   "metadata": {
    "id": "3cb35673"
   },
   "source": [
    "# 1. Qual a relação existente entre o consumo de álcool e a expectativa de vida?"
   ]
  },
  {
   "cell_type": "markdown",
   "id": "01baa839",
   "metadata": {
    "id": "01baa839"
   },
   "source": [
    "## Países com IDH até 0.600\n",
    "\n"
   ]
  },
  {
   "cell_type": "code",
   "execution_count": 38,
   "id": "1ec0c23c",
   "metadata": {
    "id": "1ec0c23c",
    "outputId": "eede87c6-1f39-45cc-8cd4-27e81ee4e3a0"
   },
   "outputs": [
    {
     "name": "stderr",
     "output_type": "stream",
     "text": [
      "C:\\Users\\bergs\\anaconda3\\lib\\site-packages\\sklearn\\cluster\\_kmeans.py:881: UserWarning: KMeans is known to have a memory leak on Windows with MKL, when there are less chunks than available threads. You can avoid it by setting the environment variable OMP_NUM_THREADS=1.\n",
      "  warnings.warn(\n"
     ]
    },
    {
     "data": {
      "image/png": "[encoded data removed]",
      "text/plain": [
       "<Figure size 432x288 with 1 Axes>"
      ]
     },
     "metadata": {
      "needs_background": "light"
     },
     "output_type": "display_data"
    }
   ],
   "source": [
    "quantidade_k(df_alcool06, \"Alcohol\", \"Life expectancy \")"
   ]
  },
  {
   "cell_type": "code",
   "execution_count": 39,
   "id": "0b520cc3",
   "metadata": {
    "id": "0b520cc3",
    "outputId": "fd3c4b42-eb0f-4d25-bf28-643f8a892c09"
   },
   "outputs": [
    {
     "data": {
      "text/plain": [
       "<AxesSubplot:xlabel='Life expectancy ', ylabel='Alcohol'>"
      ]
     },
     "execution_count": 39,
     "metadata": {},
     "output_type": "execute_result"
    },
    {
     "data": {
      "image/png": "[encoded data removed]",
      "text/plain": [
       "<Figure size 432x288 with 1 Axes>"
      ]
     },
     "metadata": {
      "needs_background": "light"
     },
     "output_type": "display_data"
    }
   ],
   "source": [
    "kmeans = KMeans(n_clusters = 4)\n",
    "kmeans.fit(df_alcool06[[\"Alcohol\", \"Life expectancy \"]])\n",
    "sns.scatterplot(data = df_alcool06, x = \"Life expectancy \", y = \"Alcohol\", hue = kmeans.labels_)"
   ]
  },
  {
   "cell_type": "code",
   "execution_count": 40,
   "id": "e7af3e72",
   "metadata": {
    "id": "e7af3e72",
    "outputId": "5af2a945-806e-4c64-df23-5ff000bfaff8"
   },
   "outputs": [
    {
     "data": {
      "text/html": [
       "<div>\n",
       "<style scoped>\n",
       "    .dataframe tbody tr th:only-of-type {\n",
       "        vertical-align: middle;\n",
       "    }\n",
       "\n",
       "    .dataframe tbody tr th {\n",
       "        vertical-align: top;\n",
       "    }\n",
       "\n",
       "    .dataframe thead th {\n",
       "        text-align: right;\n",
       "    }\n",
       "</style>\n",
       "<table border=\"1\" class=\"dataframe\">\n",
       "  <thead>\n",
       "    <tr style=\"text-align: right;\">\n",
       "      <th></th>\n",
       "      <th>0</th>\n",
       "      <th>1</th>\n",
       "      <th>2</th>\n",
       "      <th>3</th>\n",
       "    </tr>\n",
       "  </thead>\n",
       "  <tbody>\n",
       "    <tr>\n",
       "      <th>0</th>\n",
       "      <td>Bangladesh</td>\n",
       "      <td>Burundi</td>\n",
       "      <td>Angola</td>\n",
       "      <td>Afghanistan</td>\n",
       "    </tr>\n",
       "    <tr>\n",
       "      <th>1</th>\n",
       "      <td>Bhutan</td>\n",
       "      <td>Cameroon</td>\n",
       "      <td>Burkina Faso</td>\n",
       "      <td>Benin</td>\n",
       "    </tr>\n",
       "    <tr>\n",
       "      <th>2</th>\n",
       "      <td>Cambodia</td>\n",
       "      <td>Central African Republic</td>\n",
       "      <td>Equatorial Guinea</td>\n",
       "      <td>Comoros</td>\n",
       "    </tr>\n",
       "    <tr>\n",
       "      <th>3</th>\n",
       "      <td>Kiribati</td>\n",
       "      <td>Chad</td>\n",
       "      <td>Nigeria</td>\n",
       "      <td>Djibouti</td>\n",
       "    </tr>\n",
       "    <tr>\n",
       "      <th>4</th>\n",
       "      <td>Liberia</td>\n",
       "      <td>Guinea-Bissau</td>\n",
       "      <td>Zimbabwe</td>\n",
       "      <td>Ethiopia</td>\n",
       "    </tr>\n",
       "    <tr>\n",
       "      <th>5</th>\n",
       "      <td>Myanmar</td>\n",
       "      <td>Lesotho</td>\n",
       "      <td>NaN</td>\n",
       "      <td>Ghana</td>\n",
       "    </tr>\n",
       "    <tr>\n",
       "      <th>6</th>\n",
       "      <td>Nepal</td>\n",
       "      <td>Malawi</td>\n",
       "      <td>NaN</td>\n",
       "      <td>Guinea</td>\n",
       "    </tr>\n",
       "    <tr>\n",
       "      <th>7</th>\n",
       "      <td>Pakistan</td>\n",
       "      <td>Mali</td>\n",
       "      <td>NaN</td>\n",
       "      <td>Haiti</td>\n",
       "    </tr>\n",
       "    <tr>\n",
       "      <th>8</th>\n",
       "      <td>Sao Tome and Principe</td>\n",
       "      <td>Mozambique</td>\n",
       "      <td>NaN</td>\n",
       "      <td>Kenya</td>\n",
       "    </tr>\n",
       "    <tr>\n",
       "      <th>9</th>\n",
       "      <td>Senegal</td>\n",
       "      <td>Sierra Leone</td>\n",
       "      <td>NaN</td>\n",
       "      <td>Madagascar</td>\n",
       "    </tr>\n",
       "    <tr>\n",
       "      <th>10</th>\n",
       "      <td>Solomon Islands</td>\n",
       "      <td>Swaziland</td>\n",
       "      <td>NaN</td>\n",
       "      <td>Mauritania</td>\n",
       "    </tr>\n",
       "    <tr>\n",
       "      <th>11</th>\n",
       "      <td>Vanuatu</td>\n",
       "      <td>NaN</td>\n",
       "      <td>NaN</td>\n",
       "      <td>Niger</td>\n",
       "    </tr>\n",
       "    <tr>\n",
       "      <th>12</th>\n",
       "      <td>NaN</td>\n",
       "      <td>NaN</td>\n",
       "      <td>NaN</td>\n",
       "      <td>Papua New Guinea</td>\n",
       "    </tr>\n",
       "    <tr>\n",
       "      <th>13</th>\n",
       "      <td>NaN</td>\n",
       "      <td>NaN</td>\n",
       "      <td>NaN</td>\n",
       "      <td>Rwanda</td>\n",
       "    </tr>\n",
       "    <tr>\n",
       "      <th>14</th>\n",
       "      <td>NaN</td>\n",
       "      <td>NaN</td>\n",
       "      <td>NaN</td>\n",
       "      <td>Sudan</td>\n",
       "    </tr>\n",
       "    <tr>\n",
       "      <th>15</th>\n",
       "      <td>NaN</td>\n",
       "      <td>NaN</td>\n",
       "      <td>NaN</td>\n",
       "      <td>Togo</td>\n",
       "    </tr>\n",
       "    <tr>\n",
       "      <th>16</th>\n",
       "      <td>NaN</td>\n",
       "      <td>NaN</td>\n",
       "      <td>NaN</td>\n",
       "      <td>Uganda</td>\n",
       "    </tr>\n",
       "    <tr>\n",
       "      <th>17</th>\n",
       "      <td>NaN</td>\n",
       "      <td>NaN</td>\n",
       "      <td>NaN</td>\n",
       "      <td>Zambia</td>\n",
       "    </tr>\n",
       "  </tbody>\n",
       "</table>\n",
       "</div>"
      ],
      "text/plain": [
       "                        0                         1                  2  \\\n",
       "0              Bangladesh                   Burundi             Angola   \n",
       "1                  Bhutan                  Cameroon       Burkina Faso   \n",
       "2                Cambodia  Central African Republic  Equatorial Guinea   \n",
       "3                Kiribati                      Chad            Nigeria   \n",
       "4                 Liberia             Guinea-Bissau           Zimbabwe   \n",
       "5                 Myanmar                   Lesotho                NaN   \n",
       "6                   Nepal                    Malawi                NaN   \n",
       "7                Pakistan                      Mali                NaN   \n",
       "8   Sao Tome and Principe                Mozambique                NaN   \n",
       "9                 Senegal              Sierra Leone                NaN   \n",
       "10        Solomon Islands                 Swaziland                NaN   \n",
       "11                Vanuatu                       NaN                NaN   \n",
       "12                    NaN                       NaN                NaN   \n",
       "13                    NaN                       NaN                NaN   \n",
       "14                    NaN                       NaN                NaN   \n",
       "15                    NaN                       NaN                NaN   \n",
       "16                    NaN                       NaN                NaN   \n",
       "17                    NaN                       NaN                NaN   \n",
       "\n",
       "                   3  \n",
       "0        Afghanistan  \n",
       "1              Benin  \n",
       "2            Comoros  \n",
       "3           Djibouti  \n",
       "4           Ethiopia  \n",
       "5              Ghana  \n",
       "6             Guinea  \n",
       "7              Haiti  \n",
       "8              Kenya  \n",
       "9         Madagascar  \n",
       "10        Mauritania  \n",
       "11             Niger  \n",
       "12  Papua New Guinea  \n",
       "13            Rwanda  \n",
       "14             Sudan  \n",
       "15              Togo  \n",
       "16            Uganda  \n",
       "17            Zambia  "
      ]
     },
     "execution_count": 40,
     "metadata": {},
     "output_type": "execute_result"
    }
   ],
   "source": [
    "df_ = df_alcool06.copy()\n",
    "name_countries_classificated(df_, kmeans.labels_)"
   ]
  },
  {
   "cell_type": "markdown",
   "id": "4f30ad73",
   "metadata": {
    "id": "4f30ad73"
   },
   "source": [
    "Abaixo está a matriz de correlação entre os fatores analisados:"
   ]
  },
  {
   "cell_type": "code",
   "execution_count": 41,
   "id": "9968d769",
   "metadata": {
    "id": "9968d769",
    "outputId": "45af6253-e69e-4607-b5bb-d9168501d8e5"
   },
   "outputs": [
    {
     "data": {
      "text/html": [
       "<div>\n",
       "<style scoped>\n",
       "    .dataframe tbody tr th:only-of-type {\n",
       "        vertical-align: middle;\n",
       "    }\n",
       "\n",
       "    .dataframe tbody tr th {\n",
       "        vertical-align: top;\n",
       "    }\n",
       "\n",
       "    .dataframe thead th {\n",
       "        text-align: right;\n",
       "    }\n",
       "</style>\n",
       "<table border=\"1\" class=\"dataframe\">\n",
       "  <thead>\n",
       "    <tr style=\"text-align: right;\">\n",
       "      <th></th>\n",
       "      <th>Alcohol</th>\n",
       "      <th>Life expectancy</th>\n",
       "    </tr>\n",
       "  </thead>\n",
       "  <tbody>\n",
       "    <tr>\n",
       "      <th>Alcohol</th>\n",
       "      <td>1.0000</td>\n",
       "      <td>-0.2935</td>\n",
       "    </tr>\n",
       "    <tr>\n",
       "      <th>Life expectancy</th>\n",
       "      <td>-0.2935</td>\n",
       "      <td>1.0000</td>\n",
       "    </tr>\n",
       "  </tbody>\n",
       "</table>\n",
       "</div>"
      ],
      "text/plain": [
       "                  Alcohol  Life expectancy \n",
       "Alcohol            1.0000           -0.2935\n",
       "Life expectancy   -0.2935            1.0000"
      ]
     },
     "execution_count": 41,
     "metadata": {},
     "output_type": "execute_result"
    }
   ],
   "source": [
    "df_alcool06[[\"Alcohol\", \"Life expectancy \"]].corr()"
   ]
  },
  {
   "cell_type": "markdown",
   "id": "36d89321",
   "metadata": {
    "id": "36d89321"
   },
   "source": [
    "Muitos dos países que compõem esse grupo são muçulmanos e, por motivos religiosos, não consomem álcool. Há uma fraca correlação negativa entre o consumo de álcool e a expectativa de vida."
   ]
  },
  {
   "cell_type": "markdown",
   "id": "55405c81",
   "metadata": {
    "id": "55405c81"
   },
   "source": [
    "## Países com IDH entre 0.601 e 0.800"
   ]
  },
  {
   "cell_type": "code",
   "execution_count": 42,
   "id": "58c7ce3b",
   "metadata": {
    "id": "58c7ce3b",
    "outputId": "7dd2c4bc-3fc1-49ad-ede1-1770500f4715"
   },
   "outputs": [
    {
     "name": "stderr",
     "output_type": "stream",
     "text": [
      "C:\\Users\\bergs\\anaconda3\\lib\\site-packages\\sklearn\\cluster\\_kmeans.py:881: UserWarning: KMeans is known to have a memory leak on Windows with MKL, when there are less chunks than available threads. You can avoid it by setting the environment variable OMP_NUM_THREADS=1.\n",
      "  warnings.warn(\n"
     ]
    },
    {
     "data": {
      "image/png": "[encoded data removed]",
      "text/plain": [
       "<Figure size 432x288 with 1 Axes>"
      ]
     },
     "metadata": {
      "needs_background": "light"
     },
     "output_type": "display_data"
    }
   ],
   "source": [
    "quantidade_k(df_alcool68, \"Alcohol\", \"Life expectancy \")"
   ]
  },
  {
   "cell_type": "code",
   "execution_count": 43,
   "id": "18c76e0a",
   "metadata": {
    "id": "18c76e0a",
    "outputId": "df900f0c-171e-433a-ec85-028465097ebd"
   },
   "outputs": [
    {
     "data": {
      "text/plain": [
       "<AxesSubplot:xlabel='Life expectancy ', ylabel='Alcohol'>"
      ]
     },
     "execution_count": 43,
     "metadata": {},
     "output_type": "execute_result"
    },
    {
     "data": {
      "image/png": "[encoded data removed]",
      "text/plain": [
       "<Figure size 432x288 with 1 Axes>"
      ]
     },
     "metadata": {
      "needs_background": "light"
     },
     "output_type": "display_data"
    }
   ],
   "source": [
    "kmeans = KMeans(n_clusters = 4)\n",
    "kmeans.fit(df_alcool68[[\"Alcohol\", \"Life expectancy \"]])\n",
    "sns.scatterplot(data = df_alcool68, x = \"Life expectancy \", y = \"Alcohol\", hue = kmeans.labels_)"
   ]
  },
  {
   "cell_type": "code",
   "execution_count": 44,
   "id": "2e79dfb8",
   "metadata": {
    "id": "2e79dfb8",
    "outputId": "46f4098f-b8af-41f7-ff54-1a647c2ce871"
   },
   "outputs": [
    {
     "data": {
      "text/html": [
       "<div>\n",
       "<style scoped>\n",
       "    .dataframe tbody tr th:only-of-type {\n",
       "        vertical-align: middle;\n",
       "    }\n",
       "\n",
       "    .dataframe tbody tr th {\n",
       "        vertical-align: top;\n",
       "    }\n",
       "\n",
       "    .dataframe thead th {\n",
       "        text-align: right;\n",
       "    }\n",
       "</style>\n",
       "<table border=\"1\" class=\"dataframe\">\n",
       "  <thead>\n",
       "    <tr style=\"text-align: right;\">\n",
       "      <th></th>\n",
       "      <th>0</th>\n",
       "      <th>1</th>\n",
       "      <th>2</th>\n",
       "      <th>3</th>\n",
       "    </tr>\n",
       "  </thead>\n",
       "  <tbody>\n",
       "    <tr>\n",
       "      <th>0</th>\n",
       "      <td>Albania</td>\n",
       "      <td>Botswana</td>\n",
       "      <td>Algeria</td>\n",
       "      <td>Belarus</td>\n",
       "    </tr>\n",
       "    <tr>\n",
       "      <th>1</th>\n",
       "      <td>Antigua and Barbuda</td>\n",
       "      <td>Fiji</td>\n",
       "      <td>Azerbaijan</td>\n",
       "      <td>Belize</td>\n",
       "    </tr>\n",
       "    <tr>\n",
       "      <th>2</th>\n",
       "      <td>Armenia</td>\n",
       "      <td>Indonesia</td>\n",
       "      <td>Cabo Verde</td>\n",
       "      <td>Gabon</td>\n",
       "    </tr>\n",
       "    <tr>\n",
       "      <th>3</th>\n",
       "      <td>Barbados</td>\n",
       "      <td>Mongolia</td>\n",
       "      <td>El Salvador</td>\n",
       "      <td>Guyana</td>\n",
       "    </tr>\n",
       "    <tr>\n",
       "      <th>4</th>\n",
       "      <td>Bosnia and Herzegovina</td>\n",
       "      <td>Namibia</td>\n",
       "      <td>Guatemala</td>\n",
       "      <td>Kazakhstan</td>\n",
       "    </tr>\n",
       "    <tr>\n",
       "      <th>5</th>\n",
       "      <td>Brazil</td>\n",
       "      <td>Tajikistan</td>\n",
       "      <td>Honduras</td>\n",
       "      <td>Philippines</td>\n",
       "    </tr>\n",
       "    <tr>\n",
       "      <th>6</th>\n",
       "      <td>Bulgaria</td>\n",
       "      <td>Timor-Leste</td>\n",
       "      <td>Iraq</td>\n",
       "      <td>Russian Federation</td>\n",
       "    </tr>\n",
       "    <tr>\n",
       "      <th>7</th>\n",
       "      <td>China</td>\n",
       "      <td>Turkmenistan</td>\n",
       "      <td>Jordan</td>\n",
       "      <td>South Africa</td>\n",
       "    </tr>\n",
       "    <tr>\n",
       "      <th>8</th>\n",
       "      <td>Colombia</td>\n",
       "      <td>Uzbekistan</td>\n",
       "      <td>Kuwait</td>\n",
       "      <td>NaN</td>\n",
       "    </tr>\n",
       "    <tr>\n",
       "      <th>9</th>\n",
       "      <td>Costa Rica</td>\n",
       "      <td>NaN</td>\n",
       "      <td>Lebanon</td>\n",
       "      <td>NaN</td>\n",
       "    </tr>\n",
       "    <tr>\n",
       "      <th>10</th>\n",
       "      <td>Cuba</td>\n",
       "      <td>NaN</td>\n",
       "      <td>Malaysia</td>\n",
       "      <td>NaN</td>\n",
       "    </tr>\n",
       "    <tr>\n",
       "      <th>11</th>\n",
       "      <td>Dominican Republic</td>\n",
       "      <td>NaN</td>\n",
       "      <td>Maldives</td>\n",
       "      <td>NaN</td>\n",
       "    </tr>\n",
       "    <tr>\n",
       "      <th>12</th>\n",
       "      <td>Ecuador</td>\n",
       "      <td>NaN</td>\n",
       "      <td>Mauritius</td>\n",
       "      <td>NaN</td>\n",
       "    </tr>\n",
       "    <tr>\n",
       "      <th>13</th>\n",
       "      <td>Georgia</td>\n",
       "      <td>NaN</td>\n",
       "      <td>Montenegro</td>\n",
       "      <td>NaN</td>\n",
       "    </tr>\n",
       "    <tr>\n",
       "      <th>14</th>\n",
       "      <td>Grenada</td>\n",
       "      <td>NaN</td>\n",
       "      <td>Morocco</td>\n",
       "      <td>NaN</td>\n",
       "    </tr>\n",
       "    <tr>\n",
       "      <th>15</th>\n",
       "      <td>Jamaica</td>\n",
       "      <td>NaN</td>\n",
       "      <td>Nicaragua</td>\n",
       "      <td>NaN</td>\n",
       "    </tr>\n",
       "    <tr>\n",
       "      <th>16</th>\n",
       "      <td>Mexico</td>\n",
       "      <td>NaN</td>\n",
       "      <td>Oman</td>\n",
       "      <td>NaN</td>\n",
       "    </tr>\n",
       "    <tr>\n",
       "      <th>17</th>\n",
       "      <td>Panama</td>\n",
       "      <td>NaN</td>\n",
       "      <td>Samoa</td>\n",
       "      <td>NaN</td>\n",
       "    </tr>\n",
       "    <tr>\n",
       "      <th>18</th>\n",
       "      <td>Paraguay</td>\n",
       "      <td>NaN</td>\n",
       "      <td>Seychelles</td>\n",
       "      <td>NaN</td>\n",
       "    </tr>\n",
       "    <tr>\n",
       "      <th>19</th>\n",
       "      <td>Peru</td>\n",
       "      <td>NaN</td>\n",
       "      <td>Sri Lanka</td>\n",
       "      <td>NaN</td>\n",
       "    </tr>\n",
       "    <tr>\n",
       "      <th>20</th>\n",
       "      <td>Romania</td>\n",
       "      <td>NaN</td>\n",
       "      <td>Tonga</td>\n",
       "      <td>NaN</td>\n",
       "    </tr>\n",
       "    <tr>\n",
       "      <th>21</th>\n",
       "      <td>Serbia</td>\n",
       "      <td>NaN</td>\n",
       "      <td>Tunisia</td>\n",
       "      <td>NaN</td>\n",
       "    </tr>\n",
       "    <tr>\n",
       "      <th>22</th>\n",
       "      <td>Suriname</td>\n",
       "      <td>NaN</td>\n",
       "      <td>Turkey</td>\n",
       "      <td>NaN</td>\n",
       "    </tr>\n",
       "    <tr>\n",
       "      <th>23</th>\n",
       "      <td>Thailand</td>\n",
       "      <td>NaN</td>\n",
       "      <td>NaN</td>\n",
       "      <td>NaN</td>\n",
       "    </tr>\n",
       "    <tr>\n",
       "      <th>24</th>\n",
       "      <td>Trinidad and Tobago</td>\n",
       "      <td>NaN</td>\n",
       "      <td>NaN</td>\n",
       "      <td>NaN</td>\n",
       "    </tr>\n",
       "    <tr>\n",
       "      <th>25</th>\n",
       "      <td>Ukraine</td>\n",
       "      <td>NaN</td>\n",
       "      <td>NaN</td>\n",
       "      <td>NaN</td>\n",
       "    </tr>\n",
       "    <tr>\n",
       "      <th>26</th>\n",
       "      <td>Uruguay</td>\n",
       "      <td>NaN</td>\n",
       "      <td>NaN</td>\n",
       "      <td>NaN</td>\n",
       "    </tr>\n",
       "  </tbody>\n",
       "</table>\n",
       "</div>"
      ],
      "text/plain": [
       "                         0             1            2                   3\n",
       "0                  Albania      Botswana      Algeria             Belarus\n",
       "1      Antigua and Barbuda          Fiji   Azerbaijan              Belize\n",
       "2                  Armenia     Indonesia   Cabo Verde               Gabon\n",
       "3                 Barbados      Mongolia  El Salvador              Guyana\n",
       "4   Bosnia and Herzegovina       Namibia    Guatemala          Kazakhstan\n",
       "5                   Brazil    Tajikistan     Honduras         Philippines\n",
       "6                 Bulgaria   Timor-Leste         Iraq  Russian Federation\n",
       "7                    China  Turkmenistan       Jordan        South Africa\n",
       "8                 Colombia    Uzbekistan       Kuwait                 NaN\n",
       "9               Costa Rica           NaN      Lebanon                 NaN\n",
       "10                    Cuba           NaN     Malaysia                 NaN\n",
       "11      Dominican Republic           NaN     Maldives                 NaN\n",
       "12                 Ecuador           NaN    Mauritius                 NaN\n",
       "13                 Georgia           NaN   Montenegro                 NaN\n",
       "14                 Grenada           NaN      Morocco                 NaN\n",
       "15                 Jamaica           NaN    Nicaragua                 NaN\n",
       "16                  Mexico           NaN         Oman                 NaN\n",
       "17                  Panama           NaN        Samoa                 NaN\n",
       "18                Paraguay           NaN   Seychelles                 NaN\n",
       "19                    Peru           NaN    Sri Lanka                 NaN\n",
       "20                 Romania           NaN        Tonga                 NaN\n",
       "21                  Serbia           NaN      Tunisia                 NaN\n",
       "22                Suriname           NaN       Turkey                 NaN\n",
       "23                Thailand           NaN          NaN                 NaN\n",
       "24     Trinidad and Tobago           NaN          NaN                 NaN\n",
       "25                 Ukraine           NaN          NaN                 NaN\n",
       "26                 Uruguay           NaN          NaN                 NaN"
      ]
     },
     "execution_count": 44,
     "metadata": {},
     "output_type": "execute_result"
    }
   ],
   "source": [
    "df_ = df_alcool68.copy()\n",
    "name_countries_classificated(df_, kmeans.labels_)"
   ]
  },
  {
   "cell_type": "code",
   "execution_count": 45,
   "id": "78113096",
   "metadata": {
    "id": "78113096",
    "outputId": "3e8fde77-b48c-469a-b097-3de84c5c87b5"
   },
   "outputs": [
    {
     "data": {
      "text/html": [
       "<div>\n",
       "<style scoped>\n",
       "    .dataframe tbody tr th:only-of-type {\n",
       "        vertical-align: middle;\n",
       "    }\n",
       "\n",
       "    .dataframe tbody tr th {\n",
       "        vertical-align: top;\n",
       "    }\n",
       "\n",
       "    .dataframe thead th {\n",
       "        text-align: right;\n",
       "    }\n",
       "</style>\n",
       "<table border=\"1\" class=\"dataframe\">\n",
       "  <thead>\n",
       "    <tr style=\"text-align: right;\">\n",
       "      <th></th>\n",
       "      <th>Alcohol</th>\n",
       "      <th>Life expectancy</th>\n",
       "    </tr>\n",
       "  </thead>\n",
       "  <tbody>\n",
       "    <tr>\n",
       "      <th>Alcohol</th>\n",
       "      <td>1.000000</td>\n",
       "      <td>0.044254</td>\n",
       "    </tr>\n",
       "    <tr>\n",
       "      <th>Life expectancy</th>\n",
       "      <td>0.044254</td>\n",
       "      <td>1.000000</td>\n",
       "    </tr>\n",
       "  </tbody>\n",
       "</table>\n",
       "</div>"
      ],
      "text/plain": [
       "                   Alcohol  Life expectancy \n",
       "Alcohol           1.000000          0.044254\n",
       "Life expectancy   0.044254          1.000000"
      ]
     },
     "execution_count": 45,
     "metadata": {},
     "output_type": "execute_result"
    }
   ],
   "source": [
    "df_alcool68[[\"Alcohol\", \"Life expectancy \"]].corr()"
   ]
  },
  {
   "cell_type": "markdown",
   "id": "81ab0717",
   "metadata": {
    "id": "81ab0717"
   },
   "source": [
    "Existe uma correlação muito fraca entre a expectativa de vida e o consumo de álcool. Mais uma vez, há a presença de países onde não há consumo de álcool por questões religiosas."
   ]
  },
  {
   "cell_type": "markdown",
   "id": "d0c37865",
   "metadata": {
    "id": "d0c37865"
   },
   "source": [
    "## Países com IDH superior a 0.800"
   ]
  },
  {
   "cell_type": "code",
   "execution_count": 46,
   "id": "565838d1",
   "metadata": {
    "id": "565838d1",
    "outputId": "0ae4244e-2ddd-4d3c-95ac-c6d553de47a3"
   },
   "outputs": [
    {
     "name": "stderr",
     "output_type": "stream",
     "text": [
      "C:\\Users\\bergs\\anaconda3\\lib\\site-packages\\sklearn\\cluster\\_kmeans.py:881: UserWarning: KMeans is known to have a memory leak on Windows with MKL, when there are less chunks than available threads. You can avoid it by setting the environment variable OMP_NUM_THREADS=1.\n",
      "  warnings.warn(\n"
     ]
    },
    {
     "data": {
      "image/png": "[encoded data removed]",
      "text/plain": [
       "<Figure size 432x288 with 1 Axes>"
      ]
     },
     "metadata": {
      "needs_background": "light"
     },
     "output_type": "display_data"
    }
   ],
   "source": [
    "quantidade_k(df_alcool8, \"Alcohol\", \"Life expectancy \")"
   ]
  },
  {
   "cell_type": "code",
   "execution_count": 47,
   "id": "fe034afa",
   "metadata": {
    "id": "fe034afa",
    "outputId": "44430452-fc6b-4e34-a521-f6430fea5713"
   },
   "outputs": [
    {
     "data": {
      "text/plain": [
       "<AxesSubplot:xlabel='Life expectancy ', ylabel='Alcohol'>"
      ]
     },
     "execution_count": 47,
     "metadata": {},
     "output_type": "execute_result"
    },
    {
     "data": {
      "image/png": "[encoded data removed]",
      "text/plain": [
       "<Figure size 432x288 with 1 Axes>"
      ]
     },
     "metadata": {
      "needs_background": "light"
     },
     "output_type": "display_data"
    }
   ],
   "source": [
    "kmeans = KMeans(n_clusters = 3)\n",
    "kmeans.fit(df_alcool8[[\"Alcohol\", \"Life expectancy \"]])\n",
    "sns.scatterplot(data = df_alcool8, x = \"Life expectancy \", y = \"Alcohol\", hue = kmeans.labels_)"
   ]
  },
  {
   "cell_type": "code",
   "execution_count": 48,
   "id": "40011203",
   "metadata": {
    "id": "40011203",
    "outputId": "6e8f0a1f-ee08-46c9-e085-b44eba7c5843"
   },
   "outputs": [
    {
     "data": {
      "text/html": [
       "<div>\n",
       "<style scoped>\n",
       "    .dataframe tbody tr th:only-of-type {\n",
       "        vertical-align: middle;\n",
       "    }\n",
       "\n",
       "    .dataframe tbody tr th {\n",
       "        vertical-align: top;\n",
       "    }\n",
       "\n",
       "    .dataframe thead th {\n",
       "        text-align: right;\n",
       "    }\n",
       "</style>\n",
       "<table border=\"1\" class=\"dataframe\">\n",
       "  <thead>\n",
       "    <tr style=\"text-align: right;\">\n",
       "      <th></th>\n",
       "      <th>0</th>\n",
       "      <th>1</th>\n",
       "      <th>2</th>\n",
       "    </tr>\n",
       "  </thead>\n",
       "  <tbody>\n",
       "    <tr>\n",
       "      <th>0</th>\n",
       "      <td>Bahrain</td>\n",
       "      <td>Australia</td>\n",
       "      <td>Argentina</td>\n",
       "    </tr>\n",
       "    <tr>\n",
       "      <th>1</th>\n",
       "      <td>Brunei Darussalam</td>\n",
       "      <td>Austria</td>\n",
       "      <td>Croatia</td>\n",
       "    </tr>\n",
       "    <tr>\n",
       "      <th>2</th>\n",
       "      <td>Estonia</td>\n",
       "      <td>Belgium</td>\n",
       "      <td>Hungary</td>\n",
       "    </tr>\n",
       "    <tr>\n",
       "      <th>3</th>\n",
       "      <td>Israel</td>\n",
       "      <td>Canada</td>\n",
       "      <td>Latvia</td>\n",
       "    </tr>\n",
       "    <tr>\n",
       "      <th>4</th>\n",
       "      <td>Qatar</td>\n",
       "      <td>Chile</td>\n",
       "      <td>Lithuania</td>\n",
       "    </tr>\n",
       "    <tr>\n",
       "      <th>5</th>\n",
       "      <td>Saudi Arabia</td>\n",
       "      <td>Cyprus</td>\n",
       "      <td>Poland</td>\n",
       "    </tr>\n",
       "    <tr>\n",
       "      <th>6</th>\n",
       "      <td>Singapore</td>\n",
       "      <td>Denmark</td>\n",
       "      <td>NaN</td>\n",
       "    </tr>\n",
       "    <tr>\n",
       "      <th>7</th>\n",
       "      <td>United Arab Emirates</td>\n",
       "      <td>Finland</td>\n",
       "      <td>NaN</td>\n",
       "    </tr>\n",
       "    <tr>\n",
       "      <th>8</th>\n",
       "      <td>NaN</td>\n",
       "      <td>France</td>\n",
       "      <td>NaN</td>\n",
       "    </tr>\n",
       "    <tr>\n",
       "      <th>9</th>\n",
       "      <td>NaN</td>\n",
       "      <td>Germany</td>\n",
       "      <td>NaN</td>\n",
       "    </tr>\n",
       "    <tr>\n",
       "      <th>10</th>\n",
       "      <td>NaN</td>\n",
       "      <td>Greece</td>\n",
       "      <td>NaN</td>\n",
       "    </tr>\n",
       "    <tr>\n",
       "      <th>11</th>\n",
       "      <td>NaN</td>\n",
       "      <td>Iceland</td>\n",
       "      <td>NaN</td>\n",
       "    </tr>\n",
       "    <tr>\n",
       "      <th>12</th>\n",
       "      <td>NaN</td>\n",
       "      <td>Ireland</td>\n",
       "      <td>NaN</td>\n",
       "    </tr>\n",
       "    <tr>\n",
       "      <th>13</th>\n",
       "      <td>NaN</td>\n",
       "      <td>Italy</td>\n",
       "      <td>NaN</td>\n",
       "    </tr>\n",
       "    <tr>\n",
       "      <th>14</th>\n",
       "      <td>NaN</td>\n",
       "      <td>Japan</td>\n",
       "      <td>NaN</td>\n",
       "    </tr>\n",
       "    <tr>\n",
       "      <th>15</th>\n",
       "      <td>NaN</td>\n",
       "      <td>Luxembourg</td>\n",
       "      <td>NaN</td>\n",
       "    </tr>\n",
       "    <tr>\n",
       "      <th>16</th>\n",
       "      <td>NaN</td>\n",
       "      <td>Malta</td>\n",
       "      <td>NaN</td>\n",
       "    </tr>\n",
       "    <tr>\n",
       "      <th>17</th>\n",
       "      <td>NaN</td>\n",
       "      <td>Netherlands</td>\n",
       "      <td>NaN</td>\n",
       "    </tr>\n",
       "    <tr>\n",
       "      <th>18</th>\n",
       "      <td>NaN</td>\n",
       "      <td>New Zealand</td>\n",
       "      <td>NaN</td>\n",
       "    </tr>\n",
       "    <tr>\n",
       "      <th>19</th>\n",
       "      <td>NaN</td>\n",
       "      <td>Norway</td>\n",
       "      <td>NaN</td>\n",
       "    </tr>\n",
       "    <tr>\n",
       "      <th>20</th>\n",
       "      <td>NaN</td>\n",
       "      <td>Portugal</td>\n",
       "      <td>NaN</td>\n",
       "    </tr>\n",
       "    <tr>\n",
       "      <th>21</th>\n",
       "      <td>NaN</td>\n",
       "      <td>Slovenia</td>\n",
       "      <td>NaN</td>\n",
       "    </tr>\n",
       "    <tr>\n",
       "      <th>22</th>\n",
       "      <td>NaN</td>\n",
       "      <td>Spain</td>\n",
       "      <td>NaN</td>\n",
       "    </tr>\n",
       "    <tr>\n",
       "      <th>23</th>\n",
       "      <td>NaN</td>\n",
       "      <td>Sweden</td>\n",
       "      <td>NaN</td>\n",
       "    </tr>\n",
       "    <tr>\n",
       "      <th>24</th>\n",
       "      <td>NaN</td>\n",
       "      <td>Switzerland</td>\n",
       "      <td>NaN</td>\n",
       "    </tr>\n",
       "  </tbody>\n",
       "</table>\n",
       "</div>"
      ],
      "text/plain": [
       "                       0            1          2\n",
       "0                Bahrain    Australia  Argentina\n",
       "1      Brunei Darussalam      Austria    Croatia\n",
       "2                Estonia      Belgium    Hungary\n",
       "3                 Israel       Canada     Latvia\n",
       "4                  Qatar        Chile  Lithuania\n",
       "5           Saudi Arabia       Cyprus     Poland\n",
       "6              Singapore      Denmark        NaN\n",
       "7   United Arab Emirates      Finland        NaN\n",
       "8                    NaN       France        NaN\n",
       "9                    NaN      Germany        NaN\n",
       "10                   NaN       Greece        NaN\n",
       "11                   NaN      Iceland        NaN\n",
       "12                   NaN      Ireland        NaN\n",
       "13                   NaN        Italy        NaN\n",
       "14                   NaN        Japan        NaN\n",
       "15                   NaN   Luxembourg        NaN\n",
       "16                   NaN        Malta        NaN\n",
       "17                   NaN  Netherlands        NaN\n",
       "18                   NaN  New Zealand        NaN\n",
       "19                   NaN       Norway        NaN\n",
       "20                   NaN     Portugal        NaN\n",
       "21                   NaN     Slovenia        NaN\n",
       "22                   NaN        Spain        NaN\n",
       "23                   NaN       Sweden        NaN\n",
       "24                   NaN  Switzerland        NaN"
      ]
     },
     "execution_count": 48,
     "metadata": {},
     "output_type": "execute_result"
    }
   ],
   "source": [
    "df_ = df_alcool8.copy()\n",
    "name_countries_classificated(df_, kmeans.labels_)"
   ]
  },
  {
   "cell_type": "code",
   "execution_count": 49,
   "id": "98e3bcb6",
   "metadata": {
    "id": "98e3bcb6",
    "outputId": "c73d74fb-da20-4fda-8bbc-e7a5bf190caf"
   },
   "outputs": [
    {
     "data": {
      "text/html": [
       "<div>\n",
       "<style scoped>\n",
       "    .dataframe tbody tr th:only-of-type {\n",
       "        vertical-align: middle;\n",
       "    }\n",
       "\n",
       "    .dataframe tbody tr th {\n",
       "        vertical-align: top;\n",
       "    }\n",
       "\n",
       "    .dataframe thead th {\n",
       "        text-align: right;\n",
       "    }\n",
       "</style>\n",
       "<table border=\"1\" class=\"dataframe\">\n",
       "  <thead>\n",
       "    <tr style=\"text-align: right;\">\n",
       "      <th></th>\n",
       "      <th>Alcohol</th>\n",
       "      <th>Life expectancy</th>\n",
       "    </tr>\n",
       "  </thead>\n",
       "  <tbody>\n",
       "    <tr>\n",
       "      <th>Alcohol</th>\n",
       "      <td>1.000000</td>\n",
       "      <td>0.271426</td>\n",
       "    </tr>\n",
       "    <tr>\n",
       "      <th>Life expectancy</th>\n",
       "      <td>0.271426</td>\n",
       "      <td>1.000000</td>\n",
       "    </tr>\n",
       "  </tbody>\n",
       "</table>\n",
       "</div>"
      ],
      "text/plain": [
       "                   Alcohol  Life expectancy \n",
       "Alcohol           1.000000          0.271426\n",
       "Life expectancy   0.271426          1.000000"
      ]
     },
     "execution_count": 49,
     "metadata": {},
     "output_type": "execute_result"
    }
   ],
   "source": [
    "df_alcool8[[\"Alcohol\", \"Life expectancy \"]].corr()"
   ]
  },
  {
   "cell_type": "markdown",
   "id": "d48b18cc",
   "metadata": {
    "id": "d48b18cc"
   },
   "source": [
    "Há uma correlação fraca entre consumo de álcool e expectativa de vida."
   ]
  },
  {
   "cell_type": "markdown",
   "id": "2a5182f3",
   "metadata": {
    "id": "2a5182f3"
   },
   "source": [
    "## -*Resultados obtidos*\n"
   ]
  },
  {
   "cell_type": "markdown",
   "id": "c7e04755",
   "metadata": {
    "id": "c7e04755"
   },
   "source": [
    "- Países com IDH até 0.600: Muitos dos países que compõem esse grupo são muçulmanos e, por motivos religiosos, não consomem álcool. Há uma fraca correlação negativa entre o consumo de álcool e a expectativa de vida.\n",
    "- Países com IDH entre 0.601 e 0.800: Existe uma correlação muito fraca entre consumo de álcool e expectativa de vida \n",
    "- Países com IDH acima de 0.800: Há uma correlação fraca entre consumo de álcool e expectativa de vida. "
   ]
  },
  {
   "cell_type": "markdown",
   "id": "3545459b",
   "metadata": {
    "id": "3545459b"
   },
   "source": [
    "# 2.Países com maior escolaridade possuem maior expectativa de vida?"
   ]
  },
  {
   "cell_type": "markdown",
   "id": "bf5c3358",
   "metadata": {
    "id": "bf5c3358"
   },
   "source": [
    "## Países com IDH até 0.600"
   ]
  },
  {
   "cell_type": "code",
   "execution_count": 50,
   "id": "d7fc7b39",
   "metadata": {
    "id": "d7fc7b39",
    "outputId": "592948c2-2dff-48eb-e02a-f9ac75818873"
   },
   "outputs": [
    {
     "name": "stderr",
     "output_type": "stream",
     "text": [
      "C:\\Users\\bergs\\anaconda3\\lib\\site-packages\\sklearn\\cluster\\_kmeans.py:881: UserWarning: KMeans is known to have a memory leak on Windows with MKL, when there are less chunks than available threads. You can avoid it by setting the environment variable OMP_NUM_THREADS=1.\n",
      "  warnings.warn(\n"
     ]
    },
    {
     "data": {
      "image/png": "[encoded data removed]",
      "text/plain": [
       "<Figure size 432x288 with 1 Axes>"
      ]
     },
     "metadata": {
      "needs_background": "light"
     },
     "output_type": "display_data"
    }
   ],
   "source": [
    "quantidade_k(df_0_6, \"Life expectancy \", \"Schooling\")"
   ]
  },
  {
   "cell_type": "code",
   "execution_count": 51,
   "id": "5788b08f",
   "metadata": {
    "id": "5788b08f",
    "outputId": "44aaa256-094b-4009-eb29-ca000fe9e451"
   },
   "outputs": [
    {
     "data": {
      "text/plain": [
       "<AxesSubplot:xlabel='Life expectancy ', ylabel='Schooling'>"
      ]
     },
     "execution_count": 51,
     "metadata": {},
     "output_type": "execute_result"
    },
    {
     "data": {
      "image/png": "[encoded data removed]",
      "text/plain": [
       "<Figure size 432x288 with 1 Axes>"
      ]
     },
     "metadata": {
      "needs_background": "light"
     },
     "output_type": "display_data"
    }
   ],
   "source": [
    "kmeans = KMeans(n_clusters = 4)\n",
    "kmeans.fit(df_0_6[[\"Life expectancy \", \"Schooling\"]])\n",
    "sns.scatterplot(data = df_0_6, x = \"Life expectancy \", y = \"Schooling\", hue = kmeans.labels_)"
   ]
  },
  {
   "cell_type": "code",
   "execution_count": 52,
   "id": "5a18fb62",
   "metadata": {
    "id": "5a18fb62",
    "outputId": "5c4740f4-e965-4938-93e0-64c8f5c661db"
   },
   "outputs": [
    {
     "data": {
      "text/html": [
       "<div>\n",
       "<style scoped>\n",
       "    .dataframe tbody tr th:only-of-type {\n",
       "        vertical-align: middle;\n",
       "    }\n",
       "\n",
       "    .dataframe tbody tr th {\n",
       "        vertical-align: top;\n",
       "    }\n",
       "\n",
       "    .dataframe thead th {\n",
       "        text-align: right;\n",
       "    }\n",
       "</style>\n",
       "<table border=\"1\" class=\"dataframe\">\n",
       "  <thead>\n",
       "    <tr style=\"text-align: right;\">\n",
       "      <th></th>\n",
       "      <th>0</th>\n",
       "      <th>1</th>\n",
       "      <th>2</th>\n",
       "      <th>3</th>\n",
       "    </tr>\n",
       "  </thead>\n",
       "  <tbody>\n",
       "    <tr>\n",
       "      <th>0</th>\n",
       "      <td>Bangladesh</td>\n",
       "      <td>Afghanistan</td>\n",
       "      <td>Comoros</td>\n",
       "      <td>Central African Republic</td>\n",
       "    </tr>\n",
       "    <tr>\n",
       "      <th>1</th>\n",
       "      <td>Bhutan</td>\n",
       "      <td>Angola</td>\n",
       "      <td>Djibouti</td>\n",
       "      <td>Chad</td>\n",
       "    </tr>\n",
       "    <tr>\n",
       "      <th>2</th>\n",
       "      <td>Cambodia</td>\n",
       "      <td>Benin</td>\n",
       "      <td>Ethiopia</td>\n",
       "      <td>Lesotho</td>\n",
       "    </tr>\n",
       "    <tr>\n",
       "      <th>3</th>\n",
       "      <td>Liberia</td>\n",
       "      <td>Burkina Faso</td>\n",
       "      <td>Ghana</td>\n",
       "      <td>Mozambique</td>\n",
       "    </tr>\n",
       "    <tr>\n",
       "      <th>4</th>\n",
       "      <td>Nepal</td>\n",
       "      <td>Burundi</td>\n",
       "      <td>Haiti</td>\n",
       "      <td>Nigeria</td>\n",
       "    </tr>\n",
       "    <tr>\n",
       "      <th>5</th>\n",
       "      <td>Sao Tome and Principe</td>\n",
       "      <td>Cameroon</td>\n",
       "      <td>Kenya</td>\n",
       "      <td>Sierra Leone</td>\n",
       "    </tr>\n",
       "    <tr>\n",
       "      <th>6</th>\n",
       "      <td>Solomon Islands</td>\n",
       "      <td>Equatorial Guinea</td>\n",
       "      <td>Kiribati</td>\n",
       "      <td>South Sudan</td>\n",
       "    </tr>\n",
       "    <tr>\n",
       "      <th>7</th>\n",
       "      <td>Vanuatu</td>\n",
       "      <td>Guinea</td>\n",
       "      <td>Madagascar</td>\n",
       "      <td>NaN</td>\n",
       "    </tr>\n",
       "    <tr>\n",
       "      <th>8</th>\n",
       "      <td>NaN</td>\n",
       "      <td>Guinea-Bissau</td>\n",
       "      <td>Mauritania</td>\n",
       "      <td>NaN</td>\n",
       "    </tr>\n",
       "    <tr>\n",
       "      <th>9</th>\n",
       "      <td>NaN</td>\n",
       "      <td>Malawi</td>\n",
       "      <td>Myanmar</td>\n",
       "      <td>NaN</td>\n",
       "    </tr>\n",
       "    <tr>\n",
       "      <th>10</th>\n",
       "      <td>NaN</td>\n",
       "      <td>Mali</td>\n",
       "      <td>Niger</td>\n",
       "      <td>NaN</td>\n",
       "    </tr>\n",
       "    <tr>\n",
       "      <th>11</th>\n",
       "      <td>NaN</td>\n",
       "      <td>Swaziland</td>\n",
       "      <td>Pakistan</td>\n",
       "      <td>NaN</td>\n",
       "    </tr>\n",
       "    <tr>\n",
       "      <th>12</th>\n",
       "      <td>NaN</td>\n",
       "      <td>Togo</td>\n",
       "      <td>Papua New Guinea</td>\n",
       "      <td>NaN</td>\n",
       "    </tr>\n",
       "    <tr>\n",
       "      <th>13</th>\n",
       "      <td>NaN</td>\n",
       "      <td>Uganda</td>\n",
       "      <td>Rwanda</td>\n",
       "      <td>NaN</td>\n",
       "    </tr>\n",
       "    <tr>\n",
       "      <th>14</th>\n",
       "      <td>NaN</td>\n",
       "      <td>Zambia</td>\n",
       "      <td>Senegal</td>\n",
       "      <td>NaN</td>\n",
       "    </tr>\n",
       "    <tr>\n",
       "      <th>15</th>\n",
       "      <td>NaN</td>\n",
       "      <td>Zimbabwe</td>\n",
       "      <td>Sudan</td>\n",
       "      <td>NaN</td>\n",
       "    </tr>\n",
       "  </tbody>\n",
       "</table>\n",
       "</div>"
      ],
      "text/plain": [
       "                        0                  1                 2  \\\n",
       "0              Bangladesh        Afghanistan           Comoros   \n",
       "1                  Bhutan             Angola          Djibouti   \n",
       "2                Cambodia              Benin          Ethiopia   \n",
       "3                 Liberia       Burkina Faso             Ghana   \n",
       "4                   Nepal            Burundi             Haiti   \n",
       "5   Sao Tome and Principe           Cameroon             Kenya   \n",
       "6         Solomon Islands  Equatorial Guinea          Kiribati   \n",
       "7                 Vanuatu             Guinea        Madagascar   \n",
       "8                     NaN      Guinea-Bissau        Mauritania   \n",
       "9                     NaN             Malawi           Myanmar   \n",
       "10                    NaN               Mali             Niger   \n",
       "11                    NaN          Swaziland          Pakistan   \n",
       "12                    NaN               Togo  Papua New Guinea   \n",
       "13                    NaN             Uganda            Rwanda   \n",
       "14                    NaN             Zambia           Senegal   \n",
       "15                    NaN           Zimbabwe             Sudan   \n",
       "\n",
       "                           3  \n",
       "0   Central African Republic  \n",
       "1                       Chad  \n",
       "2                    Lesotho  \n",
       "3                 Mozambique  \n",
       "4                    Nigeria  \n",
       "5               Sierra Leone  \n",
       "6                South Sudan  \n",
       "7                        NaN  \n",
       "8                        NaN  \n",
       "9                        NaN  \n",
       "10                       NaN  \n",
       "11                       NaN  \n",
       "12                       NaN  \n",
       "13                       NaN  \n",
       "14                       NaN  \n",
       "15                       NaN  "
      ]
     },
     "execution_count": 52,
     "metadata": {},
     "output_type": "execute_result"
    }
   ],
   "source": [
    "df_ = df_0_6.copy()\n",
    "name_countries_classificated(df_, kmeans.labels_)"
   ]
  },
  {
   "cell_type": "code",
   "execution_count": 53,
   "id": "ab1d1370",
   "metadata": {
    "id": "ab1d1370",
    "outputId": "40e962ae-23f8-4dfa-e93e-087174639acb"
   },
   "outputs": [
    {
     "data": {
      "text/html": [
       "<div>\n",
       "<style scoped>\n",
       "    .dataframe tbody tr th:only-of-type {\n",
       "        vertical-align: middle;\n",
       "    }\n",
       "\n",
       "    .dataframe tbody tr th {\n",
       "        vertical-align: top;\n",
       "    }\n",
       "\n",
       "    .dataframe thead th {\n",
       "        text-align: right;\n",
       "    }\n",
       "</style>\n",
       "<table border=\"1\" class=\"dataframe\">\n",
       "  <thead>\n",
       "    <tr style=\"text-align: right;\">\n",
       "      <th></th>\n",
       "      <th>Life expectancy</th>\n",
       "      <th>Schooling</th>\n",
       "    </tr>\n",
       "  </thead>\n",
       "  <tbody>\n",
       "    <tr>\n",
       "      <th>Life expectancy</th>\n",
       "      <td>1.000000</td>\n",
       "      <td>0.197908</td>\n",
       "    </tr>\n",
       "    <tr>\n",
       "      <th>Schooling</th>\n",
       "      <td>0.197908</td>\n",
       "      <td>1.000000</td>\n",
       "    </tr>\n",
       "  </tbody>\n",
       "</table>\n",
       "</div>"
      ],
      "text/plain": [
       "                  Life expectancy   Schooling\n",
       "Life expectancy           1.000000   0.197908\n",
       "Schooling                 0.197908   1.000000"
      ]
     },
     "execution_count": 53,
     "metadata": {},
     "output_type": "execute_result"
    }
   ],
   "source": [
    "df_0_6[[\"Life expectancy \", \"Schooling\"]].corr()"
   ]
  },
  {
   "cell_type": "markdown",
   "id": "3579261d",
   "metadata": {
    "id": "3579261d"
   },
   "source": [
    "Existe uma correlação muito fraca entre a escolaridade e a expectativa de vida. "
   ]
  },
  {
   "cell_type": "markdown",
   "id": "4d52296c",
   "metadata": {
    "id": "4d52296c"
   },
   "source": [
    "## Países com IDH entre 0.601 e 0.800"
   ]
  },
  {
   "cell_type": "code",
   "execution_count": 54,
   "id": "b06cc740",
   "metadata": {
    "id": "b06cc740",
    "outputId": "445983f1-eeeb-4c92-b3d8-8f6c3f5dd3bc"
   },
   "outputs": [
    {
     "name": "stderr",
     "output_type": "stream",
     "text": [
      "C:\\Users\\bergs\\anaconda3\\lib\\site-packages\\sklearn\\cluster\\_kmeans.py:881: UserWarning: KMeans is known to have a memory leak on Windows with MKL, when there are less chunks than available threads. You can avoid it by setting the environment variable OMP_NUM_THREADS=1.\n",
      "  warnings.warn(\n"
     ]
    },
    {
     "data": {
      "image/png": "[encoded data removed]",
      "text/plain": [
       "<Figure size 432x288 with 1 Axes>"
      ]
     },
     "metadata": {
      "needs_background": "light"
     },
     "output_type": "display_data"
    }
   ],
   "source": [
    "quantidade_k(df_6_8, \"Life expectancy \", \"Schooling\")"
   ]
  },
  {
   "cell_type": "code",
   "execution_count": 55,
   "id": "9d9e4113",
   "metadata": {
    "id": "9d9e4113",
    "outputId": "42a7a01e-6e64-4e03-efb0-06332f9e4a81"
   },
   "outputs": [
    {
     "data": {
      "text/plain": [
       "<AxesSubplot:xlabel='Life expectancy ', ylabel='Schooling'>"
      ]
     },
     "execution_count": 55,
     "metadata": {},
     "output_type": "execute_result"
    },
    {
     "data": {
      "image/png": "[encoded data removed]",
      "text/plain": [
       "<Figure size 432x288 with 1 Axes>"
      ]
     },
     "metadata": {
      "needs_background": "light"
     },
     "output_type": "display_data"
    }
   ],
   "source": [
    "kmeans = KMeans(n_clusters = 4)\n",
    "kmeans.fit(df_6_8[[\"Life expectancy \", \"Schooling\"]])\n",
    "sns.scatterplot(data = df_6_8, x = \"Life expectancy \", y = \"Schooling\", hue = kmeans.labels_)"
   ]
  },
  {
   "cell_type": "code",
   "execution_count": 56,
   "id": "4ae9ecce",
   "metadata": {
    "id": "4ae9ecce",
    "outputId": "6ecb5500-dbae-4bdb-dff3-789d92882508"
   },
   "outputs": [
    {
     "data": {
      "text/html": [
       "<div>\n",
       "<style scoped>\n",
       "    .dataframe tbody tr th:only-of-type {\n",
       "        vertical-align: middle;\n",
       "    }\n",
       "\n",
       "    .dataframe tbody tr th {\n",
       "        vertical-align: top;\n",
       "    }\n",
       "\n",
       "    .dataframe thead th {\n",
       "        text-align: right;\n",
       "    }\n",
       "</style>\n",
       "<table border=\"1\" class=\"dataframe\">\n",
       "  <thead>\n",
       "    <tr style=\"text-align: right;\">\n",
       "      <th></th>\n",
       "      <th>0</th>\n",
       "      <th>1</th>\n",
       "      <th>2</th>\n",
       "      <th>3</th>\n",
       "    </tr>\n",
       "  </thead>\n",
       "  <tbody>\n",
       "    <tr>\n",
       "      <th>0</th>\n",
       "      <td>Algeria</td>\n",
       "      <td>Botswana</td>\n",
       "      <td>Belize</td>\n",
       "      <td>Albania</td>\n",
       "    </tr>\n",
       "    <tr>\n",
       "      <th>1</th>\n",
       "      <td>Armenia</td>\n",
       "      <td>Gabon</td>\n",
       "      <td>Fiji</td>\n",
       "      <td>Antigua and Barbuda</td>\n",
       "    </tr>\n",
       "    <tr>\n",
       "      <th>2</th>\n",
       "      <td>Azerbaijan</td>\n",
       "      <td>Guyana</td>\n",
       "      <td>Guatemala</td>\n",
       "      <td>Bosnia and Herzegovina</td>\n",
       "    </tr>\n",
       "    <tr>\n",
       "      <th>3</th>\n",
       "      <td>Barbados</td>\n",
       "      <td>Namibia</td>\n",
       "      <td>Indonesia</td>\n",
       "      <td>Costa Rica</td>\n",
       "    </tr>\n",
       "    <tr>\n",
       "      <th>4</th>\n",
       "      <td>Belarus</td>\n",
       "      <td>South Africa</td>\n",
       "      <td>Kazakhstan</td>\n",
       "      <td>Cuba</td>\n",
       "    </tr>\n",
       "    <tr>\n",
       "      <th>5</th>\n",
       "      <td>Brazil</td>\n",
       "      <td>Turkmenistan</td>\n",
       "      <td>Mongolia</td>\n",
       "      <td>Iraq</td>\n",
       "    </tr>\n",
       "    <tr>\n",
       "      <th>6</th>\n",
       "      <td>Bulgaria</td>\n",
       "      <td>NaN</td>\n",
       "      <td>Philippines</td>\n",
       "      <td>Maldives</td>\n",
       "    </tr>\n",
       "    <tr>\n",
       "      <th>7</th>\n",
       "      <td>Cabo Verde</td>\n",
       "      <td>NaN</td>\n",
       "      <td>Russian Federation</td>\n",
       "      <td>Mexico</td>\n",
       "    </tr>\n",
       "    <tr>\n",
       "      <th>8</th>\n",
       "      <td>China</td>\n",
       "      <td>NaN</td>\n",
       "      <td>Suriname</td>\n",
       "      <td>Montenegro</td>\n",
       "    </tr>\n",
       "    <tr>\n",
       "      <th>9</th>\n",
       "      <td>Colombia</td>\n",
       "      <td>NaN</td>\n",
       "      <td>Tajikistan</td>\n",
       "      <td>Oman</td>\n",
       "    </tr>\n",
       "    <tr>\n",
       "      <th>10</th>\n",
       "      <td>Dominican Republic</td>\n",
       "      <td>NaN</td>\n",
       "      <td>Timor-Leste</td>\n",
       "      <td>Panama</td>\n",
       "    </tr>\n",
       "    <tr>\n",
       "      <th>11</th>\n",
       "      <td>Ecuador</td>\n",
       "      <td>NaN</td>\n",
       "      <td>Uzbekistan</td>\n",
       "      <td>Trinidad and Tobago</td>\n",
       "    </tr>\n",
       "    <tr>\n",
       "      <th>12</th>\n",
       "      <td>El Salvador</td>\n",
       "      <td>NaN</td>\n",
       "      <td>NaN</td>\n",
       "      <td>Ukraine</td>\n",
       "    </tr>\n",
       "    <tr>\n",
       "      <th>13</th>\n",
       "      <td>Georgia</td>\n",
       "      <td>NaN</td>\n",
       "      <td>NaN</td>\n",
       "      <td>Uruguay</td>\n",
       "    </tr>\n",
       "    <tr>\n",
       "      <th>14</th>\n",
       "      <td>Grenada</td>\n",
       "      <td>NaN</td>\n",
       "      <td>NaN</td>\n",
       "      <td>NaN</td>\n",
       "    </tr>\n",
       "    <tr>\n",
       "      <th>15</th>\n",
       "      <td>Honduras</td>\n",
       "      <td>NaN</td>\n",
       "      <td>NaN</td>\n",
       "      <td>NaN</td>\n",
       "    </tr>\n",
       "    <tr>\n",
       "      <th>16</th>\n",
       "      <td>Jamaica</td>\n",
       "      <td>NaN</td>\n",
       "      <td>NaN</td>\n",
       "      <td>NaN</td>\n",
       "    </tr>\n",
       "    <tr>\n",
       "      <th>17</th>\n",
       "      <td>Jordan</td>\n",
       "      <td>NaN</td>\n",
       "      <td>NaN</td>\n",
       "      <td>NaN</td>\n",
       "    </tr>\n",
       "    <tr>\n",
       "      <th>18</th>\n",
       "      <td>Kuwait</td>\n",
       "      <td>NaN</td>\n",
       "      <td>NaN</td>\n",
       "      <td>NaN</td>\n",
       "    </tr>\n",
       "    <tr>\n",
       "      <th>19</th>\n",
       "      <td>Lebanon</td>\n",
       "      <td>NaN</td>\n",
       "      <td>NaN</td>\n",
       "      <td>NaN</td>\n",
       "    </tr>\n",
       "    <tr>\n",
       "      <th>20</th>\n",
       "      <td>Malaysia</td>\n",
       "      <td>NaN</td>\n",
       "      <td>NaN</td>\n",
       "      <td>NaN</td>\n",
       "    </tr>\n",
       "    <tr>\n",
       "      <th>21</th>\n",
       "      <td>Mauritius</td>\n",
       "      <td>NaN</td>\n",
       "      <td>NaN</td>\n",
       "      <td>NaN</td>\n",
       "    </tr>\n",
       "    <tr>\n",
       "      <th>22</th>\n",
       "      <td>Morocco</td>\n",
       "      <td>NaN</td>\n",
       "      <td>NaN</td>\n",
       "      <td>NaN</td>\n",
       "    </tr>\n",
       "    <tr>\n",
       "      <th>23</th>\n",
       "      <td>Nicaragua</td>\n",
       "      <td>NaN</td>\n",
       "      <td>NaN</td>\n",
       "      <td>NaN</td>\n",
       "    </tr>\n",
       "    <tr>\n",
       "      <th>24</th>\n",
       "      <td>Paraguay</td>\n",
       "      <td>NaN</td>\n",
       "      <td>NaN</td>\n",
       "      <td>NaN</td>\n",
       "    </tr>\n",
       "    <tr>\n",
       "      <th>25</th>\n",
       "      <td>Peru</td>\n",
       "      <td>NaN</td>\n",
       "      <td>NaN</td>\n",
       "      <td>NaN</td>\n",
       "    </tr>\n",
       "    <tr>\n",
       "      <th>26</th>\n",
       "      <td>Romania</td>\n",
       "      <td>NaN</td>\n",
       "      <td>NaN</td>\n",
       "      <td>NaN</td>\n",
       "    </tr>\n",
       "    <tr>\n",
       "      <th>27</th>\n",
       "      <td>Samoa</td>\n",
       "      <td>NaN</td>\n",
       "      <td>NaN</td>\n",
       "      <td>NaN</td>\n",
       "    </tr>\n",
       "    <tr>\n",
       "      <th>28</th>\n",
       "      <td>Serbia</td>\n",
       "      <td>NaN</td>\n",
       "      <td>NaN</td>\n",
       "      <td>NaN</td>\n",
       "    </tr>\n",
       "    <tr>\n",
       "      <th>29</th>\n",
       "      <td>Seychelles</td>\n",
       "      <td>NaN</td>\n",
       "      <td>NaN</td>\n",
       "      <td>NaN</td>\n",
       "    </tr>\n",
       "    <tr>\n",
       "      <th>30</th>\n",
       "      <td>Sri Lanka</td>\n",
       "      <td>NaN</td>\n",
       "      <td>NaN</td>\n",
       "      <td>NaN</td>\n",
       "    </tr>\n",
       "    <tr>\n",
       "      <th>31</th>\n",
       "      <td>Thailand</td>\n",
       "      <td>NaN</td>\n",
       "      <td>NaN</td>\n",
       "      <td>NaN</td>\n",
       "    </tr>\n",
       "    <tr>\n",
       "      <th>32</th>\n",
       "      <td>Tonga</td>\n",
       "      <td>NaN</td>\n",
       "      <td>NaN</td>\n",
       "      <td>NaN</td>\n",
       "    </tr>\n",
       "    <tr>\n",
       "      <th>33</th>\n",
       "      <td>Tunisia</td>\n",
       "      <td>NaN</td>\n",
       "      <td>NaN</td>\n",
       "      <td>NaN</td>\n",
       "    </tr>\n",
       "    <tr>\n",
       "      <th>34</th>\n",
       "      <td>Turkey</td>\n",
       "      <td>NaN</td>\n",
       "      <td>NaN</td>\n",
       "      <td>NaN</td>\n",
       "    </tr>\n",
       "  </tbody>\n",
       "</table>\n",
       "</div>"
      ],
      "text/plain": [
       "                     0             1                   2  \\\n",
       "0              Algeria      Botswana              Belize   \n",
       "1              Armenia         Gabon                Fiji   \n",
       "2           Azerbaijan        Guyana           Guatemala   \n",
       "3             Barbados       Namibia           Indonesia   \n",
       "4              Belarus  South Africa          Kazakhstan   \n",
       "5               Brazil  Turkmenistan            Mongolia   \n",
       "6             Bulgaria           NaN         Philippines   \n",
       "7           Cabo Verde           NaN  Russian Federation   \n",
       "8                China           NaN            Suriname   \n",
       "9             Colombia           NaN          Tajikistan   \n",
       "10  Dominican Republic           NaN         Timor-Leste   \n",
       "11             Ecuador           NaN          Uzbekistan   \n",
       "12         El Salvador           NaN                 NaN   \n",
       "13             Georgia           NaN                 NaN   \n",
       "14             Grenada           NaN                 NaN   \n",
       "15            Honduras           NaN                 NaN   \n",
       "16             Jamaica           NaN                 NaN   \n",
       "17              Jordan           NaN                 NaN   \n",
       "18              Kuwait           NaN                 NaN   \n",
       "19             Lebanon           NaN                 NaN   \n",
       "20            Malaysia           NaN                 NaN   \n",
       "21           Mauritius           NaN                 NaN   \n",
       "22             Morocco           NaN                 NaN   \n",
       "23           Nicaragua           NaN                 NaN   \n",
       "24            Paraguay           NaN                 NaN   \n",
       "25                Peru           NaN                 NaN   \n",
       "26             Romania           NaN                 NaN   \n",
       "27               Samoa           NaN                 NaN   \n",
       "28              Serbia           NaN                 NaN   \n",
       "29          Seychelles           NaN                 NaN   \n",
       "30           Sri Lanka           NaN                 NaN   \n",
       "31            Thailand           NaN                 NaN   \n",
       "32               Tonga           NaN                 NaN   \n",
       "33             Tunisia           NaN                 NaN   \n",
       "34              Turkey           NaN                 NaN   \n",
       "\n",
       "                         3  \n",
       "0                  Albania  \n",
       "1      Antigua and Barbuda  \n",
       "2   Bosnia and Herzegovina  \n",
       "3               Costa Rica  \n",
       "4                     Cuba  \n",
       "5                     Iraq  \n",
       "6                 Maldives  \n",
       "7                   Mexico  \n",
       "8               Montenegro  \n",
       "9                     Oman  \n",
       "10                  Panama  \n",
       "11     Trinidad and Tobago  \n",
       "12                 Ukraine  \n",
       "13                 Uruguay  \n",
       "14                     NaN  \n",
       "15                     NaN  \n",
       "16                     NaN  \n",
       "17                     NaN  \n",
       "18                     NaN  \n",
       "19                     NaN  \n",
       "20                     NaN  \n",
       "21                     NaN  \n",
       "22                     NaN  \n",
       "23                     NaN  \n",
       "24                     NaN  \n",
       "25                     NaN  \n",
       "26                     NaN  \n",
       "27                     NaN  \n",
       "28                     NaN  \n",
       "29                     NaN  \n",
       "30                     NaN  \n",
       "31                     NaN  \n",
       "32                     NaN  \n",
       "33                     NaN  \n",
       "34                     NaN  "
      ]
     },
     "execution_count": 56,
     "metadata": {},
     "output_type": "execute_result"
    }
   ],
   "source": [
    "df_ = df_6_8.copy()\n",
    "name_countries_classificated(df_, kmeans.labels_)"
   ]
  },
  {
   "cell_type": "code",
   "execution_count": 57,
   "id": "c98cee7a",
   "metadata": {
    "id": "c98cee7a",
    "outputId": "daae43f6-af97-4f1a-de44-9754d81e018a"
   },
   "outputs": [
    {
     "data": {
      "text/html": [
       "<div>\n",
       "<style scoped>\n",
       "    .dataframe tbody tr th:only-of-type {\n",
       "        vertical-align: middle;\n",
       "    }\n",
       "\n",
       "    .dataframe tbody tr th {\n",
       "        vertical-align: top;\n",
       "    }\n",
       "\n",
       "    .dataframe thead th {\n",
       "        text-align: right;\n",
       "    }\n",
       "</style>\n",
       "<table border=\"1\" class=\"dataframe\">\n",
       "  <thead>\n",
       "    <tr style=\"text-align: right;\">\n",
       "      <th></th>\n",
       "      <th>Life expectancy</th>\n",
       "      <th>Schooling</th>\n",
       "    </tr>\n",
       "  </thead>\n",
       "  <tbody>\n",
       "    <tr>\n",
       "      <th>Life expectancy</th>\n",
       "      <td>1.000000</td>\n",
       "      <td>0.349194</td>\n",
       "    </tr>\n",
       "    <tr>\n",
       "      <th>Schooling</th>\n",
       "      <td>0.349194</td>\n",
       "      <td>1.000000</td>\n",
       "    </tr>\n",
       "  </tbody>\n",
       "</table>\n",
       "</div>"
      ],
      "text/plain": [
       "                  Life expectancy   Schooling\n",
       "Life expectancy           1.000000   0.349194\n",
       "Schooling                 0.349194   1.000000"
      ]
     },
     "execution_count": 57,
     "metadata": {},
     "output_type": "execute_result"
    }
   ],
   "source": [
    "df_6_8[[\"Life expectancy \", \"Schooling\"]].corr()"
   ]
  },
  {
   "cell_type": "markdown",
   "id": "40300605",
   "metadata": {
    "id": "40300605"
   },
   "source": [
    "Nesse grupo de países, existe uma correlação fraca entre a escolaridade e a expectativa de vida."
   ]
  },
  {
   "cell_type": "markdown",
   "id": "f5109803",
   "metadata": {
    "id": "f5109803"
   },
   "source": [
    "## Países com IDH acima de 0.800"
   ]
  },
  {
   "cell_type": "code",
   "execution_count": 58,
   "id": "4832f8a4",
   "metadata": {
    "id": "4832f8a4",
    "outputId": "59fb60ae-b431-43d6-fee9-360c29f8e44b"
   },
   "outputs": [
    {
     "name": "stderr",
     "output_type": "stream",
     "text": [
      "C:\\Users\\bergs\\anaconda3\\lib\\site-packages\\sklearn\\cluster\\_kmeans.py:881: UserWarning: KMeans is known to have a memory leak on Windows with MKL, when there are less chunks than available threads. You can avoid it by setting the environment variable OMP_NUM_THREADS=1.\n",
      "  warnings.warn(\n"
     ]
    },
    {
     "data": {
      "image/png": "[encoded data removed]",
      "text/plain": [
       "<Figure size 432x288 with 1 Axes>"
      ]
     },
     "metadata": {
      "needs_background": "light"
     },
     "output_type": "display_data"
    }
   ],
   "source": [
    "quantidade_k(df_8, \"Life expectancy \", \"Schooling\")"
   ]
  },
  {
   "cell_type": "code",
   "execution_count": 59,
   "id": "6562a016",
   "metadata": {
    "id": "6562a016",
    "outputId": "02506979-e098-44b8-c869-25439d58d4bb"
   },
   "outputs": [
    {
     "data": {
      "text/plain": [
       "<AxesSubplot:xlabel='Life expectancy ', ylabel='Schooling'>"
      ]
     },
     "execution_count": 59,
     "metadata": {},
     "output_type": "execute_result"
    },
    {
     "data": {
      "image/png": "[encoded data removed]",
      "text/plain": [
       "<Figure size 432x288 with 1 Axes>"
      ]
     },
     "metadata": {
      "needs_background": "light"
     },
     "output_type": "display_data"
    }
   ],
   "source": [
    "kmeans = KMeans(n_clusters = 4)\n",
    "kmeans.fit(df_8[[\"Life expectancy \", \"Schooling\"]])\n",
    "sns.scatterplot(data = df_8, x = \"Life expectancy \", y = \"Schooling\", hue = kmeans.labels_)"
   ]
  },
  {
   "cell_type": "code",
   "execution_count": 60,
   "id": "176ba39e",
   "metadata": {
    "id": "176ba39e",
    "outputId": "a5a85406-1709-4814-921d-cc101911aa57"
   },
   "outputs": [
    {
     "data": {
      "text/html": [
       "<div>\n",
       "<style scoped>\n",
       "    .dataframe tbody tr th:only-of-type {\n",
       "        vertical-align: middle;\n",
       "    }\n",
       "\n",
       "    .dataframe tbody tr th {\n",
       "        vertical-align: top;\n",
       "    }\n",
       "\n",
       "    .dataframe thead th {\n",
       "        text-align: right;\n",
       "    }\n",
       "</style>\n",
       "<table border=\"1\" class=\"dataframe\">\n",
       "  <thead>\n",
       "    <tr style=\"text-align: right;\">\n",
       "      <th></th>\n",
       "      <th>0</th>\n",
       "      <th>1</th>\n",
       "      <th>2</th>\n",
       "      <th>3</th>\n",
       "    </tr>\n",
       "  </thead>\n",
       "  <tbody>\n",
       "    <tr>\n",
       "      <th>0</th>\n",
       "      <td>Austria</td>\n",
       "      <td>Argentina</td>\n",
       "      <td>Belgium</td>\n",
       "      <td>Australia</td>\n",
       "    </tr>\n",
       "    <tr>\n",
       "      <th>1</th>\n",
       "      <td>Finland</td>\n",
       "      <td>Bahrain</td>\n",
       "      <td>Canada</td>\n",
       "      <td>Denmark</td>\n",
       "    </tr>\n",
       "    <tr>\n",
       "      <th>2</th>\n",
       "      <td>Germany</td>\n",
       "      <td>Brunei Darussalam</td>\n",
       "      <td>Chile</td>\n",
       "      <td>Iceland</td>\n",
       "    </tr>\n",
       "    <tr>\n",
       "      <th>3</th>\n",
       "      <td>Greece</td>\n",
       "      <td>Croatia</td>\n",
       "      <td>Cyprus</td>\n",
       "      <td>Netherlands</td>\n",
       "    </tr>\n",
       "    <tr>\n",
       "      <th>4</th>\n",
       "      <td>Ireland</td>\n",
       "      <td>Estonia</td>\n",
       "      <td>France</td>\n",
       "      <td>New Zealand</td>\n",
       "    </tr>\n",
       "    <tr>\n",
       "      <th>5</th>\n",
       "      <td>NaN</td>\n",
       "      <td>Hungary</td>\n",
       "      <td>Israel</td>\n",
       "      <td>Norway</td>\n",
       "    </tr>\n",
       "    <tr>\n",
       "      <th>6</th>\n",
       "      <td>NaN</td>\n",
       "      <td>Latvia</td>\n",
       "      <td>Italy</td>\n",
       "      <td>Spain</td>\n",
       "    </tr>\n",
       "    <tr>\n",
       "      <th>7</th>\n",
       "      <td>NaN</td>\n",
       "      <td>Lithuania</td>\n",
       "      <td>Japan</td>\n",
       "      <td>NaN</td>\n",
       "    </tr>\n",
       "    <tr>\n",
       "      <th>8</th>\n",
       "      <td>NaN</td>\n",
       "      <td>Poland</td>\n",
       "      <td>Luxembourg</td>\n",
       "      <td>NaN</td>\n",
       "    </tr>\n",
       "    <tr>\n",
       "      <th>9</th>\n",
       "      <td>NaN</td>\n",
       "      <td>Qatar</td>\n",
       "      <td>Malta</td>\n",
       "      <td>NaN</td>\n",
       "    </tr>\n",
       "    <tr>\n",
       "      <th>10</th>\n",
       "      <td>NaN</td>\n",
       "      <td>Saudi Arabia</td>\n",
       "      <td>Portugal</td>\n",
       "      <td>NaN</td>\n",
       "    </tr>\n",
       "    <tr>\n",
       "      <th>11</th>\n",
       "      <td>NaN</td>\n",
       "      <td>United Arab Emirates</td>\n",
       "      <td>Singapore</td>\n",
       "      <td>NaN</td>\n",
       "    </tr>\n",
       "    <tr>\n",
       "      <th>12</th>\n",
       "      <td>NaN</td>\n",
       "      <td>NaN</td>\n",
       "      <td>Slovenia</td>\n",
       "      <td>NaN</td>\n",
       "    </tr>\n",
       "    <tr>\n",
       "      <th>13</th>\n",
       "      <td>NaN</td>\n",
       "      <td>NaN</td>\n",
       "      <td>Sweden</td>\n",
       "      <td>NaN</td>\n",
       "    </tr>\n",
       "    <tr>\n",
       "      <th>14</th>\n",
       "      <td>NaN</td>\n",
       "      <td>NaN</td>\n",
       "      <td>Switzerland</td>\n",
       "      <td>NaN</td>\n",
       "    </tr>\n",
       "  </tbody>\n",
       "</table>\n",
       "</div>"
      ],
      "text/plain": [
       "          0                     1            2            3\n",
       "0   Austria             Argentina      Belgium    Australia\n",
       "1   Finland               Bahrain       Canada      Denmark\n",
       "2   Germany     Brunei Darussalam        Chile      Iceland\n",
       "3    Greece               Croatia       Cyprus  Netherlands\n",
       "4   Ireland               Estonia       France  New Zealand\n",
       "5       NaN               Hungary       Israel       Norway\n",
       "6       NaN                Latvia        Italy        Spain\n",
       "7       NaN             Lithuania        Japan          NaN\n",
       "8       NaN                Poland   Luxembourg          NaN\n",
       "9       NaN                 Qatar        Malta          NaN\n",
       "10      NaN          Saudi Arabia     Portugal          NaN\n",
       "11      NaN  United Arab Emirates    Singapore          NaN\n",
       "12      NaN                   NaN     Slovenia          NaN\n",
       "13      NaN                   NaN       Sweden          NaN\n",
       "14      NaN                   NaN  Switzerland          NaN"
      ]
     },
     "execution_count": 60,
     "metadata": {},
     "output_type": "execute_result"
    }
   ],
   "source": [
    "df_ = df_8.copy()\n",
    "name_countries_classificated(df_, kmeans.labels_)"
   ]
  },
  {
   "cell_type": "code",
   "execution_count": 61,
   "id": "5481f7c7",
   "metadata": {
    "id": "5481f7c7",
    "outputId": "bfcf3820-3b59-47ed-fce0-9a107e185da8"
   },
   "outputs": [
    {
     "data": {
      "text/html": [
       "<div>\n",
       "<style scoped>\n",
       "    .dataframe tbody tr th:only-of-type {\n",
       "        vertical-align: middle;\n",
       "    }\n",
       "\n",
       "    .dataframe tbody tr th {\n",
       "        vertical-align: top;\n",
       "    }\n",
       "\n",
       "    .dataframe thead th {\n",
       "        text-align: right;\n",
       "    }\n",
       "</style>\n",
       "<table border=\"1\" class=\"dataframe\">\n",
       "  <thead>\n",
       "    <tr style=\"text-align: right;\">\n",
       "      <th></th>\n",
       "      <th>Life expectancy</th>\n",
       "      <th>Schooling</th>\n",
       "    </tr>\n",
       "  </thead>\n",
       "  <tbody>\n",
       "    <tr>\n",
       "      <th>Life expectancy</th>\n",
       "      <td>1.000000</td>\n",
       "      <td>0.356389</td>\n",
       "    </tr>\n",
       "    <tr>\n",
       "      <th>Schooling</th>\n",
       "      <td>0.356389</td>\n",
       "      <td>1.000000</td>\n",
       "    </tr>\n",
       "  </tbody>\n",
       "</table>\n",
       "</div>"
      ],
      "text/plain": [
       "                  Life expectancy   Schooling\n",
       "Life expectancy           1.000000   0.356389\n",
       "Schooling                 0.356389   1.000000"
      ]
     },
     "execution_count": 61,
     "metadata": {},
     "output_type": "execute_result"
    }
   ],
   "source": [
    "df_8[[\"Life expectancy \", \"Schooling\"]].corr()"
   ]
  },
  {
   "cell_type": "markdown",
   "id": "7b567810",
   "metadata": {
    "id": "7b567810"
   },
   "source": [
    "Há uma correlação fraca entre escolaridade e expectativa de vida."
   ]
  },
  {
   "cell_type": "markdown",
   "id": "3d487262",
   "metadata": {
    "id": "3d487262"
   },
   "source": [
    "## -*Resultados obtidos*"
   ]
  },
  {
   "cell_type": "markdown",
   "id": "6d3bc5a1",
   "metadata": {
    "id": "6d3bc5a1"
   },
   "source": [
    "- Países com IDH até 0.600: Existe uma correlação muito fraca entre a escolaridade e a expectativa de vida.  \n",
    "- Países com IDH entre 0.601 e 0.800: Nesse grupo de países, existe uma correlação fraca entre a escolaridade e a expectativa de vida. \n",
    "- Países com IDH acima de 0.800: Há uma correlação fraca entre escolaridade e expectativa de vida. \n",
    "- Conclusão: De um modo geral, existe uma correlação fraca entre escolaridade e expectativa de vida, mas não é algo revelante o suficiente para realmente influenciar na expectativa de vida de uma população.\n",
    "\n",
    "É válido ressaltar que, analisando o gráfico sem separação por IDH, existe uma correlação positiva bastante aparente entre a escolaridade e a expectativa de vida. Isso se deve ao fato de que países com um maior nível de escolaridade também possuem um IDH mais elevado, e o IDH elevado resulta em uma maior expectativa de vida. É o principal fator relacionado a expectativa de vida nos dados analisados."
   ]
  },
  {
   "cell_type": "markdown",
   "id": "adb5b2ea",
   "metadata": {
    "id": "adb5b2ea"
   },
   "source": [
    "# 3.Existe uma relação entre o PIB per capita e os gastos governamentais com saúde?"
   ]
  },
  {
   "cell_type": "markdown",
   "id": "21030c96",
   "metadata": {
    "id": "21030c96"
   },
   "source": [
    "## Países com IDH até 0.600"
   ]
  },
  {
   "cell_type": "code",
   "execution_count": 62,
   "id": "466e8b3d",
   "metadata": {
    "id": "466e8b3d",
    "outputId": "b598e70f-15e3-44cf-b499-69353ae0a565"
   },
   "outputs": [
    {
     "name": "stderr",
     "output_type": "stream",
     "text": [
      "C:\\Users\\bergs\\anaconda3\\lib\\site-packages\\sklearn\\cluster\\_kmeans.py:881: UserWarning: KMeans is known to have a memory leak on Windows with MKL, when there are less chunks than available threads. You can avoid it by setting the environment variable OMP_NUM_THREADS=1.\n",
      "  warnings.warn(\n"
     ]
    },
    {
     "data": {
      "image/png": "[encoded data removed]",
      "text/plain": [
       "<Figure size 432x288 with 1 Axes>"
      ]
     },
     "metadata": {
      "needs_background": "light"
     },
     "output_type": "display_data"
    }
   ],
   "source": [
    "quantidade_k(df_0_6, \"Total expenditure\", \"GDP\")"
   ]
  },
  {
   "cell_type": "code",
   "execution_count": 63,
   "id": "f7552148",
   "metadata": {
    "id": "f7552148",
    "outputId": "2ab7f519-ebdf-4ad3-f64c-4227b3965573"
   },
   "outputs": [
    {
     "data": {
      "text/plain": [
       "<AxesSubplot:xlabel='Total expenditure', ylabel='GDP'>"
      ]
     },
     "execution_count": 63,
     "metadata": {},
     "output_type": "execute_result"
    },
    {
     "data": {
      "image/png": "[encoded data removed]",
      "text/plain": [
       "<Figure size 432x288 with 1 Axes>"
      ]
     },
     "metadata": {
      "needs_background": "light"
     },
     "output_type": "display_data"
    }
   ],
   "source": [
    "kmeans = KMeans(n_clusters = 2)\n",
    "kmeans.fit(df_0_6[[\"Total expenditure\", \"GDP\"]])\n",
    "sns.scatterplot(data = df_0_6, x = \"Total expenditure\", y = \"GDP\", hue = kmeans.labels_)"
   ]
  },
  {
   "cell_type": "code",
   "execution_count": 64,
   "id": "118548ab",
   "metadata": {
    "id": "118548ab",
    "outputId": "d4bf2364-5850-436d-d0f4-f7748e2b613c"
   },
   "outputs": [
    {
     "data": {
      "text/html": [
       "<div>\n",
       "<style scoped>\n",
       "    .dataframe tbody tr th:only-of-type {\n",
       "        vertical-align: middle;\n",
       "    }\n",
       "\n",
       "    .dataframe tbody tr th {\n",
       "        vertical-align: top;\n",
       "    }\n",
       "\n",
       "    .dataframe thead th {\n",
       "        text-align: right;\n",
       "    }\n",
       "</style>\n",
       "<table border=\"1\" class=\"dataframe\">\n",
       "  <thead>\n",
       "    <tr style=\"text-align: right;\">\n",
       "      <th></th>\n",
       "      <th>0</th>\n",
       "      <th>1</th>\n",
       "    </tr>\n",
       "  </thead>\n",
       "  <tbody>\n",
       "    <tr>\n",
       "      <th>0</th>\n",
       "      <td>Afghanistan</td>\n",
       "      <td>Equatorial Guinea</td>\n",
       "    </tr>\n",
       "    <tr>\n",
       "      <th>1</th>\n",
       "      <td>Angola</td>\n",
       "      <td>NaN</td>\n",
       "    </tr>\n",
       "    <tr>\n",
       "      <th>2</th>\n",
       "      <td>Bangladesh</td>\n",
       "      <td>NaN</td>\n",
       "    </tr>\n",
       "    <tr>\n",
       "      <th>3</th>\n",
       "      <td>Benin</td>\n",
       "      <td>NaN</td>\n",
       "    </tr>\n",
       "    <tr>\n",
       "      <th>4</th>\n",
       "      <td>Bhutan</td>\n",
       "      <td>NaN</td>\n",
       "    </tr>\n",
       "    <tr>\n",
       "      <th>5</th>\n",
       "      <td>Burkina Faso</td>\n",
       "      <td>NaN</td>\n",
       "    </tr>\n",
       "    <tr>\n",
       "      <th>6</th>\n",
       "      <td>Burundi</td>\n",
       "      <td>NaN</td>\n",
       "    </tr>\n",
       "    <tr>\n",
       "      <th>7</th>\n",
       "      <td>Cambodia</td>\n",
       "      <td>NaN</td>\n",
       "    </tr>\n",
       "    <tr>\n",
       "      <th>8</th>\n",
       "      <td>Cameroon</td>\n",
       "      <td>NaN</td>\n",
       "    </tr>\n",
       "    <tr>\n",
       "      <th>9</th>\n",
       "      <td>Central African Republic</td>\n",
       "      <td>NaN</td>\n",
       "    </tr>\n",
       "    <tr>\n",
       "      <th>10</th>\n",
       "      <td>Chad</td>\n",
       "      <td>NaN</td>\n",
       "    </tr>\n",
       "    <tr>\n",
       "      <th>11</th>\n",
       "      <td>Comoros</td>\n",
       "      <td>NaN</td>\n",
       "    </tr>\n",
       "    <tr>\n",
       "      <th>12</th>\n",
       "      <td>Djibouti</td>\n",
       "      <td>NaN</td>\n",
       "    </tr>\n",
       "    <tr>\n",
       "      <th>13</th>\n",
       "      <td>Ethiopia</td>\n",
       "      <td>NaN</td>\n",
       "    </tr>\n",
       "    <tr>\n",
       "      <th>14</th>\n",
       "      <td>Ghana</td>\n",
       "      <td>NaN</td>\n",
       "    </tr>\n",
       "    <tr>\n",
       "      <th>15</th>\n",
       "      <td>Guinea</td>\n",
       "      <td>NaN</td>\n",
       "    </tr>\n",
       "    <tr>\n",
       "      <th>16</th>\n",
       "      <td>Guinea-Bissau</td>\n",
       "      <td>NaN</td>\n",
       "    </tr>\n",
       "    <tr>\n",
       "      <th>17</th>\n",
       "      <td>Haiti</td>\n",
       "      <td>NaN</td>\n",
       "    </tr>\n",
       "    <tr>\n",
       "      <th>18</th>\n",
       "      <td>Kenya</td>\n",
       "      <td>NaN</td>\n",
       "    </tr>\n",
       "    <tr>\n",
       "      <th>19</th>\n",
       "      <td>Kiribati</td>\n",
       "      <td>NaN</td>\n",
       "    </tr>\n",
       "    <tr>\n",
       "      <th>20</th>\n",
       "      <td>Lesotho</td>\n",
       "      <td>NaN</td>\n",
       "    </tr>\n",
       "    <tr>\n",
       "      <th>21</th>\n",
       "      <td>Liberia</td>\n",
       "      <td>NaN</td>\n",
       "    </tr>\n",
       "    <tr>\n",
       "      <th>22</th>\n",
       "      <td>Madagascar</td>\n",
       "      <td>NaN</td>\n",
       "    </tr>\n",
       "    <tr>\n",
       "      <th>23</th>\n",
       "      <td>Malawi</td>\n",
       "      <td>NaN</td>\n",
       "    </tr>\n",
       "    <tr>\n",
       "      <th>24</th>\n",
       "      <td>Mali</td>\n",
       "      <td>NaN</td>\n",
       "    </tr>\n",
       "    <tr>\n",
       "      <th>25</th>\n",
       "      <td>Mauritania</td>\n",
       "      <td>NaN</td>\n",
       "    </tr>\n",
       "    <tr>\n",
       "      <th>26</th>\n",
       "      <td>Mozambique</td>\n",
       "      <td>NaN</td>\n",
       "    </tr>\n",
       "    <tr>\n",
       "      <th>27</th>\n",
       "      <td>Myanmar</td>\n",
       "      <td>NaN</td>\n",
       "    </tr>\n",
       "    <tr>\n",
       "      <th>28</th>\n",
       "      <td>Nepal</td>\n",
       "      <td>NaN</td>\n",
       "    </tr>\n",
       "    <tr>\n",
       "      <th>29</th>\n",
       "      <td>Niger</td>\n",
       "      <td>NaN</td>\n",
       "    </tr>\n",
       "    <tr>\n",
       "      <th>30</th>\n",
       "      <td>Nigeria</td>\n",
       "      <td>NaN</td>\n",
       "    </tr>\n",
       "    <tr>\n",
       "      <th>31</th>\n",
       "      <td>Pakistan</td>\n",
       "      <td>NaN</td>\n",
       "    </tr>\n",
       "    <tr>\n",
       "      <th>32</th>\n",
       "      <td>Papua New Guinea</td>\n",
       "      <td>NaN</td>\n",
       "    </tr>\n",
       "    <tr>\n",
       "      <th>33</th>\n",
       "      <td>Rwanda</td>\n",
       "      <td>NaN</td>\n",
       "    </tr>\n",
       "    <tr>\n",
       "      <th>34</th>\n",
       "      <td>Sao Tome and Principe</td>\n",
       "      <td>NaN</td>\n",
       "    </tr>\n",
       "    <tr>\n",
       "      <th>35</th>\n",
       "      <td>Senegal</td>\n",
       "      <td>NaN</td>\n",
       "    </tr>\n",
       "    <tr>\n",
       "      <th>36</th>\n",
       "      <td>Sierra Leone</td>\n",
       "      <td>NaN</td>\n",
       "    </tr>\n",
       "    <tr>\n",
       "      <th>37</th>\n",
       "      <td>Solomon Islands</td>\n",
       "      <td>NaN</td>\n",
       "    </tr>\n",
       "    <tr>\n",
       "      <th>38</th>\n",
       "      <td>South Sudan</td>\n",
       "      <td>NaN</td>\n",
       "    </tr>\n",
       "    <tr>\n",
       "      <th>39</th>\n",
       "      <td>Sudan</td>\n",
       "      <td>NaN</td>\n",
       "    </tr>\n",
       "    <tr>\n",
       "      <th>40</th>\n",
       "      <td>Swaziland</td>\n",
       "      <td>NaN</td>\n",
       "    </tr>\n",
       "    <tr>\n",
       "      <th>41</th>\n",
       "      <td>Togo</td>\n",
       "      <td>NaN</td>\n",
       "    </tr>\n",
       "    <tr>\n",
       "      <th>42</th>\n",
       "      <td>Uganda</td>\n",
       "      <td>NaN</td>\n",
       "    </tr>\n",
       "    <tr>\n",
       "      <th>43</th>\n",
       "      <td>Vanuatu</td>\n",
       "      <td>NaN</td>\n",
       "    </tr>\n",
       "    <tr>\n",
       "      <th>44</th>\n",
       "      <td>Zambia</td>\n",
       "      <td>NaN</td>\n",
       "    </tr>\n",
       "    <tr>\n",
       "      <th>45</th>\n",
       "      <td>Zimbabwe</td>\n",
       "      <td>NaN</td>\n",
       "    </tr>\n",
       "  </tbody>\n",
       "</table>\n",
       "</div>"
      ],
      "text/plain": [
       "                           0                  1\n",
       "0                Afghanistan  Equatorial Guinea\n",
       "1                     Angola                NaN\n",
       "2                 Bangladesh                NaN\n",
       "3                      Benin                NaN\n",
       "4                     Bhutan                NaN\n",
       "5               Burkina Faso                NaN\n",
       "6                    Burundi                NaN\n",
       "7                   Cambodia                NaN\n",
       "8                   Cameroon                NaN\n",
       "9   Central African Republic                NaN\n",
       "10                      Chad                NaN\n",
       "11                   Comoros                NaN\n",
       "12                  Djibouti                NaN\n",
       "13                  Ethiopia                NaN\n",
       "14                     Ghana                NaN\n",
       "15                    Guinea                NaN\n",
       "16             Guinea-Bissau                NaN\n",
       "17                     Haiti                NaN\n",
       "18                     Kenya                NaN\n",
       "19                  Kiribati                NaN\n",
       "20                   Lesotho                NaN\n",
       "21                   Liberia                NaN\n",
       "22                Madagascar                NaN\n",
       "23                    Malawi                NaN\n",
       "24                      Mali                NaN\n",
       "25                Mauritania                NaN\n",
       "26                Mozambique                NaN\n",
       "27                   Myanmar                NaN\n",
       "28                     Nepal                NaN\n",
       "29                     Niger                NaN\n",
       "30                   Nigeria                NaN\n",
       "31                  Pakistan                NaN\n",
       "32          Papua New Guinea                NaN\n",
       "33                    Rwanda                NaN\n",
       "34     Sao Tome and Principe                NaN\n",
       "35                   Senegal                NaN\n",
       "36              Sierra Leone                NaN\n",
       "37           Solomon Islands                NaN\n",
       "38               South Sudan                NaN\n",
       "39                     Sudan                NaN\n",
       "40                 Swaziland                NaN\n",
       "41                      Togo                NaN\n",
       "42                    Uganda                NaN\n",
       "43                   Vanuatu                NaN\n",
       "44                    Zambia                NaN\n",
       "45                  Zimbabwe                NaN"
      ]
     },
     "execution_count": 64,
     "metadata": {},
     "output_type": "execute_result"
    }
   ],
   "source": [
    "df_ = df_0_6.copy()\n",
    "name_countries_classificated(df_, kmeans.labels_)"
   ]
  },
  {
   "cell_type": "code",
   "execution_count": 65,
   "id": "c5535ea7",
   "metadata": {
    "id": "c5535ea7",
    "outputId": "014e2107-b5de-4b2c-f7d9-4b177a08c5b9"
   },
   "outputs": [
    {
     "data": {
      "text/html": [
       "<div>\n",
       "<style scoped>\n",
       "    .dataframe tbody tr th:only-of-type {\n",
       "        vertical-align: middle;\n",
       "    }\n",
       "\n",
       "    .dataframe tbody tr th {\n",
       "        vertical-align: top;\n",
       "    }\n",
       "\n",
       "    .dataframe thead th {\n",
       "        text-align: right;\n",
       "    }\n",
       "</style>\n",
       "<table border=\"1\" class=\"dataframe\">\n",
       "  <thead>\n",
       "    <tr style=\"text-align: right;\">\n",
       "      <th></th>\n",
       "      <th>Total expenditure</th>\n",
       "      <th>GDP</th>\n",
       "    </tr>\n",
       "  </thead>\n",
       "  <tbody>\n",
       "    <tr>\n",
       "      <th>Total expenditure</th>\n",
       "      <td>1.000000</td>\n",
       "      <td>-0.147358</td>\n",
       "    </tr>\n",
       "    <tr>\n",
       "      <th>GDP</th>\n",
       "      <td>-0.147358</td>\n",
       "      <td>1.000000</td>\n",
       "    </tr>\n",
       "  </tbody>\n",
       "</table>\n",
       "</div>"
      ],
      "text/plain": [
       "                   Total expenditure       GDP\n",
       "Total expenditure           1.000000 -0.147358\n",
       "GDP                        -0.147358  1.000000"
      ]
     },
     "execution_count": 65,
     "metadata": {},
     "output_type": "execute_result"
    }
   ],
   "source": [
    "df_0_6[[\"Total expenditure\", \"GDP\"]].corr()"
   ]
  },
  {
   "cell_type": "markdown",
   "id": "a907b143",
   "metadata": {
    "id": "a907b143"
   },
   "source": [
    "Há uma correlação negativa muito fraca entre os gastos governamentais e o PIB per capita."
   ]
  },
  {
   "cell_type": "markdown",
   "id": "5868c58b",
   "metadata": {
    "id": "5868c58b"
   },
   "source": [
    "## Países com IDH entre 0.601 e 0.800"
   ]
  },
  {
   "cell_type": "code",
   "execution_count": 66,
   "id": "8682bee3",
   "metadata": {
    "id": "8682bee3",
    "outputId": "5a519e7e-e571-4ec1-c871-265b8a8577ea"
   },
   "outputs": [
    {
     "name": "stderr",
     "output_type": "stream",
     "text": [
      "C:\\Users\\bergs\\anaconda3\\lib\\site-packages\\sklearn\\cluster\\_kmeans.py:881: UserWarning: KMeans is known to have a memory leak on Windows with MKL, when there are less chunks than available threads. You can avoid it by setting the environment variable OMP_NUM_THREADS=1.\n",
      "  warnings.warn(\n"
     ]
    },
    {
     "data": {
      "image/png": "[encoded data removed]",
      "text/plain": [
       "<Figure size 432x288 with 1 Axes>"
      ]
     },
     "metadata": {
      "needs_background": "light"
     },
     "output_type": "display_data"
    }
   ],
   "source": [
    "quantidade_k(df_6_8, \"Total expenditure\", \"GDP\")"
   ]
  },
  {
   "cell_type": "code",
   "execution_count": 67,
   "id": "003e7900",
   "metadata": {
    "id": "003e7900",
    "outputId": "1e355228-6a49-4762-a46a-e541f193deef"
   },
   "outputs": [
    {
     "data": {
      "text/plain": [
       "<AxesSubplot:xlabel='Total expenditure', ylabel='GDP'>"
      ]
     },
     "execution_count": 67,
     "metadata": {},
     "output_type": "execute_result"
    },
    {
     "data": {
      "image/png": "[encoded data removed]",
      "text/plain": [
       "<Figure size 432x288 with 1 Axes>"
      ]
     },
     "metadata": {
      "needs_background": "light"
     },
     "output_type": "display_data"
    }
   ],
   "source": [
    "kmeans = KMeans(n_clusters = 4)\n",
    "kmeans.fit(df_6_8[[\"Total expenditure\", \"GDP\"]])\n",
    "sns.scatterplot(data = df_6_8, x = \"Total expenditure\", y = \"GDP\", hue = kmeans.labels_)"
   ]
  },
  {
   "cell_type": "code",
   "execution_count": 68,
   "id": "6e88e851",
   "metadata": {
    "id": "6e88e851",
    "outputId": "d087be09-832b-4729-c298-ca841b116da8"
   },
   "outputs": [
    {
     "data": {
      "text/html": [
       "<div>\n",
       "<style scoped>\n",
       "    .dataframe tbody tr th:only-of-type {\n",
       "        vertical-align: middle;\n",
       "    }\n",
       "\n",
       "    .dataframe tbody tr th {\n",
       "        vertical-align: top;\n",
       "    }\n",
       "\n",
       "    .dataframe thead th {\n",
       "        text-align: right;\n",
       "    }\n",
       "</style>\n",
       "<table border=\"1\" class=\"dataframe\">\n",
       "  <thead>\n",
       "    <tr style=\"text-align: right;\">\n",
       "      <th></th>\n",
       "      <th>0</th>\n",
       "      <th>1</th>\n",
       "      <th>2</th>\n",
       "      <th>3</th>\n",
       "    </tr>\n",
       "  </thead>\n",
       "  <tbody>\n",
       "    <tr>\n",
       "      <th>0</th>\n",
       "      <td>Algeria</td>\n",
       "      <td>Kuwait</td>\n",
       "      <td>Albania</td>\n",
       "      <td>Antigua and Barbuda</td>\n",
       "    </tr>\n",
       "    <tr>\n",
       "      <th>1</th>\n",
       "      <td>Azerbaijan</td>\n",
       "      <td>NaN</td>\n",
       "      <td>Armenia</td>\n",
       "      <td>Barbados</td>\n",
       "    </tr>\n",
       "    <tr>\n",
       "      <th>2</th>\n",
       "      <td>Bulgaria</td>\n",
       "      <td>NaN</td>\n",
       "      <td>Belarus</td>\n",
       "      <td>Brazil</td>\n",
       "    </tr>\n",
       "    <tr>\n",
       "      <th>3</th>\n",
       "      <td>China</td>\n",
       "      <td>NaN</td>\n",
       "      <td>Belize</td>\n",
       "      <td>Kazakhstan</td>\n",
       "    </tr>\n",
       "    <tr>\n",
       "      <th>4</th>\n",
       "      <td>Colombia</td>\n",
       "      <td>NaN</td>\n",
       "      <td>Bosnia and Herzegovina</td>\n",
       "      <td>Oman</td>\n",
       "    </tr>\n",
       "    <tr>\n",
       "      <th>5</th>\n",
       "      <td>Costa Rica</td>\n",
       "      <td>NaN</td>\n",
       "      <td>Botswana</td>\n",
       "      <td>Russian Federation</td>\n",
       "    </tr>\n",
       "    <tr>\n",
       "      <th>6</th>\n",
       "      <td>Cuba</td>\n",
       "      <td>NaN</td>\n",
       "      <td>Cabo Verde</td>\n",
       "      <td>Seychelles</td>\n",
       "    </tr>\n",
       "    <tr>\n",
       "      <th>7</th>\n",
       "      <td>Dominican Republic</td>\n",
       "      <td>NaN</td>\n",
       "      <td>Ecuador</td>\n",
       "      <td>Trinidad and Tobago</td>\n",
       "    </tr>\n",
       "    <tr>\n",
       "      <th>8</th>\n",
       "      <td>Gabon</td>\n",
       "      <td>NaN</td>\n",
       "      <td>El Salvador</td>\n",
       "      <td>NaN</td>\n",
       "    </tr>\n",
       "    <tr>\n",
       "      <th>9</th>\n",
       "      <td>Grenada</td>\n",
       "      <td>NaN</td>\n",
       "      <td>Fiji</td>\n",
       "      <td>NaN</td>\n",
       "    </tr>\n",
       "    <tr>\n",
       "      <th>10</th>\n",
       "      <td>Iraq</td>\n",
       "      <td>NaN</td>\n",
       "      <td>Georgia</td>\n",
       "      <td>NaN</td>\n",
       "    </tr>\n",
       "    <tr>\n",
       "      <th>11</th>\n",
       "      <td>Lebanon</td>\n",
       "      <td>NaN</td>\n",
       "      <td>Guatemala</td>\n",
       "      <td>NaN</td>\n",
       "    </tr>\n",
       "    <tr>\n",
       "      <th>12</th>\n",
       "      <td>Maldives</td>\n",
       "      <td>NaN</td>\n",
       "      <td>Guyana</td>\n",
       "      <td>NaN</td>\n",
       "    </tr>\n",
       "    <tr>\n",
       "      <th>13</th>\n",
       "      <td>Mauritius</td>\n",
       "      <td>NaN</td>\n",
       "      <td>Honduras</td>\n",
       "      <td>NaN</td>\n",
       "    </tr>\n",
       "    <tr>\n",
       "      <th>14</th>\n",
       "      <td>Montenegro</td>\n",
       "      <td>NaN</td>\n",
       "      <td>Indonesia</td>\n",
       "      <td>NaN</td>\n",
       "    </tr>\n",
       "    <tr>\n",
       "      <th>15</th>\n",
       "      <td>Namibia</td>\n",
       "      <td>NaN</td>\n",
       "      <td>Jamaica</td>\n",
       "      <td>NaN</td>\n",
       "    </tr>\n",
       "    <tr>\n",
       "      <th>16</th>\n",
       "      <td>Peru</td>\n",
       "      <td>NaN</td>\n",
       "      <td>Jordan</td>\n",
       "      <td>NaN</td>\n",
       "    </tr>\n",
       "    <tr>\n",
       "      <th>17</th>\n",
       "      <td>Romania</td>\n",
       "      <td>NaN</td>\n",
       "      <td>Malaysia</td>\n",
       "      <td>NaN</td>\n",
       "    </tr>\n",
       "    <tr>\n",
       "      <th>18</th>\n",
       "      <td>Serbia</td>\n",
       "      <td>NaN</td>\n",
       "      <td>Mexico</td>\n",
       "      <td>NaN</td>\n",
       "    </tr>\n",
       "    <tr>\n",
       "      <th>19</th>\n",
       "      <td>South Africa</td>\n",
       "      <td>NaN</td>\n",
       "      <td>Mongolia</td>\n",
       "      <td>NaN</td>\n",
       "    </tr>\n",
       "    <tr>\n",
       "      <th>20</th>\n",
       "      <td>Suriname</td>\n",
       "      <td>NaN</td>\n",
       "      <td>Morocco</td>\n",
       "      <td>NaN</td>\n",
       "    </tr>\n",
       "    <tr>\n",
       "      <th>21</th>\n",
       "      <td>Thailand</td>\n",
       "      <td>NaN</td>\n",
       "      <td>Nicaragua</td>\n",
       "      <td>NaN</td>\n",
       "    </tr>\n",
       "    <tr>\n",
       "      <th>22</th>\n",
       "      <td>Turkmenistan</td>\n",
       "      <td>NaN</td>\n",
       "      <td>Panama</td>\n",
       "      <td>NaN</td>\n",
       "    </tr>\n",
       "    <tr>\n",
       "      <th>23</th>\n",
       "      <td>NaN</td>\n",
       "      <td>NaN</td>\n",
       "      <td>Paraguay</td>\n",
       "      <td>NaN</td>\n",
       "    </tr>\n",
       "    <tr>\n",
       "      <th>24</th>\n",
       "      <td>NaN</td>\n",
       "      <td>NaN</td>\n",
       "      <td>Philippines</td>\n",
       "      <td>NaN</td>\n",
       "    </tr>\n",
       "    <tr>\n",
       "      <th>25</th>\n",
       "      <td>NaN</td>\n",
       "      <td>NaN</td>\n",
       "      <td>Samoa</td>\n",
       "      <td>NaN</td>\n",
       "    </tr>\n",
       "    <tr>\n",
       "      <th>26</th>\n",
       "      <td>NaN</td>\n",
       "      <td>NaN</td>\n",
       "      <td>Sri Lanka</td>\n",
       "      <td>NaN</td>\n",
       "    </tr>\n",
       "    <tr>\n",
       "      <th>27</th>\n",
       "      <td>NaN</td>\n",
       "      <td>NaN</td>\n",
       "      <td>Tajikistan</td>\n",
       "      <td>NaN</td>\n",
       "    </tr>\n",
       "    <tr>\n",
       "      <th>28</th>\n",
       "      <td>NaN</td>\n",
       "      <td>NaN</td>\n",
       "      <td>Timor-Leste</td>\n",
       "      <td>NaN</td>\n",
       "    </tr>\n",
       "    <tr>\n",
       "      <th>29</th>\n",
       "      <td>NaN</td>\n",
       "      <td>NaN</td>\n",
       "      <td>Tonga</td>\n",
       "      <td>NaN</td>\n",
       "    </tr>\n",
       "    <tr>\n",
       "      <th>30</th>\n",
       "      <td>NaN</td>\n",
       "      <td>NaN</td>\n",
       "      <td>Tunisia</td>\n",
       "      <td>NaN</td>\n",
       "    </tr>\n",
       "    <tr>\n",
       "      <th>31</th>\n",
       "      <td>NaN</td>\n",
       "      <td>NaN</td>\n",
       "      <td>Turkey</td>\n",
       "      <td>NaN</td>\n",
       "    </tr>\n",
       "    <tr>\n",
       "      <th>32</th>\n",
       "      <td>NaN</td>\n",
       "      <td>NaN</td>\n",
       "      <td>Ukraine</td>\n",
       "      <td>NaN</td>\n",
       "    </tr>\n",
       "    <tr>\n",
       "      <th>33</th>\n",
       "      <td>NaN</td>\n",
       "      <td>NaN</td>\n",
       "      <td>Uruguay</td>\n",
       "      <td>NaN</td>\n",
       "    </tr>\n",
       "    <tr>\n",
       "      <th>34</th>\n",
       "      <td>NaN</td>\n",
       "      <td>NaN</td>\n",
       "      <td>Uzbekistan</td>\n",
       "      <td>NaN</td>\n",
       "    </tr>\n",
       "  </tbody>\n",
       "</table>\n",
       "</div>"
      ],
      "text/plain": [
       "                     0       1                       2                    3\n",
       "0              Algeria  Kuwait                 Albania  Antigua and Barbuda\n",
       "1           Azerbaijan     NaN                 Armenia             Barbados\n",
       "2             Bulgaria     NaN                 Belarus               Brazil\n",
       "3                China     NaN                  Belize           Kazakhstan\n",
       "4             Colombia     NaN  Bosnia and Herzegovina                 Oman\n",
       "5           Costa Rica     NaN                Botswana   Russian Federation\n",
       "6                 Cuba     NaN              Cabo Verde           Seychelles\n",
       "7   Dominican Republic     NaN                 Ecuador  Trinidad and Tobago\n",
       "8                Gabon     NaN             El Salvador                  NaN\n",
       "9              Grenada     NaN                    Fiji                  NaN\n",
       "10                Iraq     NaN                 Georgia                  NaN\n",
       "11             Lebanon     NaN               Guatemala                  NaN\n",
       "12            Maldives     NaN                  Guyana                  NaN\n",
       "13           Mauritius     NaN                Honduras                  NaN\n",
       "14          Montenegro     NaN               Indonesia                  NaN\n",
       "15             Namibia     NaN                 Jamaica                  NaN\n",
       "16                Peru     NaN                  Jordan                  NaN\n",
       "17             Romania     NaN                Malaysia                  NaN\n",
       "18              Serbia     NaN                  Mexico                  NaN\n",
       "19        South Africa     NaN                Mongolia                  NaN\n",
       "20            Suriname     NaN                 Morocco                  NaN\n",
       "21            Thailand     NaN               Nicaragua                  NaN\n",
       "22        Turkmenistan     NaN                  Panama                  NaN\n",
       "23                 NaN     NaN                Paraguay                  NaN\n",
       "24                 NaN     NaN             Philippines                  NaN\n",
       "25                 NaN     NaN                   Samoa                  NaN\n",
       "26                 NaN     NaN               Sri Lanka                  NaN\n",
       "27                 NaN     NaN              Tajikistan                  NaN\n",
       "28                 NaN     NaN             Timor-Leste                  NaN\n",
       "29                 NaN     NaN                   Tonga                  NaN\n",
       "30                 NaN     NaN                 Tunisia                  NaN\n",
       "31                 NaN     NaN                  Turkey                  NaN\n",
       "32                 NaN     NaN                 Ukraine                  NaN\n",
       "33                 NaN     NaN                 Uruguay                  NaN\n",
       "34                 NaN     NaN              Uzbekistan                  NaN"
      ]
     },
     "execution_count": 68,
     "metadata": {},
     "output_type": "execute_result"
    }
   ],
   "source": [
    "df_ = df_6_8.copy()\n",
    "name_countries_classificated(df_, kmeans.labels_)"
   ]
  },
  {
   "cell_type": "code",
   "execution_count": 69,
   "id": "6f765b50",
   "metadata": {
    "id": "6f765b50",
    "outputId": "8fea14da-cc48-4e8a-de28-583ce4aae511"
   },
   "outputs": [
    {
     "data": {
      "text/html": [
       "<div>\n",
       "<style scoped>\n",
       "    .dataframe tbody tr th:only-of-type {\n",
       "        vertical-align: middle;\n",
       "    }\n",
       "\n",
       "    .dataframe tbody tr th {\n",
       "        vertical-align: top;\n",
       "    }\n",
       "\n",
       "    .dataframe thead th {\n",
       "        text-align: right;\n",
       "    }\n",
       "</style>\n",
       "<table border=\"1\" class=\"dataframe\">\n",
       "  <thead>\n",
       "    <tr style=\"text-align: right;\">\n",
       "      <th></th>\n",
       "      <th>Total expenditure</th>\n",
       "      <th>GDP</th>\n",
       "    </tr>\n",
       "  </thead>\n",
       "  <tbody>\n",
       "    <tr>\n",
       "      <th>Total expenditure</th>\n",
       "      <td>1.000000</td>\n",
       "      <td>-0.168716</td>\n",
       "    </tr>\n",
       "    <tr>\n",
       "      <th>GDP</th>\n",
       "      <td>-0.168716</td>\n",
       "      <td>1.000000</td>\n",
       "    </tr>\n",
       "  </tbody>\n",
       "</table>\n",
       "</div>"
      ],
      "text/plain": [
       "                   Total expenditure       GDP\n",
       "Total expenditure           1.000000 -0.168716\n",
       "GDP                        -0.168716  1.000000"
      ]
     },
     "execution_count": 69,
     "metadata": {},
     "output_type": "execute_result"
    }
   ],
   "source": [
    "df_6_8[[\"Total expenditure\", \"GDP\"]].corr()"
   ]
  },
  {
   "cell_type": "markdown",
   "id": "1ed3c1ea",
   "metadata": {
    "id": "1ed3c1ea"
   },
   "source": [
    "Há uma correlação negativa muito fraca entre os gastos governamentais e o PIB per capita."
   ]
  },
  {
   "cell_type": "markdown",
   "id": "836a3354",
   "metadata": {
    "id": "836a3354"
   },
   "source": [
    "## Países com IDH acima de 0.800"
   ]
  },
  {
   "cell_type": "code",
   "execution_count": 70,
   "id": "63255e88",
   "metadata": {
    "id": "63255e88",
    "outputId": "0b27dfbd-4134-4180-d746-314b63e70cd5"
   },
   "outputs": [
    {
     "name": "stderr",
     "output_type": "stream",
     "text": [
      "C:\\Users\\bergs\\anaconda3\\lib\\site-packages\\sklearn\\cluster\\_kmeans.py:881: UserWarning: KMeans is known to have a memory leak on Windows with MKL, when there are less chunks than available threads. You can avoid it by setting the environment variable OMP_NUM_THREADS=1.\n",
      "  warnings.warn(\n"
     ]
    },
    {
     "data": {
      "image/png": "[encoded data removed]",
      "text/plain": [
       "<Figure size 432x288 with 1 Axes>"
      ]
     },
     "metadata": {
      "needs_background": "light"
     },
     "output_type": "display_data"
    }
   ],
   "source": [
    "quantidade_k(df_8, \"Total expenditure\", \"GDP\")"
   ]
  },
  {
   "cell_type": "code",
   "execution_count": 71,
   "id": "d967cdf5",
   "metadata": {
    "id": "d967cdf5",
    "outputId": "a34f3013-0f8a-49ff-d77a-5c4131e6aeee"
   },
   "outputs": [
    {
     "data": {
      "text/plain": [
       "<AxesSubplot:xlabel='Total expenditure', ylabel='GDP'>"
      ]
     },
     "execution_count": 71,
     "metadata": {},
     "output_type": "execute_result"
    },
    {
     "data": {
      "image/png": "[encoded data removed]",
      "text/plain": [
       "<Figure size 432x288 with 1 Axes>"
      ]
     },
     "metadata": {
      "needs_background": "light"
     },
     "output_type": "display_data"
    }
   ],
   "source": [
    "kmeans = KMeans(n_clusters = 4)\n",
    "kmeans.fit(df_8[[\"Total expenditure\", \"GDP\"]])\n",
    "sns.scatterplot(data = df_8, x = \"Total expenditure\", y = \"GDP\", hue = kmeans.labels_)"
   ]
  },
  {
   "cell_type": "code",
   "execution_count": 72,
   "id": "a17009ef",
   "metadata": {
    "id": "a17009ef",
    "outputId": "16cefa0c-c311-47c1-ff34-a3de728f5fdd"
   },
   "outputs": [
    {
     "data": {
      "text/html": [
       "<div>\n",
       "<style scoped>\n",
       "    .dataframe tbody tr th:only-of-type {\n",
       "        vertical-align: middle;\n",
       "    }\n",
       "\n",
       "    .dataframe tbody tr th {\n",
       "        vertical-align: top;\n",
       "    }\n",
       "\n",
       "    .dataframe thead th {\n",
       "        text-align: right;\n",
       "    }\n",
       "</style>\n",
       "<table border=\"1\" class=\"dataframe\">\n",
       "  <thead>\n",
       "    <tr style=\"text-align: right;\">\n",
       "      <th></th>\n",
       "      <th>0</th>\n",
       "      <th>1</th>\n",
       "      <th>2</th>\n",
       "      <th>3</th>\n",
       "    </tr>\n",
       "  </thead>\n",
       "  <tbody>\n",
       "    <tr>\n",
       "      <th>0</th>\n",
       "      <td>Bahrain</td>\n",
       "      <td>Australia</td>\n",
       "      <td>Argentina</td>\n",
       "      <td>Austria</td>\n",
       "    </tr>\n",
       "    <tr>\n",
       "      <th>1</th>\n",
       "      <td>Cyprus</td>\n",
       "      <td>Qatar</td>\n",
       "      <td>Belgium</td>\n",
       "      <td>Brunei Darussalam</td>\n",
       "    </tr>\n",
       "    <tr>\n",
       "      <th>2</th>\n",
       "      <td>Greece</td>\n",
       "      <td>Switzerland</td>\n",
       "      <td>Chile</td>\n",
       "      <td>Canada</td>\n",
       "    </tr>\n",
       "    <tr>\n",
       "      <th>3</th>\n",
       "      <td>Israel</td>\n",
       "      <td>NaN</td>\n",
       "      <td>Croatia</td>\n",
       "      <td>Finland</td>\n",
       "    </tr>\n",
       "    <tr>\n",
       "      <th>4</th>\n",
       "      <td>Italy</td>\n",
       "      <td>NaN</td>\n",
       "      <td>Denmark</td>\n",
       "      <td>Iceland</td>\n",
       "    </tr>\n",
       "    <tr>\n",
       "      <th>5</th>\n",
       "      <td>Slovenia</td>\n",
       "      <td>NaN</td>\n",
       "      <td>Estonia</td>\n",
       "      <td>Ireland</td>\n",
       "    </tr>\n",
       "    <tr>\n",
       "      <th>6</th>\n",
       "      <td>Spain</td>\n",
       "      <td>NaN</td>\n",
       "      <td>France</td>\n",
       "      <td>Netherlands</td>\n",
       "    </tr>\n",
       "    <tr>\n",
       "      <th>7</th>\n",
       "      <td>NaN</td>\n",
       "      <td>NaN</td>\n",
       "      <td>Germany</td>\n",
       "      <td>Singapore</td>\n",
       "    </tr>\n",
       "    <tr>\n",
       "      <th>8</th>\n",
       "      <td>NaN</td>\n",
       "      <td>NaN</td>\n",
       "      <td>Hungary</td>\n",
       "      <td>Sweden</td>\n",
       "    </tr>\n",
       "    <tr>\n",
       "      <th>9</th>\n",
       "      <td>NaN</td>\n",
       "      <td>NaN</td>\n",
       "      <td>Japan</td>\n",
       "      <td>United Arab Emirates</td>\n",
       "    </tr>\n",
       "    <tr>\n",
       "      <th>10</th>\n",
       "      <td>NaN</td>\n",
       "      <td>NaN</td>\n",
       "      <td>Latvia</td>\n",
       "      <td>NaN</td>\n",
       "    </tr>\n",
       "    <tr>\n",
       "      <th>11</th>\n",
       "      <td>NaN</td>\n",
       "      <td>NaN</td>\n",
       "      <td>Lithuania</td>\n",
       "      <td>NaN</td>\n",
       "    </tr>\n",
       "    <tr>\n",
       "      <th>12</th>\n",
       "      <td>NaN</td>\n",
       "      <td>NaN</td>\n",
       "      <td>Luxembourg</td>\n",
       "      <td>NaN</td>\n",
       "    </tr>\n",
       "    <tr>\n",
       "      <th>13</th>\n",
       "      <td>NaN</td>\n",
       "      <td>NaN</td>\n",
       "      <td>Malta</td>\n",
       "      <td>NaN</td>\n",
       "    </tr>\n",
       "    <tr>\n",
       "      <th>14</th>\n",
       "      <td>NaN</td>\n",
       "      <td>NaN</td>\n",
       "      <td>New Zealand</td>\n",
       "      <td>NaN</td>\n",
       "    </tr>\n",
       "    <tr>\n",
       "      <th>15</th>\n",
       "      <td>NaN</td>\n",
       "      <td>NaN</td>\n",
       "      <td>Norway</td>\n",
       "      <td>NaN</td>\n",
       "    </tr>\n",
       "    <tr>\n",
       "      <th>16</th>\n",
       "      <td>NaN</td>\n",
       "      <td>NaN</td>\n",
       "      <td>Poland</td>\n",
       "      <td>NaN</td>\n",
       "    </tr>\n",
       "    <tr>\n",
       "      <th>17</th>\n",
       "      <td>NaN</td>\n",
       "      <td>NaN</td>\n",
       "      <td>Portugal</td>\n",
       "      <td>NaN</td>\n",
       "    </tr>\n",
       "    <tr>\n",
       "      <th>18</th>\n",
       "      <td>NaN</td>\n",
       "      <td>NaN</td>\n",
       "      <td>Saudi Arabia</td>\n",
       "      <td>NaN</td>\n",
       "    </tr>\n",
       "  </tbody>\n",
       "</table>\n",
       "</div>"
      ],
      "text/plain": [
       "           0            1             2                     3\n",
       "0    Bahrain    Australia     Argentina               Austria\n",
       "1     Cyprus        Qatar       Belgium     Brunei Darussalam\n",
       "2     Greece  Switzerland         Chile                Canada\n",
       "3     Israel          NaN       Croatia               Finland\n",
       "4      Italy          NaN       Denmark               Iceland\n",
       "5   Slovenia          NaN       Estonia               Ireland\n",
       "6      Spain          NaN        France           Netherlands\n",
       "7        NaN          NaN       Germany             Singapore\n",
       "8        NaN          NaN       Hungary                Sweden\n",
       "9        NaN          NaN         Japan  United Arab Emirates\n",
       "10       NaN          NaN        Latvia                   NaN\n",
       "11       NaN          NaN     Lithuania                   NaN\n",
       "12       NaN          NaN    Luxembourg                   NaN\n",
       "13       NaN          NaN         Malta                   NaN\n",
       "14       NaN          NaN   New Zealand                   NaN\n",
       "15       NaN          NaN        Norway                   NaN\n",
       "16       NaN          NaN        Poland                   NaN\n",
       "17       NaN          NaN      Portugal                   NaN\n",
       "18       NaN          NaN  Saudi Arabia                   NaN"
      ]
     },
     "execution_count": 72,
     "metadata": {},
     "output_type": "execute_result"
    }
   ],
   "source": [
    "df_ = df_8.copy()\n",
    "name_countries_classificated(df_, kmeans.labels_)"
   ]
  },
  {
   "cell_type": "code",
   "execution_count": 73,
   "id": "0fc40243",
   "metadata": {
    "id": "0fc40243",
    "outputId": "485e81bf-d4d4-463f-e63c-61ffd047677c"
   },
   "outputs": [
    {
     "data": {
      "text/html": [
       "<div>\n",
       "<style scoped>\n",
       "    .dataframe tbody tr th:only-of-type {\n",
       "        vertical-align: middle;\n",
       "    }\n",
       "\n",
       "    .dataframe tbody tr th {\n",
       "        vertical-align: top;\n",
       "    }\n",
       "\n",
       "    .dataframe thead th {\n",
       "        text-align: right;\n",
       "    }\n",
       "</style>\n",
       "<table border=\"1\" class=\"dataframe\">\n",
       "  <thead>\n",
       "    <tr style=\"text-align: right;\">\n",
       "      <th></th>\n",
       "      <th>Total expenditure</th>\n",
       "      <th>GDP</th>\n",
       "    </tr>\n",
       "  </thead>\n",
       "  <tbody>\n",
       "    <tr>\n",
       "      <th>Total expenditure</th>\n",
       "      <td>1.00000</td>\n",
       "      <td>0.11795</td>\n",
       "    </tr>\n",
       "    <tr>\n",
       "      <th>GDP</th>\n",
       "      <td>0.11795</td>\n",
       "      <td>1.00000</td>\n",
       "    </tr>\n",
       "  </tbody>\n",
       "</table>\n",
       "</div>"
      ],
      "text/plain": [
       "                   Total expenditure      GDP\n",
       "Total expenditure            1.00000  0.11795\n",
       "GDP                          0.11795  1.00000"
      ]
     },
     "execution_count": 73,
     "metadata": {},
     "output_type": "execute_result"
    }
   ],
   "source": [
    "df_8[[\"Total expenditure\", \"GDP\"]].corr()"
   ]
  },
  {
   "cell_type": "markdown",
   "id": "38cec818",
   "metadata": {
    "id": "38cec818"
   },
   "source": [
    "Existe uma correlação muito fraca entre gastos governamentais e PIB per capita."
   ]
  },
  {
   "cell_type": "markdown",
   "id": "49ef381a",
   "metadata": {
    "id": "49ef381a"
   },
   "source": [
    "## -*Resultados obtidos*"
   ]
  },
  {
   "cell_type": "markdown",
   "id": "d8eab3ce",
   "metadata": {
    "id": "d8eab3ce"
   },
   "source": [
    "- Países com IDH até 0.600: Há uma correlação negativa muito fraca entre os gastos governamentais e o PIB per capita.\n",
    "- Países com IDH entre 0.601 e 0.800: Há uma correlação negativa muito fraca entre gastos governamentais e o PIB per capita.\n",
    "- Países com IDH acima de 0.800: Existe uma correlação muito fraca entre gastos governamentais e PIB per capita."
   ]
  },
  {
   "cell_type": "markdown",
   "id": "bdfc388b",
   "metadata": {
    "id": "bdfc388b"
   },
   "source": [
    "# 4.Existe relação entre escolaridade e gastos pessoais com saúde?"
   ]
  },
  {
   "cell_type": "markdown",
   "id": "e0a5f69a",
   "metadata": {
    "id": "e0a5f69a"
   },
   "source": [
    "## Países com IDH até 0.600"
   ]
  },
  {
   "cell_type": "code",
   "execution_count": 74,
   "id": "5b85e3a9",
   "metadata": {
    "id": "5b85e3a9",
    "outputId": "aed46552-e678-47a9-c7f1-419a33888f06"
   },
   "outputs": [
    {
     "name": "stderr",
     "output_type": "stream",
     "text": [
      "C:\\Users\\bergs\\anaconda3\\lib\\site-packages\\sklearn\\cluster\\_kmeans.py:881: UserWarning: KMeans is known to have a memory leak on Windows with MKL, when there are less chunks than available threads. You can avoid it by setting the environment variable OMP_NUM_THREADS=1.\n",
      "  warnings.warn(\n"
     ]
    },
    {
     "data": {
      "image/png": "[encoded data removed]",
      "text/plain": [
       "<Figure size 432x288 with 1 Axes>"
      ]
     },
     "metadata": {
      "needs_background": "light"
     },
     "output_type": "display_data"
    }
   ],
   "source": [
    "quantidade_k(df_0_6, \"percentage expenditure\", \"Schooling\")"
   ]
  },
  {
   "cell_type": "code",
   "execution_count": 75,
   "id": "25f96e45",
   "metadata": {
    "id": "25f96e45",
    "outputId": "3d19c525-8fad-44b4-802f-8982777180d0"
   },
   "outputs": [
    {
     "data": {
      "text/plain": [
       "<AxesSubplot:xlabel='percentage expenditure', ylabel='Schooling'>"
      ]
     },
     "execution_count": 75,
     "metadata": {},
     "output_type": "execute_result"
    },
    {
     "data": {
      "image/png": "[encoded data removed]",
      "text/plain": [
       "<Figure size 432x288 with 1 Axes>"
      ]
     },
     "metadata": {
      "needs_background": "light"
     },
     "output_type": "display_data"
    }
   ],
   "source": [
    "kmeans = KMeans(n_clusters = 4)\n",
    "kmeans.fit(df_0_6[[\"percentage expenditure\", \"Schooling\"]])\n",
    "sns.scatterplot(data = df_0_6, x = \"percentage expenditure\", y = \"Schooling\", hue = kmeans.labels_)"
   ]
  },
  {
   "cell_type": "code",
   "execution_count": 76,
   "id": "7f1f97d7",
   "metadata": {
    "id": "7f1f97d7",
    "outputId": "564d1f51-5bd0-4ad1-f151-47959c6bd85f"
   },
   "outputs": [
    {
     "data": {
      "text/html": [
       "<div>\n",
       "<style scoped>\n",
       "    .dataframe tbody tr th:only-of-type {\n",
       "        vertical-align: middle;\n",
       "    }\n",
       "\n",
       "    .dataframe tbody tr th {\n",
       "        vertical-align: top;\n",
       "    }\n",
       "\n",
       "    .dataframe thead th {\n",
       "        text-align: right;\n",
       "    }\n",
       "</style>\n",
       "<table border=\"1\" class=\"dataframe\">\n",
       "  <thead>\n",
       "    <tr style=\"text-align: right;\">\n",
       "      <th></th>\n",
       "      <th>0</th>\n",
       "      <th>1</th>\n",
       "      <th>2</th>\n",
       "      <th>3</th>\n",
       "    </tr>\n",
       "  </thead>\n",
       "  <tbody>\n",
       "    <tr>\n",
       "      <th>0</th>\n",
       "      <td>Afghanistan</td>\n",
       "      <td>Equatorial Guinea</td>\n",
       "      <td>Swaziland</td>\n",
       "      <td>Angola</td>\n",
       "    </tr>\n",
       "    <tr>\n",
       "      <th>1</th>\n",
       "      <td>Bangladesh</td>\n",
       "      <td>NaN</td>\n",
       "      <td>Vanuatu</td>\n",
       "      <td>Bhutan</td>\n",
       "    </tr>\n",
       "    <tr>\n",
       "      <th>2</th>\n",
       "      <td>Benin</td>\n",
       "      <td>NaN</td>\n",
       "      <td>NaN</td>\n",
       "      <td>Djibouti</td>\n",
       "    </tr>\n",
       "    <tr>\n",
       "      <th>3</th>\n",
       "      <td>Burkina Faso</td>\n",
       "      <td>NaN</td>\n",
       "      <td>NaN</td>\n",
       "      <td>Ghana</td>\n",
       "    </tr>\n",
       "    <tr>\n",
       "      <th>4</th>\n",
       "      <td>Burundi</td>\n",
       "      <td>NaN</td>\n",
       "      <td>NaN</td>\n",
       "      <td>Kenya</td>\n",
       "    </tr>\n",
       "    <tr>\n",
       "      <th>5</th>\n",
       "      <td>Cambodia</td>\n",
       "      <td>NaN</td>\n",
       "      <td>NaN</td>\n",
       "      <td>Kiribati</td>\n",
       "    </tr>\n",
       "    <tr>\n",
       "      <th>6</th>\n",
       "      <td>Cameroon</td>\n",
       "      <td>NaN</td>\n",
       "      <td>NaN</td>\n",
       "      <td>Lesotho</td>\n",
       "    </tr>\n",
       "    <tr>\n",
       "      <th>7</th>\n",
       "      <td>Central African Republic</td>\n",
       "      <td>NaN</td>\n",
       "      <td>NaN</td>\n",
       "      <td>Nigeria</td>\n",
       "    </tr>\n",
       "    <tr>\n",
       "      <th>8</th>\n",
       "      <td>Chad</td>\n",
       "      <td>NaN</td>\n",
       "      <td>NaN</td>\n",
       "      <td>Solomon Islands</td>\n",
       "    </tr>\n",
       "    <tr>\n",
       "      <th>9</th>\n",
       "      <td>Comoros</td>\n",
       "      <td>NaN</td>\n",
       "      <td>NaN</td>\n",
       "      <td>Sudan</td>\n",
       "    </tr>\n",
       "    <tr>\n",
       "      <th>10</th>\n",
       "      <td>Ethiopia</td>\n",
       "      <td>NaN</td>\n",
       "      <td>NaN</td>\n",
       "      <td>Zambia</td>\n",
       "    </tr>\n",
       "    <tr>\n",
       "      <th>11</th>\n",
       "      <td>Guinea</td>\n",
       "      <td>NaN</td>\n",
       "      <td>NaN</td>\n",
       "      <td>NaN</td>\n",
       "    </tr>\n",
       "    <tr>\n",
       "      <th>12</th>\n",
       "      <td>Guinea-Bissau</td>\n",
       "      <td>NaN</td>\n",
       "      <td>NaN</td>\n",
       "      <td>NaN</td>\n",
       "    </tr>\n",
       "    <tr>\n",
       "      <th>13</th>\n",
       "      <td>Haiti</td>\n",
       "      <td>NaN</td>\n",
       "      <td>NaN</td>\n",
       "      <td>NaN</td>\n",
       "    </tr>\n",
       "    <tr>\n",
       "      <th>14</th>\n",
       "      <td>Liberia</td>\n",
       "      <td>NaN</td>\n",
       "      <td>NaN</td>\n",
       "      <td>NaN</td>\n",
       "    </tr>\n",
       "    <tr>\n",
       "      <th>15</th>\n",
       "      <td>Madagascar</td>\n",
       "      <td>NaN</td>\n",
       "      <td>NaN</td>\n",
       "      <td>NaN</td>\n",
       "    </tr>\n",
       "    <tr>\n",
       "      <th>16</th>\n",
       "      <td>Malawi</td>\n",
       "      <td>NaN</td>\n",
       "      <td>NaN</td>\n",
       "      <td>NaN</td>\n",
       "    </tr>\n",
       "    <tr>\n",
       "      <th>17</th>\n",
       "      <td>Mali</td>\n",
       "      <td>NaN</td>\n",
       "      <td>NaN</td>\n",
       "      <td>NaN</td>\n",
       "    </tr>\n",
       "    <tr>\n",
       "      <th>18</th>\n",
       "      <td>Mauritania</td>\n",
       "      <td>NaN</td>\n",
       "      <td>NaN</td>\n",
       "      <td>NaN</td>\n",
       "    </tr>\n",
       "    <tr>\n",
       "      <th>19</th>\n",
       "      <td>Mozambique</td>\n",
       "      <td>NaN</td>\n",
       "      <td>NaN</td>\n",
       "      <td>NaN</td>\n",
       "    </tr>\n",
       "    <tr>\n",
       "      <th>20</th>\n",
       "      <td>Myanmar</td>\n",
       "      <td>NaN</td>\n",
       "      <td>NaN</td>\n",
       "      <td>NaN</td>\n",
       "    </tr>\n",
       "    <tr>\n",
       "      <th>21</th>\n",
       "      <td>Nepal</td>\n",
       "      <td>NaN</td>\n",
       "      <td>NaN</td>\n",
       "      <td>NaN</td>\n",
       "    </tr>\n",
       "    <tr>\n",
       "      <th>22</th>\n",
       "      <td>Niger</td>\n",
       "      <td>NaN</td>\n",
       "      <td>NaN</td>\n",
       "      <td>NaN</td>\n",
       "    </tr>\n",
       "    <tr>\n",
       "      <th>23</th>\n",
       "      <td>Pakistan</td>\n",
       "      <td>NaN</td>\n",
       "      <td>NaN</td>\n",
       "      <td>NaN</td>\n",
       "    </tr>\n",
       "    <tr>\n",
       "      <th>24</th>\n",
       "      <td>Papua New Guinea</td>\n",
       "      <td>NaN</td>\n",
       "      <td>NaN</td>\n",
       "      <td>NaN</td>\n",
       "    </tr>\n",
       "    <tr>\n",
       "      <th>25</th>\n",
       "      <td>Rwanda</td>\n",
       "      <td>NaN</td>\n",
       "      <td>NaN</td>\n",
       "      <td>NaN</td>\n",
       "    </tr>\n",
       "    <tr>\n",
       "      <th>26</th>\n",
       "      <td>Sao Tome and Principe</td>\n",
       "      <td>NaN</td>\n",
       "      <td>NaN</td>\n",
       "      <td>NaN</td>\n",
       "    </tr>\n",
       "    <tr>\n",
       "      <th>27</th>\n",
       "      <td>Senegal</td>\n",
       "      <td>NaN</td>\n",
       "      <td>NaN</td>\n",
       "      <td>NaN</td>\n",
       "    </tr>\n",
       "    <tr>\n",
       "      <th>28</th>\n",
       "      <td>Sierra Leone</td>\n",
       "      <td>NaN</td>\n",
       "      <td>NaN</td>\n",
       "      <td>NaN</td>\n",
       "    </tr>\n",
       "    <tr>\n",
       "      <th>29</th>\n",
       "      <td>South Sudan</td>\n",
       "      <td>NaN</td>\n",
       "      <td>NaN</td>\n",
       "      <td>NaN</td>\n",
       "    </tr>\n",
       "    <tr>\n",
       "      <th>30</th>\n",
       "      <td>Togo</td>\n",
       "      <td>NaN</td>\n",
       "      <td>NaN</td>\n",
       "      <td>NaN</td>\n",
       "    </tr>\n",
       "    <tr>\n",
       "      <th>31</th>\n",
       "      <td>Uganda</td>\n",
       "      <td>NaN</td>\n",
       "      <td>NaN</td>\n",
       "      <td>NaN</td>\n",
       "    </tr>\n",
       "    <tr>\n",
       "      <th>32</th>\n",
       "      <td>Zimbabwe</td>\n",
       "      <td>NaN</td>\n",
       "      <td>NaN</td>\n",
       "      <td>NaN</td>\n",
       "    </tr>\n",
       "  </tbody>\n",
       "</table>\n",
       "</div>"
      ],
      "text/plain": [
       "                           0                  1          2                3\n",
       "0                Afghanistan  Equatorial Guinea  Swaziland           Angola\n",
       "1                 Bangladesh                NaN    Vanuatu           Bhutan\n",
       "2                      Benin                NaN        NaN         Djibouti\n",
       "3               Burkina Faso                NaN        NaN            Ghana\n",
       "4                    Burundi                NaN        NaN            Kenya\n",
       "5                   Cambodia                NaN        NaN         Kiribati\n",
       "6                   Cameroon                NaN        NaN          Lesotho\n",
       "7   Central African Republic                NaN        NaN          Nigeria\n",
       "8                       Chad                NaN        NaN  Solomon Islands\n",
       "9                    Comoros                NaN        NaN            Sudan\n",
       "10                  Ethiopia                NaN        NaN           Zambia\n",
       "11                    Guinea                NaN        NaN              NaN\n",
       "12             Guinea-Bissau                NaN        NaN              NaN\n",
       "13                     Haiti                NaN        NaN              NaN\n",
       "14                   Liberia                NaN        NaN              NaN\n",
       "15                Madagascar                NaN        NaN              NaN\n",
       "16                    Malawi                NaN        NaN              NaN\n",
       "17                      Mali                NaN        NaN              NaN\n",
       "18                Mauritania                NaN        NaN              NaN\n",
       "19                Mozambique                NaN        NaN              NaN\n",
       "20                   Myanmar                NaN        NaN              NaN\n",
       "21                     Nepal                NaN        NaN              NaN\n",
       "22                     Niger                NaN        NaN              NaN\n",
       "23                  Pakistan                NaN        NaN              NaN\n",
       "24          Papua New Guinea                NaN        NaN              NaN\n",
       "25                    Rwanda                NaN        NaN              NaN\n",
       "26     Sao Tome and Principe                NaN        NaN              NaN\n",
       "27                   Senegal                NaN        NaN              NaN\n",
       "28              Sierra Leone                NaN        NaN              NaN\n",
       "29               South Sudan                NaN        NaN              NaN\n",
       "30                      Togo                NaN        NaN              NaN\n",
       "31                    Uganda                NaN        NaN              NaN\n",
       "32                  Zimbabwe                NaN        NaN              NaN"
      ]
     },
     "execution_count": 76,
     "metadata": {},
     "output_type": "execute_result"
    }
   ],
   "source": [
    "df_ = df_0_6.copy()\n",
    "name_countries_classificated(df_, kmeans.labels_)"
   ]
  },
  {
   "cell_type": "code",
   "execution_count": 77,
   "id": "72be0447",
   "metadata": {
    "id": "72be0447",
    "outputId": "4377668e-c390-4886-cdf6-7b96de5a9dd6"
   },
   "outputs": [
    {
     "data": {
      "text/html": [
       "<div>\n",
       "<style scoped>\n",
       "    .dataframe tbody tr th:only-of-type {\n",
       "        vertical-align: middle;\n",
       "    }\n",
       "\n",
       "    .dataframe tbody tr th {\n",
       "        vertical-align: top;\n",
       "    }\n",
       "\n",
       "    .dataframe thead th {\n",
       "        text-align: right;\n",
       "    }\n",
       "</style>\n",
       "<table border=\"1\" class=\"dataframe\">\n",
       "  <thead>\n",
       "    <tr style=\"text-align: right;\">\n",
       "      <th></th>\n",
       "      <th>percentage expenditure</th>\n",
       "      <th>Schooling</th>\n",
       "    </tr>\n",
       "  </thead>\n",
       "  <tbody>\n",
       "    <tr>\n",
       "      <th>percentage expenditure</th>\n",
       "      <td>1.000000</td>\n",
       "      <td>0.108859</td>\n",
       "    </tr>\n",
       "    <tr>\n",
       "      <th>Schooling</th>\n",
       "      <td>0.108859</td>\n",
       "      <td>1.000000</td>\n",
       "    </tr>\n",
       "  </tbody>\n",
       "</table>\n",
       "</div>"
      ],
      "text/plain": [
       "                        percentage expenditure  Schooling\n",
       "percentage expenditure                1.000000   0.108859\n",
       "Schooling                             0.108859   1.000000"
      ]
     },
     "execution_count": 77,
     "metadata": {},
     "output_type": "execute_result"
    }
   ],
   "source": [
    "df_0_6[[\"percentage expenditure\", \"Schooling\"]].corr()"
   ]
  },
  {
   "cell_type": "markdown",
   "id": "f751f595",
   "metadata": {
    "id": "f751f595"
   },
   "source": [
    "Existe uma correlação muito fraca entre escolaridade e os gastos pessoais com saúde."
   ]
  },
  {
   "cell_type": "markdown",
   "id": "d15ec310",
   "metadata": {
    "id": "d15ec310"
   },
   "source": [
    "## Países com IDH entre 0.601 e 0.800"
   ]
  },
  {
   "cell_type": "code",
   "execution_count": 78,
   "id": "a16e29fd",
   "metadata": {
    "id": "a16e29fd",
    "outputId": "4092af11-a586-4e27-8e7a-d2666c02d987"
   },
   "outputs": [
    {
     "name": "stderr",
     "output_type": "stream",
     "text": [
      "C:\\Users\\bergs\\anaconda3\\lib\\site-packages\\sklearn\\cluster\\_kmeans.py:881: UserWarning: KMeans is known to have a memory leak on Windows with MKL, when there are less chunks than available threads. You can avoid it by setting the environment variable OMP_NUM_THREADS=1.\n",
      "  warnings.warn(\n"
     ]
    },
    {
     "data": {
      "image/png": "[encoded data removed]",
      "text/plain": [
       "<Figure size 432x288 with 1 Axes>"
      ]
     },
     "metadata": {
      "needs_background": "light"
     },
     "output_type": "display_data"
    }
   ],
   "source": [
    "quantidade_k(df_6_8, \"percentage expenditure\", \"Schooling\")"
   ]
  },
  {
   "cell_type": "code",
   "execution_count": 79,
   "id": "58eb23d4",
   "metadata": {
    "id": "58eb23d4",
    "outputId": "ebace7ca-3374-47dd-e485-952acaae0be2"
   },
   "outputs": [
    {
     "data": {
      "text/plain": [
       "<AxesSubplot:xlabel='percentage expenditure', ylabel='Schooling'>"
      ]
     },
     "execution_count": 79,
     "metadata": {},
     "output_type": "execute_result"
    },
    {
     "data": {
      "image/png": "[encoded data removed]",
      "text/plain": [
       "<Figure size 432x288 with 1 Axes>"
      ]
     },
     "metadata": {
      "needs_background": "light"
     },
     "output_type": "display_data"
    }
   ],
   "source": [
    "kmeans = KMeans(n_clusters = 3)\n",
    "kmeans.fit(df_6_8[[\"percentage expenditure\", \"Schooling\"]])\n",
    "sns.scatterplot(data = df_6_8, x = \"percentage expenditure\", y = \"Schooling\", hue = kmeans.labels_)"
   ]
  },
  {
   "cell_type": "code",
   "execution_count": 80,
   "id": "de282518",
   "metadata": {
    "id": "de282518",
    "outputId": "0ed9c6b4-ddc7-4ddf-d038-76ce61c00f58"
   },
   "outputs": [
    {
     "data": {
      "text/html": [
       "<div>\n",
       "<style scoped>\n",
       "    .dataframe tbody tr th:only-of-type {\n",
       "        vertical-align: middle;\n",
       "    }\n",
       "\n",
       "    .dataframe tbody tr th {\n",
       "        vertical-align: top;\n",
       "    }\n",
       "\n",
       "    .dataframe thead th {\n",
       "        text-align: right;\n",
       "    }\n",
       "</style>\n",
       "<table border=\"1\" class=\"dataframe\">\n",
       "  <thead>\n",
       "    <tr style=\"text-align: right;\">\n",
       "      <th></th>\n",
       "      <th>0</th>\n",
       "      <th>1</th>\n",
       "      <th>2</th>\n",
       "    </tr>\n",
       "  </thead>\n",
       "  <tbody>\n",
       "    <tr>\n",
       "      <th>0</th>\n",
       "      <td>Algeria</td>\n",
       "      <td>Albania</td>\n",
       "      <td>Antigua and Barbuda</td>\n",
       "    </tr>\n",
       "    <tr>\n",
       "      <th>1</th>\n",
       "      <td>Belize</td>\n",
       "      <td>Armenia</td>\n",
       "      <td>Costa Rica</td>\n",
       "    </tr>\n",
       "    <tr>\n",
       "      <th>2</th>\n",
       "      <td>Bosnia and Herzegovina</td>\n",
       "      <td>Azerbaijan</td>\n",
       "      <td>Kuwait</td>\n",
       "    </tr>\n",
       "    <tr>\n",
       "      <th>3</th>\n",
       "      <td>Brazil</td>\n",
       "      <td>Barbados</td>\n",
       "      <td>NaN</td>\n",
       "    </tr>\n",
       "    <tr>\n",
       "      <th>4</th>\n",
       "      <td>Bulgaria</td>\n",
       "      <td>Belarus</td>\n",
       "      <td>NaN</td>\n",
       "    </tr>\n",
       "    <tr>\n",
       "      <th>5</th>\n",
       "      <td>Colombia</td>\n",
       "      <td>Botswana</td>\n",
       "      <td>NaN</td>\n",
       "    </tr>\n",
       "    <tr>\n",
       "      <th>6</th>\n",
       "      <td>Cuba</td>\n",
       "      <td>Cabo Verde</td>\n",
       "      <td>NaN</td>\n",
       "    </tr>\n",
       "    <tr>\n",
       "      <th>7</th>\n",
       "      <td>Dominican Republic</td>\n",
       "      <td>China</td>\n",
       "      <td>NaN</td>\n",
       "    </tr>\n",
       "    <tr>\n",
       "      <th>8</th>\n",
       "      <td>El Salvador</td>\n",
       "      <td>Ecuador</td>\n",
       "      <td>NaN</td>\n",
       "    </tr>\n",
       "    <tr>\n",
       "      <th>9</th>\n",
       "      <td>Gabon</td>\n",
       "      <td>Fiji</td>\n",
       "      <td>NaN</td>\n",
       "    </tr>\n",
       "    <tr>\n",
       "      <th>10</th>\n",
       "      <td>Grenada</td>\n",
       "      <td>Georgia</td>\n",
       "      <td>NaN</td>\n",
       "    </tr>\n",
       "    <tr>\n",
       "      <th>11</th>\n",
       "      <td>Maldives</td>\n",
       "      <td>Guatemala</td>\n",
       "      <td>NaN</td>\n",
       "    </tr>\n",
       "    <tr>\n",
       "      <th>12</th>\n",
       "      <td>Mauritius</td>\n",
       "      <td>Guyana</td>\n",
       "      <td>NaN</td>\n",
       "    </tr>\n",
       "    <tr>\n",
       "      <th>13</th>\n",
       "      <td>Montenegro</td>\n",
       "      <td>Honduras</td>\n",
       "      <td>NaN</td>\n",
       "    </tr>\n",
       "    <tr>\n",
       "      <th>14</th>\n",
       "      <td>Namibia</td>\n",
       "      <td>Indonesia</td>\n",
       "      <td>NaN</td>\n",
       "    </tr>\n",
       "    <tr>\n",
       "      <th>15</th>\n",
       "      <td>Oman</td>\n",
       "      <td>Iraq</td>\n",
       "      <td>NaN</td>\n",
       "    </tr>\n",
       "    <tr>\n",
       "      <th>16</th>\n",
       "      <td>Peru</td>\n",
       "      <td>Jamaica</td>\n",
       "      <td>NaN</td>\n",
       "    </tr>\n",
       "    <tr>\n",
       "      <th>17</th>\n",
       "      <td>Romania</td>\n",
       "      <td>Jordan</td>\n",
       "      <td>NaN</td>\n",
       "    </tr>\n",
       "    <tr>\n",
       "      <th>18</th>\n",
       "      <td>Serbia</td>\n",
       "      <td>Kazakhstan</td>\n",
       "      <td>NaN</td>\n",
       "    </tr>\n",
       "    <tr>\n",
       "      <th>19</th>\n",
       "      <td>South Africa</td>\n",
       "      <td>Lebanon</td>\n",
       "      <td>NaN</td>\n",
       "    </tr>\n",
       "    <tr>\n",
       "      <th>20</th>\n",
       "      <td>Suriname</td>\n",
       "      <td>Malaysia</td>\n",
       "      <td>NaN</td>\n",
       "    </tr>\n",
       "    <tr>\n",
       "      <th>21</th>\n",
       "      <td>Thailand</td>\n",
       "      <td>Mexico</td>\n",
       "      <td>NaN</td>\n",
       "    </tr>\n",
       "    <tr>\n",
       "      <th>22</th>\n",
       "      <td>Trinidad and Tobago</td>\n",
       "      <td>Mongolia</td>\n",
       "      <td>NaN</td>\n",
       "    </tr>\n",
       "    <tr>\n",
       "      <th>23</th>\n",
       "      <td>Tunisia</td>\n",
       "      <td>Morocco</td>\n",
       "      <td>NaN</td>\n",
       "    </tr>\n",
       "    <tr>\n",
       "      <th>24</th>\n",
       "      <td>Turkmenistan</td>\n",
       "      <td>Nicaragua</td>\n",
       "      <td>NaN</td>\n",
       "    </tr>\n",
       "    <tr>\n",
       "      <th>25</th>\n",
       "      <td>NaN</td>\n",
       "      <td>Panama</td>\n",
       "      <td>NaN</td>\n",
       "    </tr>\n",
       "    <tr>\n",
       "      <th>26</th>\n",
       "      <td>NaN</td>\n",
       "      <td>Paraguay</td>\n",
       "      <td>NaN</td>\n",
       "    </tr>\n",
       "    <tr>\n",
       "      <th>27</th>\n",
       "      <td>NaN</td>\n",
       "      <td>Philippines</td>\n",
       "      <td>NaN</td>\n",
       "    </tr>\n",
       "    <tr>\n",
       "      <th>28</th>\n",
       "      <td>NaN</td>\n",
       "      <td>Russian Federation</td>\n",
       "      <td>NaN</td>\n",
       "    </tr>\n",
       "    <tr>\n",
       "      <th>29</th>\n",
       "      <td>NaN</td>\n",
       "      <td>Samoa</td>\n",
       "      <td>NaN</td>\n",
       "    </tr>\n",
       "    <tr>\n",
       "      <th>30</th>\n",
       "      <td>NaN</td>\n",
       "      <td>Seychelles</td>\n",
       "      <td>NaN</td>\n",
       "    </tr>\n",
       "    <tr>\n",
       "      <th>31</th>\n",
       "      <td>NaN</td>\n",
       "      <td>Sri Lanka</td>\n",
       "      <td>NaN</td>\n",
       "    </tr>\n",
       "    <tr>\n",
       "      <th>32</th>\n",
       "      <td>NaN</td>\n",
       "      <td>Tajikistan</td>\n",
       "      <td>NaN</td>\n",
       "    </tr>\n",
       "    <tr>\n",
       "      <th>33</th>\n",
       "      <td>NaN</td>\n",
       "      <td>Timor-Leste</td>\n",
       "      <td>NaN</td>\n",
       "    </tr>\n",
       "    <tr>\n",
       "      <th>34</th>\n",
       "      <td>NaN</td>\n",
       "      <td>Tonga</td>\n",
       "      <td>NaN</td>\n",
       "    </tr>\n",
       "    <tr>\n",
       "      <th>35</th>\n",
       "      <td>NaN</td>\n",
       "      <td>Turkey</td>\n",
       "      <td>NaN</td>\n",
       "    </tr>\n",
       "    <tr>\n",
       "      <th>36</th>\n",
       "      <td>NaN</td>\n",
       "      <td>Ukraine</td>\n",
       "      <td>NaN</td>\n",
       "    </tr>\n",
       "    <tr>\n",
       "      <th>37</th>\n",
       "      <td>NaN</td>\n",
       "      <td>Uruguay</td>\n",
       "      <td>NaN</td>\n",
       "    </tr>\n",
       "    <tr>\n",
       "      <th>38</th>\n",
       "      <td>NaN</td>\n",
       "      <td>Uzbekistan</td>\n",
       "      <td>NaN</td>\n",
       "    </tr>\n",
       "  </tbody>\n",
       "</table>\n",
       "</div>"
      ],
      "text/plain": [
       "                         0                   1                    2\n",
       "0                  Algeria             Albania  Antigua and Barbuda\n",
       "1                   Belize             Armenia           Costa Rica\n",
       "2   Bosnia and Herzegovina          Azerbaijan               Kuwait\n",
       "3                   Brazil            Barbados                  NaN\n",
       "4                 Bulgaria             Belarus                  NaN\n",
       "5                 Colombia            Botswana                  NaN\n",
       "6                     Cuba          Cabo Verde                  NaN\n",
       "7       Dominican Republic               China                  NaN\n",
       "8              El Salvador             Ecuador                  NaN\n",
       "9                    Gabon                Fiji                  NaN\n",
       "10                 Grenada             Georgia                  NaN\n",
       "11                Maldives           Guatemala                  NaN\n",
       "12               Mauritius              Guyana                  NaN\n",
       "13              Montenegro            Honduras                  NaN\n",
       "14                 Namibia           Indonesia                  NaN\n",
       "15                    Oman                Iraq                  NaN\n",
       "16                    Peru             Jamaica                  NaN\n",
       "17                 Romania              Jordan                  NaN\n",
       "18                  Serbia          Kazakhstan                  NaN\n",
       "19            South Africa             Lebanon                  NaN\n",
       "20                Suriname            Malaysia                  NaN\n",
       "21                Thailand              Mexico                  NaN\n",
       "22     Trinidad and Tobago            Mongolia                  NaN\n",
       "23                 Tunisia             Morocco                  NaN\n",
       "24            Turkmenistan           Nicaragua                  NaN\n",
       "25                     NaN              Panama                  NaN\n",
       "26                     NaN            Paraguay                  NaN\n",
       "27                     NaN         Philippines                  NaN\n",
       "28                     NaN  Russian Federation                  NaN\n",
       "29                     NaN               Samoa                  NaN\n",
       "30                     NaN          Seychelles                  NaN\n",
       "31                     NaN           Sri Lanka                  NaN\n",
       "32                     NaN          Tajikistan                  NaN\n",
       "33                     NaN         Timor-Leste                  NaN\n",
       "34                     NaN               Tonga                  NaN\n",
       "35                     NaN              Turkey                  NaN\n",
       "36                     NaN             Ukraine                  NaN\n",
       "37                     NaN             Uruguay                  NaN\n",
       "38                     NaN          Uzbekistan                  NaN"
      ]
     },
     "execution_count": 80,
     "metadata": {},
     "output_type": "execute_result"
    }
   ],
   "source": [
    "df_ = df_6_8.copy()\n",
    "name_countries_classificated(df_, kmeans.labels_)"
   ]
  },
  {
   "cell_type": "code",
   "execution_count": 81,
   "id": "d563d30c",
   "metadata": {
    "id": "d563d30c",
    "outputId": "a629c3dd-c99f-40a3-8904-522a5ad6c1fe"
   },
   "outputs": [
    {
     "data": {
      "text/html": [
       "<div>\n",
       "<style scoped>\n",
       "    .dataframe tbody tr th:only-of-type {\n",
       "        vertical-align: middle;\n",
       "    }\n",
       "\n",
       "    .dataframe tbody tr th {\n",
       "        vertical-align: top;\n",
       "    }\n",
       "\n",
       "    .dataframe thead th {\n",
       "        text-align: right;\n",
       "    }\n",
       "</style>\n",
       "<table border=\"1\" class=\"dataframe\">\n",
       "  <thead>\n",
       "    <tr style=\"text-align: right;\">\n",
       "      <th></th>\n",
       "      <th>percentage expenditure</th>\n",
       "      <th>Schooling</th>\n",
       "    </tr>\n",
       "  </thead>\n",
       "  <tbody>\n",
       "    <tr>\n",
       "      <th>percentage expenditure</th>\n",
       "      <td>1.000000</td>\n",
       "      <td>0.094611</td>\n",
       "    </tr>\n",
       "    <tr>\n",
       "      <th>Schooling</th>\n",
       "      <td>0.094611</td>\n",
       "      <td>1.000000</td>\n",
       "    </tr>\n",
       "  </tbody>\n",
       "</table>\n",
       "</div>"
      ],
      "text/plain": [
       "                        percentage expenditure  Schooling\n",
       "percentage expenditure                1.000000   0.094611\n",
       "Schooling                             0.094611   1.000000"
      ]
     },
     "execution_count": 81,
     "metadata": {},
     "output_type": "execute_result"
    }
   ],
   "source": [
    "df_6_8[[\"percentage expenditure\", \"Schooling\"]].corr()"
   ]
  },
  {
   "cell_type": "markdown",
   "id": "c221da0a",
   "metadata": {
    "id": "c221da0a"
   },
   "source": [
    "Existe uma correlação muito fraca entre escolaridade e os gastos pessoais com saúde."
   ]
  },
  {
   "cell_type": "markdown",
   "id": "481d3aba",
   "metadata": {
    "id": "481d3aba"
   },
   "source": [
    "## Países com IDH acima de 0.800"
   ]
  },
  {
   "cell_type": "code",
   "execution_count": 82,
   "id": "81c4823e",
   "metadata": {
    "id": "81c4823e",
    "outputId": "ca7c5685-be87-465f-d5ad-fff978045c8d"
   },
   "outputs": [
    {
     "name": "stderr",
     "output_type": "stream",
     "text": [
      "C:\\Users\\bergs\\anaconda3\\lib\\site-packages\\sklearn\\cluster\\_kmeans.py:881: UserWarning: KMeans is known to have a memory leak on Windows with MKL, when there are less chunks than available threads. You can avoid it by setting the environment variable OMP_NUM_THREADS=1.\n",
      "  warnings.warn(\n"
     ]
    },
    {
     "data": {
      "image/png": "[encoded data removed]",
      "text/plain": [
       "<Figure size 432x288 with 1 Axes>"
      ]
     },
     "metadata": {
      "needs_background": "light"
     },
     "output_type": "display_data"
    }
   ],
   "source": [
    "quantidade_k(df_8, \"percentage expenditure\", \"Schooling\")"
   ]
  },
  {
   "cell_type": "code",
   "execution_count": 83,
   "id": "7469a050",
   "metadata": {
    "id": "7469a050",
    "outputId": "23b314db-2e6e-4cf7-f85b-f077da55cd9d"
   },
   "outputs": [
    {
     "data": {
      "text/plain": [
       "<AxesSubplot:xlabel='percentage expenditure', ylabel='Schooling'>"
      ]
     },
     "execution_count": 83,
     "metadata": {},
     "output_type": "execute_result"
    },
    {
     "data": {
      "image/png": "[encoded data removed]",
      "text/plain": [
       "<Figure size 432x288 with 1 Axes>"
      ]
     },
     "metadata": {
      "needs_background": "light"
     },
     "output_type": "display_data"
    }
   ],
   "source": [
    "kmeans = KMeans(n_clusters = 4)\n",
    "kmeans.fit(df_8[[\"percentage expenditure\", \"Schooling\"]])\n",
    "sns.scatterplot(data = df_8, x = \"percentage expenditure\", y = \"Schooling\", hue = kmeans.labels_)"
   ]
  },
  {
   "cell_type": "code",
   "execution_count": 84,
   "id": "540e4d9a",
   "metadata": {
    "id": "540e4d9a",
    "outputId": "fef3a336-24fa-4aac-ce9a-dcc8716be8c6"
   },
   "outputs": [
    {
     "data": {
      "text/html": [
       "<div>\n",
       "<style scoped>\n",
       "    .dataframe tbody tr th:only-of-type {\n",
       "        vertical-align: middle;\n",
       "    }\n",
       "\n",
       "    .dataframe tbody tr th {\n",
       "        vertical-align: top;\n",
       "    }\n",
       "\n",
       "    .dataframe thead th {\n",
       "        text-align: right;\n",
       "    }\n",
       "</style>\n",
       "<table border=\"1\" class=\"dataframe\">\n",
       "  <thead>\n",
       "    <tr style=\"text-align: right;\">\n",
       "      <th></th>\n",
       "      <th>0</th>\n",
       "      <th>1</th>\n",
       "      <th>2</th>\n",
       "      <th>3</th>\n",
       "    </tr>\n",
       "  </thead>\n",
       "  <tbody>\n",
       "    <tr>\n",
       "      <th>0</th>\n",
       "      <td>Argentina</td>\n",
       "      <td>Australia</td>\n",
       "      <td>Brunei Darussalam</td>\n",
       "      <td>Switzerland</td>\n",
       "    </tr>\n",
       "    <tr>\n",
       "      <th>1</th>\n",
       "      <td>Bahrain</td>\n",
       "      <td>Austria</td>\n",
       "      <td>Finland</td>\n",
       "      <td>NaN</td>\n",
       "    </tr>\n",
       "    <tr>\n",
       "      <th>2</th>\n",
       "      <td>Belgium</td>\n",
       "      <td>Canada</td>\n",
       "      <td>Iceland</td>\n",
       "      <td>NaN</td>\n",
       "    </tr>\n",
       "    <tr>\n",
       "      <th>3</th>\n",
       "      <td>Chile</td>\n",
       "      <td>Sweden</td>\n",
       "      <td>Ireland</td>\n",
       "      <td>NaN</td>\n",
       "    </tr>\n",
       "    <tr>\n",
       "      <th>4</th>\n",
       "      <td>Croatia</td>\n",
       "      <td>NaN</td>\n",
       "      <td>Israel</td>\n",
       "      <td>NaN</td>\n",
       "    </tr>\n",
       "    <tr>\n",
       "      <th>5</th>\n",
       "      <td>Cyprus</td>\n",
       "      <td>NaN</td>\n",
       "      <td>Italy</td>\n",
       "      <td>NaN</td>\n",
       "    </tr>\n",
       "    <tr>\n",
       "      <th>6</th>\n",
       "      <td>Denmark</td>\n",
       "      <td>NaN</td>\n",
       "      <td>Qatar</td>\n",
       "      <td>NaN</td>\n",
       "    </tr>\n",
       "    <tr>\n",
       "      <th>7</th>\n",
       "      <td>Estonia</td>\n",
       "      <td>NaN</td>\n",
       "      <td>Singapore</td>\n",
       "      <td>NaN</td>\n",
       "    </tr>\n",
       "    <tr>\n",
       "      <th>8</th>\n",
       "      <td>France</td>\n",
       "      <td>NaN</td>\n",
       "      <td>Slovenia</td>\n",
       "      <td>NaN</td>\n",
       "    </tr>\n",
       "    <tr>\n",
       "      <th>9</th>\n",
       "      <td>Germany</td>\n",
       "      <td>NaN</td>\n",
       "      <td>Spain</td>\n",
       "      <td>NaN</td>\n",
       "    </tr>\n",
       "    <tr>\n",
       "      <th>10</th>\n",
       "      <td>Greece</td>\n",
       "      <td>NaN</td>\n",
       "      <td>United Arab Emirates</td>\n",
       "      <td>NaN</td>\n",
       "    </tr>\n",
       "    <tr>\n",
       "      <th>11</th>\n",
       "      <td>Hungary</td>\n",
       "      <td>NaN</td>\n",
       "      <td>NaN</td>\n",
       "      <td>NaN</td>\n",
       "    </tr>\n",
       "    <tr>\n",
       "      <th>12</th>\n",
       "      <td>Japan</td>\n",
       "      <td>NaN</td>\n",
       "      <td>NaN</td>\n",
       "      <td>NaN</td>\n",
       "    </tr>\n",
       "    <tr>\n",
       "      <th>13</th>\n",
       "      <td>Latvia</td>\n",
       "      <td>NaN</td>\n",
       "      <td>NaN</td>\n",
       "      <td>NaN</td>\n",
       "    </tr>\n",
       "    <tr>\n",
       "      <th>14</th>\n",
       "      <td>Lithuania</td>\n",
       "      <td>NaN</td>\n",
       "      <td>NaN</td>\n",
       "      <td>NaN</td>\n",
       "    </tr>\n",
       "    <tr>\n",
       "      <th>15</th>\n",
       "      <td>Luxembourg</td>\n",
       "      <td>NaN</td>\n",
       "      <td>NaN</td>\n",
       "      <td>NaN</td>\n",
       "    </tr>\n",
       "    <tr>\n",
       "      <th>16</th>\n",
       "      <td>Malta</td>\n",
       "      <td>NaN</td>\n",
       "      <td>NaN</td>\n",
       "      <td>NaN</td>\n",
       "    </tr>\n",
       "    <tr>\n",
       "      <th>17</th>\n",
       "      <td>Netherlands</td>\n",
       "      <td>NaN</td>\n",
       "      <td>NaN</td>\n",
       "      <td>NaN</td>\n",
       "    </tr>\n",
       "    <tr>\n",
       "      <th>18</th>\n",
       "      <td>New Zealand</td>\n",
       "      <td>NaN</td>\n",
       "      <td>NaN</td>\n",
       "      <td>NaN</td>\n",
       "    </tr>\n",
       "    <tr>\n",
       "      <th>19</th>\n",
       "      <td>Norway</td>\n",
       "      <td>NaN</td>\n",
       "      <td>NaN</td>\n",
       "      <td>NaN</td>\n",
       "    </tr>\n",
       "    <tr>\n",
       "      <th>20</th>\n",
       "      <td>Poland</td>\n",
       "      <td>NaN</td>\n",
       "      <td>NaN</td>\n",
       "      <td>NaN</td>\n",
       "    </tr>\n",
       "    <tr>\n",
       "      <th>21</th>\n",
       "      <td>Portugal</td>\n",
       "      <td>NaN</td>\n",
       "      <td>NaN</td>\n",
       "      <td>NaN</td>\n",
       "    </tr>\n",
       "    <tr>\n",
       "      <th>22</th>\n",
       "      <td>Saudi Arabia</td>\n",
       "      <td>NaN</td>\n",
       "      <td>NaN</td>\n",
       "      <td>NaN</td>\n",
       "    </tr>\n",
       "  </tbody>\n",
       "</table>\n",
       "</div>"
      ],
      "text/plain": [
       "               0          1                     2            3\n",
       "0      Argentina  Australia     Brunei Darussalam  Switzerland\n",
       "1        Bahrain    Austria               Finland          NaN\n",
       "2        Belgium     Canada               Iceland          NaN\n",
       "3          Chile     Sweden               Ireland          NaN\n",
       "4        Croatia        NaN                Israel          NaN\n",
       "5         Cyprus        NaN                 Italy          NaN\n",
       "6        Denmark        NaN                 Qatar          NaN\n",
       "7        Estonia        NaN             Singapore          NaN\n",
       "8         France        NaN              Slovenia          NaN\n",
       "9        Germany        NaN                 Spain          NaN\n",
       "10        Greece        NaN  United Arab Emirates          NaN\n",
       "11       Hungary        NaN                   NaN          NaN\n",
       "12         Japan        NaN                   NaN          NaN\n",
       "13        Latvia        NaN                   NaN          NaN\n",
       "14     Lithuania        NaN                   NaN          NaN\n",
       "15    Luxembourg        NaN                   NaN          NaN\n",
       "16         Malta        NaN                   NaN          NaN\n",
       "17   Netherlands        NaN                   NaN          NaN\n",
       "18   New Zealand        NaN                   NaN          NaN\n",
       "19        Norway        NaN                   NaN          NaN\n",
       "20        Poland        NaN                   NaN          NaN\n",
       "21      Portugal        NaN                   NaN          NaN\n",
       "22  Saudi Arabia        NaN                   NaN          NaN"
      ]
     },
     "execution_count": 84,
     "metadata": {},
     "output_type": "execute_result"
    }
   ],
   "source": [
    "df_ = df_8.copy()\n",
    "name_countries_classificated(df_, kmeans.labels_)"
   ]
  },
  {
   "cell_type": "code",
   "execution_count": 85,
   "id": "639b82a0",
   "metadata": {
    "id": "639b82a0",
    "outputId": "2d25c0c1-cc8f-4c55-e8c5-026e6bc02ae3"
   },
   "outputs": [
    {
     "data": {
      "text/html": [
       "<div>\n",
       "<style scoped>\n",
       "    .dataframe tbody tr th:only-of-type {\n",
       "        vertical-align: middle;\n",
       "    }\n",
       "\n",
       "    .dataframe tbody tr th {\n",
       "        vertical-align: top;\n",
       "    }\n",
       "\n",
       "    .dataframe thead th {\n",
       "        text-align: right;\n",
       "    }\n",
       "</style>\n",
       "<table border=\"1\" class=\"dataframe\">\n",
       "  <thead>\n",
       "    <tr style=\"text-align: right;\">\n",
       "      <th></th>\n",
       "      <th>percentage expenditure</th>\n",
       "      <th>Schooling</th>\n",
       "    </tr>\n",
       "  </thead>\n",
       "  <tbody>\n",
       "    <tr>\n",
       "      <th>percentage expenditure</th>\n",
       "      <td>1.000000</td>\n",
       "      <td>0.156661</td>\n",
       "    </tr>\n",
       "    <tr>\n",
       "      <th>Schooling</th>\n",
       "      <td>0.156661</td>\n",
       "      <td>1.000000</td>\n",
       "    </tr>\n",
       "  </tbody>\n",
       "</table>\n",
       "</div>"
      ],
      "text/plain": [
       "                        percentage expenditure  Schooling\n",
       "percentage expenditure                1.000000   0.156661\n",
       "Schooling                             0.156661   1.000000"
      ]
     },
     "execution_count": 85,
     "metadata": {},
     "output_type": "execute_result"
    }
   ],
   "source": [
    "df_8[[\"percentage expenditure\", \"Schooling\"]].corr()"
   ]
  },
  {
   "cell_type": "markdown",
   "id": "40f829e7",
   "metadata": {
    "id": "40f829e7"
   },
   "source": [
    "Existe uma correlação muito fraca entre escolaridade e os gastos pessoais com saúde."
   ]
  },
  {
   "cell_type": "markdown",
   "id": "39d258dd",
   "metadata": {
    "id": "39d258dd"
   },
   "source": [
    "## -*Resultados obtidos*"
   ]
  },
  {
   "cell_type": "markdown",
   "id": "807141b5",
   "metadata": {
    "id": "807141b5"
   },
   "source": [
    "- Países com IDH até 0.600: Existe uma correlação muito fraca entre escolaridade e os gastos pessoais com saúde.\n",
    "- Países com IDH entre 0.601 e 0.800: Existe uma correlação muito fraca entre escolaridade e os gastos pessoais com saúde.\n",
    "- Países com IDH acima de 0.800: Existe uma correlação muito fraca entre escolaridade e os gastos pessoais com saúde."
   ]
  },
  {
   "cell_type": "markdown",
   "id": "9cbefef7",
   "metadata": {
    "id": "9cbefef7"
   },
   "source": [
    "# 5.Existe relação entre escolaridade e consumo de álcool?"
   ]
  },
  {
   "cell_type": "markdown",
   "id": "913a0cea",
   "metadata": {
    "id": "913a0cea"
   },
   "source": [
    "## Países com IDH até 0.600"
   ]
  },
  {
   "cell_type": "code",
   "execution_count": 86,
   "id": "7e7a73fe",
   "metadata": {
    "id": "7e7a73fe",
    "outputId": "950b3f67-45a6-4c52-a44e-3332da3fd8f0"
   },
   "outputs": [
    {
     "name": "stderr",
     "output_type": "stream",
     "text": [
      "C:\\Users\\bergs\\anaconda3\\lib\\site-packages\\sklearn\\cluster\\_kmeans.py:881: UserWarning: KMeans is known to have a memory leak on Windows with MKL, when there are less chunks than available threads. You can avoid it by setting the environment variable OMP_NUM_THREADS=1.\n",
      "  warnings.warn(\n"
     ]
    },
    {
     "data": {
      "image/png": "[encoded data removed]",
      "text/plain": [
       "<Figure size 432x288 with 1 Axes>"
      ]
     },
     "metadata": {
      "needs_background": "light"
     },
     "output_type": "display_data"
    }
   ],
   "source": [
    "quantidade_k(df_alcool06, \"Schooling\", \"Alcohol\")"
   ]
  },
  {
   "cell_type": "code",
   "execution_count": 87,
   "id": "4b1362dc",
   "metadata": {
    "id": "4b1362dc",
    "outputId": "bc8d8b90-2467-45b6-bcb3-94c2af70c498"
   },
   "outputs": [
    {
     "data": {
      "text/plain": [
       "<AxesSubplot:xlabel='Alcohol', ylabel='Schooling'>"
      ]
     },
     "execution_count": 87,
     "metadata": {},
     "output_type": "execute_result"
    },
    {
     "data": {
      "image/png": "[encoded data removed]",
      "text/plain": [
       "<Figure size 432x288 with 1 Axes>"
      ]
     },
     "metadata": {
      "needs_background": "light"
     },
     "output_type": "display_data"
    }
   ],
   "source": [
    "kmeans = KMeans(n_clusters = 3)\n",
    "kmeans.fit(df_alcool06[[\"Schooling\", \"Alcohol\"]])\n",
    "sns.scatterplot(data = df_alcool06, x = \"Alcohol\", y = \"Schooling\", hue = kmeans.labels_)"
   ]
  },
  {
   "cell_type": "code",
   "execution_count": 88,
   "id": "119240cc",
   "metadata": {
    "id": "119240cc",
    "outputId": "03a2ef8c-7484-4b4a-9be8-a6932145721a"
   },
   "outputs": [
    {
     "data": {
      "text/html": [
       "<div>\n",
       "<style scoped>\n",
       "    .dataframe tbody tr th:only-of-type {\n",
       "        vertical-align: middle;\n",
       "    }\n",
       "\n",
       "    .dataframe tbody tr th {\n",
       "        vertical-align: top;\n",
       "    }\n",
       "\n",
       "    .dataframe thead th {\n",
       "        text-align: right;\n",
       "    }\n",
       "</style>\n",
       "<table border=\"1\" class=\"dataframe\">\n",
       "  <thead>\n",
       "    <tr style=\"text-align: right;\">\n",
       "      <th></th>\n",
       "      <th>0</th>\n",
       "      <th>1</th>\n",
       "      <th>2</th>\n",
       "    </tr>\n",
       "  </thead>\n",
       "  <tbody>\n",
       "    <tr>\n",
       "      <th>0</th>\n",
       "      <td>Central African Republic</td>\n",
       "      <td>Afghanistan</td>\n",
       "      <td>Angola</td>\n",
       "    </tr>\n",
       "    <tr>\n",
       "      <th>1</th>\n",
       "      <td>Chad</td>\n",
       "      <td>Bangladesh</td>\n",
       "      <td>Burkina Faso</td>\n",
       "    </tr>\n",
       "    <tr>\n",
       "      <th>2</th>\n",
       "      <td>Djibouti</td>\n",
       "      <td>Benin</td>\n",
       "      <td>Equatorial Guinea</td>\n",
       "    </tr>\n",
       "    <tr>\n",
       "      <th>3</th>\n",
       "      <td>Ethiopia</td>\n",
       "      <td>Bhutan</td>\n",
       "      <td>Haiti</td>\n",
       "    </tr>\n",
       "    <tr>\n",
       "      <th>4</th>\n",
       "      <td>Guinea</td>\n",
       "      <td>Burundi</td>\n",
       "      <td>Nigeria</td>\n",
       "    </tr>\n",
       "    <tr>\n",
       "      <th>5</th>\n",
       "      <td>Guinea-Bissau</td>\n",
       "      <td>Cambodia</td>\n",
       "      <td>Zimbabwe</td>\n",
       "    </tr>\n",
       "    <tr>\n",
       "      <th>6</th>\n",
       "      <td>Mali</td>\n",
       "      <td>Cameroon</td>\n",
       "      <td>NaN</td>\n",
       "    </tr>\n",
       "    <tr>\n",
       "      <th>7</th>\n",
       "      <td>Mauritania</td>\n",
       "      <td>Comoros</td>\n",
       "      <td>NaN</td>\n",
       "    </tr>\n",
       "    <tr>\n",
       "      <th>8</th>\n",
       "      <td>Mozambique</td>\n",
       "      <td>Ghana</td>\n",
       "      <td>NaN</td>\n",
       "    </tr>\n",
       "    <tr>\n",
       "      <th>9</th>\n",
       "      <td>Myanmar</td>\n",
       "      <td>Kenya</td>\n",
       "      <td>NaN</td>\n",
       "    </tr>\n",
       "    <tr>\n",
       "      <th>10</th>\n",
       "      <td>Niger</td>\n",
       "      <td>Kiribati</td>\n",
       "      <td>NaN</td>\n",
       "    </tr>\n",
       "    <tr>\n",
       "      <th>11</th>\n",
       "      <td>Pakistan</td>\n",
       "      <td>Lesotho</td>\n",
       "      <td>NaN</td>\n",
       "    </tr>\n",
       "    <tr>\n",
       "      <th>12</th>\n",
       "      <td>Senegal</td>\n",
       "      <td>Liberia</td>\n",
       "      <td>NaN</td>\n",
       "    </tr>\n",
       "    <tr>\n",
       "      <th>13</th>\n",
       "      <td>Sierra Leone</td>\n",
       "      <td>Madagascar</td>\n",
       "      <td>NaN</td>\n",
       "    </tr>\n",
       "    <tr>\n",
       "      <th>14</th>\n",
       "      <td>Sudan</td>\n",
       "      <td>Malawi</td>\n",
       "      <td>NaN</td>\n",
       "    </tr>\n",
       "    <tr>\n",
       "      <th>15</th>\n",
       "      <td>NaN</td>\n",
       "      <td>Nepal</td>\n",
       "      <td>NaN</td>\n",
       "    </tr>\n",
       "    <tr>\n",
       "      <th>16</th>\n",
       "      <td>NaN</td>\n",
       "      <td>Papua New Guinea</td>\n",
       "      <td>NaN</td>\n",
       "    </tr>\n",
       "    <tr>\n",
       "      <th>17</th>\n",
       "      <td>NaN</td>\n",
       "      <td>Rwanda</td>\n",
       "      <td>NaN</td>\n",
       "    </tr>\n",
       "    <tr>\n",
       "      <th>18</th>\n",
       "      <td>NaN</td>\n",
       "      <td>Sao Tome and Principe</td>\n",
       "      <td>NaN</td>\n",
       "    </tr>\n",
       "    <tr>\n",
       "      <th>19</th>\n",
       "      <td>NaN</td>\n",
       "      <td>Solomon Islands</td>\n",
       "      <td>NaN</td>\n",
       "    </tr>\n",
       "    <tr>\n",
       "      <th>20</th>\n",
       "      <td>NaN</td>\n",
       "      <td>Swaziland</td>\n",
       "      <td>NaN</td>\n",
       "    </tr>\n",
       "    <tr>\n",
       "      <th>21</th>\n",
       "      <td>NaN</td>\n",
       "      <td>Togo</td>\n",
       "      <td>NaN</td>\n",
       "    </tr>\n",
       "    <tr>\n",
       "      <th>22</th>\n",
       "      <td>NaN</td>\n",
       "      <td>Uganda</td>\n",
       "      <td>NaN</td>\n",
       "    </tr>\n",
       "    <tr>\n",
       "      <th>23</th>\n",
       "      <td>NaN</td>\n",
       "      <td>Vanuatu</td>\n",
       "      <td>NaN</td>\n",
       "    </tr>\n",
       "    <tr>\n",
       "      <th>24</th>\n",
       "      <td>NaN</td>\n",
       "      <td>Zambia</td>\n",
       "      <td>NaN</td>\n",
       "    </tr>\n",
       "  </tbody>\n",
       "</table>\n",
       "</div>"
      ],
      "text/plain": [
       "                           0                      1                  2\n",
       "0   Central African Republic            Afghanistan             Angola\n",
       "1                       Chad             Bangladesh       Burkina Faso\n",
       "2                   Djibouti                  Benin  Equatorial Guinea\n",
       "3                   Ethiopia                 Bhutan              Haiti\n",
       "4                     Guinea                Burundi            Nigeria\n",
       "5              Guinea-Bissau               Cambodia           Zimbabwe\n",
       "6                       Mali               Cameroon                NaN\n",
       "7                 Mauritania                Comoros                NaN\n",
       "8                 Mozambique                  Ghana                NaN\n",
       "9                    Myanmar                  Kenya                NaN\n",
       "10                     Niger               Kiribati                NaN\n",
       "11                  Pakistan                Lesotho                NaN\n",
       "12                   Senegal                Liberia                NaN\n",
       "13              Sierra Leone             Madagascar                NaN\n",
       "14                     Sudan                 Malawi                NaN\n",
       "15                       NaN                  Nepal                NaN\n",
       "16                       NaN       Papua New Guinea                NaN\n",
       "17                       NaN                 Rwanda                NaN\n",
       "18                       NaN  Sao Tome and Principe                NaN\n",
       "19                       NaN        Solomon Islands                NaN\n",
       "20                       NaN              Swaziland                NaN\n",
       "21                       NaN                   Togo                NaN\n",
       "22                       NaN                 Uganda                NaN\n",
       "23                       NaN                Vanuatu                NaN\n",
       "24                       NaN                 Zambia                NaN"
      ]
     },
     "execution_count": 88,
     "metadata": {},
     "output_type": "execute_result"
    }
   ],
   "source": [
    "df_ = df_alcool06.copy()\n",
    "name_countries_classificated(df_, kmeans.labels_)"
   ]
  },
  {
   "cell_type": "code",
   "execution_count": 89,
   "id": "9b64ef7c",
   "metadata": {
    "id": "9b64ef7c",
    "outputId": "250f60ad-cd30-4fbc-db3a-e9428af16657"
   },
   "outputs": [
    {
     "data": {
      "text/html": [
       "<div>\n",
       "<style scoped>\n",
       "    .dataframe tbody tr th:only-of-type {\n",
       "        vertical-align: middle;\n",
       "    }\n",
       "\n",
       "    .dataframe tbody tr th {\n",
       "        vertical-align: top;\n",
       "    }\n",
       "\n",
       "    .dataframe thead th {\n",
       "        text-align: right;\n",
       "    }\n",
       "</style>\n",
       "<table border=\"1\" class=\"dataframe\">\n",
       "  <thead>\n",
       "    <tr style=\"text-align: right;\">\n",
       "      <th></th>\n",
       "      <th>Schooling</th>\n",
       "      <th>Alcohol</th>\n",
       "    </tr>\n",
       "  </thead>\n",
       "  <tbody>\n",
       "    <tr>\n",
       "      <th>Schooling</th>\n",
       "      <td>1.000000</td>\n",
       "      <td>-0.039555</td>\n",
       "    </tr>\n",
       "    <tr>\n",
       "      <th>Alcohol</th>\n",
       "      <td>-0.039555</td>\n",
       "      <td>1.000000</td>\n",
       "    </tr>\n",
       "  </tbody>\n",
       "</table>\n",
       "</div>"
      ],
      "text/plain": [
       "           Schooling   Alcohol\n",
       "Schooling   1.000000 -0.039555\n",
       "Alcohol    -0.039555  1.000000"
      ]
     },
     "execution_count": 89,
     "metadata": {},
     "output_type": "execute_result"
    }
   ],
   "source": [
    "df_alcool06[[\"Schooling\", \"Alcohol\"]].corr()"
   ]
  },
  {
   "cell_type": "markdown",
   "id": "89182d2c",
   "metadata": {
    "id": "89182d2c"
   },
   "source": [
    "Existe uma correlação negativa muito fraca entre escolaridade e consumo de álcool."
   ]
  },
  {
   "cell_type": "markdown",
   "id": "8d4f8d35",
   "metadata": {
    "id": "8d4f8d35"
   },
   "source": [
    "## Países com IDH entre 0.601 e 0.800"
   ]
  },
  {
   "cell_type": "code",
   "execution_count": 90,
   "id": "7f2dc621",
   "metadata": {
    "id": "7f2dc621",
    "outputId": "bb9d5571-b0ad-43a1-94b9-2517b618077e"
   },
   "outputs": [
    {
     "name": "stderr",
     "output_type": "stream",
     "text": [
      "C:\\Users\\bergs\\anaconda3\\lib\\site-packages\\sklearn\\cluster\\_kmeans.py:881: UserWarning: KMeans is known to have a memory leak on Windows with MKL, when there are less chunks than available threads. You can avoid it by setting the environment variable OMP_NUM_THREADS=1.\n",
      "  warnings.warn(\n"
     ]
    },
    {
     "data": {
      "image/png": "[encoded data removed]",
      "text/plain": [
       "<Figure size 432x288 with 1 Axes>"
      ]
     },
     "metadata": {
      "needs_background": "light"
     },
     "output_type": "display_data"
    }
   ],
   "source": [
    "quantidade_k(df_alcool68, \"Schooling\", \"Alcohol\")"
   ]
  },
  {
   "cell_type": "code",
   "execution_count": 91,
   "id": "b8cdf3b8",
   "metadata": {
    "id": "b8cdf3b8",
    "outputId": "219538d7-d8a6-425f-c9d5-47f11c4a8dab"
   },
   "outputs": [
    {
     "data": {
      "text/plain": [
       "<AxesSubplot:xlabel='Alcohol', ylabel='Schooling'>"
      ]
     },
     "execution_count": 91,
     "metadata": {},
     "output_type": "execute_result"
    },
    {
     "data": {
      "image/png": "[encoded data removed]",
      "text/plain": [
       "<Figure size 432x288 with 1 Axes>"
      ]
     },
     "metadata": {
      "needs_background": "light"
     },
     "output_type": "display_data"
    }
   ],
   "source": [
    "kmeans = KMeans(n_clusters = 3)\n",
    "kmeans.fit(df_alcool68[[\"Schooling\", \"Alcohol\"]])\n",
    "sns.scatterplot(data = df_alcool68, x = \"Alcohol\", y = \"Schooling\", hue = kmeans.labels_)"
   ]
  },
  {
   "cell_type": "code",
   "execution_count": 92,
   "id": "8940f6cf",
   "metadata": {
    "id": "8940f6cf",
    "outputId": "337d6439-eb25-4025-ceef-9eb883cf6f35"
   },
   "outputs": [
    {
     "data": {
      "text/html": [
       "<div>\n",
       "<style scoped>\n",
       "    .dataframe tbody tr th:only-of-type {\n",
       "        vertical-align: middle;\n",
       "    }\n",
       "\n",
       "    .dataframe tbody tr th {\n",
       "        vertical-align: top;\n",
       "    }\n",
       "\n",
       "    .dataframe thead th {\n",
       "        text-align: right;\n",
       "    }\n",
       "</style>\n",
       "<table border=\"1\" class=\"dataframe\">\n",
       "  <thead>\n",
       "    <tr style=\"text-align: right;\">\n",
       "      <th></th>\n",
       "      <th>0</th>\n",
       "      <th>1</th>\n",
       "      <th>2</th>\n",
       "    </tr>\n",
       "  </thead>\n",
       "  <tbody>\n",
       "    <tr>\n",
       "      <th>0</th>\n",
       "      <td>Algeria</td>\n",
       "      <td>Antigua and Barbuda</td>\n",
       "      <td>Albania</td>\n",
       "    </tr>\n",
       "    <tr>\n",
       "      <th>1</th>\n",
       "      <td>Azerbaijan</td>\n",
       "      <td>Barbados</td>\n",
       "      <td>Armenia</td>\n",
       "    </tr>\n",
       "    <tr>\n",
       "      <th>2</th>\n",
       "      <td>Botswana</td>\n",
       "      <td>Belarus</td>\n",
       "      <td>Belize</td>\n",
       "    </tr>\n",
       "    <tr>\n",
       "      <th>3</th>\n",
       "      <td>Cabo Verde</td>\n",
       "      <td>Brazil</td>\n",
       "      <td>Bosnia and Herzegovina</td>\n",
       "    </tr>\n",
       "    <tr>\n",
       "      <th>4</th>\n",
       "      <td>El Salvador</td>\n",
       "      <td>Bulgaria</td>\n",
       "      <td>China</td>\n",
       "    </tr>\n",
       "    <tr>\n",
       "      <th>5</th>\n",
       "      <td>Fiji</td>\n",
       "      <td>Gabon</td>\n",
       "      <td>Colombia</td>\n",
       "    </tr>\n",
       "    <tr>\n",
       "      <th>6</th>\n",
       "      <td>Guatemala</td>\n",
       "      <td>Georgia</td>\n",
       "      <td>Costa Rica</td>\n",
       "    </tr>\n",
       "    <tr>\n",
       "      <th>7</th>\n",
       "      <td>Indonesia</td>\n",
       "      <td>Grenada</td>\n",
       "      <td>Cuba</td>\n",
       "    </tr>\n",
       "    <tr>\n",
       "      <th>8</th>\n",
       "      <td>Iraq</td>\n",
       "      <td>Kazakhstan</td>\n",
       "      <td>Dominican Republic</td>\n",
       "    </tr>\n",
       "    <tr>\n",
       "      <th>9</th>\n",
       "      <td>Jordan</td>\n",
       "      <td>Romania</td>\n",
       "      <td>Ecuador</td>\n",
       "    </tr>\n",
       "    <tr>\n",
       "      <th>10</th>\n",
       "      <td>Kuwait</td>\n",
       "      <td>Russian Federation</td>\n",
       "      <td>Guyana</td>\n",
       "    </tr>\n",
       "    <tr>\n",
       "      <th>11</th>\n",
       "      <td>Lebanon</td>\n",
       "      <td>Serbia</td>\n",
       "      <td>Honduras</td>\n",
       "    </tr>\n",
       "    <tr>\n",
       "      <th>12</th>\n",
       "      <td>Malaysia</td>\n",
       "      <td>Ukraine</td>\n",
       "      <td>Jamaica</td>\n",
       "    </tr>\n",
       "    <tr>\n",
       "      <th>13</th>\n",
       "      <td>Maldives</td>\n",
       "      <td>NaN</td>\n",
       "      <td>Mexico</td>\n",
       "    </tr>\n",
       "    <tr>\n",
       "      <th>14</th>\n",
       "      <td>Mauritius</td>\n",
       "      <td>NaN</td>\n",
       "      <td>Nicaragua</td>\n",
       "    </tr>\n",
       "    <tr>\n",
       "      <th>15</th>\n",
       "      <td>Mongolia</td>\n",
       "      <td>NaN</td>\n",
       "      <td>Panama</td>\n",
       "    </tr>\n",
       "    <tr>\n",
       "      <th>16</th>\n",
       "      <td>Montenegro</td>\n",
       "      <td>NaN</td>\n",
       "      <td>Paraguay</td>\n",
       "    </tr>\n",
       "    <tr>\n",
       "      <th>17</th>\n",
       "      <td>Morocco</td>\n",
       "      <td>NaN</td>\n",
       "      <td>Peru</td>\n",
       "    </tr>\n",
       "    <tr>\n",
       "      <th>18</th>\n",
       "      <td>Namibia</td>\n",
       "      <td>NaN</td>\n",
       "      <td>Philippines</td>\n",
       "    </tr>\n",
       "    <tr>\n",
       "      <th>19</th>\n",
       "      <td>Oman</td>\n",
       "      <td>NaN</td>\n",
       "      <td>South Africa</td>\n",
       "    </tr>\n",
       "    <tr>\n",
       "      <th>20</th>\n",
       "      <td>Samoa</td>\n",
       "      <td>NaN</td>\n",
       "      <td>Sri Lanka</td>\n",
       "    </tr>\n",
       "    <tr>\n",
       "      <th>21</th>\n",
       "      <td>Seychelles</td>\n",
       "      <td>NaN</td>\n",
       "      <td>Suriname</td>\n",
       "    </tr>\n",
       "    <tr>\n",
       "      <th>22</th>\n",
       "      <td>Tajikistan</td>\n",
       "      <td>NaN</td>\n",
       "      <td>Thailand</td>\n",
       "    </tr>\n",
       "    <tr>\n",
       "      <th>23</th>\n",
       "      <td>Timor-Leste</td>\n",
       "      <td>NaN</td>\n",
       "      <td>Trinidad and Tobago</td>\n",
       "    </tr>\n",
       "    <tr>\n",
       "      <th>24</th>\n",
       "      <td>Tonga</td>\n",
       "      <td>NaN</td>\n",
       "      <td>Turkmenistan</td>\n",
       "    </tr>\n",
       "    <tr>\n",
       "      <th>25</th>\n",
       "      <td>Tunisia</td>\n",
       "      <td>NaN</td>\n",
       "      <td>Uruguay</td>\n",
       "    </tr>\n",
       "    <tr>\n",
       "      <th>26</th>\n",
       "      <td>Turkey</td>\n",
       "      <td>NaN</td>\n",
       "      <td>NaN</td>\n",
       "    </tr>\n",
       "    <tr>\n",
       "      <th>27</th>\n",
       "      <td>Uzbekistan</td>\n",
       "      <td>NaN</td>\n",
       "      <td>NaN</td>\n",
       "    </tr>\n",
       "  </tbody>\n",
       "</table>\n",
       "</div>"
      ],
      "text/plain": [
       "              0                    1                       2\n",
       "0       Algeria  Antigua and Barbuda                 Albania\n",
       "1    Azerbaijan             Barbados                 Armenia\n",
       "2      Botswana              Belarus                  Belize\n",
       "3    Cabo Verde               Brazil  Bosnia and Herzegovina\n",
       "4   El Salvador             Bulgaria                   China\n",
       "5          Fiji                Gabon                Colombia\n",
       "6     Guatemala              Georgia              Costa Rica\n",
       "7     Indonesia              Grenada                    Cuba\n",
       "8          Iraq           Kazakhstan      Dominican Republic\n",
       "9        Jordan              Romania                 Ecuador\n",
       "10       Kuwait   Russian Federation                  Guyana\n",
       "11      Lebanon               Serbia                Honduras\n",
       "12     Malaysia              Ukraine                 Jamaica\n",
       "13     Maldives                  NaN                  Mexico\n",
       "14    Mauritius                  NaN               Nicaragua\n",
       "15     Mongolia                  NaN                  Panama\n",
       "16   Montenegro                  NaN                Paraguay\n",
       "17      Morocco                  NaN                    Peru\n",
       "18      Namibia                  NaN             Philippines\n",
       "19         Oman                  NaN            South Africa\n",
       "20        Samoa                  NaN               Sri Lanka\n",
       "21   Seychelles                  NaN                Suriname\n",
       "22   Tajikistan                  NaN                Thailand\n",
       "23  Timor-Leste                  NaN     Trinidad and Tobago\n",
       "24        Tonga                  NaN            Turkmenistan\n",
       "25      Tunisia                  NaN                 Uruguay\n",
       "26       Turkey                  NaN                     NaN\n",
       "27   Uzbekistan                  NaN                     NaN"
      ]
     },
     "execution_count": 92,
     "metadata": {},
     "output_type": "execute_result"
    }
   ],
   "source": [
    "df_ = df_alcool68.copy()\n",
    "name_countries_classificated(df_, kmeans.labels_)"
   ]
  },
  {
   "cell_type": "code",
   "execution_count": 93,
   "id": "032372cc",
   "metadata": {
    "id": "032372cc",
    "outputId": "f2c681c4-64f8-4f4e-9f58-8f15752e54bb"
   },
   "outputs": [
    {
     "data": {
      "text/html": [
       "<div>\n",
       "<style scoped>\n",
       "    .dataframe tbody tr th:only-of-type {\n",
       "        vertical-align: middle;\n",
       "    }\n",
       "\n",
       "    .dataframe tbody tr th {\n",
       "        vertical-align: top;\n",
       "    }\n",
       "\n",
       "    .dataframe thead th {\n",
       "        text-align: right;\n",
       "    }\n",
       "</style>\n",
       "<table border=\"1\" class=\"dataframe\">\n",
       "  <thead>\n",
       "    <tr style=\"text-align: right;\">\n",
       "      <th></th>\n",
       "      <th>Schooling</th>\n",
       "      <th>Alcohol</th>\n",
       "    </tr>\n",
       "  </thead>\n",
       "  <tbody>\n",
       "    <tr>\n",
       "      <th>Schooling</th>\n",
       "      <td>1.000000</td>\n",
       "      <td>0.335941</td>\n",
       "    </tr>\n",
       "    <tr>\n",
       "      <th>Alcohol</th>\n",
       "      <td>0.335941</td>\n",
       "      <td>1.000000</td>\n",
       "    </tr>\n",
       "  </tbody>\n",
       "</table>\n",
       "</div>"
      ],
      "text/plain": [
       "           Schooling   Alcohol\n",
       "Schooling   1.000000  0.335941\n",
       "Alcohol     0.335941  1.000000"
      ]
     },
     "execution_count": 93,
     "metadata": {},
     "output_type": "execute_result"
    }
   ],
   "source": [
    "df_alcool68[[\"Schooling\", \"Alcohol\"]].corr()"
   ]
  },
  {
   "cell_type": "markdown",
   "id": "6bbfc17a",
   "metadata": {
    "id": "6bbfc17a"
   },
   "source": [
    "Existe uma correlação fraca entre escolaridade e consumo de álcool."
   ]
  },
  {
   "cell_type": "markdown",
   "id": "b2e416ae",
   "metadata": {
    "id": "b2e416ae"
   },
   "source": [
    "## Países com IDH acima de 0.800"
   ]
  },
  {
   "cell_type": "code",
   "execution_count": 94,
   "id": "ff49461a",
   "metadata": {
    "id": "ff49461a",
    "outputId": "358d99e2-44a8-464b-aa2b-17984ec84b2f"
   },
   "outputs": [
    {
     "name": "stderr",
     "output_type": "stream",
     "text": [
      "C:\\Users\\bergs\\anaconda3\\lib\\site-packages\\sklearn\\cluster\\_kmeans.py:881: UserWarning: KMeans is known to have a memory leak on Windows with MKL, when there are less chunks than available threads. You can avoid it by setting the environment variable OMP_NUM_THREADS=1.\n",
      "  warnings.warn(\n"
     ]
    },
    {
     "data": {
      "image/png": "[encoded data removed]",
      "text/plain": [
       "<Figure size 432x288 with 1 Axes>"
      ]
     },
     "metadata": {
      "needs_background": "light"
     },
     "output_type": "display_data"
    }
   ],
   "source": [
    "quantidade_k(df_alcool8, \"Schooling\", \"Alcohol\")"
   ]
  },
  {
   "cell_type": "code",
   "execution_count": 95,
   "id": "6d009aa4",
   "metadata": {
    "id": "6d009aa4",
    "outputId": "04cebf9e-2cff-482b-d21e-72b664168abe"
   },
   "outputs": [
    {
     "data": {
      "text/plain": [
       "<AxesSubplot:xlabel='Alcohol', ylabel='Schooling'>"
      ]
     },
     "execution_count": 95,
     "metadata": {},
     "output_type": "execute_result"
    },
    {
     "data": {
      "image/png": "[encoded data removed]",
      "text/plain": [
       "<Figure size 432x288 with 1 Axes>"
      ]
     },
     "metadata": {
      "needs_background": "light"
     },
     "output_type": "display_data"
    }
   ],
   "source": [
    "kmeans = KMeans(n_clusters = 3)\n",
    "kmeans.fit(df_alcool8[[\"Schooling\", \"Alcohol\"]])\n",
    "sns.scatterplot(data = df_alcool8, x = \"Alcohol\", y = \"Schooling\", hue = kmeans.labels_)"
   ]
  },
  {
   "cell_type": "code",
   "execution_count": 96,
   "id": "fdd039d8",
   "metadata": {
    "id": "fdd039d8",
    "outputId": "c7e786f3-be4a-4402-e4b5-549c0dd79c96"
   },
   "outputs": [
    {
     "data": {
      "text/html": [
       "<div>\n",
       "<style scoped>\n",
       "    .dataframe tbody tr th:only-of-type {\n",
       "        vertical-align: middle;\n",
       "    }\n",
       "\n",
       "    .dataframe tbody tr th {\n",
       "        vertical-align: top;\n",
       "    }\n",
       "\n",
       "    .dataframe thead th {\n",
       "        text-align: right;\n",
       "    }\n",
       "</style>\n",
       "<table border=\"1\" class=\"dataframe\">\n",
       "  <thead>\n",
       "    <tr style=\"text-align: right;\">\n",
       "      <th></th>\n",
       "      <th>0</th>\n",
       "      <th>1</th>\n",
       "      <th>2</th>\n",
       "    </tr>\n",
       "  </thead>\n",
       "  <tbody>\n",
       "    <tr>\n",
       "      <th>0</th>\n",
       "      <td>Bahrain</td>\n",
       "      <td>Austria</td>\n",
       "      <td>Argentina</td>\n",
       "    </tr>\n",
       "    <tr>\n",
       "      <th>1</th>\n",
       "      <td>Brunei Darussalam</td>\n",
       "      <td>Belgium</td>\n",
       "      <td>Australia</td>\n",
       "    </tr>\n",
       "    <tr>\n",
       "      <th>2</th>\n",
       "      <td>Estonia</td>\n",
       "      <td>Croatia</td>\n",
       "      <td>Canada</td>\n",
       "    </tr>\n",
       "    <tr>\n",
       "      <th>3</th>\n",
       "      <td>Israel</td>\n",
       "      <td>Cyprus</td>\n",
       "      <td>Chile</td>\n",
       "    </tr>\n",
       "    <tr>\n",
       "      <th>4</th>\n",
       "      <td>Qatar</td>\n",
       "      <td>France</td>\n",
       "      <td>Denmark</td>\n",
       "    </tr>\n",
       "    <tr>\n",
       "      <th>5</th>\n",
       "      <td>Saudi Arabia</td>\n",
       "      <td>Germany</td>\n",
       "      <td>Finland</td>\n",
       "    </tr>\n",
       "    <tr>\n",
       "      <th>6</th>\n",
       "      <td>Singapore</td>\n",
       "      <td>Hungary</td>\n",
       "      <td>Greece</td>\n",
       "    </tr>\n",
       "    <tr>\n",
       "      <th>7</th>\n",
       "      <td>United Arab Emirates</td>\n",
       "      <td>Ireland</td>\n",
       "      <td>Iceland</td>\n",
       "    </tr>\n",
       "    <tr>\n",
       "      <th>8</th>\n",
       "      <td>NaN</td>\n",
       "      <td>Latvia</td>\n",
       "      <td>Italy</td>\n",
       "    </tr>\n",
       "    <tr>\n",
       "      <th>9</th>\n",
       "      <td>NaN</td>\n",
       "      <td>Lithuania</td>\n",
       "      <td>Japan</td>\n",
       "    </tr>\n",
       "    <tr>\n",
       "      <th>10</th>\n",
       "      <td>NaN</td>\n",
       "      <td>Luxembourg</td>\n",
       "      <td>Malta</td>\n",
       "    </tr>\n",
       "    <tr>\n",
       "      <th>11</th>\n",
       "      <td>NaN</td>\n",
       "      <td>Poland</td>\n",
       "      <td>Netherlands</td>\n",
       "    </tr>\n",
       "    <tr>\n",
       "      <th>12</th>\n",
       "      <td>NaN</td>\n",
       "      <td>Portugal</td>\n",
       "      <td>New Zealand</td>\n",
       "    </tr>\n",
       "    <tr>\n",
       "      <th>13</th>\n",
       "      <td>NaN</td>\n",
       "      <td>Slovenia</td>\n",
       "      <td>Norway</td>\n",
       "    </tr>\n",
       "    <tr>\n",
       "      <th>14</th>\n",
       "      <td>NaN</td>\n",
       "      <td>Switzerland</td>\n",
       "      <td>Spain</td>\n",
       "    </tr>\n",
       "    <tr>\n",
       "      <th>15</th>\n",
       "      <td>NaN</td>\n",
       "      <td>NaN</td>\n",
       "      <td>Sweden</td>\n",
       "    </tr>\n",
       "  </tbody>\n",
       "</table>\n",
       "</div>"
      ],
      "text/plain": [
       "                       0            1            2\n",
       "0                Bahrain      Austria    Argentina\n",
       "1      Brunei Darussalam      Belgium    Australia\n",
       "2                Estonia      Croatia       Canada\n",
       "3                 Israel       Cyprus        Chile\n",
       "4                  Qatar       France      Denmark\n",
       "5           Saudi Arabia      Germany      Finland\n",
       "6              Singapore      Hungary       Greece\n",
       "7   United Arab Emirates      Ireland      Iceland\n",
       "8                    NaN       Latvia        Italy\n",
       "9                    NaN    Lithuania        Japan\n",
       "10                   NaN   Luxembourg        Malta\n",
       "11                   NaN       Poland  Netherlands\n",
       "12                   NaN     Portugal  New Zealand\n",
       "13                   NaN     Slovenia       Norway\n",
       "14                   NaN  Switzerland        Spain\n",
       "15                   NaN          NaN       Sweden"
      ]
     },
     "execution_count": 96,
     "metadata": {},
     "output_type": "execute_result"
    }
   ],
   "source": [
    "df_ = df_alcool8.copy()\n",
    "name_countries_classificated(df_, kmeans.labels_)"
   ]
  },
  {
   "cell_type": "code",
   "execution_count": 97,
   "id": "9a18d23a",
   "metadata": {
    "id": "9a18d23a",
    "outputId": "ce83b5d4-86cf-4be2-bb8d-b306da9eba48"
   },
   "outputs": [
    {
     "data": {
      "text/html": [
       "<div>\n",
       "<style scoped>\n",
       "    .dataframe tbody tr th:only-of-type {\n",
       "        vertical-align: middle;\n",
       "    }\n",
       "\n",
       "    .dataframe tbody tr th {\n",
       "        vertical-align: top;\n",
       "    }\n",
       "\n",
       "    .dataframe thead th {\n",
       "        text-align: right;\n",
       "    }\n",
       "</style>\n",
       "<table border=\"1\" class=\"dataframe\">\n",
       "  <thead>\n",
       "    <tr style=\"text-align: right;\">\n",
       "      <th></th>\n",
       "      <th>Schooling</th>\n",
       "      <th>Alcohol</th>\n",
       "    </tr>\n",
       "  </thead>\n",
       "  <tbody>\n",
       "    <tr>\n",
       "      <th>Schooling</th>\n",
       "      <td>1.00000</td>\n",
       "      <td>0.34435</td>\n",
       "    </tr>\n",
       "    <tr>\n",
       "      <th>Alcohol</th>\n",
       "      <td>0.34435</td>\n",
       "      <td>1.00000</td>\n",
       "    </tr>\n",
       "  </tbody>\n",
       "</table>\n",
       "</div>"
      ],
      "text/plain": [
       "           Schooling  Alcohol\n",
       "Schooling    1.00000  0.34435\n",
       "Alcohol      0.34435  1.00000"
      ]
     },
     "execution_count": 97,
     "metadata": {},
     "output_type": "execute_result"
    }
   ],
   "source": [
    "df_alcool8[[\"Schooling\", \"Alcohol\"]].corr()"
   ]
  },
  {
   "cell_type": "markdown",
   "id": "5ff421a5",
   "metadata": {
    "id": "5ff421a5"
   },
   "source": [
    "Há uma correlação fraca entre consumo de álcool e escolaridade."
   ]
  },
  {
   "cell_type": "markdown",
   "id": "81a9896d",
   "metadata": {
    "id": "81a9896d"
   },
   "source": [
    "## -*Resultados obtidos*"
   ]
  },
  {
   "cell_type": "markdown",
   "id": "78f12e0c",
   "metadata": {
    "id": "78f12e0c"
   },
   "source": [
    "- Países com IDH até 0.600: Existe uma correlação negativa muito fraca entre escolaridade e consumo de álcool.\n",
    "- Países com IDH entre 0.601 e 0.800: Existe uma correlação fraca entre a escolaridade e o consumo de álcool.\n",
    "- Países com IDH acima de 0.800: Há uma correlação fraca entre escolaridade e consumo de álcool.\n",
    "- Conclusão: Existe uma correlação fraca entre escolaridade e consumo de álcool presente em países que não são predominantemente muçulmanos."
   ]
  },
  {
   "cell_type": "markdown",
   "id": "7b414e72",
   "metadata": {
    "id": "7b414e72"
   },
   "source": [
    "# CONCLUSÕES FINAIS\n"
   ]
  },
  {
   "cell_type": "markdown",
   "id": "f3fcc482",
   "metadata": {
    "id": "f3fcc482"
   },
   "source": [
    "## Limitações, trabalhos futuros e melhorias que podem ser feitas"
   ]
  },
  {
   "cell_type": "markdown",
   "id": "cfb7efa0",
   "metadata": {
    "id": "cfb7efa0"
   },
   "source": [
    "### Limitações\n",
    "1. O dataset possui alguns países com dados inválidos ou em falta. Algumas unidades de medida não estão bem informadas.\n",
    "2. Ao analisar o consumo de álcool, muitos países possuem um consumo próximo de zero por se tratarem de países muçulmanos, dificultando a correlação das perguntas 1 e 5.\n",
    "3. Não é possível fazer uma correlação generalizada dos fatores, pois o IDH influencia nessa correlação."
   ]
  },
  {
   "cell_type": "markdown",
   "id": "31e9673a",
   "metadata": {
    "id": "31e9673a"
   },
   "source": [
    "### Trabalhos futuros\n",
    "Procurar outros datasets que permitam uma análise de outros fatores, como fatores relacionados a imunização e fatores relacionados a mortalidade."
   ]
  },
  {
   "cell_type": "markdown",
   "id": "f0d8039a",
   "metadata": {
    "id": "f0d8039a"
   },
   "source": [
    "### Melhorias que podem ser feitas"
   ]
  },
  {
   "cell_type": "markdown",
   "id": "b0309a98",
   "metadata": {
    "id": "b0309a98"
   },
   "source": [
    "1. Gerar gráficos de boxplot mais precisos, analisando os anos em que os dados do dataset são validados.\n",
    "2. Fazer uma análise de forma paralela à países muçulmanos e não muçulmanos no que tange às correlações envolvendo álcool."
   ]
  }
 ],
 "metadata": {
  "colab": {
   "collapsed_sections": [
    "9d79fa3e",
    "da9385a6",
    "4948b850",
    "dcda2ad6",
    "6f245581",
    "eeae11c8",
    "01baa839",
    "55405c81",
    "d0c37865",
    "2a5182f3",
    "bf5c3358",
    "4d52296c",
    "f5109803",
    "3d487262",
    "21030c96",
    "5868c58b",
    "836a3354",
    "49ef381a",
    "e0a5f69a",
    "d15ec310",
    "481d3aba",
    "39d258dd",
    "913a0cea",
    "8d4f8d35",
    "b2e416ae",
    "81a9896d",
    "f3fcc482",
    "cfb7efa0",
    "31e9673a",
    "f0d8039a"
   ],
   "provenance": []
  },
  "kernelspec": {
   "display_name": "Python 3 (ipykernel)",
   "language": "python",
   "name": "python3"
  },
  "language_info": {
   "codemirror_mode": {
    "name": "ipython",
    "version": 3
   },
   "file_extension": ".py",
   "mimetype": "text/x-python",
   "name": "python",
   "nbconvert_exporter": "python",
   "pygments_lexer": "ipython3",
   "version": "3.9.7"
  }
 },
 "nbformat": 4,
 "nbformat_minor": 5
}
